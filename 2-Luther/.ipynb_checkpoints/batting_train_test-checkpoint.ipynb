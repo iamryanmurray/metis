{
 "cells": [
  {
   "cell_type": "code",
   "execution_count": 56,
   "metadata": {},
   "outputs": [],
   "source": [
    "import pandas as pd\n",
    "import numpy as np\n",
    "import matplotlib.pyplot as plt\n",
    "from sklearn.linear_model import LinearRegression\n",
    "from sklearn.metrics import mean_squared_error as MSE\n",
    "from sklearn import preprocessing\n",
    "import math\n",
    "import unicodedata, re\n",
    "from sklearn.linear_model import ElasticNetCV\n",
    "from sklearn.linear_model import ElasticNet\n",
    "\n",
    "\n",
    "%config InlineBackend.figure_format = 'png'\n",
    "import matplotlib as mpl\n",
    "mpl.rcParams['figure.dpi']= 300\n",
    "\n",
    "import warnings\n",
    "\n",
    "from sklearn.exceptions import DataConversionWarning\n",
    "warnings.filterwarnings(action='ignore', category=DataConversionWarning)"
   ]
  },
  {
   "cell_type": "code",
   "execution_count": 5,
   "metadata": {},
   "outputs": [],
   "source": [
    "acquired_dict = {\n",
    "    'tr':'tr',\n",
    "    'fa':'fa',\n",
    "    'dr':'dr',\n",
    "    \"Traded\": \"tr\",\n",
    "    \"Free Agency\": \"fa\",\n",
    "    \"Amateur Draft\": \"dr\",\n",
    "    \"Amateur Free Agent\": \"fa\",\n",
    "    \"Waivers\": \"tr\",\n",
    "    \"Purchased\":\"tr\",\n",
    "    \"Rule 5 Draft\": \"dr\",\n",
    "    \"Expansion Draft\": \"dr\",\n",
    "    \"Conditional Deal\": \"tr\",\n",
    "    \"Amateur Draft--no sign\": \"dr\",\n",
    "    \"MinorLg Draft\": \"dr\",\n",
    "    \"Rune 5 returned\": \"tr\"\n",
    "}\n",
    "\n",
    "def inflation_calc(row):\n",
    "    inf_dict = {\n",
    "     2017: 1.0,\n",
    "     2016: 1.021299290023666,\n",
    "     2015: 1.0341874211554445,\n",
    "     2014: 1.0354149770208165,\n",
    "     2013: 1.0522113523096537,\n",
    "     2012: 1.0676237183898534,\n",
    "     2011: 1.089717656786951,\n",
    "     2010: 1.1241149062626115,\n",
    "     2009: 1.1425534989302544,\n",
    "     2008: 1.1384885486964882,\n",
    "     2007: 1.1822013870802828,\n",
    "     2006: 1.215873015873016,\n",
    "     2005: 1.2550947260624679,\n",
    "     2004: 1.297617787188989,\n",
    "     2003: 1.3324635790389214,\n",
    "     2002: 1.3626862352679565,\n",
    "     2001: 1.3843112893206078,\n",
    "     2000: 1.4234610917537749\n",
    "    }\n",
    "    return int(row['salary']*inf_dict[row['year']])\n",
    "\n",
    "def fixtm(t):\n",
    "    if t == '2TM' or t == '3TM' or t == '4TM':\n",
    "        return 'multiple'\n",
    "    elif t == 'TBD':\n",
    "        return 'TBR'\n",
    "    elif t == 'MON':\n",
    "        return \"WSN\"\n",
    "    elif t == 'ANA':\n",
    "        return 'LAA'\n",
    "    elif t == 'FLA':\n",
    "        return 'MIA'\n",
    "    else: return t\n",
    "    \n",
    "    \n",
    "def fix_name(n):\n",
    "    n = (' ').join(n.split('\\xa0'))\n",
    "    return re.sub(r'[^\\w\\s]','',n)"
   ]
  },
  {
   "cell_type": "code",
   "execution_count": 37,
   "metadata": {},
   "outputs": [],
   "source": [
    "def elastic(cutoff = 1):\n",
    "    train_X, train_y, test_X, test_y = load_and_split_data(cutoff)\n",
    "    \n",
    "    regr = ElasticNetCV(alphas=[.2,.3,.5,.9,.99,1],cv=10,tol=0.01)\n",
    "    \n",
    "    regr.fit(train_X,train_y)\n",
    "    \n",
    "    preds = regr.predict(test_X)\n",
    "    \n",
    "    error = np.sqrt(MSE(test_y,preds))\n",
    "    \n",
    "    return round(10**error,2), regr.get_params()"
   ]
  },
  {
   "cell_type": "code",
   "execution_count": 7,
   "metadata": {},
   "outputs": [],
   "source": [
    "def train_and_test(cutoff = 1000000):\n",
    "    train_X,train_y,test_X,test_y = load_and_split_data(cutoff)\n",
    "\n",
    "    \n",
    "    lr = LinearRegression()\n",
    "\n",
    "    lr.fit(train_X, train_y)\n",
    "\n",
    "    preds = lr.predict(test_X)\n",
    "\n",
    "    error = np.sqrt(MSE(test_y,preds))\n",
    "    \n",
    "    return round(10**error,2)"
   ]
  },
  {
   "cell_type": "code",
   "execution_count": 8,
   "metadata": {},
   "outputs": [],
   "source": [
    "def cutoff_df(df,cutoff):\n",
    "    log_10_cut = math.log10(cutoff)\n",
    "    df = df[df['log10_adj'] >= log_10_cut]\n",
    "    return df"
   ]
  },
  {
   "cell_type": "code",
   "execution_count": 16,
   "metadata": {},
   "outputs": [],
   "source": [
    "def test_elastic_cutoffs():\n",
    "    test_cutoffs = [(i+1)*100000 for i in range(20)]\n",
    "    error_list = []\n",
    "    for i in test_cutoffs:\n",
    "        error = elastic(i)\n",
    "        error_list.append(error)\n",
    "    return test_cutoffs,error_list    "
   ]
  },
  {
   "cell_type": "code",
   "execution_count": 9,
   "metadata": {},
   "outputs": [],
   "source": [
    "def test_cutoffs():\n",
    "    test_cutoffs = [(i+1)*100000 for i in range(20)]\n",
    "    error_list = []\n",
    "    for i in test_cutoffs:\n",
    "        error = train_and_test(i)\n",
    "        error_list.append(error)\n",
    "    return test_cutoffs,error_list"
   ]
  },
  {
   "cell_type": "code",
   "execution_count": 10,
   "metadata": {},
   "outputs": [],
   "source": [
    "def load_data():\n",
    "    train = pd.read_pickle('batting_00_16.pkl')\n",
    "    test = pd.read_pickle('batting_17.pkl')\n",
    "    return train,test"
   ]
  },
  {
   "cell_type": "code",
   "execution_count": 11,
   "metadata": {},
   "outputs": [],
   "source": [
    "def engineer_features(df):\n",
    "    df = df[df.pa>200]\n",
    "\n",
    "    df = df.reset_index()\n",
    "    \n",
    "    df['name'] = df['name'].apply(fix_name)\n",
    "    #adjust team names\n",
    "    df['tm'] = df['tm'].apply(fixtm)\n",
    "    #drop position summary (too many classes), log_sal (unscaled by inflation), rk (same as index)\n",
    "    df.drop(['pos\\xa0summary','log_sal','rk','index'],axis=1,inplace=True)\n",
    "    #map values in acquired to 3 classes\n",
    "    df['acquired'] = df['acquired'].map(acquired_dict)\n",
    "    \n",
    "    #adjust salary for inflation and take the log-10 for target column\n",
    "    df['adj_salary'] = df.apply(inflation_calc,axis=1)\n",
    "    df['log10_adj'] = np.log10(df['adj_salary'])\n",
    "    \n",
    "    #get dummy variables for team, hand, and acquired columns\n",
    "    df = pd.get_dummies(df,columns = ['acquired','bat_hand','tm']).drop(['tm_multiple','bat_hand_rhb','acquired_tr'],axis=1)\n",
    "    #filter datasets for only batters with more than 200 plate appearances in season\n",
    "\n",
    "    return df\n",
    "\n",
    "def scaleColumns(df, cols_to_scale):\n",
    "    min_max_scaler = preprocessing.MinMaxScaler()\n",
    "    for col in cols_to_scale:\n",
    "        df[col] = pd.DataFrame(min_max_scaler.fit_transform(pd.DataFrame(df[col])),columns=[col])\n",
    "    return df    \n",
    "\n",
    "def rescale_numeric(df):\n",
    "    df = df.reset_index()\n",
    "    df = df.drop(['index'],axis=1)\n",
    "    cols = [ 'g',\n",
    "         'pa',\n",
    "         'rbat',\n",
    "         'rbaser',\n",
    "         'rdp',\n",
    "         'rfield',\n",
    "         'rpos',\n",
    "         'raa',\n",
    "         'waa',\n",
    "         'rrep',\n",
    "         'rar',\n",
    "         'war',\n",
    "         'waawl%',\n",
    "         '162wl%',\n",
    "         'owar',\n",
    "         'dwar',\n",
    "         'orar',\n",
    "         'year','ab','r','h','2b','3b','hr','rbi','sb','cs','bb','so','ibb','hbp','sh','sf','gidp']\n",
    "    df = scaleColumns(df,cols)\n",
    "\n",
    "    return df"
   ]
  },
  {
   "cell_type": "code",
   "execution_count": 12,
   "metadata": {},
   "outputs": [],
   "source": [
    "def combine_with_lehman_data(df):\n",
    "    players = pd.read_csv('baseballdatabank-master/core/People.csv')\n",
    "    #players = players.set_index('playerID')\n",
    "\n",
    "    drop_cols = ['deathYear','deathMonth','deathDay','deathCountry','deathState','deathCity',\n",
    "                'birthYear','birthMonth','birthDay','birthCountry','birthState','birthCity',\n",
    "                'nameGiven','weight','height','bats','throws','finalGame','retroID','bbrefID']\n",
    "    players = players.drop(drop_cols,axis=1)\n",
    "    players['fullname'] = players['nameFirst'] + ' ' + players['nameLast']\n",
    "    players = players.dropna()\n",
    "\n",
    "    players['fullname'] = players['fullname'].apply(lambda x: ''.join(re.sub(r'[^\\w\\s]','',x).split(' ')).lower())\n",
    "    \n",
    "    batting = pd.read_csv('baseballdatabank-master/core/Batting.csv')\n",
    "    bats = batting[batting['yearID'] >= 2000]\n",
    "    \n",
    "    bat_join = bats.merge(players,how='left',on='playerID')\n",
    "\n",
    "    keep_cols = ['yearID',\n",
    "     'G',\n",
    "     'AB',\n",
    "     'R',\n",
    "     'H',\n",
    "     '2B',\n",
    "     '3B',\n",
    "     'HR',\n",
    "     'RBI',\n",
    "     'SB',\n",
    "     'CS',\n",
    "     'BB',\n",
    "     'SO',\n",
    "     'IBB',\n",
    "     'HBP',\n",
    "     'SH',\n",
    "     'SF',\n",
    "     'GIDP',\n",
    "     'debut',\n",
    "     'fullname']\n",
    "\n",
    "    bat_join = bat_join[keep_cols]\n",
    "\n",
    "    bat_join.columns = [x.lower() for x in bat_join.columns]\n",
    "\n",
    "    bat_join = bat_join.groupby(['fullname','yearid','debut'],axis=0)['g','ab','r','h','2b','3b','hr','rbi','sb','cs','bb','so','ibb','hbp','sh','sf','gidp'].sum().reset_index()\n",
    "    bat_join['str_g'] = bat_join['g'].apply(str)\n",
    "    bat_join['str_year'] = bat_join['yearid'].apply(str)\n",
    "    bat_join['name_g_y'] = bat_join['fullname'] + ' ' + bat_join['str_g'] + ' ' + bat_join['str_year']\n",
    "    \n",
    "    df['str_g'] = df['g'].apply(str)\n",
    "    df['str_year'] = df['year'].apply(str)\n",
    "    df['name'] = df['name'].apply(fix_aoki_and_castell)\n",
    "    df['name_g_y'] = df['name'].apply(lambda x: ''.join(x.split(' ')).lower()) + ' ' + df['str_g'] + ' ' + df['str_year']\n",
    "    \n",
    "    df = df.merge(bat_join,how='left',on='name_g_y')\n",
    "    \n",
    "    df = df.dropna()\n",
    "\n",
    "    df['debut_year'] = df['debut'].apply(lambda x: int(x.split('-')[0]))\n",
    "\n",
    "    df['years_in_mlb'] = df['year'] - df['debut_year']\n",
    "    \n",
    "    df['g'] = df['g_x']\n",
    "\n",
    "    df = df.drop(['g_x','g_y','str_g_x','str_g_y','str_year_x','str_year_y','debut','debut_year','yearid','name_g_y','fullname'],axis=1)\n",
    "    return df\n",
    "\n",
    "\n"
   ]
  },
  {
   "cell_type": "code",
   "execution_count": 13,
   "metadata": {},
   "outputs": [],
   "source": [
    "def fix_aoki_and_castell(name):\n",
    "    if name == 'Norichika Aoki':\n",
    "        return 'Nori Aoki'\n",
    "    elif name == 'Nicholas Castellanos':\n",
    "        return 'Nick Castellanos'\n",
    "    else: return name\n",
    "    \n",
    "def fix_name(n):\n",
    "    n1 = (' ').join(n.split('\\xa0'))\n",
    "    n2 = re.sub(r'[^\\w\\s]','',n1)\n",
    "    return n2"
   ]
  },
  {
   "cell_type": "code",
   "execution_count": 135,
   "metadata": {},
   "outputs": [],
   "source": [
    "def load_and_split_data(cutoff = 1):\n",
    "    #Load dataframes from pickle\n",
    "    train,test = load_data()\n",
    "    \n",
    "    #Scale inflation and engineer categorical features\n",
    "    train = engineer_features(train)\n",
    "    test = engineer_features(test)\n",
    "    \n",
    "    #Combine calculated statistics scraped from baseball-reference with raw stats from Lehman database\n",
    "    train = combine_with_lehman_data(train)\n",
    "    test = combine_with_lehman_data(test)    \n",
    "    \n",
    "    #Rescale numeric features to be (0,1)\n",
    "    train = rescale_numeric(train)\n",
    "    test = rescale_numeric(test)\n",
    "    \n",
    "    #Cut dataframe by minimum salary\n",
    "    train = cutoff_df(train,cutoff)\n",
    "    test = cutoff_df(test,cutoff)\n",
    "    \n",
    "    #Split into features and response matrices\n",
    "    train_y = train['log10_adj']\n",
    "    test_y = test['log10_adj']\n",
    "    train_X = train.drop(['name','age','log10_adj','salary','adj_salary'],axis=1)\n",
    "    test_X = test.drop(['name','age','log10_adj','salary','adj_salary'],axis=1)\n",
    "    \n",
    "    return train_X, train_y, test_X, test_y"
   ]
  },
  {
   "cell_type": "code",
   "execution_count": 74,
   "metadata": {},
   "outputs": [],
   "source": [
    "a,b,c,d = load_and_split_data(1)"
   ]
  },
  {
   "cell_type": "code",
   "execution_count": 76,
   "metadata": {},
   "outputs": [
    {
     "name": "stderr",
     "output_type": "stream",
     "text": [
      "/usr/local/lib/python3.6/site-packages/scipy/linalg/basic.py:1226: RuntimeWarning: internal gelsd driver lwork query error, required iwork dimension not returned. This is likely the result of LAPACK bug 0038, fixed in LAPACK 3.2.2 (released July 21, 2010). Falling back to 'gelss' driver.\n",
      "  warnings.warn(mesg, RuntimeWarning)\n"
     ]
    }
   ],
   "source": [
    "cut,err = test_cutoffs()"
   ]
  },
  {
   "cell_type": "code",
   "execution_count": 77,
   "metadata": {},
   "outputs": [
    {
     "data": {
      "image/png": "[encoded data removed]",
      "text/plain": [
       "<Figure size 1200x1200 with 1 Axes>"
      ]
     },
     "metadata": {},
     "output_type": "display_data"
    }
   ],
   "source": [
    "fig,ax = plt.subplots(figsize=(4,4))\n",
    "\n",
    "ax.scatter([i/1000 for i in cut],err)\n",
    "ax.set_title(\"Error Factor vs Cutoff Salary\")\n",
    "ax.set_ylabel(\"Error Factor\")\n",
    "ax.set_xlabel(\"Minimum Salary (Thousands)\")\n",
    "ax.set_yticks([1,1.5,2,2.5,3]);\n",
    "ax.set_xticks([0,500,1000,1500,2000]);\n",
    "plt.tight_layout()\n",
    "plt.savefig('cutofferr.png')"
   ]
  },
  {
   "cell_type": "code",
   "execution_count": 129,
   "metadata": {},
   "outputs": [],
   "source": [
    "min_sal_year = a.join(b).groupby(['year'])['log10_adj'].min()"
   ]
  },
  {
   "cell_type": "code",
   "execution_count": 133,
   "metadata": {},
   "outputs": [],
   "source": [
    "min_sal_df = pd.DataFrame(min_sal_year)"
   ]
  },
  {
   "cell_type": "code",
   "execution_count": 135,
   "metadata": {},
   "outputs": [],
   "source": [
    "min_sal_df['salary'] = 10**min_sal_df['log10_adj']"
   ]
  },
  {
   "cell_type": "code",
   "execution_count": 138,
   "metadata": {},
   "outputs": [],
   "source": [
    "min_sal_df.reset_index(inplace=True)"
   ]
  },
  {
   "cell_type": "code",
   "execution_count": 145,
   "metadata": {},
   "outputs": [],
   "source": [
    "min_sal_df['fix_year'] = (min_sal_df['year']*16 +2000).astype(int)"
   ]
  },
  {
   "cell_type": "code",
   "execution_count": 146,
   "metadata": {},
   "outputs": [
    {
     "data": {
      "text/html": [
       "<div>\n",
       "<style scoped>\n",
       "    .dataframe tbody tr th:only-of-type {\n",
       "        vertical-align: middle;\n",
       "    }\n",
       "\n",
       "    .dataframe tbody tr th {\n",
       "        vertical-align: top;\n",
       "    }\n",
       "\n",
       "    .dataframe thead th {\n",
       "        text-align: right;\n",
       "    }\n",
       "</style>\n",
       "<table border=\"1\" class=\"dataframe\">\n",
       "  <thead>\n",
       "    <tr style=\"text-align: right;\">\n",
       "      <th></th>\n",
       "      <th>year</th>\n",
       "      <th>log10_adj</th>\n",
       "      <th>salary</th>\n",
       "      <th>fix_year</th>\n",
       "    </tr>\n",
       "  </thead>\n",
       "  <tbody>\n",
       "    <tr>\n",
       "      <th>0</th>\n",
       "      <td>0.0000</td>\n",
       "      <td>5.454375</td>\n",
       "      <td>284692.0</td>\n",
       "      <td>2000</td>\n",
       "    </tr>\n",
       "    <tr>\n",
       "      <th>1</th>\n",
       "      <td>0.0625</td>\n",
       "      <td>5.442263</td>\n",
       "      <td>276862.0</td>\n",
       "      <td>2001</td>\n",
       "    </tr>\n",
       "    <tr>\n",
       "      <th>2</th>\n",
       "      <td>0.1250</td>\n",
       "      <td>5.435425</td>\n",
       "      <td>272537.0</td>\n",
       "      <td>2002</td>\n",
       "    </tr>\n",
       "    <tr>\n",
       "      <th>3</th>\n",
       "      <td>0.1875</td>\n",
       "      <td>5.343647</td>\n",
       "      <td>220621.0</td>\n",
       "      <td>2003</td>\n",
       "    </tr>\n",
       "    <tr>\n",
       "      <th>4</th>\n",
       "      <td>0.2500</td>\n",
       "      <td>5.590268</td>\n",
       "      <td>389285.0</td>\n",
       "      <td>2004</td>\n",
       "    </tr>\n",
       "    <tr>\n",
       "      <th>5</th>\n",
       "      <td>0.3125</td>\n",
       "      <td>5.598363</td>\n",
       "      <td>396609.0</td>\n",
       "      <td>2005</td>\n",
       "    </tr>\n",
       "    <tr>\n",
       "      <th>6</th>\n",
       "      <td>0.3750</td>\n",
       "      <td>5.562008</td>\n",
       "      <td>364761.0</td>\n",
       "      <td>2006</td>\n",
       "    </tr>\n",
       "    <tr>\n",
       "      <th>7</th>\n",
       "      <td>0.4375</td>\n",
       "      <td>5.652475</td>\n",
       "      <td>449236.0</td>\n",
       "      <td>2007</td>\n",
       "    </tr>\n",
       "    <tr>\n",
       "      <th>8</th>\n",
       "      <td>0.5000</td>\n",
       "      <td>5.647393</td>\n",
       "      <td>444010.0</td>\n",
       "      <td>2008</td>\n",
       "    </tr>\n",
       "    <tr>\n",
       "      <th>9</th>\n",
       "      <td>0.5625</td>\n",
       "      <td>5.659936</td>\n",
       "      <td>457021.0</td>\n",
       "      <td>2009</td>\n",
       "    </tr>\n",
       "    <tr>\n",
       "      <th>10</th>\n",
       "      <td>0.6250</td>\n",
       "      <td>5.652870</td>\n",
       "      <td>449645.0</td>\n",
       "      <td>2010</td>\n",
       "    </tr>\n",
       "    <tr>\n",
       "      <th>11</th>\n",
       "      <td>0.6875</td>\n",
       "      <td>5.654314</td>\n",
       "      <td>451143.0</td>\n",
       "      <td>2011</td>\n",
       "    </tr>\n",
       "    <tr>\n",
       "      <th>12</th>\n",
       "      <td>0.7500</td>\n",
       "      <td>5.709659</td>\n",
       "      <td>512459.0</td>\n",
       "      <td>2012</td>\n",
       "    </tr>\n",
       "    <tr>\n",
       "      <th>13</th>\n",
       "      <td>0.8125</td>\n",
       "      <td>5.712299</td>\n",
       "      <td>515583.0</td>\n",
       "      <td>2013</td>\n",
       "    </tr>\n",
       "    <tr>\n",
       "      <th>14</th>\n",
       "      <td>0.8750</td>\n",
       "      <td>5.714084</td>\n",
       "      <td>517707.0</td>\n",
       "      <td>2014</td>\n",
       "    </tr>\n",
       "    <tr>\n",
       "      <th>15</th>\n",
       "      <td>0.9375</td>\n",
       "      <td>5.720035</td>\n",
       "      <td>524850.0</td>\n",
       "      <td>2015</td>\n",
       "    </tr>\n",
       "    <tr>\n",
       "      <th>16</th>\n",
       "      <td>1.0000</td>\n",
       "      <td>5.714589</td>\n",
       "      <td>518309.0</td>\n",
       "      <td>2016</td>\n",
       "    </tr>\n",
       "  </tbody>\n",
       "</table>\n",
       "</div>"
      ],
      "text/plain": [
       "      year  log10_adj    salary  fix_year\n",
       "0   0.0000   5.454375  284692.0      2000\n",
       "1   0.0625   5.442263  276862.0      2001\n",
       "2   0.1250   5.435425  272537.0      2002\n",
       "3   0.1875   5.343647  220621.0      2003\n",
       "4   0.2500   5.590268  389285.0      2004\n",
       "5   0.3125   5.598363  396609.0      2005\n",
       "6   0.3750   5.562008  364761.0      2006\n",
       "7   0.4375   5.652475  449236.0      2007\n",
       "8   0.5000   5.647393  444010.0      2008\n",
       "9   0.5625   5.659936  457021.0      2009\n",
       "10  0.6250   5.652870  449645.0      2010\n",
       "11  0.6875   5.654314  451143.0      2011\n",
       "12  0.7500   5.709659  512459.0      2012\n",
       "13  0.8125   5.712299  515583.0      2013\n",
       "14  0.8750   5.714084  517707.0      2014\n",
       "15  0.9375   5.720035  524850.0      2015\n",
       "16  1.0000   5.714589  518309.0      2016"
      ]
     },
     "execution_count": 146,
     "metadata": {},
     "output_type": "execute_result"
    }
   ],
   "source": [
    "min_sal_df"
   ]
  },
  {
   "cell_type": "code",
   "execution_count": 192,
   "metadata": {},
   "outputs": [
    {
     "data": {
      "image/png": "[encoded data removed]",
      "text/plain": [
       "<Figure size 1200x1200 with 1 Axes>"
      ]
     },
     "metadata": {},
     "output_type": "display_data"
    }
   ],
   "source": [
    "fig,ax = plt.subplots(figsize=(4,4))\n",
    "\n",
    "ax.scatter(min_sal_df.fix_year,min_sal_df.salary/1000)\n",
    "ax.set_title('Inflation-Adjusted Mimimum Salary by Year')\n",
    "ax.set_yticks([200,300,400,500,600])\n",
    "ax.set_ylabel(\"Salary (Thousands)\")\n",
    "ax.set_xlabel(\"Year\");\n",
    "plt.tight_layout()\n",
    "plt.savefig('adjmin.png')"
   ]
  },
  {
   "cell_type": "code",
   "execution_count": 163,
   "metadata": {},
   "outputs": [],
   "source": [
    "full_train = a.join(b)\n",
    "\n",
    "full_train['salary'] = 10**full_train['log10_adj']"
   ]
  },
  {
   "cell_type": "code",
   "execution_count": 191,
   "metadata": {},
   "outputs": [
    {
     "data": {
      "image/png": "[encoded data removed]",
      "text/plain": [
       "<Figure size 3000x1200 with 2 Axes>"
      ]
     },
     "metadata": {},
     "output_type": "display_data"
    }
   ],
   "source": [
    "fig,(ax1,ax2) = plt.subplots(1,2,figsize=(10,4))\n",
    "ax1.hist(full_train['salary']/1000000)\n",
    "ax2.hist(full_train['log10_adj'])\n",
    "fig.suptitle(\"Histogram of Salaries\")\n",
    "ax1.set_ylabel('Counts')\n",
    "ax1.set_xlabel(\"Salary (Millions)\")\n",
    "ax2.set_xlabel('log(Salary)');\n",
    "plt.tight_layout()\n",
    "plt.savefig('salaryhist.png')\n"
   ]
  },
  {
   "cell_type": "code",
   "execution_count": 189,
   "metadata": {},
   "outputs": [
    {
     "data": {
      "text/plain": [
       "(5395, 54)"
      ]
     },
     "execution_count": 189,
     "metadata": {},
     "output_type": "execute_result"
    }
   ],
   "source": [
    "a.shape"
   ]
  },
  {
   "cell_type": "code",
   "execution_count": 190,
   "metadata": {},
   "outputs": [
    {
     "data": {
      "text/plain": [
       "(315, 54)"
      ]
     },
     "execution_count": 190,
     "metadata": {},
     "output_type": "execute_result"
    }
   ],
   "source": [
    "c.shape"
   ]
  },
  {
   "cell_type": "code",
   "execution_count": 10,
   "metadata": {},
   "outputs": [],
   "source": [
    "tr,te = load_data()"
   ]
  },
  {
   "cell_type": "code",
   "execution_count": 11,
   "metadata": {},
   "outputs": [
    {
     "data": {
      "text/plain": [
       "(13464, 27)"
      ]
     },
     "execution_count": 11,
     "metadata": {},
     "output_type": "execute_result"
    }
   ],
   "source": [
    "tr.shape"
   ]
  },
  {
   "cell_type": "code",
   "execution_count": 19,
   "metadata": {
    "collapsed": true
   },
   "outputs": [
    {
     "name": "stderr",
     "output_type": "stream",
     "text": [
      "/usr/local/lib/python3.6/site-packages/sklearn/linear_model/coordinate_descent.py:491: ConvergenceWarning: Objective did not converge. You might want to increase the number of iterations. Fitting data with very small alpha may cause precision problems.\n",
      "  ConvergenceWarning)\n",
      "/usr/local/lib/python3.6/site-packages/sklearn/linear_model/coordinate_descent.py:491: ConvergenceWarning: Objective did not converge. You might want to increase the number of iterations. Fitting data with very small alpha may cause precision problems.\n",
      "  ConvergenceWarning)\n",
      "/usr/local/lib/python3.6/site-packages/sklearn/linear_model/coordinate_descent.py:491: ConvergenceWarning: Objective did not converge. You might want to increase the number of iterations. Fitting data with very small alpha may cause precision problems.\n",
      "  ConvergenceWarning)\n",
      "/usr/local/lib/python3.6/site-packages/sklearn/linear_model/coordinate_descent.py:491: ConvergenceWarning: Objective did not converge. You might want to increase the number of iterations. Fitting data with very small alpha may cause precision problems.\n",
      "  ConvergenceWarning)\n",
      "/usr/local/lib/python3.6/site-packages/sklearn/linear_model/coordinate_descent.py:491: ConvergenceWarning: Objective did not converge. You might want to increase the number of iterations. Fitting data with very small alpha may cause precision problems.\n",
      "  ConvergenceWarning)\n",
      "/usr/local/lib/python3.6/site-packages/sklearn/linear_model/coordinate_descent.py:491: ConvergenceWarning: Objective did not converge. You might want to increase the number of iterations. Fitting data with very small alpha may cause precision problems.\n",
      "  ConvergenceWarning)\n",
      "/usr/local/lib/python3.6/site-packages/sklearn/linear_model/coordinate_descent.py:491: ConvergenceWarning: Objective did not converge. You might want to increase the number of iterations. Fitting data with very small alpha may cause precision problems.\n",
      "  ConvergenceWarning)\n",
      "/usr/local/lib/python3.6/site-packages/sklearn/linear_model/coordinate_descent.py:491: ConvergenceWarning: Objective did not converge. You might want to increase the number of iterations. Fitting data with very small alpha may cause precision problems.\n",
      "  ConvergenceWarning)\n",
      "/usr/local/lib/python3.6/site-packages/sklearn/linear_model/coordinate_descent.py:491: ConvergenceWarning: Objective did not converge. You might want to increase the number of iterations. Fitting data with very small alpha may cause precision problems.\n",
      "  ConvergenceWarning)\n",
      "/usr/local/lib/python3.6/site-packages/sklearn/linear_model/coordinate_descent.py:491: ConvergenceWarning: Objective did not converge. You might want to increase the number of iterations. Fitting data with very small alpha may cause precision problems.\n",
      "  ConvergenceWarning)\n",
      "/usr/local/lib/python3.6/site-packages/sklearn/linear_model/coordinate_descent.py:491: ConvergenceWarning: Objective did not converge. You might want to increase the number of iterations. Fitting data with very small alpha may cause precision problems.\n",
      "  ConvergenceWarning)\n",
      "/usr/local/lib/python3.6/site-packages/sklearn/linear_model/coordinate_descent.py:491: ConvergenceWarning: Objective did not converge. You might want to increase the number of iterations. Fitting data with very small alpha may cause precision problems.\n",
      "  ConvergenceWarning)\n"
     ]
    }
   ],
   "source": [
    "cut, err = test_elastic_cutoffs()"
   ]
  },
  {
   "cell_type": "code",
   "execution_count": 22,
   "metadata": {},
   "outputs": [
    {
     "data": {
      "image/png": "[encoded data removed]",
      "text/plain": [
       "<Figure size 1200x1200 with 1 Axes>"
      ]
     },
     "metadata": {},
     "output_type": "display_data"
    }
   ],
   "source": [
    "fig,ax = plt.subplots(figsize=(4,4))\n",
    "\n",
    "ax.scatter([i/1000 for i in cut],err)\n",
    "ax.set_title(\"Error Factor vs Cutoff Salary\")\n",
    "ax.set_ylabel(\"Error Factor\")\n",
    "ax.set_xlabel(\"Minimum Salary (Thousands)\")\n",
    "ax.set_yticks([1,1.5,2,2.5,3]);\n",
    "ax.set_xticks([0,500,1000,1500,2000]);\n",
    "plt.tight_layout()\n",
    "#plt.savefig('cutofferr.png')"
   ]
  },
  {
   "cell_type": "code",
   "execution_count": 38,
   "metadata": {},
   "outputs": [],
   "source": [
    "err, param = elastic(500000)"
   ]
  },
  {
   "cell_type": "code",
   "execution_count": 42,
   "metadata": {},
   "outputs": [
    {
     "name": "stdout",
     "output_type": "stream",
     "text": [
      "1.83 0.7819882032813383\n"
     ]
    }
   ],
   "source": [
    "train_X, train_y, test_X, test_y = load_and_split_data(500000)\n",
    "\n",
    "regr = ElasticNetCV(alphas=[.2,.3,.5,.9,.99,1],cv=10,tol=0.01)\n",
    "\n",
    "regr.fit(train_X,train_y)\n",
    "\n",
    "preds = regr.predict(test_X)\n",
    "\n",
    "error = np.sqrt(MSE(test_y,preds))\n",
    "\n",
    "print(np.round(10**error,2),regr.score(train_X,train_y))"
   ]
  },
  {
   "cell_type": "code",
   "execution_count": 50,
   "metadata": {},
   "outputs": [],
   "source": [
    "import time"
   ]
  },
  {
   "cell_type": "code",
   "execution_count": 149,
   "metadata": {},
   "outputs": [],
   "source": [
    "def train_EN_model(train_x, train_y, predict_x):\n",
    "    #print_title(\"ElasticNet\")\n",
    "    #train_x, predict_x = standarize_feature(_train_x, _predict_x)\n",
    "\n",
    "    #l1_ratios = [1e-4, 1e-3, 1e-2, 1e-1]\n",
    "    #l1_ratios = [1e-5, 1e-4, 1e-3]\n",
    "    l1_ratios = [.01,.1,.5, 0.99]\n",
    "    #l1_ratios = [0.5]\n",
    "    min_mse = 1\n",
    "    for r in l1_ratios:\n",
    "        t1 = time.time()\n",
    "        reg_en = ElasticNetCV(\n",
    "            l1_ratio=r, cv=10, n_jobs=-1, verbose=1, precompute=True)\n",
    "        reg_en.fit(train_x, train_y)\n",
    "        n_nonzeros = (reg_en.coef_ != 0).sum()\n",
    "        _mse = np.mean(reg_en.mse_path_, axis=1)[\n",
    "            np.where(reg_en.alphas_ == reg_en.alpha_)[0][0]]\n",
    "        if _mse < min_mse:\n",
    "            min_mse = _mse\n",
    "            best_l1_ratio = r\n",
    "            best_alpha = reg_en.alpha_\n",
    "        t2 = time.time()\n",
    "        print(\"ratio(%e) -- n: %d -- alpha: %f -- mse: %f -- \"\n",
    "              \"time: %.2f sec\" %\n",
    "              (r, n_nonzeros, reg_en.alpha_, _mse, t2 - t1))\n",
    "\n",
    "    print(\"Best l1_ratio and alpha: %f, %f\" % (best_l1_ratio, best_alpha))\n",
    "    # predict_model\n",
    "    reg = ElasticNet(l1_ratio=best_l1_ratio, alpha=best_alpha)\n",
    "    reg.fit(train_x, train_y)\n",
    "    predict_y = reg.predict(predict_x)\n",
    "    train_y_pred = reg.predict(train_x)\n",
    "    return {\"y\": predict_y, \"train_y\": train_y_pred, \"coef\": reg.coef_}"
   ]
  },
  {
   "cell_type": "code",
   "execution_count": 76,
   "metadata": {
    "collapsed": true
   },
   "outputs": [
    {
     "name": "stderr",
     "output_type": "stream",
     "text": [
      "...................................................................................................................................................................................................................................................................................................................................................................................................................................................................................................................................................................................................................................................................................................................................................................................................................................[Parallel(n_jobs=-1)]: Done   6 out of  10 | elapsed:    0.2s remaining:    0.1s\n",
      ".....................................................................................................................................................................................................[Parallel(n_jobs=-1)]: Done  10 out of  10 | elapsed:    0.2s finished\n"
     ]
    },
    {
     "name": "stdout",
     "output_type": "stream",
     "text": [
      "ratio(9.000000e-01) -- n: 2 -- alpha: 2771.374890 -- mse: 0.057815 -- time: 0.25 sec\n"
     ]
    },
    {
     "name": "stderr",
     "output_type": "stream",
     "text": [
      "........................................................................................................................................................................................................................................................................................................................................................................................................................................................................................................................................................................................................................................................................................................................................................................................................................[Parallel(n_jobs=-1)]: Done   6 out of  10 | elapsed:    0.1s remaining:    0.1s\n",
      "................................................................................................................................................................................................................[Parallel(n_jobs=-1)]: Done  10 out of  10 | elapsed:    0.2s finished\n"
     ]
    },
    {
     "name": "stdout",
     "output_type": "stream",
     "text": [
      "ratio(9.200000e-01) -- n: 2 -- alpha: 2711.127610 -- mse: 0.057815 -- time: 0.26 sec\n"
     ]
    },
    {
     "name": "stderr",
     "output_type": "stream",
     "text": [
      "............................................................................................................................................................................................................................................................................................................................................................................................................................................................................................................................................................................................................................................................................................................................................................................................................................................................[Parallel(n_jobs=-1)]: Done   6 out of  10 | elapsed:    0.1s remaining:    0.1s\n",
      "............................................................................................................................................................................[Parallel(n_jobs=-1)]: Done  10 out of  10 | elapsed:    0.2s finished\n"
     ]
    },
    {
     "name": "stdout",
     "output_type": "stream",
     "text": [
      "ratio(9.500000e-01) -- n: 2 -- alpha: 2625.513053 -- mse: 0.057815 -- time: 0.26 sec\n"
     ]
    },
    {
     "name": "stderr",
     "output_type": "stream",
     "text": [
      "............................................................................................................................................................................................................................................................................................................................................................................................................................................................................................................................................................................................................................................................................................................................................................................................................................[Parallel(n_jobs=-1)]: Done   6 out of  10 | elapsed:    0.1s remaining:    0.1s\n",
      "............................................................................................................................................................................................................[Parallel(n_jobs=-1)]: Done  10 out of  10 | elapsed:    0.2s finished\n"
     ]
    },
    {
     "name": "stdout",
     "output_type": "stream",
     "text": [
      "ratio(9.700000e-01) -- n: 2 -- alpha: 2571.378764 -- mse: 0.057815 -- time: 0.26 sec\n"
     ]
    },
    {
     "name": "stderr",
     "output_type": "stream",
     "text": [
      ".....................................................................................................................................................................................................................................................................................................................................................................................................................................................................................................................................................................................................................................................................................................................................................................................................................................[Parallel(n_jobs=-1)]: Done   6 out of  10 | elapsed:    0.2s remaining:    0.1s\n",
      "..................................................................................................................................................................................................."
     ]
    },
    {
     "name": "stdout",
     "output_type": "stream",
     "text": [
      "ratio(9.900000e-01) -- n: 2 -- alpha: 2519.431718 -- mse: 0.057815 -- time: 0.35 sec\n",
      "Best l1_ratio and alpha: 0.990000, 2519.431718\n"
     ]
    },
    {
     "name": "stderr",
     "output_type": "stream",
     "text": [
      "[Parallel(n_jobs=-1)]: Done  10 out of  10 | elapsed:    0.2s finished\n"
     ]
    }
   ],
   "source": [
    "results = train_EN_model(train_X,train_y,test_X)"
   ]
  },
  {
   "cell_type": "code",
   "execution_count": 77,
   "metadata": {},
   "outputs": [],
   "source": [
    "error = MSE(test_y,results['y'])"
   ]
  },
  {
   "cell_type": "code",
   "execution_count": 78,
   "metadata": {},
   "outputs": [
    {
     "data": {
      "text/plain": [
       "1.1853549879135483"
      ]
     },
     "execution_count": 78,
     "metadata": {},
     "output_type": "execute_result"
    }
   ],
   "source": [
    "10**error"
   ]
  },
  {
   "cell_type": "code",
   "execution_count": 74,
   "metadata": {},
   "outputs": [
    {
     "name": "stdout",
     "output_type": "stream",
     "text": [
      "13000000 10345482\n",
      "1050000 1412661\n",
      "535000 1296498\n",
      "8250000 4688527\n",
      "15000000 14436854\n"
     ]
    }
   ],
   "source": [
    "for i in range(35,40):\n",
    "    print (int(10**test_y[i]),int(10**results['y'][i]))"
   ]
  },
  {
   "cell_type": "code",
   "execution_count": 126,
   "metadata": {},
   "outputs": [],
   "source": [
    "def cutoffs_ENCV():\n",
    "    test_cutoffs = [(i+1)*100000 for i in range(20)]\n",
    "    error_list = []\n",
    "    for i in test_cutoffs:\n",
    "        train_X, train_y, test_X, test_y = load_and_split_data(i)\n",
    "        results = train_EN_model(train_X,train_y,test_X)\n",
    "        error = MSE(test_y,results['y'])**.5\n",
    "        error_list.append(10**error)\n",
    "\n",
    "    return test_cutoffs,error_list  \n",
    "    "
   ]
  },
  {
   "cell_type": "code",
   "execution_count": 150,
   "metadata": {
    "scrolled": true
   },
   "outputs": [
    {
     "name": "stderr",
     "output_type": "stream",
     "text": [
      "................................................................................................................................................................................................................................................................................................................................................................................................................................................................................................................................................................................................................................................................................................................................................................................................................................[Parallel(n_jobs=-1)]: Done   6 out of  10 | elapsed:    0.1s remaining:    0.1s\n",
      "........................................................................................................................................................................................................[Parallel(n_jobs=-1)]: Done  10 out of  10 | elapsed:    0.2s finished\n"
     ]
    },
    {
     "name": "stdout",
     "output_type": "stream",
     "text": [
      "ratio(1.000000e-02) -- n: 51 -- alpha: 0.147653 -- mse: 0.156676 -- time: 0.22 sec\n"
     ]
    },
    {
     "name": "stderr",
     "output_type": "stream",
     "text": [
      ".....................................................................................................................................................................................................................................................................................................................................................................................................................................................................................................................................................................................................................................................................................................................................................................................................................................[Parallel(n_jobs=-1)]: Done   6 out of  10 | elapsed:    0.2s remaining:    0.1s\n",
      "...................................................................................................................................................................................................[Parallel(n_jobs=-1)]: Done  10 out of  10 | elapsed:    0.2s finished\n"
     ]
    },
    {
     "name": "stdout",
     "output_type": "stream",
     "text": [
      "ratio(1.000000e-01) -- n: 43 -- alpha: 0.014765 -- mse: 0.143595 -- time: 0.34 sec\n"
     ]
    },
    {
     "name": "stderr",
     "output_type": "stream",
     "text": [
      "......................................................................................................................................................................................................................................................................................................................................................................................................................................................................................................................................................................................................................................................................................................................................................................................................................................[Parallel(n_jobs=-1)]: Done   6 out of  10 | elapsed:    0.1s remaining:    0.1s\n",
      "..................................................................................................................................................................................................[Parallel(n_jobs=-1)]: Done  10 out of  10 | elapsed:    0.2s finished\n"
     ]
    },
    {
     "name": "stdout",
     "output_type": "stream",
     "text": [
      "ratio(5.000000e-01) -- n: 34 -- alpha: 0.002953 -- mse: 0.137308 -- time: 0.24 sec\n"
     ]
    },
    {
     "name": "stderr",
     "output_type": "stream",
     "text": [
      "........................................................................................................................................................................................................................................................................................................................................................................................................................................................................................................................................................................................................................................................................................................................................................................................................................................[Parallel(n_jobs=-1)]: Done   6 out of  10 | elapsed:    0.2s remaining:    0.1s\n",
      "................................................................................................................................................................................................[Parallel(n_jobs=-1)]: Done  10 out of  10 | elapsed:    0.2s finished\n"
     ]
    },
    {
     "name": "stdout",
     "output_type": "stream",
     "text": [
      "ratio(9.900000e-01) -- n: 32 -- alpha: 0.001491 -- mse: 0.135661 -- time: 0.24 sec\n",
      "Best l1_ratio and alpha: 0.990000, 0.001491\n"
     ]
    },
    {
     "name": "stderr",
     "output_type": "stream",
     "text": [
      ".........................................................................................................................................................................................................................................................................................................................................................................................................................................................................................................................................................................................................................................................................................................................................................................................................................................[Parallel(n_jobs=-1)]: Done   6 out of  10 | elapsed:    0.2s remaining:    0.1s\n",
      "...............................................................................................................................................................................................[Parallel(n_jobs=-1)]: Done  10 out of  10 | elapsed:    0.2s finished\n"
     ]
    },
    {
     "name": "stdout",
     "output_type": "stream",
     "text": [
      "ratio(1.000000e-02) -- n: 51 -- alpha: 0.147653 -- mse: 0.156676 -- time: 0.22 sec\n"
     ]
    },
    {
     "name": "stderr",
     "output_type": "stream",
     "text": [
      "...........................................................................................................................................................................................................................................................................................................................................................................................................................................................................................................................................................................................................................................................................................................................................................................................................................................................[Parallel(n_jobs=-1)]: Done   6 out of  10 | elapsed:    0.2s remaining:    0.1s\n",
      ".............................................................................................................................................................................[Parallel(n_jobs=-1)]: Done  10 out of  10 | elapsed:    0.2s finished\n"
     ]
    },
    {
     "name": "stdout",
     "output_type": "stream",
     "text": [
      "ratio(1.000000e-01) -- n: 43 -- alpha: 0.014765 -- mse: 0.143595 -- time: 0.24 sec\n"
     ]
    },
    {
     "name": "stderr",
     "output_type": "stream",
     "text": [
      ".................................................................................................................................................................................................................................................................................................................................................................................................................................................................................................................................................................................................................................................................................................................................................................................................................................................[Parallel(n_jobs=-1)]: Done   6 out of  10 | elapsed:    0.2s remaining:    0.1s\n",
      ".......................................................................................................................................................................................[Parallel(n_jobs=-1)]: Done  10 out of  10 | elapsed:    0.2s finished\n"
     ]
    },
    {
     "name": "stdout",
     "output_type": "stream",
     "text": [
      "ratio(5.000000e-01) -- n: 34 -- alpha: 0.002953 -- mse: 0.137308 -- time: 0.23 sec\n"
     ]
    },
    {
     "name": "stderr",
     "output_type": "stream",
     "text": [
      ".....................................................................................................................................................................................................................................................................................................................................................................................................................................................................................................................................................................................................................................................................................................................................................................................................................................[Parallel(n_jobs=-1)]: Done   6 out of  10 | elapsed:    0.1s remaining:    0.1s\n",
      "...................................................................................................................................................................................................[Parallel(n_jobs=-1)]: Done  10 out of  10 | elapsed:    0.2s finished\n"
     ]
    },
    {
     "name": "stdout",
     "output_type": "stream",
     "text": [
      "ratio(9.900000e-01) -- n: 32 -- alpha: 0.001491 -- mse: 0.135661 -- time: 0.22 sec\n",
      "Best l1_ratio and alpha: 0.990000, 0.001491\n"
     ]
    },
    {
     "name": "stderr",
     "output_type": "stream",
     "text": [
      "...............................................................................................................................................................................................................................................................................................................................................................................................................................................................................................................................................................................................................................................................................................................................................................................................................................[Parallel(n_jobs=-1)]: Done   6 out of  10 | elapsed:    0.1s remaining:    0.1s\n",
      ".........................................................................................................................................................................................................[Parallel(n_jobs=-1)]: Done  10 out of  10 | elapsed:    0.2s finished\n"
     ]
    },
    {
     "name": "stdout",
     "output_type": "stream",
     "text": [
      "ratio(1.000000e-02) -- n: 51 -- alpha: 0.144135 -- mse: 0.156582 -- time: 0.22 sec\n"
     ]
    },
    {
     "name": "stderr",
     "output_type": "stream",
     "text": [
      ".................................................................................................................................................................................................................................................................................................................................................................................................................................................................................................................................................................................................................................................................................................................................................................................................................[Parallel(n_jobs=-1)]: Done   6 out of  10 | elapsed:    0.1s remaining:    0.1s\n",
      ".......................................................................................................................................................................................................................[Parallel(n_jobs=-1)]: Done  10 out of  10 | elapsed:    0.2s finished\n"
     ]
    },
    {
     "name": "stdout",
     "output_type": "stream",
     "text": [
      "ratio(1.000000e-01) -- n: 43 -- alpha: 0.014414 -- mse: 0.143755 -- time: 0.24 sec\n"
     ]
    },
    {
     "name": "stderr",
     "output_type": "stream",
     "text": [
      "...............................................................................................................................................................................................................................................................................................................................................................................................................................................................................................................................................................................................................................................................................................................................................................................................................................[Parallel(n_jobs=-1)]: Done   6 out of  10 | elapsed:    0.1s remaining:    0.1s\n",
      ".........................................................................................................................................................................................................[Parallel(n_jobs=-1)]: Done  10 out of  10 | elapsed:    0.2s finished\n"
     ]
    },
    {
     "name": "stdout",
     "output_type": "stream",
     "text": [
      "ratio(5.000000e-01) -- n: 34 -- alpha: 0.002883 -- mse: 0.137447 -- time: 0.24 sec\n"
     ]
    },
    {
     "name": "stderr",
     "output_type": "stream",
     "text": [
      "...........................................................................................................................................................................................................................................................................................................................................................................................................................................................................................................................................................................................................................................................................................................................................................................................................................................................[Parallel(n_jobs=-1)]: Done   6 out of  10 | elapsed:    0.1s remaining:    0.1s\n",
      ".............................................................................................................................................................................[Parallel(n_jobs=-1)]: Done  10 out of  10 | elapsed:    0.2s finished\n"
     ]
    },
    {
     "name": "stdout",
     "output_type": "stream",
     "text": [
      "ratio(9.900000e-01) -- n: 32 -- alpha: 0.001456 -- mse: 0.135874 -- time: 0.22 sec\n",
      "Best l1_ratio and alpha: 0.990000, 0.001456\n"
     ]
    },
    {
     "name": "stderr",
     "output_type": "stream",
     "text": [
      ".............................................................................................................................................................................................................................................................................................................................................................................................................................................................................................................................................................................................................................................................................................................................................................................................................................................[Parallel(n_jobs=-1)]: Done   6 out of  10 | elapsed:    0.2s remaining:    0.1s\n",
      "...........................................................................................................................................................................................[Parallel(n_jobs=-1)]: Done  10 out of  10 | elapsed:    0.2s finished\n"
     ]
    },
    {
     "name": "stdout",
     "output_type": "stream",
     "text": [
      "ratio(1.000000e-02) -- n: 54 -- alpha: 0.135788 -- mse: 0.155930 -- time: 0.22 sec\n"
     ]
    },
    {
     "name": "stderr",
     "output_type": "stream",
     "text": [
      "..............................................................................................................................................................................................................................................................................................................................................................................................................................................................................................................................................................................................................................................................................................................................................................................................................................................[Parallel(n_jobs=-1)]: Done   6 out of  10 | elapsed:    0.1s remaining:    0.1s\n",
      "..........................................................................................................................................................................................[Parallel(n_jobs=-1)]: Done  10 out of  10 | elapsed:    0.2s finished\n"
     ]
    },
    {
     "name": "stdout",
     "output_type": "stream",
     "text": [
      "ratio(1.000000e-01) -- n: 43 -- alpha: 0.013579 -- mse: 0.144109 -- time: 0.23 sec\n"
     ]
    },
    {
     "name": "stderr",
     "output_type": "stream",
     "text": [
      "............................................................................................................................................................................................................................................................................................................................................................................................................................................................................................................................................................................................................................................................................................................................................................................................................................................................[Parallel(n_jobs=-1)]: Done   6 out of  10 | elapsed:    0.2s remaining:    0.1s\n",
      "............................................................................................................................................................................[Parallel(n_jobs=-1)]: Done  10 out of  10 | elapsed:    0.2s finished\n"
     ]
    },
    {
     "name": "stdout",
     "output_type": "stream",
     "text": [
      "ratio(5.000000e-01) -- n: 35 -- alpha: 0.002716 -- mse: 0.138009 -- time: 0.34 sec\n"
     ]
    },
    {
     "name": "stderr",
     "output_type": "stream",
     "text": [
      "............................................................................................................................................................................................................................................................................................................................................................................................................................................................................................................................................................................................................................................................................................................................................................................................................................................[Parallel(n_jobs=-1)]: Done   6 out of  10 | elapsed:    0.1s remaining:    0.1s\n",
      "............................................................................................................................................................................................[Parallel(n_jobs=-1)]: Done  10 out of  10 | elapsed:    0.2s finished\n"
     ]
    },
    {
     "name": "stdout",
     "output_type": "stream",
     "text": [
      "ratio(9.900000e-01) -- n: 34 -- alpha: 0.001372 -- mse: 0.136548 -- time: 0.23 sec\n",
      "Best l1_ratio and alpha: 0.990000, 0.001372\n"
     ]
    },
    {
     "name": "stderr",
     "output_type": "stream",
     "text": [
      "............................................................................................................................................................................................................................................................................................................................................................................................................................................................................................................................................................................................................................................................................................................................................................................................................................................................[Parallel(n_jobs=-1)]: Done   6 out of  10 | elapsed:    0.1s remaining:    0.1s\n",
      "............................................................................................................................................................................[Parallel(n_jobs=-1)]: Done  10 out of  10 | elapsed:    0.2s finished\n"
     ]
    },
    {
     "name": "stdout",
     "output_type": "stream",
     "text": [
      "ratio(1.000000e-02) -- n: 51 -- alpha: 0.100919 -- mse: 0.143911 -- time: 0.22 sec\n"
     ]
    },
    {
     "name": "stderr",
     "output_type": "stream",
     "text": [
      "..............................................................................................................................................................................................................................................................................................................................................................................................................................................................................................................................................................................................................................................................................................................................................................................................................................[Parallel(n_jobs=-1)]: Done   6 out of  10 | elapsed:    0.1s remaining:    0.1s\n",
      "..........................................................................................................................................................................................................[Parallel(n_jobs=-1)]: Done  10 out of  10 | elapsed:    0.2s finished\n"
     ]
    },
    {
     "name": "stdout",
     "output_type": "stream",
     "text": [
      "ratio(1.000000e-01) -- n: 46 -- alpha: 0.010092 -- mse: 0.133157 -- time: 0.23 sec\n"
     ]
    },
    {
     "name": "stderr",
     "output_type": "stream",
     "text": [
      ".....................................................................................................................................................................................................................................................................................................................................................................................................................................................................................................................................................................................................................................................................................................................................................................................................................................................[Parallel(n_jobs=-1)]: Done   6 out of  10 | elapsed:    0.1s remaining:    0.1s\n",
      "...................................................................................................................................................................................[Parallel(n_jobs=-1)]: Done  10 out of  10 | elapsed:    0.2s finished\n"
     ]
    },
    {
     "name": "stdout",
     "output_type": "stream",
     "text": [
      "ratio(5.000000e-01) -- n: 39 -- alpha: 0.002018 -- mse: 0.127660 -- time: 0.23 sec\n"
     ]
    },
    {
     "name": "stderr",
     "output_type": "stream",
     "text": [
      "..................................................................................................................................................................................................................................................................................................................................................................................................................................................................................................................................................................................................................................................................................................................................................................................................................................[Parallel(n_jobs=-1)]: Done   6 out of  10 | elapsed:    0.1s remaining:    0.1s\n",
      "......................................................................................................................................................................................................[Parallel(n_jobs=-1)]: Done  10 out of  10 | elapsed:    0.2s finished\n"
     ]
    },
    {
     "name": "stdout",
     "output_type": "stream",
     "text": [
      "ratio(9.900000e-01) -- n: 35 -- alpha: 0.001019 -- mse: 0.126499 -- time: 0.23 sec\n",
      "Best l1_ratio and alpha: 0.990000, 0.001019\n"
     ]
    },
    {
     "name": "stderr",
     "output_type": "stream",
     "text": [
      ".............................................................................................................................................................................................................................................................................................................................................................................................................................................................................................................................................................................................................................................................................................................................................................................................................................[Parallel(n_jobs=-1)]: Done   6 out of  10 | elapsed:    0.1s remaining:    0.1s\n",
      "...........................................................................................................................................................................................................[Parallel(n_jobs=-1)]: Done  10 out of  10 | elapsed:    0.2s finished\n"
     ]
    },
    {
     "name": "stdout",
     "output_type": "stream",
     "text": [
      "ratio(1.000000e-02) -- n: 61 -- alpha: 0.049460 -- mse: 0.105018 -- time: 0.22 sec\n"
     ]
    },
    {
     "name": "stderr",
     "output_type": "stream",
     "text": [
      "....................................................................................................................................................................................................................................................................................................................................................................................................................................................................................................................................................................................................................................................................................................................................................................................................................................[Parallel(n_jobs=-1)]: Done   6 out of  10 | elapsed:    0.1s remaining:    0.1s\n",
      "....................................................................................................................................................................................................[Parallel(n_jobs=-1)]: Done  10 out of  10 | elapsed:    0.2s finished\n"
     ]
    },
    {
     "name": "stdout",
     "output_type": "stream",
     "text": [
      "ratio(1.000000e-01) -- n: 47 -- alpha: 0.004946 -- mse: 0.092945 -- time: 0.23 sec\n"
     ]
    },
    {
     "name": "stderr",
     "output_type": "stream",
     "text": [
      "..................................................................................................................................................................................................................................................................................................................................................................................................................................................................................................................................................................................................................................................................................................................................................................................................................................................[Parallel(n_jobs=-1)]: Done   6 out of  10 | elapsed:    0.1s remaining:    0.1s\n",
      "......................................................................................................................................................................................[Parallel(n_jobs=-1)]: Done  10 out of  10 | elapsed:    0.2s finished\n"
     ]
    },
    {
     "name": "stdout",
     "output_type": "stream",
     "text": [
      "ratio(5.000000e-01) -- n: 47 -- alpha: 0.000989 -- mse: 0.089419 -- time: 0.24 sec\n"
     ]
    },
    {
     "name": "stderr",
     "output_type": "stream",
     "text": [
      "................................................................................................................................................................................................................................................................................................................................................................................................................................................................................................................................................................................................................................................................................................................................................................................................................................[Parallel(n_jobs=-1)]: Done   6 out of  10 | elapsed:    0.1s remaining:    0.1s\n",
      "........................................................................................................................................................................................................[Parallel(n_jobs=-1)]: Done  10 out of  10 | elapsed:    0.2s finished\n"
     ]
    },
    {
     "name": "stdout",
     "output_type": "stream",
     "text": [
      "ratio(9.900000e-01) -- n: 44 -- alpha: 0.000500 -- mse: 0.088958 -- time: 0.23 sec\n",
      "Best l1_ratio and alpha: 0.990000, 0.000500\n"
     ]
    },
    {
     "name": "stderr",
     "output_type": "stream",
     "text": [
      "....................................................................................................................................................................................................................................................................................................................................................................................................................................................................................................................................................................................................................................................................................................................................................................................................................................................[Parallel(n_jobs=-1)]: Done   6 out of  10 | elapsed:    0.1s remaining:    0.1s\n",
      "....................................................................................................................................................................................[Parallel(n_jobs=-1)]: Done  10 out of  10 | elapsed:    0.2s finished\n"
     ]
    },
    {
     "name": "stdout",
     "output_type": "stream",
     "text": [
      "ratio(1.000000e-02) -- n: 61 -- alpha: 0.045943 -- mse: 0.097751 -- time: 0.22 sec\n"
     ]
    },
    {
     "name": "stderr",
     "output_type": "stream",
     "text": [
      ".........................................................................................................................................................................................................................................................................................................................................................................................................................................................................................................................................................................................................................................................................................................................................................................................................................................[Parallel(n_jobs=-1)]: Done   6 out of  10 | elapsed:    0.1s remaining:    0.1s\n",
      "...............................................................................................................................................................................................[Parallel(n_jobs=-1)]: Done  10 out of  10 | elapsed:    0.2s finished\n"
     ]
    },
    {
     "name": "stdout",
     "output_type": "stream",
     "text": [
      "ratio(1.000000e-01) -- n: 50 -- alpha: 0.004594 -- mse: 0.086177 -- time: 0.23 sec\n"
     ]
    },
    {
     "name": "stderr",
     "output_type": "stream",
     "text": [
      ".......................................................................................................................................................................................................................................................................................................................................................................................................................................................................................................................................................................................................................................................................................................................................................................................................................................[Parallel(n_jobs=-1)]: Done   6 out of  10 | elapsed:    0.1s remaining:    0.1s\n",
      ".................................................................................................................................................................................................[Parallel(n_jobs=-1)]: Done  10 out of  10 | elapsed:    0.2s finished\n"
     ]
    },
    {
     "name": "stdout",
     "output_type": "stream",
     "text": [
      "ratio(5.000000e-01) -- n: 44 -- alpha: 0.000919 -- mse: 0.082876 -- time: 0.25 sec\n"
     ]
    },
    {
     "name": "stderr",
     "output_type": "stream",
     "text": [
      ".........................................................................................................................................................................................................................................................................................................................................................................................................................................................................................................................................................................................................................................................................................................................................................................................................................................[Parallel(n_jobs=-1)]: Done   6 out of  10 | elapsed:    0.1s remaining:    0.1s\n",
      "...............................................................................................................................................................................................[Parallel(n_jobs=-1)]: Done  10 out of  10 | elapsed:    0.2s finished\n"
     ]
    },
    {
     "name": "stdout",
     "output_type": "stream",
     "text": [
      "ratio(9.900000e-01) -- n: 42 -- alpha: 0.000464 -- mse: 0.082545 -- time: 0.23 sec\n",
      "Best l1_ratio and alpha: 0.990000, 0.000464\n"
     ]
    },
    {
     "name": "stderr",
     "output_type": "stream",
     "text": [
      ".................................................................................................................................................................................................................................................................................................................................................................................................................................................................................................................................................................................................................................................................................................................................................................................................................................................................[Parallel(n_jobs=-1)]: Done   6 out of  10 | elapsed:    0.1s remaining:    0.1s\n",
      ".......................................................................................................................................................................[Parallel(n_jobs=-1)]: Done  10 out of  10 | elapsed:    0.2s finished\n"
     ]
    },
    {
     "name": "stdout",
     "output_type": "stream",
     "text": [
      "ratio(1.000000e-02) -- n: 64 -- alpha: 0.045543 -- mse: 0.092745 -- time: 0.22 sec\n"
     ]
    },
    {
     "name": "stderr",
     "output_type": "stream",
     "text": [
      "...........................................................................................................................................................................................................................................................................................................................................................................................................................................................................................................................................................................................................................................................................................................................................................................................................................................[Parallel(n_jobs=-1)]: Done   6 out of  10 | elapsed:    0.1s remaining:    0.1s\n",
      ".............................................................................................................................................................................................[Parallel(n_jobs=-1)]: Done  10 out of  10 | elapsed:    0.2s finished\n"
     ]
    },
    {
     "name": "stdout",
     "output_type": "stream",
     "text": [
      "ratio(1.000000e-01) -- n: 48 -- alpha: 0.004554 -- mse: 0.081633 -- time: 0.23 sec\n"
     ]
    },
    {
     "name": "stderr",
     "output_type": "stream",
     "text": [
      ".....................................................................................................................................................................................................................................................................................................................................................................................................................................................................................................................................................................................................................................................................................................................................................................................................................................................[Parallel(n_jobs=-1)]: Done   6 out of  10 | elapsed:    0.1s remaining:    0.1s\n",
      "...................................................................................................................................................................................[Parallel(n_jobs=-1)]: Done  10 out of  10 | elapsed:    0.2s finished\n"
     ]
    },
    {
     "name": "stdout",
     "output_type": "stream",
     "text": [
      "ratio(5.000000e-01) -- n: 44 -- alpha: 0.000911 -- mse: 0.078404 -- time: 0.25 sec\n"
     ]
    },
    {
     "name": "stderr",
     "output_type": "stream",
     "text": [
      "......................................................................................................................................................................................................................................................................................................................................................................................................................................................................................................................................................................................................................................................................................................................................................................................................................[Parallel(n_jobs=-1)]: Done   6 out of  10 | elapsed:    0.1s remaining:    0.1s\n",
      "..................................................................................................................................................................................................................[Parallel(n_jobs=-1)]: Done  10 out of  10 | elapsed:    0.2s finished\n"
     ]
    },
    {
     "name": "stdout",
     "output_type": "stream",
     "text": [
      "ratio(9.900000e-01) -- n: 42 -- alpha: 0.000460 -- mse: 0.078033 -- time: 0.23 sec\n",
      "Best l1_ratio and alpha: 0.990000, 0.000460\n"
     ]
    },
    {
     "name": "stderr",
     "output_type": "stream",
     "text": [
      ".......................................................................................................................................................................................................................................................................................................................................................................................................................................................................................................................................................................................................................................................................................................................................................................................................................................[Parallel(n_jobs=-1)]: Done   6 out of  10 | elapsed:    0.1s remaining:    0.1s\n",
      ".................................................................................................................................................................................................[Parallel(n_jobs=-1)]: Done  10 out of  10 | elapsed:    0.2s finished\n"
     ]
    },
    {
     "name": "stdout",
     "output_type": "stream",
     "text": [
      "ratio(1.000000e-02) -- n: 61 -- alpha: 0.044523 -- mse: 0.088335 -- time: 0.22 sec\n"
     ]
    },
    {
     "name": "stderr",
     "output_type": "stream",
     "text": [
      "................................................................................................................................................................................................................................................................................................................................................................................................................................................................................................................................................................................................................................................................................................................................................................................................................................[Parallel(n_jobs=-1)]: Done   6 out of  10 | elapsed:    0.1s remaining:    0.1s\n",
      "........................................................................................................................................................................................................[Parallel(n_jobs=-1)]: Done  10 out of  10 | elapsed:    0.2s finished\n"
     ]
    },
    {
     "name": "stdout",
     "output_type": "stream",
     "text": [
      "ratio(1.000000e-01) -- n: 48 -- alpha: 0.004452 -- mse: 0.077861 -- time: 0.23 sec\n"
     ]
    },
    {
     "name": "stderr",
     "output_type": "stream",
     "text": [
      "..............................................................................................................................................................................................................................................................................................................................................................................................................................................................................................................................................................................................................................................................................................................................................................................................................................[Parallel(n_jobs=-1)]: Done   6 out of  10 | elapsed:    0.1s remaining:    0.1s\n",
      "..........................................................................................................................................................................................................[Parallel(n_jobs=-1)]: Done  10 out of  10 | elapsed:    0.2s finished\n"
     ]
    },
    {
     "name": "stdout",
     "output_type": "stream",
     "text": [
      "ratio(5.000000e-01) -- n: 47 -- alpha: 0.000890 -- mse: 0.074966 -- time: 0.25 sec\n"
     ]
    },
    {
     "name": "stderr",
     "output_type": "stream",
     "text": [
      "......................................................................................................................................................................................................................................................................................................................................................................................................................................................................................................................................................................................................................................................................................................................................................................................................................................[Parallel(n_jobs=-1)]: Done   6 out of  10 | elapsed:    0.1s remaining:    0.1s\n",
      "..................................................................................................................................................................................................[Parallel(n_jobs=-1)]: Done  10 out of  10 | elapsed:    0.2s finished\n"
     ]
    },
    {
     "name": "stdout",
     "output_type": "stream",
     "text": [
      "ratio(9.900000e-01) -- n: 43 -- alpha: 0.000450 -- mse: 0.074586 -- time: 0.23 sec\n",
      "Best l1_ratio and alpha: 0.990000, 0.000450\n"
     ]
    },
    {
     "name": "stderr",
     "output_type": "stream",
     "text": [
      ".............................................................................................................................................................................................................................................................................................................................................................................................................................................................................................................................................................................................................................................................................................................................................................................................................................[Parallel(n_jobs=-1)]: Done   6 out of  10 | elapsed:    0.1s remaining:    0.1s\n",
      "...........................................................................................................................................................................................................[Parallel(n_jobs=-1)]: Done  10 out of  10 | elapsed:    0.2s finished\n"
     ]
    },
    {
     "name": "stdout",
     "output_type": "stream",
     "text": [
      "ratio(1.000000e-02) -- n: 60 -- alpha: 0.044864 -- mse: 0.083620 -- time: 0.22 sec\n"
     ]
    },
    {
     "name": "stderr",
     "output_type": "stream",
     "text": [
      "........................................................................................................................................................................................................................................................................................................................................................................................................................................................................................................................................................................................................................................................................................................................................................................................................................................[Parallel(n_jobs=-1)]: Done   6 out of  10 | elapsed:    0.1s remaining:    0.1s\n",
      "................................................................................................................................................................................................[Parallel(n_jobs=-1)]: Done  10 out of  10 | elapsed:    0.2s finished\n"
     ]
    },
    {
     "name": "stdout",
     "output_type": "stream",
     "text": [
      "ratio(1.000000e-01) -- n: 50 -- alpha: 0.004486 -- mse: 0.074110 -- time: 0.22 sec\n"
     ]
    },
    {
     "name": "stderr",
     "output_type": "stream",
     "text": [
      ".........................................................................................................................................................................................................................................................................................................................................................................................................................................................................................................................................................................................................................................................................................................................................................................................................................................[Parallel(n_jobs=-1)]: Done   6 out of  10 | elapsed:    0.1s remaining:    0.1s\n",
      "...............................................................................................................................................................................................[Parallel(n_jobs=-1)]: Done  10 out of  10 | elapsed:    0.2s finished\n"
     ]
    },
    {
     "name": "stdout",
     "output_type": "stream",
     "text": [
      "ratio(5.000000e-01) -- n: 49 -- alpha: 0.000897 -- mse: 0.071330 -- time: 0.24 sec\n"
     ]
    },
    {
     "name": "stderr",
     "output_type": "stream",
     "text": [
      "................................................................................................................................................................................................................................................................................................................................................................................................................................................................................................................................................................................................................................................................................................................................................................................................................................[Parallel(n_jobs=-1)]: Done   6 out of  10 | elapsed:    0.1s remaining:    0.1s\n",
      "........................................................................................................................................................................................................[Parallel(n_jobs=-1)]: Done  10 out of  10 | elapsed:    0.2s finished\n"
     ]
    },
    {
     "name": "stdout",
     "output_type": "stream",
     "text": [
      "ratio(9.900000e-01) -- n: 46 -- alpha: 0.000453 -- mse: 0.070959 -- time: 0.23 sec\n",
      "Best l1_ratio and alpha: 0.990000, 0.000453\n"
     ]
    },
    {
     "name": "stderr",
     "output_type": "stream",
     "text": [
      ".......................................................................................................................................................................................................................................................................................................................................................................................................................................................................................................................................................................................................................................................................................................................................................................................................................[Parallel(n_jobs=-1)]: Done   6 out of  10 | elapsed:    0.1s remaining:    0.1s\n",
      ".................................................................................................................................................................................................................[Parallel(n_jobs=-1)]: Done  10 out of  10 | elapsed:    0.2s finished\n"
     ]
    },
    {
     "name": "stdout",
     "output_type": "stream",
     "text": [
      "ratio(1.000000e-02) -- n: 62 -- alpha: 0.044057 -- mse: 0.077396 -- time: 0.22 sec\n"
     ]
    },
    {
     "name": "stderr",
     "output_type": "stream",
     "text": [
      ".................................................................................................................................................................................................................................................................................................................................................................................................................................................................................................................................................................................................................................................................................................................................................................................................................................[Parallel(n_jobs=-1)]: Done   6 out of  10 | elapsed:    0.1s remaining:    0.1s\n",
      ".......................................................................................................................................................................................................[Parallel(n_jobs=-1)]: Done  10 out of  10 | elapsed:    0.2s finished\n"
     ]
    },
    {
     "name": "stdout",
     "output_type": "stream",
     "text": [
      "ratio(1.000000e-01) -- n: 52 -- alpha: 0.004406 -- mse: 0.068642 -- time: 0.22 sec\n"
     ]
    },
    {
     "name": "stderr",
     "output_type": "stream",
     "text": [
      ".....................................................................................................................................................................................................................................................................................................................................................................................................................................................................................................................................................................................................................................................................................................................................................................................................................................................[Parallel(n_jobs=-1)]: Done   6 out of  10 | elapsed:    0.1s remaining:    0.1s\n",
      "...................................................................................................................................................................................[Parallel(n_jobs=-1)]: Done  10 out of  10 | elapsed:    0.2s finished\n"
     ]
    },
    {
     "name": "stdout",
     "output_type": "stream",
     "text": [
      "ratio(5.000000e-01) -- n: 47 -- alpha: 0.000881 -- mse: 0.065957 -- time: 0.24 sec\n"
     ]
    },
    {
     "name": "stderr",
     "output_type": "stream",
     "text": [
      "....................................................................................................................................................................................................................................................................................................................................................................................................................................................................................................................................................................................................................................................................................................................................................................................................................................[Parallel(n_jobs=-1)]: Done   6 out of  10 | elapsed:    0.2s remaining:    0.1s\n",
      "....................................................................................................................................................................................................[Parallel(n_jobs=-1)]: Done  10 out of  10 | elapsed:    0.2s finished\n"
     ]
    },
    {
     "name": "stdout",
     "output_type": "stream",
     "text": [
      "ratio(9.900000e-01) -- n: 46 -- alpha: 0.000445 -- mse: 0.065605 -- time: 0.34 sec\n",
      "Best l1_ratio and alpha: 0.990000, 0.000445\n"
     ]
    },
    {
     "name": "stderr",
     "output_type": "stream",
     "text": [
      "........................................................................................................................................................................................................................................................................................................................................................................................................................................................................................................................................................................................................................................................................................................................................................................................................................................[Parallel(n_jobs=-1)]: Done   6 out of  10 | elapsed:    0.1s remaining:    0.1s\n",
      "................................................................................................................................................................................................[Parallel(n_jobs=-1)]: Done  10 out of  10 | elapsed:    0.2s finished\n"
     ]
    },
    {
     "name": "stdout",
     "output_type": "stream",
     "text": [
      "ratio(1.000000e-02) -- n: 60 -- alpha: 0.042661 -- mse: 0.072843 -- time: 0.22 sec\n"
     ]
    },
    {
     "name": "stderr",
     "output_type": "stream",
     "text": [
      ".............................................................................................................................................................................................................................................................................................................................................................................................................................................................................................................................................................................................................................................................................................................................................................................................................................[Parallel(n_jobs=-1)]: Done   6 out of  10 | elapsed:    0.2s remaining:    0.1s\n",
      "...........................................................................................................................................................................................................[Parallel(n_jobs=-1)]: Done  10 out of  10 | elapsed:    0.2s finished\n"
     ]
    },
    {
     "name": "stdout",
     "output_type": "stream",
     "text": [
      "ratio(1.000000e-01) -- n: 52 -- alpha: 0.004266 -- mse: 0.065007 -- time: 0.34 sec\n"
     ]
    },
    {
     "name": "stderr",
     "output_type": "stream",
     "text": [
      "..............................................................................................................................................................................................................................................................................................................................................................................................................................................................................................................................................................................................................................................................................................................................................................................................................................................[Parallel(n_jobs=-1)]: Done   6 out of  10 | elapsed:    0.1s remaining:    0.1s\n",
      "..........................................................................................................................................................................................[Parallel(n_jobs=-1)]: Done  10 out of  10 | elapsed:    0.2s finished\n"
     ]
    },
    {
     "name": "stdout",
     "output_type": "stream",
     "text": [
      "ratio(5.000000e-01) -- n: 49 -- alpha: 0.000853 -- mse: 0.062566 -- time: 0.24 sec\n"
     ]
    },
    {
     "name": "stderr",
     "output_type": "stream",
     "text": [
      "................................................................................................................................................................................................................................................................................................................................................................................................................................................................................................................................................................................................................................................................................................................................................................................................................................[Parallel(n_jobs=-1)]: Done   6 out of  10 | elapsed:    0.1s remaining:    0.1s\n",
      "........................................................................................................................................................................................................[Parallel(n_jobs=-1)]: Done  10 out of  10 | elapsed:    0.2s finished\n"
     ]
    },
    {
     "name": "stdout",
     "output_type": "stream",
     "text": [
      "ratio(9.900000e-01) -- n: 47 -- alpha: 0.000431 -- mse: 0.062235 -- time: 0.23 sec\n",
      "Best l1_ratio and alpha: 0.990000, 0.000431\n"
     ]
    },
    {
     "name": "stderr",
     "output_type": "stream",
     "text": [
      "................................................................................................................................................................................................................................................................................................................................................................................................................................................................................................................................................................................................................................................................................................................................................................................................................................[Parallel(n_jobs=-1)]: Done   6 out of  10 | elapsed:    0.1s remaining:    0.1s\n",
      "........................................................................................................................................................................................................[Parallel(n_jobs=-1)]: Done  10 out of  10 | elapsed:    0.2s finished\n"
     ]
    },
    {
     "name": "stdout",
     "output_type": "stream",
     "text": [
      "ratio(1.000000e-02) -- n: 62 -- alpha: 0.042327 -- mse: 0.068305 -- time: 0.22 sec\n"
     ]
    },
    {
     "name": "stderr",
     "output_type": "stream",
     "text": [
      ".....................................................................................................................................................................................................................................................................................................................................................................................................................................................................................................................................................................................................................................................................................................................................................................................................................................[Parallel(n_jobs=-1)]: Done   6 out of  10 | elapsed:    0.1s remaining:    0.1s\n",
      "...................................................................................................................................................................................................[Parallel(n_jobs=-1)]: Done  10 out of  10 | elapsed:    0.2s finished\n"
     ]
    },
    {
     "name": "stdout",
     "output_type": "stream",
     "text": [
      "ratio(1.000000e-01) -- n: 51 -- alpha: 0.004233 -- mse: 0.061152 -- time: 0.23 sec\n"
     ]
    },
    {
     "name": "stderr",
     "output_type": "stream",
     "text": [
      "....................................................................................................................................................................................................................................................................................................................................................................................................................................................................................................................................................................................................................................................................................................................................................................................................................................[Parallel(n_jobs=-1)]: Done   6 out of  10 | elapsed:    0.1s remaining:    0.1s\n",
      "....................................................................................................................................................................................................[Parallel(n_jobs=-1)]: Done  10 out of  10 | elapsed:    0.2s finished\n"
     ]
    },
    {
     "name": "stdout",
     "output_type": "stream",
     "text": [
      "ratio(5.000000e-01) -- n: 48 -- alpha: 0.000847 -- mse: 0.058846 -- time: 0.24 sec\n"
     ]
    },
    {
     "name": "stderr",
     "output_type": "stream",
     "text": [
      "....................................................................................................................................................................................................................................................................................................................................................................................................................................................................................................................................................................................................................................................................................................................................................................................................................................[Parallel(n_jobs=-1)]: Done   6 out of  10 | elapsed:    0.1s remaining:    0.1s\n",
      "....................................................................................................................................................................................................[Parallel(n_jobs=-1)]: Done  10 out of  10 | elapsed:    0.2s finished\n"
     ]
    },
    {
     "name": "stdout",
     "output_type": "stream",
     "text": [
      "ratio(9.900000e-01) -- n: 44 -- alpha: 0.000428 -- mse: 0.058534 -- time: 0.22 sec\n",
      "Best l1_ratio and alpha: 0.990000, 0.000428\n"
     ]
    },
    {
     "name": "stderr",
     "output_type": "stream",
     "text": [
      "...........................................................................................................................................................................................................................................................................................................................................................................................................................................................................................................................................................................................................................................................................................................................................................................................................................................[Parallel(n_jobs=-1)]: Done   6 out of  10 | elapsed:    0.1s remaining:    0.1s\n",
      ".............................................................................................................................................................................................[Parallel(n_jobs=-1)]: Done  10 out of  10 | elapsed:    0.2s finished\n"
     ]
    },
    {
     "name": "stdout",
     "output_type": "stream",
     "text": [
      "ratio(1.000000e-02) -- n: 65 -- alpha: 0.042435 -- mse: 0.065956 -- time: 0.21 sec\n"
     ]
    },
    {
     "name": "stderr",
     "output_type": "stream",
     "text": [
      "..............................................................................................................................................................................................................................................................................................................................................................................................................................................................................................................................................................................................................................................................................................................................................................................................................................[Parallel(n_jobs=-1)]: Done   6 out of  10 | elapsed:    0.1s remaining:    0.1s\n",
      "..........................................................................................................................................................................................................[Parallel(n_jobs=-1)]: Done  10 out of  10 | elapsed:    0.2s finished\n"
     ]
    },
    {
     "name": "stdout",
     "output_type": "stream",
     "text": [
      "ratio(1.000000e-01) -- n: 55 -- alpha: 0.004243 -- mse: 0.059070 -- time: 0.23 sec\n"
     ]
    },
    {
     "name": "stderr",
     "output_type": "stream",
     "text": [
      "...................................................................................................................................................................................................................................................................................................................................................................................................................................................................................................................................................................................................................................................................................................................................................................................................................................[Parallel(n_jobs=-1)]: Done   6 out of  10 | elapsed:    0.1s remaining:    0.1s\n",
      ".....................................................................................................................................................................................................[Parallel(n_jobs=-1)]: Done  10 out of  10 | elapsed:    0.2s finished\n"
     ]
    },
    {
     "name": "stdout",
     "output_type": "stream",
     "text": [
      "ratio(5.000000e-01) -- n: 51 -- alpha: 0.000849 -- mse: 0.056737 -- time: 0.24 sec\n"
     ]
    },
    {
     "name": "stderr",
     "output_type": "stream",
     "text": [
      ".........................................................................................................................................................................................................................................................................................................................................................................................................................................................................................................................................................................................................................................................................................................................................................................................................................................[Parallel(n_jobs=-1)]: Done   6 out of  10 | elapsed:    0.1s remaining:    0.1s\n",
      "...............................................................................................................................................................................................[Parallel(n_jobs=-1)]: Done  10 out of  10 | elapsed:    0.2s finished\n"
     ]
    },
    {
     "name": "stdout",
     "output_type": "stream",
     "text": [
      "ratio(9.900000e-01) -- n: 44 -- alpha: 0.000429 -- mse: 0.056426 -- time: 0.23 sec\n",
      "Best l1_ratio and alpha: 0.990000, 0.000429\n"
     ]
    },
    {
     "name": "stderr",
     "output_type": "stream",
     "text": [
      "............................................................................................................................................................................................................................................................................................................................................................................................................................................................................................................................................................................................................................................................................................................................................................................................................................................[Parallel(n_jobs=-1)]: Done   6 out of  10 | elapsed:    0.1s remaining:    0.1s\n",
      "............................................................................................................................................................................................[Parallel(n_jobs=-1)]: Done  10 out of  10 | elapsed:    0.2s finished\n"
     ]
    },
    {
     "name": "stdout",
     "output_type": "stream",
     "text": [
      "ratio(1.000000e-02) -- n: 65 -- alpha: 0.041853 -- mse: 0.063661 -- time: 0.22 sec\n"
     ]
    },
    {
     "name": "stderr",
     "output_type": "stream",
     "text": [
      ".................................................................................................................................................................................................................................................................................................................................................................................................................................................................................................................................................................................................................................................................................................................................................................................................................................................[Parallel(n_jobs=-1)]: Done   6 out of  10 | elapsed:    0.1s remaining:    0.1s\n",
      ".......................................................................................................................................................................................[Parallel(n_jobs=-1)]: Done  10 out of  10 | elapsed:    0.2s finished\n"
     ]
    },
    {
     "name": "stdout",
     "output_type": "stream",
     "text": [
      "ratio(1.000000e-01) -- n: 54 -- alpha: 0.004185 -- mse: 0.057278 -- time: 0.23 sec\n"
     ]
    },
    {
     "name": "stderr",
     "output_type": "stream",
     "text": [
      "........................................................................................................................................................................................................................................................................................................................................................................................................................................................................................................................................................................................................................................................................................................................................................................................................................................[Parallel(n_jobs=-1)]: Done   6 out of  10 | elapsed:    0.1s remaining:    0.1s\n",
      "................................................................................................................................................................................................[Parallel(n_jobs=-1)]: Done  10 out of  10 | elapsed:    0.2s finished\n"
     ]
    },
    {
     "name": "stdout",
     "output_type": "stream",
     "text": [
      "ratio(5.000000e-01) -- n: 50 -- alpha: 0.000837 -- mse: 0.055161 -- time: 0.24 sec\n"
     ]
    },
    {
     "name": "stderr",
     "output_type": "stream",
     "text": [
      ".................................................................................................................................................................................................................................................................................................................................................................................................................................................................................................................................................................................................................................................................................................................................................................................................................................[Parallel(n_jobs=-1)]: Done   6 out of  10 | elapsed:    0.1s remaining:    0.1s\n",
      ".......................................................................................................................................................................................................[Parallel(n_jobs=-1)]: Done  10 out of  10 | elapsed:    0.2s finished\n"
     ]
    },
    {
     "name": "stdout",
     "output_type": "stream",
     "text": [
      "ratio(9.900000e-01) -- n: 45 -- alpha: 0.000423 -- mse: 0.054811 -- time: 0.22 sec\n",
      "Best l1_ratio and alpha: 0.990000, 0.000423\n"
     ]
    },
    {
     "name": "stderr",
     "output_type": "stream",
     "text": [
      ".......................................................................................................................................................................................................................................................................................................................................................................................................................................................................................................................................................................................................................................................................................................................................................................................................................................[Parallel(n_jobs=-1)]: Done   6 out of  10 | elapsed:    0.1s remaining:    0.1s\n",
      ".................................................................................................................................................................................................[Parallel(n_jobs=-1)]: Done  10 out of  10 | elapsed:    0.2s finished\n"
     ]
    },
    {
     "name": "stdout",
     "output_type": "stream",
     "text": [
      "ratio(1.000000e-02) -- n: 66 -- alpha: 0.041705 -- mse: 0.060460 -- time: 0.22 sec\n"
     ]
    },
    {
     "name": "stderr",
     "output_type": "stream",
     "text": [
      ".....................................................................................................................................................................................................................................................................................................................................................................................................................................................................................................................................................................................................................................................................................................................................................................................................................................................[Parallel(n_jobs=-1)]: Done   6 out of  10 | elapsed:    0.1s remaining:    0.1s\n",
      "...................................................................................................................................................................................[Parallel(n_jobs=-1)]: Done  10 out of  10 | elapsed:    0.2s finished\n"
     ]
    },
    {
     "name": "stdout",
     "output_type": "stream",
     "text": [
      "ratio(1.000000e-01) -- n: 53 -- alpha: 0.004170 -- mse: 0.054566 -- time: 0.22 sec\n"
     ]
    },
    {
     "name": "stderr",
     "output_type": "stream",
     "text": [
      "..............................................................................................................................................................................................................................................................................................................................................................................................................................................................................................................................................................................................................................................................................................................................................................................................................................[Parallel(n_jobs=-1)]: Done   6 out of  10 | elapsed:    0.1s remaining:    0.1s\n",
      "..........................................................................................................................................................................................................[Parallel(n_jobs=-1)]: Done  10 out of  10 | elapsed:    0.2s finished\n"
     ]
    },
    {
     "name": "stdout",
     "output_type": "stream",
     "text": [
      "ratio(5.000000e-01) -- n: 48 -- alpha: 0.000834 -- mse: 0.052613 -- time: 0.24 sec\n"
     ]
    },
    {
     "name": "stderr",
     "output_type": "stream",
     "text": [
      "..................................................................................................................................................................................................................................................................................................................................................................................................................................................................................................................................................................................................................................................................................................................................................................................................................................[Parallel(n_jobs=-1)]: Done   6 out of  10 | elapsed:    0.1s remaining:    0.1s\n",
      "......................................................................................................................................................................................................[Parallel(n_jobs=-1)]: Done  10 out of  10 | elapsed:    0.2s finished\n"
     ]
    },
    {
     "name": "stdout",
     "output_type": "stream",
     "text": [
      "ratio(9.900000e-01) -- n: 45 -- alpha: 0.000421 -- mse: 0.052278 -- time: 0.22 sec\n",
      "Best l1_ratio and alpha: 0.990000, 0.000421\n"
     ]
    },
    {
     "name": "stderr",
     "output_type": "stream",
     "text": [
      "..........................................................................................................................................................................................................................................................................................................................................................................................................................................................................................................................................................................................................................................................................................................................................................................................................................................[Parallel(n_jobs=-1)]: Done   6 out of  10 | elapsed:    0.1s remaining:    0.1s\n",
      "..............................................................................................................................................................................................[Parallel(n_jobs=-1)]: Done  10 out of  10 | elapsed:    0.2s finished\n"
     ]
    },
    {
     "name": "stdout",
     "output_type": "stream",
     "text": [
      "ratio(1.000000e-02) -- n: 60 -- alpha: 0.042045 -- mse: 0.057701 -- time: 0.22 sec\n"
     ]
    },
    {
     "name": "stderr",
     "output_type": "stream",
     "text": [
      "...........................................................................................................................................................................................................................................................................................................................................................................................................................................................................................................................................................................................................................................................................................................................................................................................................................................[Parallel(n_jobs=-1)]: Done   6 out of  10 | elapsed:    0.1s remaining:    0.1s\n",
      ".............................................................................................................................................................................................[Parallel(n_jobs=-1)]: Done  10 out of  10 | elapsed:    0.2s finished\n"
     ]
    },
    {
     "name": "stdout",
     "output_type": "stream",
     "text": [
      "ratio(1.000000e-01) -- n: 50 -- alpha: 0.004204 -- mse: 0.052231 -- time: 0.23 sec\n"
     ]
    },
    {
     "name": "stderr",
     "output_type": "stream",
     "text": [
      ".................................................................................................................................................................................................................................................................................................................................................................................................................................................................................................................................................................................................................................................................................................................................................................................................................................................[Parallel(n_jobs=-1)]: Done   6 out of  10 | elapsed:    0.1s remaining:    0.1s\n",
      ".......................................................................................................................................................................................[Parallel(n_jobs=-1)]: Done  10 out of  10 | elapsed:    0.2s finished\n"
     ]
    },
    {
     "name": "stdout",
     "output_type": "stream",
     "text": [
      "ratio(5.000000e-01) -- n: 48 -- alpha: 0.000841 -- mse: 0.050423 -- time: 0.24 sec\n"
     ]
    },
    {
     "name": "stderr",
     "output_type": "stream",
     "text": [
      "......................................................................................................................................................................................................................................................................................................................................................................................................................................................................................................................................................................................................................................................................................................................................................................................................................................[Parallel(n_jobs=-1)]: Done   6 out of  10 | elapsed:    0.1s remaining:    0.1s\n",
      "..................................................................................................................................................................................................[Parallel(n_jobs=-1)]: Done  10 out of  10 | elapsed:    0.2s finished\n"
     ]
    },
    {
     "name": "stdout",
     "output_type": "stream",
     "text": [
      "ratio(9.900000e-01) -- n: 47 -- alpha: 0.000425 -- mse: 0.050105 -- time: 0.22 sec\n",
      "Best l1_ratio and alpha: 0.990000, 0.000425\n"
     ]
    },
    {
     "name": "stderr",
     "output_type": "stream",
     "text": [
      "...........................................................................................................................................................................................................................................................................................................................................................................................................................................................................................................................................................................................................................................................................................................................................................................................................................................[Parallel(n_jobs=-1)]: Done   6 out of  10 | elapsed:    0.1s remaining:    0.1s\n",
      ".............................................................................................................................................................................................[Parallel(n_jobs=-1)]: Done  10 out of  10 | elapsed:    0.2s finished\n"
     ]
    },
    {
     "name": "stdout",
     "output_type": "stream",
     "text": [
      "ratio(1.000000e-02) -- n: 61 -- alpha: 0.041726 -- mse: 0.056070 -- time: 0.22 sec\n"
     ]
    },
    {
     "name": "stderr",
     "output_type": "stream",
     "text": [
      ".........................................................................................................................................................................................................................................................................................................................................................................................................................................................................................................................................................................................................................................................................................................................................................................................................................................[Parallel(n_jobs=-1)]: Done   6 out of  10 | elapsed:    0.1s remaining:    0.1s\n",
      "...............................................................................................................................................................................................[Parallel(n_jobs=-1)]: Done  10 out of  10 | elapsed:    0.2s finished\n"
     ]
    },
    {
     "name": "stdout",
     "output_type": "stream",
     "text": [
      "ratio(1.000000e-01) -- n: 54 -- alpha: 0.004173 -- mse: 0.050904 -- time: 0.23 sec\n"
     ]
    },
    {
     "name": "stderr",
     "output_type": "stream",
     "text": [
      "..................................................................................................................................................................................................................................................................................................................................................................................................................................................................................................................................................................................................................................................................................................................................................................................................................................[Parallel(n_jobs=-1)]: Done   6 out of  10 | elapsed:    0.1s remaining:    0.1s\n",
      "......................................................................................................................................................................................................[Parallel(n_jobs=-1)]: Done  10 out of  10 | elapsed:    0.2s finished\n"
     ]
    },
    {
     "name": "stdout",
     "output_type": "stream",
     "text": [
      "ratio(5.000000e-01) -- n: 49 -- alpha: 0.000835 -- mse: 0.049209 -- time: 0.24 sec\n"
     ]
    },
    {
     "name": "stderr",
     "output_type": "stream",
     "text": [
      "...................................................................................................................................................................................................................................................................................................................................................................................................................................................................................................................................................................................................................................................................................................................................................................................................................................[Parallel(n_jobs=-1)]: Done   6 out of  10 | elapsed:    0.1s remaining:    0.1s\n",
      ".....................................................................................................................................................................................................[Parallel(n_jobs=-1)]: Done  10 out of  10 | elapsed:    0.2s finished\n"
     ]
    },
    {
     "name": "stdout",
     "output_type": "stream",
     "text": [
      "ratio(9.900000e-01) -- n: 46 -- alpha: 0.000421 -- mse: 0.048912 -- time: 0.22 sec\n",
      "Best l1_ratio and alpha: 0.990000, 0.000421\n"
     ]
    },
    {
     "name": "stderr",
     "output_type": "stream",
     "text": [
      "............................................................................................................................................................................................................................................................................................................................................................................................................................................................................................................................................................................................................................................................................................................................................................................................................................[Parallel(n_jobs=-1)]: Done   6 out of  10 | elapsed:    0.1s remaining:    0.1s\n",
      "............................................................................................................................................................................................................[Parallel(n_jobs=-1)]: Done  10 out of  10 | elapsed:    0.2s finished\n"
     ]
    },
    {
     "name": "stdout",
     "output_type": "stream",
     "text": [
      "ratio(1.000000e-02) -- n: 63 -- alpha: 0.040888 -- mse: 0.054413 -- time: 0.22 sec\n"
     ]
    },
    {
     "name": "stderr",
     "output_type": "stream",
     "text": [
      "........................................................................................................................................................................................................................................................................................................................................................................................................................................................................................................................................................................................................................................................................................................................................................................................................................................[Parallel(n_jobs=-1)]: Done   6 out of  10 | elapsed:    0.1s remaining:    0.1s\n",
      "................................................................................................................................................................................................[Parallel(n_jobs=-1)]: Done  10 out of  10 | elapsed:    0.2s finished\n"
     ]
    },
    {
     "name": "stdout",
     "output_type": "stream",
     "text": [
      "ratio(1.000000e-01) -- n: 54 -- alpha: 0.004089 -- mse: 0.049437 -- time: 0.23 sec\n"
     ]
    },
    {
     "name": "stderr",
     "output_type": "stream",
     "text": [
      ".....................................................................................................................................................................................................................................................................................................................................................................................................................................................................................................................................................................................................................................................................................................................................................................................................................................[Parallel(n_jobs=-1)]: Done   6 out of  10 | elapsed:    0.1s remaining:    0.1s\n",
      "...................................................................................................................................................................................................[Parallel(n_jobs=-1)]: Done  10 out of  10 | elapsed:    0.2s finished\n"
     ]
    },
    {
     "name": "stdout",
     "output_type": "stream",
     "text": [
      "ratio(5.000000e-01) -- n: 48 -- alpha: 0.000818 -- mse: 0.047821 -- time: 0.24 sec\n"
     ]
    },
    {
     "name": "stderr",
     "output_type": "stream",
     "text": [
      "......................................................................................................................................................................................................................................................................................................................................................................................................................................................................................................................................................................................................................................................................................................................................................................................................................................[Parallel(n_jobs=-1)]: Done   6 out of  10 | elapsed:    0.1s remaining:    0.1s\n",
      "..................................................................................................................................................................................................[Parallel(n_jobs=-1)]: Done  10 out of  10 | elapsed:    0.2s finished\n"
     ]
    },
    {
     "name": "stdout",
     "output_type": "stream",
     "text": [
      "ratio(9.900000e-01) -- n: 47 -- alpha: 0.000413 -- mse: 0.047557 -- time: 0.23 sec\n",
      "Best l1_ratio and alpha: 0.990000, 0.000413\n"
     ]
    },
    {
     "name": "stderr",
     "output_type": "stream",
     "text": [
      "........................................................................................................................................................................................................................................................................................................................................................................................................................................................................................................................................................................................................................................................................................................................................................................................................................................[Parallel(n_jobs=-1)]: Done   6 out of  10 | elapsed:    0.1s remaining:    0.1s\n",
      "................................................................................................................................................................................................[Parallel(n_jobs=-1)]: Done  10 out of  10 | elapsed:    0.2s finished\n"
     ]
    },
    {
     "name": "stdout",
     "output_type": "stream",
     "text": [
      "ratio(1.000000e-02) -- n: 63 -- alpha: 0.040392 -- mse: 0.053272 -- time: 0.22 sec\n"
     ]
    },
    {
     "name": "stderr",
     "output_type": "stream",
     "text": [
      "..............................................................................................................................................................................................................................................................................................................................................................................................................................................................................................................................................................................................................................................................................................................................................................................................................................[Parallel(n_jobs=-1)]: Done   6 out of  10 | elapsed:    0.1s remaining:    0.1s\n",
      "..........................................................................................................................................................................................................[Parallel(n_jobs=-1)]: Done  10 out of  10 | elapsed:    0.2s finished\n"
     ]
    },
    {
     "name": "stdout",
     "output_type": "stream",
     "text": [
      "ratio(1.000000e-01) -- n: 52 -- alpha: 0.004039 -- mse: 0.048439 -- time: 0.23 sec\n"
     ]
    },
    {
     "name": "stderr",
     "output_type": "stream",
     "text": [
      "..................................................................................................................................................................................................................................................................................................................................................................................................................................................................................................................................................................................................................................................................................................................................................................................................................................................................[Parallel(n_jobs=-1)]: Done   6 out of  10 | elapsed:    0.1s remaining:    0.1s\n",
      "......................................................................................................................................................................[Parallel(n_jobs=-1)]: Done  10 out of  10 | elapsed:    0.2s finished\n"
     ]
    },
    {
     "name": "stdout",
     "output_type": "stream",
     "text": [
      "ratio(5.000000e-01) -- n: 49 -- alpha: 0.000808 -- mse: 0.046894 -- time: 0.23 sec\n"
     ]
    },
    {
     "name": "stderr",
     "output_type": "stream",
     "text": [
      "...............................................................................................................................................................................................................................................................................................................................................................................................................................................................................................................................................................................................................................................................................................................................................................................................................................................[Parallel(n_jobs=-1)]: Done   6 out of  10 | elapsed:    0.1s remaining:    0.1s\n",
      ".........................................................................................................................................................................................[Parallel(n_jobs=-1)]: Done  10 out of  10 | elapsed:    0.2s finished\n"
     ]
    },
    {
     "name": "stdout",
     "output_type": "stream",
     "text": [
      "ratio(9.900000e-01) -- n: 46 -- alpha: 0.000408 -- mse: 0.046626 -- time: 0.22 sec\n",
      "Best l1_ratio and alpha: 0.990000, 0.000408\n"
     ]
    }
   ],
   "source": [
    "cut,err = cutoffs_ENCV()"
   ]
  },
  {
   "cell_type": "code",
   "execution_count": 151,
   "metadata": {},
   "outputs": [
    {
     "data": {
      "image/png": "[encoded data removed]",
      "text/plain": [
       "<Figure size 2400x1200 with 1 Axes>"
      ]
     },
     "metadata": {},
     "output_type": "display_data"
    }
   ],
   "source": [
    "fig,ax = plt.subplots(figsize=(8,4))\n",
    "\n",
    "ax.scatter([i/1000 for i in cut],err)\n",
    "ax.set_title(\"Error Factor vs Cutoff Salary\")\n",
    "ax.set_ylabel(\"Error Factor\")\n",
    "ax.set_xlabel(\"Minimum Salary (Thousands)\")\n",
    "ax.set_yticks([1,1.5,2]);\n",
    "ax.set_xticks([0,500,1000,1500,2000]);\n",
    "plt.tight_layout()\n",
    "#plt.savefig('cutofferr.png')"
   ]
  },
  {
   "cell_type": "code",
   "execution_count": 136,
   "metadata": {
    "collapsed": true
   },
   "outputs": [
    {
     "name": "stderr",
     "output_type": "stream",
     "text": [
      "....................................................................................................................................................................................................................................................................................................................................................................................................................................................................................................................................................................................................................................................................................................................................................................................................................................[Parallel(n_jobs=-1)]: Done   6 out of  10 | elapsed:    0.1s remaining:    0.1s\n",
      "....................................................................................................................................................................................................[Parallel(n_jobs=-1)]: Done  10 out of  10 | elapsed:    0.2s finished\n"
     ]
    },
    {
     "name": "stdout",
     "output_type": "stream",
     "text": [
      "ratio(9.000000e-01) -- n: 44 -- alpha: 0.000550 -- mse: 0.089002 -- time: 0.24 sec\n"
     ]
    },
    {
     "name": "stderr",
     "output_type": "stream",
     "text": [
      ".......................................................................................................................................................................................................................................................................................................................................................................................................................................................................................................................................................................................................................................................................................................................................................................................................................................[Parallel(n_jobs=-1)]: Done   6 out of  10 | elapsed:    0.1s remaining:    0.1s\n",
      ".................................................................................................................................................................................................[Parallel(n_jobs=-1)]: Done  10 out of  10 | elapsed:    0.2s finished\n"
     ]
    },
    {
     "name": "stdout",
     "output_type": "stream",
     "text": [
      "ratio(9.200000e-01) -- n: 44 -- alpha: 0.000538 -- mse: 0.088990 -- time: 0.24 sec\n"
     ]
    },
    {
     "name": "stderr",
     "output_type": "stream",
     "text": [
      "...............................................................................................................................................................................................................................................................................................................................................................................................................................................................................................................................................................................................................................................................................................................................................................................................................................................[Parallel(n_jobs=-1)]: Done   6 out of  10 | elapsed:    0.1s remaining:    0.1s\n",
      ".........................................................................................................................................................................................[Parallel(n_jobs=-1)]: Done  10 out of  10 | elapsed:    0.2s finished\n"
     ]
    },
    {
     "name": "stdout",
     "output_type": "stream",
     "text": [
      "ratio(9.500000e-01) -- n: 44 -- alpha: 0.000521 -- mse: 0.088975 -- time: 0.23 sec\n"
     ]
    },
    {
     "name": "stderr",
     "output_type": "stream",
     "text": [
      ".....................................................................................................................................................................................................................................................................................................................................................................................................................................................................................................................................................................................................................................................................................................................................................................................................................................[Parallel(n_jobs=-1)]: Done   6 out of  10 | elapsed:    0.2s remaining:    0.1s\n",
      "...................................................................................................................................................................................................[Parallel(n_jobs=-1)]: Done  10 out of  10 | elapsed:    0.2s finished\n"
     ]
    },
    {
     "name": "stdout",
     "output_type": "stream",
     "text": [
      "ratio(9.700000e-01) -- n: 44 -- alpha: 0.000510 -- mse: 0.088966 -- time: 0.34 sec\n"
     ]
    },
    {
     "name": "stderr",
     "output_type": "stream",
     "text": [
      "......................................................................................................................................................................................................................................................................................................................................................................................................................................................................................................................................................................................................................................................................................................................................................................................................................................[Parallel(n_jobs=-1)]: Done   6 out of  10 | elapsed:    0.2s remaining:    0.1s\n",
      "..................................................................................................................................................................................................[Parallel(n_jobs=-1)]: Done  10 out of  10 | elapsed:    0.2s finished\n"
     ]
    },
    {
     "name": "stdout",
     "output_type": "stream",
     "text": [
      "ratio(9.900000e-01) -- n: 44 -- alpha: 0.000500 -- mse: 0.088958 -- time: 0.25 sec\n",
      "Best l1_ratio and alpha: 0.990000, 0.000500\n"
     ]
    }
   ],
   "source": [
    "train_X, train_y, test_X, test_y = load_and_split_data(600000)\n",
    "results = train_EN_model(train_X,train_y,test_X)\n",
    "error = MSE(test_y,results['y'])"
   ]
  },
  {
   "cell_type": "code",
   "execution_count": 116,
   "metadata": {},
   "outputs": [],
   "source": [
    "a = test_y.apply(lambda x: 10**x)\n",
    "b = pd.DataFrame(results['y']).apply(lambda x: 10**x)"
   ]
  },
  {
   "cell_type": "code",
   "execution_count": 118,
   "metadata": {
    "scrolled": true
   },
   "outputs": [
    {
     "data": {
      "text/plain": [
       "8488530.503532259"
      ]
     },
     "execution_count": 118,
     "metadata": {},
     "output_type": "execute_result"
    }
   ],
   "source": [
    "MSE(a,b)**.5"
   ]
  },
  {
   "cell_type": "code",
   "execution_count": 120,
   "metadata": {},
   "outputs": [
    {
     "data": {
      "text/plain": [
       "5581972.151201913"
      ]
     },
     "execution_count": 120,
     "metadata": {},
     "output_type": "execute_result"
    }
   ],
   "source": [
    "10**np.mean(test_y)"
   ]
  },
  {
   "cell_type": "code",
   "execution_count": 123,
   "metadata": {},
   "outputs": [
    {
     "data": {
      "text/plain": [
       "1.5146720269766363"
      ]
     },
     "execution_count": 123,
     "metadata": {},
     "output_type": "execute_result"
    }
   ],
   "source": [
    "10**(MSE(test_y,results['y'])**.5)"
   ]
  },
  {
   "cell_type": "code",
   "execution_count": 125,
   "metadata": {},
   "outputs": [
    {
     "data": {
      "text/plain": [
       "8454857.072788136"
      ]
     },
     "execution_count": 125,
     "metadata": {},
     "output_type": "execute_result"
    }
   ],
   "source": [
    "(10**np.mean(test_y))*(10**(MSE(test_y,results['y'])**.5))"
   ]
  },
  {
   "cell_type": "code",
   "execution_count": 142,
   "metadata": {},
   "outputs": [
    {
     "data": {
      "text/plain": [
       "array([ 1.35684538e+00, -0.00000000e+00,  0.00000000e+00,  5.14655213e-02,\n",
       "       -0.00000000e+00, -4.34495743e-02, -0.00000000e+00, -1.04023748e-01,\n",
       "        8.94476060e-02, -0.00000000e+00, -0.00000000e+00, -0.00000000e+00,\n",
       "       -0.00000000e+00, -0.00000000e+00, -0.00000000e+00, -0.00000000e+00,\n",
       "        2.17308499e-01, -9.08638565e-03, -9.58814257e-02,  1.18751163e-03,\n",
       "       -3.20421875e-03, -4.33620299e-02,  1.31848124e-02,  0.00000000e+00,\n",
       "        7.62317049e-02,  2.36664347e-02, -0.00000000e+00, -6.90560853e-02,\n",
       "       -5.33377037e-02, -0.00000000e+00,  5.10164762e-02,  0.00000000e+00,\n",
       "       -1.20531540e-01,  5.28222170e-02,  8.45742837e-02, -4.21871998e-02,\n",
       "       -6.84498133e-02, -2.91755189e-02,  9.55316057e-02,  1.44062467e-01,\n",
       "       -7.34204403e-02,  3.80612854e-02, -0.00000000e+00, -1.24926437e-01,\n",
       "        0.00000000e+00,  3.02143160e-03,  5.54480690e-02, -1.04231413e-01,\n",
       "       -0.00000000e+00, -8.78436291e-02, -1.34985362e-02,  0.00000000e+00,\n",
       "        0.00000000e+00, -0.00000000e+00, -9.04283494e-02, -5.86339796e-02,\n",
       "        1.38766042e-01,  9.36587706e-02,  0.00000000e+00, -0.00000000e+00,\n",
       "        2.06046187e-01, -0.00000000e+00,  4.29826855e-01,  7.93694939e-03,\n",
       "       -3.07382118e-01, -0.00000000e+00,  1.32798073e-01,  4.06721650e-02,\n",
       "       -1.09621067e+00])"
      ]
     },
     "execution_count": 142,
     "metadata": {},
     "output_type": "execute_result"
    }
   ],
   "source": [
    "results['coef']"
   ]
  },
  {
   "cell_type": "code",
   "execution_count": 143,
   "metadata": {},
   "outputs": [
    {
     "data": {
      "text/plain": [
       "Index(['pa', 'rbat', 'rbaser', 'rdp', 'rfield', 'rpos', 'raa', 'waa', 'rrep',\n",
       "       'rar', 'war', 'waawl%', '162wl%', 'owar', 'dwar', 'orar', 'year',\n",
       "       'acquired_dr', 'acquired_fa', 'bat_hand_lhb', 'bat_hand_swh', 'tm_ARI',\n",
       "       'tm_ATL', 'tm_BAL', 'tm_BOS', 'tm_CHC', 'tm_CHW', 'tm_CIN', 'tm_CLE',\n",
       "       'tm_COL', 'tm_DET', 'tm_HOU', 'tm_KCR', 'tm_LAA', 'tm_LAD', 'tm_MIA',\n",
       "       'tm_MIL', 'tm_MIN', 'tm_NYM', 'tm_NYY', 'tm_OAK', 'tm_PHI', 'tm_PIT',\n",
       "       'tm_SDP', 'tm_SEA', 'tm_SFG', 'tm_STL', 'tm_TBR', 'tm_TEX', 'tm_TOR',\n",
       "       'tm_WSN', 'ab', 'r', 'h', '2b', '3b', 'hr', 'rbi', 'sb', 'cs', 'bb',\n",
       "       'so', 'ibb', 'hbp', 'sh', 'sf', 'gidp', 'years_in_mlb', 'g'],\n",
       "      dtype='object')"
      ]
     },
     "execution_count": 143,
     "metadata": {},
     "output_type": "execute_result"
    }
   ],
   "source": [
    "train_X.columns"
   ]
  },
  {
   "cell_type": "code",
   "execution_count": 145,
   "metadata": {
    "collapsed": true
   },
   "outputs": [
    {
     "data": {
      "text/html": [
       "<div>\n",
       "<style scoped>\n",
       "    .dataframe tbody tr th:only-of-type {\n",
       "        vertical-align: middle;\n",
       "    }\n",
       "\n",
       "    .dataframe tbody tr th {\n",
       "        vertical-align: top;\n",
       "    }\n",
       "\n",
       "    .dataframe thead th {\n",
       "        text-align: right;\n",
       "    }\n",
       "</style>\n",
       "<table border=\"1\" class=\"dataframe\">\n",
       "  <thead>\n",
       "    <tr style=\"text-align: right;\">\n",
       "      <th></th>\n",
       "      <th>index</th>\n",
       "      <th>0</th>\n",
       "    </tr>\n",
       "  </thead>\n",
       "  <tbody>\n",
       "    <tr>\n",
       "      <th>0</th>\n",
       "      <td>1.356845</td>\n",
       "      <td>pa</td>\n",
       "    </tr>\n",
       "    <tr>\n",
       "      <th>1</th>\n",
       "      <td>-0.000000</td>\n",
       "      <td>rbat</td>\n",
       "    </tr>\n",
       "    <tr>\n",
       "      <th>2</th>\n",
       "      <td>0.000000</td>\n",
       "      <td>rbaser</td>\n",
       "    </tr>\n",
       "    <tr>\n",
       "      <th>3</th>\n",
       "      <td>0.051466</td>\n",
       "      <td>rdp</td>\n",
       "    </tr>\n",
       "    <tr>\n",
       "      <th>4</th>\n",
       "      <td>-0.000000</td>\n",
       "      <td>rfield</td>\n",
       "    </tr>\n",
       "    <tr>\n",
       "      <th>5</th>\n",
       "      <td>-0.043450</td>\n",
       "      <td>rpos</td>\n",
       "    </tr>\n",
       "    <tr>\n",
       "      <th>6</th>\n",
       "      <td>-0.000000</td>\n",
       "      <td>raa</td>\n",
       "    </tr>\n",
       "    <tr>\n",
       "      <th>7</th>\n",
       "      <td>-0.104024</td>\n",
       "      <td>waa</td>\n",
       "    </tr>\n",
       "    <tr>\n",
       "      <th>8</th>\n",
       "      <td>0.089448</td>\n",
       "      <td>rrep</td>\n",
       "    </tr>\n",
       "    <tr>\n",
       "      <th>9</th>\n",
       "      <td>-0.000000</td>\n",
       "      <td>rar</td>\n",
       "    </tr>\n",
       "    <tr>\n",
       "      <th>10</th>\n",
       "      <td>-0.000000</td>\n",
       "      <td>war</td>\n",
       "    </tr>\n",
       "    <tr>\n",
       "      <th>11</th>\n",
       "      <td>-0.000000</td>\n",
       "      <td>waawl%</td>\n",
       "    </tr>\n",
       "    <tr>\n",
       "      <th>12</th>\n",
       "      <td>-0.000000</td>\n",
       "      <td>162wl%</td>\n",
       "    </tr>\n",
       "    <tr>\n",
       "      <th>13</th>\n",
       "      <td>-0.000000</td>\n",
       "      <td>owar</td>\n",
       "    </tr>\n",
       "    <tr>\n",
       "      <th>14</th>\n",
       "      <td>-0.000000</td>\n",
       "      <td>dwar</td>\n",
       "    </tr>\n",
       "    <tr>\n",
       "      <th>15</th>\n",
       "      <td>-0.000000</td>\n",
       "      <td>orar</td>\n",
       "    </tr>\n",
       "    <tr>\n",
       "      <th>16</th>\n",
       "      <td>0.217308</td>\n",
       "      <td>year</td>\n",
       "    </tr>\n",
       "    <tr>\n",
       "      <th>17</th>\n",
       "      <td>-0.009086</td>\n",
       "      <td>acquired_dr</td>\n",
       "    </tr>\n",
       "    <tr>\n",
       "      <th>18</th>\n",
       "      <td>-0.095881</td>\n",
       "      <td>acquired_fa</td>\n",
       "    </tr>\n",
       "    <tr>\n",
       "      <th>19</th>\n",
       "      <td>0.001188</td>\n",
       "      <td>bat_hand_lhb</td>\n",
       "    </tr>\n",
       "    <tr>\n",
       "      <th>20</th>\n",
       "      <td>-0.003204</td>\n",
       "      <td>bat_hand_swh</td>\n",
       "    </tr>\n",
       "    <tr>\n",
       "      <th>21</th>\n",
       "      <td>-0.043362</td>\n",
       "      <td>tm_ARI</td>\n",
       "    </tr>\n",
       "    <tr>\n",
       "      <th>22</th>\n",
       "      <td>0.013185</td>\n",
       "      <td>tm_ATL</td>\n",
       "    </tr>\n",
       "    <tr>\n",
       "      <th>23</th>\n",
       "      <td>0.000000</td>\n",
       "      <td>tm_BAL</td>\n",
       "    </tr>\n",
       "    <tr>\n",
       "      <th>24</th>\n",
       "      <td>0.076232</td>\n",
       "      <td>tm_BOS</td>\n",
       "    </tr>\n",
       "    <tr>\n",
       "      <th>25</th>\n",
       "      <td>0.023666</td>\n",
       "      <td>tm_CHC</td>\n",
       "    </tr>\n",
       "    <tr>\n",
       "      <th>26</th>\n",
       "      <td>-0.000000</td>\n",
       "      <td>tm_CHW</td>\n",
       "    </tr>\n",
       "    <tr>\n",
       "      <th>27</th>\n",
       "      <td>-0.069056</td>\n",
       "      <td>tm_CIN</td>\n",
       "    </tr>\n",
       "    <tr>\n",
       "      <th>28</th>\n",
       "      <td>-0.053338</td>\n",
       "      <td>tm_CLE</td>\n",
       "    </tr>\n",
       "    <tr>\n",
       "      <th>29</th>\n",
       "      <td>-0.000000</td>\n",
       "      <td>tm_COL</td>\n",
       "    </tr>\n",
       "    <tr>\n",
       "      <th>...</th>\n",
       "      <td>...</td>\n",
       "      <td>...</td>\n",
       "    </tr>\n",
       "    <tr>\n",
       "      <th>39</th>\n",
       "      <td>0.144062</td>\n",
       "      <td>tm_NYY</td>\n",
       "    </tr>\n",
       "    <tr>\n",
       "      <th>40</th>\n",
       "      <td>-0.073420</td>\n",
       "      <td>tm_OAK</td>\n",
       "    </tr>\n",
       "    <tr>\n",
       "      <th>41</th>\n",
       "      <td>0.038061</td>\n",
       "      <td>tm_PHI</td>\n",
       "    </tr>\n",
       "    <tr>\n",
       "      <th>42</th>\n",
       "      <td>-0.000000</td>\n",
       "      <td>tm_PIT</td>\n",
       "    </tr>\n",
       "    <tr>\n",
       "      <th>43</th>\n",
       "      <td>-0.124926</td>\n",
       "      <td>tm_SDP</td>\n",
       "    </tr>\n",
       "    <tr>\n",
       "      <th>44</th>\n",
       "      <td>0.000000</td>\n",
       "      <td>tm_SEA</td>\n",
       "    </tr>\n",
       "    <tr>\n",
       "      <th>45</th>\n",
       "      <td>0.003021</td>\n",
       "      <td>tm_SFG</td>\n",
       "    </tr>\n",
       "    <tr>\n",
       "      <th>46</th>\n",
       "      <td>0.055448</td>\n",
       "      <td>tm_STL</td>\n",
       "    </tr>\n",
       "    <tr>\n",
       "      <th>47</th>\n",
       "      <td>-0.104231</td>\n",
       "      <td>tm_TBR</td>\n",
       "    </tr>\n",
       "    <tr>\n",
       "      <th>48</th>\n",
       "      <td>-0.000000</td>\n",
       "      <td>tm_TEX</td>\n",
       "    </tr>\n",
       "    <tr>\n",
       "      <th>49</th>\n",
       "      <td>-0.087844</td>\n",
       "      <td>tm_TOR</td>\n",
       "    </tr>\n",
       "    <tr>\n",
       "      <th>50</th>\n",
       "      <td>-0.013499</td>\n",
       "      <td>tm_WSN</td>\n",
       "    </tr>\n",
       "    <tr>\n",
       "      <th>51</th>\n",
       "      <td>0.000000</td>\n",
       "      <td>ab</td>\n",
       "    </tr>\n",
       "    <tr>\n",
       "      <th>52</th>\n",
       "      <td>0.000000</td>\n",
       "      <td>r</td>\n",
       "    </tr>\n",
       "    <tr>\n",
       "      <th>53</th>\n",
       "      <td>-0.000000</td>\n",
       "      <td>h</td>\n",
       "    </tr>\n",
       "    <tr>\n",
       "      <th>54</th>\n",
       "      <td>-0.090428</td>\n",
       "      <td>2b</td>\n",
       "    </tr>\n",
       "    <tr>\n",
       "      <th>55</th>\n",
       "      <td>-0.058634</td>\n",
       "      <td>3b</td>\n",
       "    </tr>\n",
       "    <tr>\n",
       "      <th>56</th>\n",
       "      <td>0.138766</td>\n",
       "      <td>hr</td>\n",
       "    </tr>\n",
       "    <tr>\n",
       "      <th>57</th>\n",
       "      <td>0.093659</td>\n",
       "      <td>rbi</td>\n",
       "    </tr>\n",
       "    <tr>\n",
       "      <th>58</th>\n",
       "      <td>0.000000</td>\n",
       "      <td>sb</td>\n",
       "    </tr>\n",
       "    <tr>\n",
       "      <th>59</th>\n",
       "      <td>-0.000000</td>\n",
       "      <td>cs</td>\n",
       "    </tr>\n",
       "    <tr>\n",
       "      <th>60</th>\n",
       "      <td>0.206046</td>\n",
       "      <td>bb</td>\n",
       "    </tr>\n",
       "    <tr>\n",
       "      <th>61</th>\n",
       "      <td>-0.000000</td>\n",
       "      <td>so</td>\n",
       "    </tr>\n",
       "    <tr>\n",
       "      <th>62</th>\n",
       "      <td>0.429827</td>\n",
       "      <td>ibb</td>\n",
       "    </tr>\n",
       "    <tr>\n",
       "      <th>63</th>\n",
       "      <td>0.007937</td>\n",
       "      <td>hbp</td>\n",
       "    </tr>\n",
       "    <tr>\n",
       "      <th>64</th>\n",
       "      <td>-0.307382</td>\n",
       "      <td>sh</td>\n",
       "    </tr>\n",
       "    <tr>\n",
       "      <th>65</th>\n",
       "      <td>-0.000000</td>\n",
       "      <td>sf</td>\n",
       "    </tr>\n",
       "    <tr>\n",
       "      <th>66</th>\n",
       "      <td>0.132798</td>\n",
       "      <td>gidp</td>\n",
       "    </tr>\n",
       "    <tr>\n",
       "      <th>67</th>\n",
       "      <td>0.040672</td>\n",
       "      <td>years_in_mlb</td>\n",
       "    </tr>\n",
       "    <tr>\n",
       "      <th>68</th>\n",
       "      <td>-1.096211</td>\n",
       "      <td>g</td>\n",
       "    </tr>\n",
       "  </tbody>\n",
       "</table>\n",
       "<p>69 rows × 2 columns</p>\n",
       "</div>"
      ],
      "text/plain": [
       "       index             0\n",
       "0   1.356845            pa\n",
       "1  -0.000000          rbat\n",
       "2   0.000000        rbaser\n",
       "3   0.051466           rdp\n",
       "4  -0.000000        rfield\n",
       "5  -0.043450          rpos\n",
       "6  -0.000000           raa\n",
       "7  -0.104024           waa\n",
       "8   0.089448          rrep\n",
       "9  -0.000000           rar\n",
       "10 -0.000000           war\n",
       "11 -0.000000        waawl%\n",
       "12 -0.000000        162wl%\n",
       "13 -0.000000          owar\n",
       "14 -0.000000          dwar\n",
       "15 -0.000000          orar\n",
       "16  0.217308          year\n",
       "17 -0.009086   acquired_dr\n",
       "18 -0.095881   acquired_fa\n",
       "19  0.001188  bat_hand_lhb\n",
       "20 -0.003204  bat_hand_swh\n",
       "21 -0.043362        tm_ARI\n",
       "22  0.013185        tm_ATL\n",
       "23  0.000000        tm_BAL\n",
       "24  0.076232        tm_BOS\n",
       "25  0.023666        tm_CHC\n",
       "26 -0.000000        tm_CHW\n",
       "27 -0.069056        tm_CIN\n",
       "28 -0.053338        tm_CLE\n",
       "29 -0.000000        tm_COL\n",
       "..       ...           ...\n",
       "39  0.144062        tm_NYY\n",
       "40 -0.073420        tm_OAK\n",
       "41  0.038061        tm_PHI\n",
       "42 -0.000000        tm_PIT\n",
       "43 -0.124926        tm_SDP\n",
       "44  0.000000        tm_SEA\n",
       "45  0.003021        tm_SFG\n",
       "46  0.055448        tm_STL\n",
       "47 -0.104231        tm_TBR\n",
       "48 -0.000000        tm_TEX\n",
       "49 -0.087844        tm_TOR\n",
       "50 -0.013499        tm_WSN\n",
       "51  0.000000            ab\n",
       "52  0.000000             r\n",
       "53 -0.000000             h\n",
       "54 -0.090428            2b\n",
       "55 -0.058634            3b\n",
       "56  0.138766            hr\n",
       "57  0.093659           rbi\n",
       "58  0.000000            sb\n",
       "59 -0.000000            cs\n",
       "60  0.206046            bb\n",
       "61 -0.000000            so\n",
       "62  0.429827           ibb\n",
       "63  0.007937           hbp\n",
       "64 -0.307382            sh\n",
       "65 -0.000000            sf\n",
       "66  0.132798          gidp\n",
       "67  0.040672  years_in_mlb\n",
       "68 -1.096211             g\n",
       "\n",
       "[69 rows x 2 columns]"
      ]
     },
     "execution_count": 145,
     "metadata": {},
     "output_type": "execute_result"
    }
   ],
   "source": [
    "pd.DataFrame(train_X.columns,results['coef']).reset_index()"
   ]
  },
  {
   "cell_type": "code",
   "execution_count": 139,
   "metadata": {},
   "outputs": [
    {
     "data": {
      "text/plain": [
       "2.1285048645864593"
      ]
     },
     "execution_count": 139,
     "metadata": {},
     "output_type": "execute_result"
    }
   ],
   "source": [
    "10**(error**.5)"
   ]
  },
  {
   "cell_type": "code",
   "execution_count": 173,
   "metadata": {},
   "outputs": [
    {
     "name": "stdout",
     "output_type": "stream",
     "text": [
      "0.5784257776394642\n",
      "3.7881378768918075\n"
     ]
    }
   ],
   "source": [
    "from sklearn.feature_selection import RFE\n",
    "train_X, train_y, test_X, test_y = load_and_split_data(i)\n",
    "est = LinearRegression()\n",
    "\n",
    "sel = RFE(est)\n",
    "sel = sel.fit(train_X,train_y)\n",
    "\n",
    "preds = sel.predict(test_X)\n",
    "\n",
    "error = MSE(test_y,preds)**.5\n",
    "print(error)\n",
    "print(10**error)"
   ]
  },
  {
   "cell_type": "code",
   "execution_count": 161,
   "metadata": {},
   "outputs": [
    {
     "data": {
      "text/plain": [
       "13661955.80893889"
      ]
     },
     "execution_count": 161,
     "metadata": {},
     "output_type": "execute_result"
    }
   ],
   "source": [
    "(10**np.mean(test_y))*(10**(MSE(test_y,preds)**.5))"
   ]
  },
  {
   "cell_type": "code",
   "execution_count": 162,
   "metadata": {},
   "outputs": [
    {
     "data": {
      "text/plain": [
       "Index(['pa', 'rbat', 'rbaser', 'rdp', 'rfield', 'rpos', 'raa', 'waa', 'rrep',\n",
       "       'rar', 'war', 'waawl%', '162wl%', 'owar', 'dwar', 'orar', 'year',\n",
       "       'acquired_dr', 'acquired_fa', 'bat_hand_lhb', 'bat_hand_swh', 'tm_ARI',\n",
       "       'tm_ATL', 'tm_BAL', 'tm_BOS', 'tm_CHC', 'tm_CHW', 'tm_CIN', 'tm_CLE',\n",
       "       'tm_COL', 'tm_DET', 'tm_HOU', 'tm_KCR', 'tm_LAA', 'tm_LAD', 'tm_MIA',\n",
       "       'tm_MIL', 'tm_MIN', 'tm_NYM', 'tm_NYY', 'tm_OAK', 'tm_PHI', 'tm_PIT',\n",
       "       'tm_SDP', 'tm_SEA', 'tm_SFG', 'tm_STL', 'tm_TBR', 'tm_TEX', 'tm_TOR',\n",
       "       'tm_WSN', 'ab', 'r', 'h', '2b', '3b', 'hr', 'rbi', 'sb', 'cs', 'bb',\n",
       "       'so', 'ibb', 'hbp', 'sh', 'sf', 'gidp', 'years_in_mlb', 'g'],\n",
       "      dtype='object')"
      ]
     },
     "execution_count": 162,
     "metadata": {},
     "output_type": "execute_result"
    }
   ],
   "source": [
    "train_X.columns"
   ]
  },
  {
   "cell_type": "code",
   "execution_count": 170,
   "metadata": {},
   "outputs": [
    {
     "name": "stdout",
     "output_type": "stream",
     "text": [
      "coefficients [ 7.37655574 -2.29619992 -0.20992986  2.1729475   0.47517645 -0.09330379\n",
      " -2.20516883 -0.29700059 -1.44883673  4.75188945  0.4181296  -0.14906247\n",
      " -3.77028316 -3.84697889  4.62171711  0.1361316  -0.16640724 -0.13602596\n",
      "  0.21752345 -0.1576653  -0.14453414 -0.1410821  -5.65882207 -0.29591504\n",
      " -0.22879338 -0.23711018  0.19727794 -2.22169308  1.00794965 -0.40731282\n",
      " -0.60369004 -0.14475715  0.26826555 -1.27787616]\n"
     ]
    }
   ],
   "source": [
    "print ('coefficients',sel.estimator_.coef_)"
   ]
  },
  {
   "cell_type": "code",
   "execution_count": 171,
   "metadata": {},
   "outputs": [
    {
     "name": "stdout",
     "output_type": "stream",
     "text": [
      "[ True  True  True False  True  True  True  True  True  True  True  True\n",
      "  True  True  True  True  True False False False False False False False\n",
      " False False False False False False False False  True False False  True\n",
      " False False False  True  True False False  True False False False  True\n",
      " False False False  True False  True  True  True False  True False False\n",
      "  True False  True  True  True  True  True False  True]\n"
     ]
    }
   ],
   "source": [
    "print(sel.support_)"
   ]
  },
  {
   "cell_type": "code",
   "execution_count": 174,
   "metadata": {},
   "outputs": [
    {
     "data": {
      "text/plain": [
       "Index(['pa', 'rbat', 'rfield', 'rpos', 'raa', 'waa', 'rrep', 'rar', 'war',\n",
       "       'owar', 'dwar', 'orar', 'year', 'acquired_dr', 'tm_CLE', 'tm_KCR',\n",
       "       'tm_MIA', 'tm_NYY', 'tm_OAK', 'tm_SDP', 'tm_TBR', 'ab', 'h', '2b', '3b',\n",
       "       'rbi', 'bb', 'so', 'ibb', 'hbp', 'sh', 'sf', 'gidp', 'g'],\n",
       "      dtype='object')"
      ]
     },
     "execution_count": 174,
     "metadata": {},
     "output_type": "execute_result"
    }
   ],
   "source": [
    "train_X.columns[sel.support_]"
   ]
  },
  {
   "cell_type": "code",
   "execution_count": 177,
   "metadata": {},
   "outputs": [],
   "source": [
    "def cutoffs_RFE():\n",
    "    test_cutoffs = [(i+1)*100000 for i in range(20)]\n",
    "    error_list = []\n",
    "    for i in test_cutoffs:\n",
    "        train_X, train_y, test_X, test_y = load_and_split_data(i)\n",
    "        est = LinearRegression()\n",
    "\n",
    "        sel = RFE(est)\n",
    "        sel = sel.fit(train_X,train_y)\n",
    "        \n",
    "        error = MSE(test_y,sel.predict(test_X))**.5\n",
    "        error_list.append(10**error)\n",
    "\n",
    "    return test_cutoffs,error_list  "
   ]
  },
  {
   "cell_type": "code",
   "execution_count": 178,
   "metadata": {},
   "outputs": [],
   "source": [
    "cut,err = cutoffs_RFE()"
   ]
  },
  {
   "cell_type": "code",
   "execution_count": 180,
   "metadata": {},
   "outputs": [
    {
     "data": {
      "image/png": "[encoded data removed]",
      "text/plain": [
       "<Figure size 2400x1200 with 1 Axes>"
      ]
     },
     "metadata": {},
     "output_type": "display_data"
    }
   ],
   "source": [
    "fig,ax = plt.subplots(figsize=(8,4))\n",
    "\n",
    "ax.scatter([i/1000 for i in cut],err)\n",
    "ax.set_title(\"Error Factor vs Cutoff Salary\")\n",
    "ax.set_ylabel(\"Error Factor\")\n",
    "ax.set_xlabel(\"Minimum Salary (Thousands)\")\n",
    "ax.set_yticks([1,2,3,4,5]);\n",
    "ax.set_xticks([0,500,1000,1500,2000]);\n",
    "plt.tight_layout()\n",
    "#plt.savefig('cutofferr.png')"
   ]
  },
  {
   "cell_type": "code",
   "execution_count": null,
   "metadata": {},
   "outputs": [],
   "source": []
  }
 ],
 "metadata": {
  "kernelspec": {
   "display_name": "Python 3",
   "language": "python",
   "name": "python3"
  },
  "language_info": {
   "codemirror_mode": {
    "name": "ipython",
    "version": 3
   },
   "file_extension": ".py",
   "mimetype": "text/x-python",
   "name": "python",
   "nbconvert_exporter": "python",
   "pygments_lexer": "ipython3",
   "version": "3.6.4"
  }
 },
 "nbformat": 4,
 "nbformat_minor": 2
}
