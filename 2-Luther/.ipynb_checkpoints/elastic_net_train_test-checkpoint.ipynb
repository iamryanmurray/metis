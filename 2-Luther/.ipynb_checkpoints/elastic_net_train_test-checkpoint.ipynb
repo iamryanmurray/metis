{
 "cells": [
  {
   "cell_type": "code",
   "execution_count": 1,
   "metadata": {},
   "outputs": [],
   "source": [
    "from train_test_fns import *\n",
    "from sklearn.linear_model import ElasticNetCV\n",
    "from sklearn.linear_model import ElasticNet\n"
   ]
  },
  {
   "cell_type": "code",
   "execution_count": 2,
   "metadata": {},
   "outputs": [],
   "source": [
    "def train_EN_model(train_x, train_y, predict_x):\n",
    "    #print_title(\"ElasticNet\")\n",
    "    #train_x, predict_x = standarize_feature(_train_x, _predict_x)\n",
    "\n",
    "    #l1_ratios = [1e-4, 1e-3, 1e-2, 1e-1]\n",
    "    #l1_ratios = [1e-5, 1e-4, 1e-3]\n",
    "    l1_ratios = [.001,.01,.1,.2,.5, 0.99,1]\n",
    "    #l1_ratios = [.5]\n",
    "    min_mse = 1\n",
    "    for r in l1_ratios:\n",
    "        #t1 = time.time()\n",
    "        reg_en = ElasticNetCV(\n",
    "            l1_ratio=r, cv=10, n_jobs=-1, verbose=0, precompute=True)\n",
    "        reg_en.fit(train_x, train_y)\n",
    "        n_nonzeros = (reg_en.coef_ != 0).sum()\n",
    "        _mse = np.mean(reg_en.mse_path_, axis=1)[\n",
    "            np.where(reg_en.alphas_ == reg_en.alpha_)[0][0]]\n",
    "        if _mse < min_mse:\n",
    "            min_mse = _mse\n",
    "            best_l1_ratio = r\n",
    "            best_alpha = reg_en.alpha_\n",
    "        #t2 = time.time()\n",
    "        print(\"ratio(%e) -- n: %d -- alpha: %f -- mse: %f -- \" %\n",
    "              (r, n_nonzeros, reg_en.alpha_, _mse))\n",
    "\n",
    "    print(\"Best l1_ratio and alpha: %f, %f\" % (best_l1_ratio, best_alpha))\n",
    "    # predict_model\n",
    "    reg = ElasticNet(l1_ratio=best_l1_ratio, alpha=best_alpha)\n",
    "    reg.fit(train_x, train_y)\n",
    "    n_nonzeros = (reg.coef_ != 0).sum()\n",
    "\n",
    "    predict_y = reg.predict(predict_x)\n",
    "    train_y_pred = reg.predict(train_x)\n",
    "    return {\"y\": predict_y, \"train_y\": train_y_pred, \"coef\": reg.coef_, 'n_cols':n_nonzeros,'l1':best_l1_ratio}"
   ]
  },
  {
   "cell_type": "code",
   "execution_count": null,
   "metadata": {},
   "outputs": [],
   "source": [
    "a,b,c,d = load_and_split_data(1)"
   ]
  },
  {
   "cell_type": "code",
   "execution_count": null,
   "metadata": {},
   "outputs": [],
   "source": [
    "a.shape"
   ]
  },
  {
   "cell_type": "code",
   "execution_count": null,
   "metadata": {},
   "outputs": [],
   "source": [
    "b.shape"
   ]
  },
  {
   "cell_type": "code",
   "execution_count": null,
   "metadata": {},
   "outputs": [],
   "source": [
    "c.shape\n",
    "d.shape"
   ]
  },
  {
   "cell_type": "code",
   "execution_count": null,
   "metadata": {},
   "outputs": [],
   "source": [
    "vals = train_EN_model(a,b,c)"
   ]
  },
  {
   "cell_type": "code",
   "execution_count": null,
   "metadata": {},
   "outputs": [],
   "source": [
    "10**(MSE(vals['y'],d)**.5)"
   ]
  },
  {
   "cell_type": "code",
   "execution_count": 3,
   "metadata": {},
   "outputs": [],
   "source": [
    "def elastic_net_cv_with_cutoffs():\n",
    "    cutoffs = [(i+1)*100000 for i in range(20)]\n",
    "    errors = []\n",
    "    cols = []\n",
    "    for i in cutoffs:\n",
    "        train_X, train_y, test_X,test_y = load_and_split_data(i)\n",
    "        vals = train_EN_model(train_X,train_y,test_X)\n",
    "        preds = vals['y']\n",
    "        error = 10**(MSE(preds,test_y)**.5)\n",
    "        errors.append(error)\n",
    "        cols.append(vals['n_cols'])\n",
    "    return cutoffs, errors,cols"
   ]
  },
  {
   "cell_type": "code",
   "execution_count": 4,
   "metadata": {},
   "outputs": [
    {
     "name": "stdout",
     "output_type": "stream",
     "text": [
      "ratio(1.000000e-03) -- n: 68 -- alpha: 0.058260 -- mse: 0.161927 -- \n",
      "ratio(1.000000e-02) -- n: 66 -- alpha: 0.005826 -- mse: 0.128336 -- \n",
      "ratio(1.000000e-01) -- n: 63 -- alpha: 0.000670 -- mse: 0.124598 -- \n",
      "ratio(2.000000e-01) -- n: 57 -- alpha: 0.000774 -- mse: 0.124514 -- \n",
      "ratio(5.000000e-01) -- n: 52 -- alpha: 0.000541 -- mse: 0.124435 -- \n",
      "ratio(9.900000e-01) -- n: 50 -- alpha: 0.000337 -- mse: 0.124491 -- \n",
      "ratio(1.000000e+00) -- n: 50 -- alpha: 0.000333 -- mse: 0.124493 -- \n",
      "Best l1_ratio and alpha: 0.500000, 0.000541\n",
      "ratio(1.000000e-03) -- n: 68 -- alpha: 0.058260 -- mse: 0.161927 -- \n",
      "ratio(1.000000e-02) -- n: 66 -- alpha: 0.005826 -- mse: 0.128336 -- \n",
      "ratio(1.000000e-01) -- n: 63 -- alpha: 0.000670 -- mse: 0.124598 -- \n",
      "ratio(2.000000e-01) -- n: 57 -- alpha: 0.000774 -- mse: 0.124514 -- \n",
      "ratio(5.000000e-01) -- n: 52 -- alpha: 0.000541 -- mse: 0.124435 -- \n",
      "ratio(9.900000e-01) -- n: 50 -- alpha: 0.000337 -- mse: 0.124491 -- \n",
      "ratio(1.000000e+00) -- n: 50 -- alpha: 0.000333 -- mse: 0.124493 -- \n",
      "Best l1_ratio and alpha: 0.500000, 0.000541\n",
      "ratio(1.000000e-03) -- n: 69 -- alpha: 0.058202 -- mse: 0.161849 -- \n",
      "ratio(1.000000e-02) -- n: 67 -- alpha: 0.005820 -- mse: 0.128291 -- \n",
      "ratio(1.000000e-01) -- n: 63 -- alpha: 0.000669 -- mse: 0.124559 -- \n",
      "ratio(2.000000e-01) -- n: 57 -- alpha: 0.000773 -- mse: 0.124478 -- \n",
      "ratio(5.000000e-01) -- n: 52 -- alpha: 0.000540 -- mse: 0.124404 -- \n",
      "ratio(9.900000e-01) -- n: 50 -- alpha: 0.000336 -- mse: 0.124461 -- \n",
      "ratio(1.000000e+00) -- n: 50 -- alpha: 0.000333 -- mse: 0.124463 -- \n",
      "Best l1_ratio and alpha: 0.500000, 0.000540\n",
      "ratio(1.000000e-03) -- n: 68 -- alpha: 0.056692 -- mse: 0.159552 -- \n",
      "ratio(1.000000e-02) -- n: 66 -- alpha: 0.005669 -- mse: 0.126837 -- \n",
      "ratio(1.000000e-01) -- n: 64 -- alpha: 0.000608 -- mse: 0.123158 -- \n",
      "ratio(2.000000e-01) -- n: 58 -- alpha: 0.000702 -- mse: 0.123094 -- \n",
      "ratio(5.000000e-01) -- n: 51 -- alpha: 0.000526 -- mse: 0.123026 -- \n",
      "ratio(9.900000e-01) -- n: 50 -- alpha: 0.000328 -- mse: 0.123061 -- \n",
      "ratio(1.000000e+00) -- n: 50 -- alpha: 0.000324 -- mse: 0.123063 -- \n",
      "Best l1_ratio and alpha: 0.500000, 0.000526\n",
      "ratio(1.000000e-03) -- n: 69 -- alpha: 0.052409 -- mse: 0.139776 -- \n",
      "ratio(1.000000e-02) -- n: 67 -- alpha: 0.005241 -- mse: 0.115767 -- \n",
      "ratio(1.000000e-01) -- n: 64 -- alpha: 0.000524 -- mse: 0.112775 -- \n",
      "ratio(2.000000e-01) -- n: 58 -- alpha: 0.000527 -- mse: 0.112748 -- \n",
      "ratio(5.000000e-01) -- n: 56 -- alpha: 0.000299 -- mse: 0.112754 -- \n",
      "ratio(9.900000e-01) -- n: 47 -- alpha: 0.000400 -- mse: 0.112760 -- \n",
      "ratio(1.000000e+00) -- n: 47 -- alpha: 0.000396 -- mse: 0.112761 -- \n",
      "Best l1_ratio and alpha: 0.200000, 0.000527\n",
      "ratio(1.000000e-03) -- n: 69 -- alpha: 0.049026 -- mse: 0.100983 -- \n",
      "ratio(1.000000e-02) -- n: 66 -- alpha: 0.004903 -- mse: 0.085213 -- \n",
      "ratio(1.000000e-01) -- n: 64 -- alpha: 0.000490 -- mse: 0.082222 -- \n",
      "ratio(2.000000e-01) -- n: 62 -- alpha: 0.000245 -- mse: 0.082166 -- \n"
     ]
    },
    {
     "name": "stderr",
     "output_type": "stream",
     "text": [
      "/usr/local/lib/python3.6/site-packages/sklearn/linear_model/coordinate_descent.py:491: ConvergenceWarning: Objective did not converge. You might want to increase the number of iterations. Fitting data with very small alpha may cause precision problems.\n",
      "  ConvergenceWarning)\n"
     ]
    },
    {
     "name": "stdout",
     "output_type": "stream",
     "text": [
      "ratio(5.000000e-01) -- n: 60 -- alpha: 0.000121 -- mse: 0.082166 -- \n",
      "ratio(9.900000e-01) -- n: 57 -- alpha: 0.000070 -- mse: 0.082162 -- \n",
      "ratio(1.000000e+00) -- n: 57 -- alpha: 0.000069 -- mse: 0.082162 -- \n",
      "Best l1_ratio and alpha: 1.000000, 0.000069\n",
      "ratio(1.000000e-03) -- n: 67 -- alpha: 0.047958 -- mse: 0.094219 -- \n",
      "ratio(1.000000e-02) -- n: 66 -- alpha: 0.004796 -- mse: 0.079440 -- \n",
      "ratio(1.000000e-01) -- n: 62 -- alpha: 0.000480 -- mse: 0.076628 -- \n",
      "ratio(2.000000e-01) -- n: 60 -- alpha: 0.000296 -- mse: 0.076582 -- \n",
      "ratio(5.000000e-01) -- n: 56 -- alpha: 0.000238 -- mse: 0.076551 -- \n",
      "ratio(9.900000e-01) -- n: 53 -- alpha: 0.000138 -- mse: 0.076555 -- \n",
      "ratio(1.000000e+00) -- n: 53 -- alpha: 0.000137 -- mse: 0.076556 -- \n",
      "Best l1_ratio and alpha: 0.500000, 0.000238\n",
      "ratio(1.000000e-03) -- n: 69 -- alpha: 0.046027 -- mse: 0.089724 -- \n",
      "ratio(1.000000e-02) -- n: 66 -- alpha: 0.004603 -- mse: 0.075337 -- \n",
      "ratio(1.000000e-01) -- n: 65 -- alpha: 0.000460 -- mse: 0.072696 -- \n",
      "ratio(2.000000e-01) -- n: 62 -- alpha: 0.000284 -- mse: 0.072661 -- \n",
      "ratio(5.000000e-01) -- n: 60 -- alpha: 0.000198 -- mse: 0.072660 -- \n",
      "ratio(9.900000e-01) -- n: 55 -- alpha: 0.000123 -- mse: 0.072692 -- \n",
      "ratio(1.000000e+00) -- n: 55 -- alpha: 0.000122 -- mse: 0.072693 -- \n",
      "Best l1_ratio and alpha: 0.500000, 0.000198\n",
      "ratio(1.000000e-03) -- n: 69 -- alpha: 0.043712 -- mse: 0.085992 -- \n",
      "ratio(1.000000e-02) -- n: 67 -- alpha: 0.004371 -- mse: 0.072117 -- \n",
      "ratio(1.000000e-01) -- n: 64 -- alpha: 0.000437 -- mse: 0.069517 -- \n",
      "ratio(2.000000e-01) -- n: 63 -- alpha: 0.000219 -- mse: 0.069485 -- \n",
      "ratio(5.000000e-01) -- n: 58 -- alpha: 0.000217 -- mse: 0.069500 -- \n",
      "ratio(9.900000e-01) -- n: 54 -- alpha: 0.000135 -- mse: 0.069513 -- \n",
      "ratio(1.000000e+00) -- n: 54 -- alpha: 0.000133 -- mse: 0.069513 -- \n",
      "Best l1_ratio and alpha: 0.200000, 0.000219\n",
      "ratio(1.000000e-03) -- n: 69 -- alpha: 0.039129 -- mse: 0.081845 -- \n",
      "ratio(1.000000e-02) -- n: 66 -- alpha: 0.003913 -- mse: 0.068896 -- \n",
      "ratio(1.000000e-01) -- n: 66 -- alpha: 0.000391 -- mse: 0.066667 -- \n",
      "ratio(2.000000e-01) -- n: 66 -- alpha: 0.000196 -- mse: 0.066647 -- \n"
     ]
    },
    {
     "name": "stderr",
     "output_type": "stream",
     "text": [
      "/usr/local/lib/python3.6/site-packages/sklearn/linear_model/coordinate_descent.py:491: ConvergenceWarning: Objective did not converge. You might want to increase the number of iterations. Fitting data with very small alpha may cause precision problems.\n",
      "  ConvergenceWarning)\n",
      "/usr/local/lib/python3.6/site-packages/sklearn/linear_model/coordinate_descent.py:491: ConvergenceWarning: Objective did not converge. You might want to increase the number of iterations. Fitting data with very small alpha may cause precision problems.\n",
      "  ConvergenceWarning)\n"
     ]
    },
    {
     "name": "stdout",
     "output_type": "stream",
     "text": [
      "ratio(5.000000e-01) -- n: 62 -- alpha: 0.000128 -- mse: 0.066659 -- \n",
      "ratio(9.900000e-01) -- n: 49 -- alpha: 0.000299 -- mse: 0.066616 -- \n"
     ]
    },
    {
     "name": "stderr",
     "output_type": "stream",
     "text": [
      "/usr/local/lib/python3.6/site-packages/sklearn/linear_model/coordinate_descent.py:491: ConvergenceWarning: Objective did not converge. You might want to increase the number of iterations. Fitting data with very small alpha may cause precision problems.\n",
      "  ConvergenceWarning)\n"
     ]
    },
    {
     "name": "stdout",
     "output_type": "stream",
     "text": [
      "ratio(1.000000e+00) -- n: 49 -- alpha: 0.000296 -- mse: 0.066617 -- \n",
      "Best l1_ratio and alpha: 0.990000, 0.000299\n",
      "ratio(1.000000e-03) -- n: 69 -- alpha: 0.035135 -- mse: 0.075526 -- \n",
      "ratio(1.000000e-02) -- n: 66 -- alpha: 0.003514 -- mse: 0.063959 -- \n",
      "ratio(1.000000e-01) -- n: 64 -- alpha: 0.000351 -- mse: 0.062115 -- \n",
      "ratio(2.000000e-01) -- n: 63 -- alpha: 0.000286 -- mse: 0.062111 -- \n",
      "ratio(5.000000e-01) -- n: 53 -- alpha: 0.000431 -- mse: 0.062087 -- \n"
     ]
    },
    {
     "name": "stderr",
     "output_type": "stream",
     "text": [
      "/usr/local/lib/python3.6/site-packages/sklearn/linear_model/coordinate_descent.py:491: ConvergenceWarning: Objective did not converge. You might want to increase the number of iterations. Fitting data with very small alpha may cause precision problems.\n",
      "  ConvergenceWarning)\n"
     ]
    },
    {
     "name": "stdout",
     "output_type": "stream",
     "text": [
      "ratio(9.900000e-01) -- n: 43 -- alpha: 0.000355 -- mse: 0.061995 -- \n"
     ]
    },
    {
     "name": "stderr",
     "output_type": "stream",
     "text": [
      "/usr/local/lib/python3.6/site-packages/sklearn/linear_model/coordinate_descent.py:491: ConvergenceWarning: Objective did not converge. You might want to increase the number of iterations. Fitting data with very small alpha may cause precision problems.\n",
      "  ConvergenceWarning)\n"
     ]
    },
    {
     "name": "stdout",
     "output_type": "stream",
     "text": [
      "ratio(1.000000e+00) -- n: 42 -- alpha: 0.000351 -- mse: 0.061994 -- \n",
      "Best l1_ratio and alpha: 1.000000, 0.000351\n",
      "ratio(1.000000e-03) -- n: 67 -- alpha: 0.032180 -- mse: 0.070981 -- \n",
      "ratio(1.000000e-02) -- n: 68 -- alpha: 0.003218 -- mse: 0.060432 -- \n",
      "ratio(1.000000e-01) -- n: 66 -- alpha: 0.000322 -- mse: 0.058774 -- \n",
      "ratio(2.000000e-01) -- n: 65 -- alpha: 0.000161 -- mse: 0.058775 -- \n",
      "ratio(5.000000e-01) -- n: 49 -- alpha: 0.000522 -- mse: 0.058740 -- \n"
     ]
    },
    {
     "name": "stderr",
     "output_type": "stream",
     "text": [
      "/usr/local/lib/python3.6/site-packages/sklearn/linear_model/coordinate_descent.py:491: ConvergenceWarning: Objective did not converge. You might want to increase the number of iterations. Fitting data with very small alpha may cause precision problems.\n",
      "  ConvergenceWarning)\n"
     ]
    },
    {
     "name": "stdout",
     "output_type": "stream",
     "text": [
      "ratio(9.900000e-01) -- n: 45 -- alpha: 0.000349 -- mse: 0.058661 -- \n"
     ]
    },
    {
     "name": "stderr",
     "output_type": "stream",
     "text": [
      "/usr/local/lib/python3.6/site-packages/sklearn/linear_model/coordinate_descent.py:491: ConvergenceWarning: Objective did not converge. You might want to increase the number of iterations. Fitting data with very small alpha may cause precision problems.\n",
      "  ConvergenceWarning)\n"
     ]
    },
    {
     "name": "stdout",
     "output_type": "stream",
     "text": [
      "ratio(1.000000e+00) -- n: 45 -- alpha: 0.000345 -- mse: 0.058661 -- \n",
      "Best l1_ratio and alpha: 1.000000, 0.000345\n",
      "ratio(1.000000e-03) -- n: 68 -- alpha: 0.029194 -- mse: 0.066917 -- \n",
      "ratio(1.000000e-02) -- n: 66 -- alpha: 0.002919 -- mse: 0.057417 -- \n",
      "ratio(1.000000e-01) -- n: 64 -- alpha: 0.000292 -- mse: 0.055961 -- \n",
      "ratio(2.000000e-01) -- n: 62 -- alpha: 0.000180 -- mse: 0.055966 -- \n",
      "ratio(5.000000e-01) -- n: 50 -- alpha: 0.000508 -- mse: 0.055867 -- \n"
     ]
    },
    {
     "name": "stderr",
     "output_type": "stream",
     "text": [
      "/usr/local/lib/python3.6/site-packages/sklearn/linear_model/coordinate_descent.py:491: ConvergenceWarning: Objective did not converge. You might want to increase the number of iterations. Fitting data with very small alpha may cause precision problems.\n",
      "  ConvergenceWarning)\n"
     ]
    },
    {
     "name": "stdout",
     "output_type": "stream",
     "text": [
      "ratio(9.900000e-01) -- n: 43 -- alpha: 0.000339 -- mse: 0.055789 -- \n"
     ]
    },
    {
     "name": "stderr",
     "output_type": "stream",
     "text": [
      "/usr/local/lib/python3.6/site-packages/sklearn/linear_model/coordinate_descent.py:491: ConvergenceWarning: Objective did not converge. You might want to increase the number of iterations. Fitting data with very small alpha may cause precision problems.\n",
      "  ConvergenceWarning)\n"
     ]
    },
    {
     "name": "stdout",
     "output_type": "stream",
     "text": [
      "ratio(1.000000e+00) -- n: 43 -- alpha: 0.000336 -- mse: 0.055789 -- \n",
      "Best l1_ratio and alpha: 1.000000, 0.000336\n",
      "ratio(1.000000e-03) -- n: 69 -- alpha: 0.028262 -- mse: 0.064177 -- \n",
      "ratio(1.000000e-02) -- n: 69 -- alpha: 0.002826 -- mse: 0.055225 -- \n",
      "ratio(1.000000e-01) -- n: 65 -- alpha: 0.000325 -- mse: 0.053857 -- \n",
      "ratio(2.000000e-01) -- n: 63 -- alpha: 0.000326 -- mse: 0.053844 -- \n",
      "ratio(5.000000e-01) -- n: 52 -- alpha: 0.000428 -- mse: 0.053794 -- \n"
     ]
    },
    {
     "name": "stderr",
     "output_type": "stream",
     "text": [
      "/usr/local/lib/python3.6/site-packages/sklearn/linear_model/coordinate_descent.py:491: ConvergenceWarning: Objective did not converge. You might want to increase the number of iterations. Fitting data with very small alpha may cause precision problems.\n",
      "  ConvergenceWarning)\n"
     ]
    },
    {
     "name": "stdout",
     "output_type": "stream",
     "text": [
      "ratio(9.900000e-01) -- n: 44 -- alpha: 0.000328 -- mse: 0.053720 -- \n"
     ]
    },
    {
     "name": "stderr",
     "output_type": "stream",
     "text": [
      "/usr/local/lib/python3.6/site-packages/sklearn/linear_model/coordinate_descent.py:491: ConvergenceWarning: Objective did not converge. You might want to increase the number of iterations. Fitting data with very small alpha may cause precision problems.\n",
      "  ConvergenceWarning)\n"
     ]
    },
    {
     "name": "stdout",
     "output_type": "stream",
     "text": [
      "ratio(1.000000e+00) -- n: 44 -- alpha: 0.000325 -- mse: 0.053719 -- \n",
      "Best l1_ratio and alpha: 1.000000, 0.000325\n",
      "ratio(1.000000e-03) -- n: 69 -- alpha: 0.026298 -- mse: 0.062147 -- \n",
      "ratio(1.000000e-02) -- n: 69 -- alpha: 0.002630 -- mse: 0.054062 -- \n",
      "ratio(1.000000e-01) -- n: 66 -- alpha: 0.000263 -- mse: 0.052896 -- \n",
      "ratio(2.000000e-01) -- n: 65 -- alpha: 0.000230 -- mse: 0.052906 -- \n",
      "ratio(5.000000e-01) -- n: 50 -- alpha: 0.000491 -- mse: 0.052847 -- \n"
     ]
    },
    {
     "name": "stderr",
     "output_type": "stream",
     "text": [
      "/usr/local/lib/python3.6/site-packages/sklearn/linear_model/coordinate_descent.py:491: ConvergenceWarning: Objective did not converge. You might want to increase the number of iterations. Fitting data with very small alpha may cause precision problems.\n",
      "  ConvergenceWarning)\n"
     ]
    },
    {
     "name": "stdout",
     "output_type": "stream",
     "text": [
      "ratio(9.900000e-01) -- n: 46 -- alpha: 0.000327 -- mse: 0.052780 -- \n"
     ]
    },
    {
     "name": "stderr",
     "output_type": "stream",
     "text": [
      "/usr/local/lib/python3.6/site-packages/sklearn/linear_model/coordinate_descent.py:491: ConvergenceWarning: Objective did not converge. You might want to increase the number of iterations. Fitting data with very small alpha may cause precision problems.\n",
      "  ConvergenceWarning)\n"
     ]
    },
    {
     "name": "stdout",
     "output_type": "stream",
     "text": [
      "ratio(1.000000e+00) -- n: 46 -- alpha: 0.000324 -- mse: 0.052780 -- \n",
      "Best l1_ratio and alpha: 0.990000, 0.000327\n",
      "ratio(1.000000e-03) -- n: 69 -- alpha: 0.024374 -- mse: 0.059317 -- \n",
      "ratio(1.000000e-02) -- n: 69 -- alpha: 0.002437 -- mse: 0.051964 -- \n",
      "ratio(1.000000e-01) -- n: 66 -- alpha: 0.000244 -- mse: 0.050974 -- \n",
      "ratio(2.000000e-01) -- n: 64 -- alpha: 0.000213 -- mse: 0.050994 -- \n"
     ]
    },
    {
     "name": "stderr",
     "output_type": "stream",
     "text": [
      "/usr/local/lib/python3.6/site-packages/sklearn/linear_model/coordinate_descent.py:491: ConvergenceWarning: Objective did not converge. You might want to increase the number of iterations. Fitting data with very small alpha may cause precision problems.\n",
      "  ConvergenceWarning)\n",
      "/usr/local/lib/python3.6/site-packages/sklearn/linear_model/coordinate_descent.py:491: ConvergenceWarning: Objective did not converge. You might want to increase the number of iterations. Fitting data with very small alpha may cause precision problems.\n",
      "  ConvergenceWarning)\n"
     ]
    },
    {
     "name": "stdout",
     "output_type": "stream",
     "text": [
      "ratio(5.000000e-01) -- n: 50 -- alpha: 0.000455 -- mse: 0.050980 -- \n",
      "ratio(9.900000e-01) -- n: 46 -- alpha: 0.000304 -- mse: 0.050965 -- \n"
     ]
    },
    {
     "name": "stderr",
     "output_type": "stream",
     "text": [
      "/usr/local/lib/python3.6/site-packages/sklearn/linear_model/coordinate_descent.py:491: ConvergenceWarning: Objective did not converge. You might want to increase the number of iterations. Fitting data with very small alpha may cause precision problems.\n",
      "  ConvergenceWarning)\n"
     ]
    },
    {
     "name": "stdout",
     "output_type": "stream",
     "text": [
      "ratio(1.000000e+00) -- n: 47 -- alpha: 0.000300 -- mse: 0.050965 -- \n",
      "Best l1_ratio and alpha: 0.990000, 0.000304\n",
      "ratio(1.000000e-03) -- n: 67 -- alpha: 0.023555 -- mse: 0.056872 -- \n",
      "ratio(1.000000e-02) -- n: 68 -- alpha: 0.002355 -- mse: 0.049892 -- \n",
      "ratio(1.000000e-01) -- n: 66 -- alpha: 0.000236 -- mse: 0.048984 -- \n",
      "ratio(2.000000e-01) -- n: 66 -- alpha: 0.000192 -- mse: 0.048996 -- \n"
     ]
    },
    {
     "name": "stderr",
     "output_type": "stream",
     "text": [
      "/usr/local/lib/python3.6/site-packages/sklearn/linear_model/coordinate_descent.py:491: ConvergenceWarning: Objective did not converge. You might want to increase the number of iterations. Fitting data with very small alpha may cause precision problems.\n",
      "  ConvergenceWarning)\n"
     ]
    },
    {
     "name": "stdout",
     "output_type": "stream",
     "text": [
      "ratio(5.000000e-01) -- n: 49 -- alpha: 0.000471 -- mse: 0.048961 -- \n"
     ]
    },
    {
     "name": "stderr",
     "output_type": "stream",
     "text": [
      "/usr/local/lib/python3.6/site-packages/sklearn/linear_model/coordinate_descent.py:491: ConvergenceWarning: Objective did not converge. You might want to increase the number of iterations. Fitting data with very small alpha may cause precision problems.\n",
      "  ConvergenceWarning)\n"
     ]
    },
    {
     "name": "stdout",
     "output_type": "stream",
     "text": [
      "ratio(9.900000e-01) -- n: 46 -- alpha: 0.000315 -- mse: 0.048936 -- \n"
     ]
    },
    {
     "name": "stderr",
     "output_type": "stream",
     "text": [
      "/usr/local/lib/python3.6/site-packages/sklearn/linear_model/coordinate_descent.py:491: ConvergenceWarning: Objective did not converge. You might want to increase the number of iterations. Fitting data with very small alpha may cause precision problems.\n",
      "  ConvergenceWarning)\n"
     ]
    },
    {
     "name": "stdout",
     "output_type": "stream",
     "text": [
      "ratio(1.000000e+00) -- n: 46 -- alpha: 0.000311 -- mse: 0.048935 -- \n",
      "Best l1_ratio and alpha: 1.000000, 0.000311\n",
      "ratio(1.000000e-03) -- n: 69 -- alpha: 0.022609 -- mse: 0.055399 -- \n",
      "ratio(1.000000e-02) -- n: 68 -- alpha: 0.002261 -- mse: 0.048886 -- \n",
      "ratio(1.000000e-01) -- n: 65 -- alpha: 0.000242 -- mse: 0.048102 -- \n",
      "ratio(2.000000e-01) -- n: 64 -- alpha: 0.000160 -- mse: 0.048107 -- \n",
      "ratio(5.000000e-01) -- n: 50 -- alpha: 0.000452 -- mse: 0.048021 -- \n"
     ]
    },
    {
     "name": "stderr",
     "output_type": "stream",
     "text": [
      "/usr/local/lib/python3.6/site-packages/sklearn/linear_model/coordinate_descent.py:491: ConvergenceWarning: Objective did not converge. You might want to increase the number of iterations. Fitting data with very small alpha may cause precision problems.\n",
      "  ConvergenceWarning)\n"
     ]
    },
    {
     "name": "stdout",
     "output_type": "stream",
     "text": [
      "ratio(9.900000e-01) -- n: 43 -- alpha: 0.000324 -- mse: 0.047976 -- \n"
     ]
    },
    {
     "name": "stderr",
     "output_type": "stream",
     "text": [
      "/usr/local/lib/python3.6/site-packages/sklearn/linear_model/coordinate_descent.py:491: ConvergenceWarning: Objective did not converge. You might want to increase the number of iterations. Fitting data with very small alpha may cause precision problems.\n",
      "  ConvergenceWarning)\n"
     ]
    },
    {
     "name": "stdout",
     "output_type": "stream",
     "text": [
      "ratio(1.000000e+00) -- n: 43 -- alpha: 0.000320 -- mse: 0.047976 -- \n",
      "Best l1_ratio and alpha: 1.000000, 0.000320\n",
      "ratio(1.000000e-03) -- n: 69 -- alpha: 0.021686 -- mse: 0.054074 -- \n",
      "ratio(1.000000e-02) -- n: 69 -- alpha: 0.002169 -- mse: 0.047848 -- \n",
      "ratio(1.000000e-01) -- n: 66 -- alpha: 0.000217 -- mse: 0.046916 -- \n"
     ]
    },
    {
     "name": "stderr",
     "output_type": "stream",
     "text": [
      "/usr/local/lib/python3.6/site-packages/sklearn/linear_model/coordinate_descent.py:491: ConvergenceWarning: Objective did not converge. You might want to increase the number of iterations. Fitting data with very small alpha may cause precision problems.\n",
      "  ConvergenceWarning)\n",
      "/usr/local/lib/python3.6/site-packages/sklearn/linear_model/coordinate_descent.py:491: ConvergenceWarning: Objective did not converge. You might want to increase the number of iterations. Fitting data with very small alpha may cause precision problems.\n",
      "  ConvergenceWarning)\n"
     ]
    },
    {
     "name": "stdout",
     "output_type": "stream",
     "text": [
      "ratio(2.000000e-01) -- n: 66 -- alpha: 0.000108 -- mse: 0.046881 -- \n"
     ]
    },
    {
     "name": "stderr",
     "output_type": "stream",
     "text": [
      "/usr/local/lib/python3.6/site-packages/sklearn/linear_model/coordinate_descent.py:491: ConvergenceWarning: Objective did not converge. You might want to increase the number of iterations. Fitting data with very small alpha may cause precision problems.\n",
      "  ConvergenceWarning)\n",
      "/usr/local/lib/python3.6/site-packages/sklearn/linear_model/coordinate_descent.py:491: ConvergenceWarning: Objective did not converge. You might want to increase the number of iterations. Fitting data with very small alpha may cause precision problems.\n",
      "  ConvergenceWarning)\n"
     ]
    },
    {
     "name": "stdout",
     "output_type": "stream",
     "text": [
      "ratio(5.000000e-01) -- n: 65 -- alpha: 0.000043 -- mse: 0.046842 -- \n"
     ]
    },
    {
     "name": "stderr",
     "output_type": "stream",
     "text": [
      "/usr/local/lib/python3.6/site-packages/sklearn/linear_model/coordinate_descent.py:491: ConvergenceWarning: Objective did not converge. You might want to increase the number of iterations. Fitting data with very small alpha may cause precision problems.\n",
      "  ConvergenceWarning)\n",
      "/usr/local/lib/python3.6/site-packages/sklearn/linear_model/coordinate_descent.py:491: ConvergenceWarning: Objective did not converge. You might want to increase the number of iterations. Fitting data with very small alpha may cause precision problems.\n",
      "  ConvergenceWarning)\n"
     ]
    },
    {
     "name": "stdout",
     "output_type": "stream",
     "text": [
      "ratio(9.900000e-01) -- n: 62 -- alpha: 0.000022 -- mse: 0.046817 -- \n"
     ]
    },
    {
     "name": "stderr",
     "output_type": "stream",
     "text": [
      "/usr/local/lib/python3.6/site-packages/sklearn/linear_model/coordinate_descent.py:491: ConvergenceWarning: Objective did not converge. You might want to increase the number of iterations. Fitting data with very small alpha may cause precision problems.\n",
      "  ConvergenceWarning)\n"
     ]
    },
    {
     "name": "stdout",
     "output_type": "stream",
     "text": [
      "ratio(1.000000e+00) -- n: 62 -- alpha: 0.000022 -- mse: 0.046817 -- \n",
      "Best l1_ratio and alpha: 1.000000, 0.000022\n",
      "ratio(1.000000e-03) -- n: 69 -- alpha: 0.021374 -- mse: 0.052719 -- \n",
      "ratio(1.000000e-02) -- n: 69 -- alpha: 0.002137 -- mse: 0.046640 -- \n",
      "ratio(1.000000e-01) -- n: 63 -- alpha: 0.000214 -- mse: 0.045717 -- \n"
     ]
    },
    {
     "name": "stderr",
     "output_type": "stream",
     "text": [
      "/usr/local/lib/python3.6/site-packages/sklearn/linear_model/coordinate_descent.py:491: ConvergenceWarning: Objective did not converge. You might want to increase the number of iterations. Fitting data with very small alpha may cause precision problems.\n",
      "  ConvergenceWarning)\n",
      "/usr/local/lib/python3.6/site-packages/sklearn/linear_model/coordinate_descent.py:491: ConvergenceWarning: Objective did not converge. You might want to increase the number of iterations. Fitting data with very small alpha may cause precision problems.\n",
      "  ConvergenceWarning)\n"
     ]
    },
    {
     "name": "stdout",
     "output_type": "stream",
     "text": [
      "ratio(2.000000e-01) -- n: 66 -- alpha: 0.000107 -- mse: 0.045689 -- \n"
     ]
    },
    {
     "name": "stderr",
     "output_type": "stream",
     "text": [
      "/usr/local/lib/python3.6/site-packages/sklearn/linear_model/coordinate_descent.py:491: ConvergenceWarning: Objective did not converge. You might want to increase the number of iterations. Fitting data with very small alpha may cause precision problems.\n",
      "  ConvergenceWarning)\n",
      "/usr/local/lib/python3.6/site-packages/sklearn/linear_model/coordinate_descent.py:491: ConvergenceWarning: Objective did not converge. You might want to increase the number of iterations. Fitting data with very small alpha may cause precision problems.\n",
      "  ConvergenceWarning)\n"
     ]
    },
    {
     "name": "stdout",
     "output_type": "stream",
     "text": [
      "ratio(5.000000e-01) -- n: 65 -- alpha: 0.000043 -- mse: 0.045643 -- \n"
     ]
    },
    {
     "name": "stderr",
     "output_type": "stream",
     "text": [
      "/usr/local/lib/python3.6/site-packages/sklearn/linear_model/coordinate_descent.py:491: ConvergenceWarning: Objective did not converge. You might want to increase the number of iterations. Fitting data with very small alpha may cause precision problems.\n",
      "  ConvergenceWarning)\n",
      "/usr/local/lib/python3.6/site-packages/sklearn/linear_model/coordinate_descent.py:491: ConvergenceWarning: Objective did not converge. You might want to increase the number of iterations. Fitting data with very small alpha may cause precision problems.\n",
      "  ConvergenceWarning)\n"
     ]
    },
    {
     "name": "stdout",
     "output_type": "stream",
     "text": [
      "ratio(9.900000e-01) -- n: 63 -- alpha: 0.000022 -- mse: 0.045613 -- \n",
      "ratio(1.000000e+00) -- n: 63 -- alpha: 0.000021 -- mse: 0.045613 -- \n",
      "Best l1_ratio and alpha: 1.000000, 0.000021\n"
     ]
    },
    {
     "name": "stderr",
     "output_type": "stream",
     "text": [
      "/usr/local/lib/python3.6/site-packages/sklearn/linear_model/coordinate_descent.py:491: ConvergenceWarning: Objective did not converge. You might want to increase the number of iterations. Fitting data with very small alpha may cause precision problems.\n",
      "  ConvergenceWarning)\n"
     ]
    }
   ],
   "source": [
    "cut,err,cols = elastic_net_cv_with_cutoffs()"
   ]
  },
  {
   "cell_type": "code",
   "execution_count": 11,
   "metadata": {},
   "outputs": [],
   "source": [
    "def plot_with_cutoff_and_cols(cut,err,cols):\n",
    "    fig,ax = plt.subplots(figsize=(4,4))\n",
    "\n",
    "    ax1.scatter([i/1000 for i in cut],err)\n",
    "    ax2.scatter([i/1000 for i in cut],[i/10 for i in cols])\n",
    "    ax.set_title(\"Error Factor vs Cutoff Salary\")\n",
    "    ax.set_ylabel(\"Error Factor\")\n",
    "    ax.set_xlabel(\"Minimum Salary (Thousands)\")\n",
    "    ax.set_yticks([i+1 for i in range(6)]);\n",
    "    ax.set_xticks([0,500,1000,1500,2000]);\n",
    "    plt.tight_layout()"
   ]
  },
  {
   "cell_type": "code",
   "execution_count": 12,
   "metadata": {},
   "outputs": [
    {
     "data": {
      "image/png": "[encoded data removed]",
      "text/plain": [
       "<Figure size 288x288 with 1 Axes>"
      ]
     },
     "metadata": {},
     "output_type": "display_data"
    }
   ],
   "source": [
    "plot_with_cutoff_and_cols(cut,err,cols)"
   ]
  },
  {
   "cell_type": "code",
   "execution_count": null,
   "metadata": {},
   "outputs": [],
   "source": [
    "cols"
   ]
  },
  {
   "cell_type": "code",
   "execution_count": null,
   "metadata": {},
   "outputs": [],
   "source": [
    "d[d>np.log10(2e6)].shape"
   ]
  }
 ],
 "metadata": {
  "kernelspec": {
   "display_name": "Python 3",
   "language": "python",
   "name": "python3"
  },
  "language_info": {
   "codemirror_mode": {
    "name": "ipython",
    "version": 3
   },
   "file_extension": ".py",
   "mimetype": "text/x-python",
   "name": "python",
   "nbconvert_exporter": "python",
   "pygments_lexer": "ipython3",
   "version": "3.6.4"
  }
 },
 "nbformat": 4,
 "nbformat_minor": 2
}
