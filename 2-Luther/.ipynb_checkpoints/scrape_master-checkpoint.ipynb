{
 "cells": [
  {
   "cell_type": "code",
   "execution_count": 1,
   "metadata": {},
   "outputs": [],
   "source": [
    "from bs4 import BeautifulSoup\n",
    "from selenium import webdriver\n",
    "import pandas as pd\n",
    "import html5lib\n",
    "import requests\n",
    "import numpy as np\n",
    "import os\n"
   ]
  },
  {
   "cell_type": "code",
   "execution_count": 2,
   "metadata": {},
   "outputs": [],
   "source": [
    "def scrape(url):\n",
    "    chromedriver = \"/Users/ryanmurray/Downloads/chromedriver\" # path to the chromedriver executable\n",
    "    os.environ[\"webdriver.chrome.driver\"] = chromedriver\n",
    "\n",
    "\n",
    "    driver = webdriver.Chrome(chromedriver)\n",
    "\n",
    "    driver.get(url)\n",
    "    soup = BeautifulSoup(driver.page_source,'lxml')\n",
    "    driver.quit()\n",
    "    \n",
    "    return soup\n",
    "\n",
    "def parse_table(soup,table=\"table_name\"):\n",
    "    \n",
    "    #takes table with \"table_name\" from scraped website and outputs pandas dataframe\n",
    "    tab = soup.find(\"table\",{\"id\": table})\n",
    "    rows = tab.find_all('tr')\n",
    "    \n",
    "    #get header and remove leading and trailing blank strings\n",
    "    header = rows[0].text.split('\\n')\n",
    "    header.remove('')\n",
    "    header.remove('')\n",
    "    \n",
    "    #create list of rows\n",
    "    rows_list = []\n",
    "    for row in rows:\n",
    "        cur_row = []\n",
    "        for c in row:\n",
    "            try: cur_row.append(c.text)\n",
    "            except: cur_row.append('')\n",
    "        if len(cur_row) == len(header):\n",
    "            rows_list.append(cur_row)\n",
    "            \n",
    "    return pd.DataFrame(rows_list,columns=header)\n"
   ]
  },
  {
   "cell_type": "code",
   "execution_count": 27,
   "metadata": {},
   "outputs": [],
   "source": [
    "def is_lhp(p):\n",
    "    return '*' in p\n",
    "def bat_hand(p):\n",
    "    if '*' in p:\n",
    "        return 'lhb'\n",
    "    elif '#' in p:\n",
    "        return 'swh'\n",
    "    else:\n",
    "        return 'rhb'\n",
    "\n",
    "def drop_ast(n):\n",
    "    return n.replace('*','')\n",
    "\n",
    "def clean_pitching(df):\n",
    "    df['Salary'] = df['Salary'].apply(lambda x: (x.replace('$','').replace(',','')))\n",
    "    df['lhp'] = df['Name'].apply(is_lhp)\n",
    "    df['Name'] = df['Name'].apply(drop_ast)\n",
    "    \n",
    "    cols = df.columns.tolist()\n",
    "    for col in cols:\n",
    "        try:\n",
    "            df[col] = pd.to_numeric(df[col])\n",
    "        except:\n",
    "            pass\n",
    "    df['log_sal'] = df['Salary'].apply(lambda x: np.log10(x))\n",
    "    df.columns = [x.lower() for x in df.columns.tolist()]\n",
    "    return df.dropna()    \n",
    "\n",
    "def clean_batting(df):\n",
    "    df['Salary'] = df['Salary'].apply(lambda x: (x.replace('$','').replace(',','')))\n",
    "    df['bat_hand'] = df['Name'].apply(bat_hand)\n",
    "    df['Name'] = df['Name'].apply(drop_ast)\n",
    "    \n",
    "    cols = df.columns.tolist()\n",
    "    for col in cols:\n",
    "        try:\n",
    "            df[col] = pd.to_numeric(df[col])\n",
    "        except:\n",
    "            pass\n",
    "    df['log_sal'] = df['Salary'].apply(lambda x: np.log10(x))\n",
    "    df.columns = [x.lower() for x in df.columns.tolist()]\n",
    "    return df.dropna()        "
   ]
  },
  {
   "cell_type": "code",
   "execution_count": 26,
   "metadata": {},
   "outputs": [],
   "source": [
    "\n",
    "def scrape_parse_clean_p(url,table):\n",
    "    soup = scrape(url)\n",
    "    df = parse_table(soup, table)\n",
    "    clean_df = clean_pitching(df)\n",
    "    return clean_df\n",
    "\n",
    "def scrape_parse_clean_b(url,table):\n",
    "    soup = scrape(url)\n",
    "    df = parse_table(soup, table)\n",
    "    clean_df = clean_batting(df)\n",
    "    return clean_df"
   ]
  },
  {
   "cell_type": "code",
   "execution_count": 18,
   "metadata": {},
   "outputs": [],
   "source": [
    "url_2015 = 'https://www.baseball-reference.com/leagues/MLB/2015-value-pitching.shtml'\n",
    "url_2016 = 'https://www.baseball-reference.com/leagues/MLB/2016-value-pitching.shtml'\n",
    "url_2017 = 'https://www.baseball-reference.com/leagues/MLB/2017-value-pitching.shtml'\n",
    "\n",
    "table_name = 'players_value_pitching'\n",
    "\n"
   ]
  },
  {
   "cell_type": "code",
   "execution_count": 19,
   "metadata": {
    "scrolled": false
   },
   "outputs": [],
   "source": [
    "p_2015 = scrape_parse_clean_p(url_2015,table_name)\n",
    "p_2016 = scrape_parse_clean_p(url_2016,table_name)\n",
    "p_2017 = scrape_parse_clean_p(url_2017,table_name)"
   ]
  },
  {
   "cell_type": "code",
   "execution_count": 20,
   "metadata": {},
   "outputs": [],
   "source": [
    "p_3 = pd.concat([p_2015,p_2016,p_2017])"
   ]
  },
  {
   "cell_type": "code",
   "execution_count": 23,
   "metadata": {},
   "outputs": [],
   "source": [
    "p_3.to_pickle(\"pitching_2015_2017.pkl\")"
   ]
  },
  {
   "cell_type": "code",
   "execution_count": 34,
   "metadata": {},
   "outputs": [],
   "source": [
    "b_2016_url = 'https://www.baseball-reference.com/leagues/MLB/2016-value-batting.shtml'\n",
    "\n",
    "b_2017_url = 'https://www.baseball-reference.com/leagues/MLB/2017-value-batting.shtml'\n",
    "b_table_name = 'players_value_batting'"
   ]
  },
  {
   "cell_type": "code",
   "execution_count": 35,
   "metadata": {},
   "outputs": [],
   "source": [
    "b_2017 = scrape_parse_clean_b(b_2017_url,b_table_name)\n",
    "b_2016 = scrape_parse_clean_b(b_2016_url,b_table_name)"
   ]
  },
  {
   "cell_type": "code",
   "execution_count": 36,
   "metadata": {},
   "outputs": [],
   "source": [
    "b_2016.to_pickle(\"batting_2016.pkl\")\n",
    "b_2017.to_pickle(\"batting_2017.pkl\")"
   ]
  },
  {
   "cell_type": "code",
   "execution_count": null,
   "metadata": {},
   "outputs": [],
   "source": []
  }
 ],
 "metadata": {
  "kernelspec": {
   "display_name": "Python 3",
   "language": "python",
   "name": "python3"
  },
  "language_info": {
   "codemirror_mode": {
    "name": "ipython",
    "version": 3
   },
   "file_extension": ".py",
   "mimetype": "text/x-python",
   "name": "python",
   "nbconvert_exporter": "python",
   "pygments_lexer": "ipython3",
   "version": "3.6.4"
  }
 },
 "nbformat": 4,
 "nbformat_minor": 2
}
