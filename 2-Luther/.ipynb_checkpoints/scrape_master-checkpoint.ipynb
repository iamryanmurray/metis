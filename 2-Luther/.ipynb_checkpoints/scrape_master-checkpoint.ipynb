{
 "cells": [
  {
   "cell_type": "code",
   "execution_count": 7,
   "metadata": {},
   "outputs": [],
   "source": [
    "from bs4 import BeautifulSoup\n",
    "from selenium import webdriver\n",
    "import pandas as pd\n",
    "import html5lib\n",
    "import requests\n",
    "import numpy as np\n",
    "import os\n",
    "import re\n"
   ]
  },
  {
   "cell_type": "code",
   "execution_count": 4,
   "metadata": {},
   "outputs": [],
   "source": [
    "def scrape(url):\n",
    "    chromedriver = \"/Users/ryanmurray/Downloads/chromedriver\" # path to the chromedriver executable\n",
    "    os.environ[\"webdriver.chrome.driver\"] = chromedriver\n",
    "\n",
    "\n",
    "    driver = webdriver.Chrome(chromedriver)\n",
    "\n",
    "    driver.get(url)\n",
    "    soup = BeautifulSoup(driver.page_source,'lxml')\n",
    "    driver.quit()\n",
    "    \n",
    "    return soup\n",
    "\n",
    "def parse_table(soup,table=\"table_name\"):\n",
    "    \n",
    "    #takes table with \"table_name\" from scraped website and outputs pandas dataframe\n",
    "    tab = soup.find(\"table\",{\"id\": table})\n",
    "    rows = tab.find_all('tr')\n",
    "    \n",
    "    #get header and remove leading and trailing blank strings\n",
    "    header = rows[0].text.split('\\n')\n",
    "    header.remove('')\n",
    "    header.remove('')\n",
    "    \n",
    "    #create list of rows\n",
    "    rows_list = []\n",
    "    for row in rows:\n",
    "        cur_row = []\n",
    "        for c in row:\n",
    "            try: cur_row.append(c.text)\n",
    "            except: cur_row.append('')\n",
    "        if len(cur_row) == len(header):\n",
    "            rows_list.append(cur_row)\n",
    "            \n",
    "    return pd.DataFrame(rows_list,columns=header)\n"
   ]
  },
  {
   "cell_type": "code",
   "execution_count": 3,
   "metadata": {},
   "outputs": [],
   "source": [
    "def is_lhp(p):\n",
    "    return '*' in p\n",
    "def bat_hand(p):\n",
    "    if '*' in p:\n",
    "        return 'lhb'\n",
    "    elif '#' in p:\n",
    "        return 'swh'\n",
    "    else:\n",
    "        return 'rhb'\n",
    "\n",
    "def drop_punc(n):\n",
    "    return re.sub(r'[^\\w\\s]','',n)\n",
    "\n",
    "def clean_pitching(df,year):\n",
    "    df['Salary'] = df['Salary'].apply(lambda x: (x.replace('$','').replace(',','')))\n",
    "    df['lhp'] = df['Name'].apply(is_lhp)\n",
    "    df['Name'] = df['Name'].apply(drop_punc)\n",
    "    df['year'] = year\n",
    "    cols = df.columns.tolist()\n",
    "    for col in cols:\n",
    "        try:\n",
    "            df[col] = pd.to_numeric(df[col])\n",
    "        except:\n",
    "            pass\n",
    "    df['log_sal'] = df['Salary'].apply(lambda x: np.log10(x))\n",
    "    df.columns = [x.lower() for x in df.columns.tolist()]\n",
    "    return df.dropna()    \n",
    "\n",
    "def clean_batting(df,year):\n",
    "    df['Salary'] = df['Salary'].apply(lambda x: (x.replace('$','').replace(',','')))\n",
    "    df['bat_hand'] = df['Name'].apply(bat_hand)\n",
    "    df['Name'] = df['Name'].apply(drop_punc)\n",
    "    df['year'] = year\n",
    "    cols = df.columns.tolist()\n",
    "    for col in cols:\n",
    "        try:\n",
    "            df[col] = pd.to_numeric(df[col])\n",
    "        except:\n",
    "            pass\n",
    "    df['log_sal'] = df['Salary'].apply(lambda x: np.log10(x))\n",
    "    df.columns = [x.lower() for x in df.columns.tolist()]\n",
    "    return df.dropna()        "
   ]
  },
  {
   "cell_type": "code",
   "execution_count": 12,
   "metadata": {},
   "outputs": [],
   "source": [
    "import time\n",
    "def scrape_parse_clean_p(year):\n",
    "    url1 = 'https://www.baseball-reference.com/leagues/MLB/'\n",
    "    url2 = '-value-pitching.shtml'\n",
    "    url = url1+str(year)+url2\n",
    "    table = 'players_value_pitching'\n",
    "    soup = scrape(url)\n",
    "    df = parse_table(soup, table)\n",
    "    clean_df = clean_pitching(df,year)\n",
    "    return clean_df\n",
    "\n",
    "def scrape_parse_clean_b(year):\n",
    "    url1 = 'https://www.baseball-reference.com/leagues/MLB/'\n",
    "    url2 = '-value-batting.shtml'\n",
    "    url = url1+str(year)+url2\n",
    "    table = 'players_value_batting'\n",
    "    soup = scrape(url)\n",
    "    df = parse_table(soup, table)\n",
    "    clean_df = clean_batting(df,year)\n",
    "    return clean_df\n",
    "\n",
    "def scrape_parse_clean_tb():\n",
    "    url='https://www.baseball-reference.com/leagues/MLB/2017-value-batting.shtml'\n",
    "    soup = scrape(url)\n",
    "    time.sleep(10)\n",
    "    table = 'teamss_value_batting'\n",
    "\n",
    "    df = parse_table(soup, table)\n",
    "    \n",
    "    #clean_df = clean_batting(df,year)\n",
    "    return clean_df\n"
   ]
  },
  {
   "cell_type": "code",
   "execution_count": 50,
   "metadata": {},
   "outputs": [],
   "source": [
    "def create_train(stat,start,end):\n",
    "    df_list = []\n",
    "    if stat == 'pitching':\n",
    "        for year in range(start,end+1):\n",
    "            df_list.append(scrape_parse_clean_p(year))\n",
    "    elif stat == 'batting':\n",
    "        for year in range(start,end+1):\n",
    "            df_list.append(scrape_parse_clean_b(year))\n",
    "    df = pd.concat(df_list)\n",
    "    return df\n",
    "        \n",
    "        \n",
    "        \n",
    "        "
   ]
  },
  {
   "cell_type": "code",
   "execution_count": 18,
   "metadata": {},
   "outputs": [],
   "source": [
    "url_2015 = 'https://www.baseball-reference.com/leagues/MLB/2015-value-pitching.shtml'\n",
    "url_2016 = 'https://www.baseball-reference.com/leagues/MLB/2016-value-pitching.shtml'\n",
    "url_2017 = 'https://www.baseball-reference.com/leagues/MLB/2017-value-pitching.shtml'\n",
    "\n",
    "table_name = 'players_value_pitching'\n",
    "\n"
   ]
  },
  {
   "cell_type": "code",
   "execution_count": 19,
   "metadata": {
    "scrolled": false
   },
   "outputs": [],
   "source": [
    "p_2015 = scrape_parse_clean_p(url_2015,table_name)\n",
    "p_2016 = scrape_parse_clean_p(url_2016,table_name)\n",
    "p_2017 = scrape_parse_clean_p(url_2017,table_name)"
   ]
  },
  {
   "cell_type": "code",
   "execution_count": 20,
   "metadata": {},
   "outputs": [],
   "source": [
    "p_3 = pd.concat([p_2015,p_2016,p_2017])"
   ]
  },
  {
   "cell_type": "code",
   "execution_count": 23,
   "metadata": {},
   "outputs": [],
   "source": [
    "p_3.to_pickle(\"pitching_2015_2017.pkl\")"
   ]
  },
  {
   "cell_type": "code",
   "execution_count": 34,
   "metadata": {},
   "outputs": [],
   "source": [
    "b_2016_url = 'https://www.baseball-reference.com/leagues/MLB/2016-value-batting.shtml'\n",
    "\n",
    "b_2017_url = 'https://www.baseball-reference.com/leagues/MLB/2017-value-batting.shtml'\n",
    "b_table_name = 'players_value_batting'"
   ]
  },
  {
   "cell_type": "code",
   "execution_count": 35,
   "metadata": {},
   "outputs": [],
   "source": [
    "b_2017 = scrape_parse_clean_b(b_2017_url,b_table_name)\n",
    "b_2016 = scrape_parse_clean_b(b_2016_url,b_table_name)"
   ]
  },
  {
   "cell_type": "code",
   "execution_count": 36,
   "metadata": {},
   "outputs": [],
   "source": [
    "b_2016.to_pickle(\"batting_2016.pkl\")\n",
    "b_2017.to_pickle(\"batting_2017.pkl\")"
   ]
  },
  {
   "cell_type": "code",
   "execution_count": 55,
   "metadata": {},
   "outputs": [],
   "source": [
    "b_00_05 = create_train('batting',2000,2005)"
   ]
  },
  {
   "cell_type": "code",
   "execution_count": 59,
   "metadata": {},
   "outputs": [],
   "source": [
    "b_06_08 = create_train('batting',2006,2008)"
   ]
  },
  {
   "cell_type": "code",
   "execution_count": 61,
   "metadata": {},
   "outputs": [],
   "source": [
    "b_09_11 = create_train('batting',2009,2011)"
   ]
  },
  {
   "cell_type": "code",
   "execution_count": 62,
   "metadata": {},
   "outputs": [],
   "source": [
    "b_12_14 = create_train('batting',2012,2014)"
   ]
  },
  {
   "cell_type": "code",
   "execution_count": 63,
   "metadata": {},
   "outputs": [],
   "source": [
    "b_15_16 = create_train('batting',2015,2016)"
   ]
  },
  {
   "cell_type": "code",
   "execution_count": 65,
   "metadata": {},
   "outputs": [],
   "source": [
    "b_train = pd.concat([b_00_05,b_06_08,b_09_11,b_12_14,b_15_16])"
   ]
  },
  {
   "cell_type": "code",
   "execution_count": 69,
   "metadata": {},
   "outputs": [],
   "source": [
    "b_train.to_pickle('batting_00_16.pkl')"
   ]
  },
  {
   "cell_type": "code",
   "execution_count": 68,
   "metadata": {},
   "outputs": [],
   "source": [
    "b_test = scrape_parse_clean_b(2017)"
   ]
  },
  {
   "cell_type": "code",
   "execution_count": 70,
   "metadata": {},
   "outputs": [],
   "source": [
    "b_test.to_pickle('batting_17.pkl')"
   ]
  },
  {
   "cell_type": "code",
   "execution_count": 13,
   "metadata": {},
   "outputs": [
    {
     "ename": "AttributeError",
     "evalue": "'NoneType' object has no attribute 'find_all'",
     "output_type": "error",
     "traceback": [
      "\u001b[0;31m---------------------------------------------------------------------------\u001b[0m",
      "\u001b[0;31mAttributeError\u001b[0m                            Traceback (most recent call last)",
      "\u001b[0;32m<ipython-input-13-e9dc39105273>\u001b[0m in \u001b[0;36m<module>\u001b[0;34m()\u001b[0m\n\u001b[0;32m----> 1\u001b[0;31m \u001b[0mteam_2017\u001b[0m \u001b[0;34m=\u001b[0m \u001b[0mscrape_parse_clean_tb\u001b[0m\u001b[0;34m(\u001b[0m\u001b[0;34m)\u001b[0m\u001b[0;34m\u001b[0m\u001b[0m\n\u001b[0m",
      "\u001b[0;32m<ipython-input-12-72615a0b94e0>\u001b[0m in \u001b[0;36mscrape_parse_clean_tb\u001b[0;34m()\u001b[0m\n\u001b[1;32m     26\u001b[0m     \u001b[0mtable\u001b[0m \u001b[0;34m=\u001b[0m \u001b[0;34m'teamss_value_batting'\u001b[0m\u001b[0;34m\u001b[0m\u001b[0m\n\u001b[1;32m     27\u001b[0m \u001b[0;34m\u001b[0m\u001b[0m\n\u001b[0;32m---> 28\u001b[0;31m     \u001b[0mdf\u001b[0m \u001b[0;34m=\u001b[0m \u001b[0mparse_table\u001b[0m\u001b[0;34m(\u001b[0m\u001b[0msoup\u001b[0m\u001b[0;34m,\u001b[0m \u001b[0mtable\u001b[0m\u001b[0;34m)\u001b[0m\u001b[0;34m\u001b[0m\u001b[0m\n\u001b[0m\u001b[1;32m     29\u001b[0m \u001b[0;34m\u001b[0m\u001b[0m\n\u001b[1;32m     30\u001b[0m     \u001b[0;31m#clean_df = clean_batting(df,year)\u001b[0m\u001b[0;34m\u001b[0m\u001b[0;34m\u001b[0m\u001b[0m\n",
      "\u001b[0;32m<ipython-input-4-18bf7f9d1551>\u001b[0m in \u001b[0;36mparse_table\u001b[0;34m(soup, table)\u001b[0m\n\u001b[1;32m     16\u001b[0m     \u001b[0;31m#takes table with \"table_name\" from scraped website and outputs pandas dataframe\u001b[0m\u001b[0;34m\u001b[0m\u001b[0;34m\u001b[0m\u001b[0m\n\u001b[1;32m     17\u001b[0m     \u001b[0mtab\u001b[0m \u001b[0;34m=\u001b[0m \u001b[0msoup\u001b[0m\u001b[0;34m.\u001b[0m\u001b[0mfind\u001b[0m\u001b[0;34m(\u001b[0m\u001b[0;34m\"table\"\u001b[0m\u001b[0;34m,\u001b[0m\u001b[0;34m{\u001b[0m\u001b[0;34m\"id\"\u001b[0m\u001b[0;34m:\u001b[0m \u001b[0mtable\u001b[0m\u001b[0;34m}\u001b[0m\u001b[0;34m)\u001b[0m\u001b[0;34m\u001b[0m\u001b[0m\n\u001b[0;32m---> 18\u001b[0;31m     \u001b[0mrows\u001b[0m \u001b[0;34m=\u001b[0m \u001b[0mtab\u001b[0m\u001b[0;34m.\u001b[0m\u001b[0mfind_all\u001b[0m\u001b[0;34m(\u001b[0m\u001b[0;34m'tr'\u001b[0m\u001b[0;34m)\u001b[0m\u001b[0;34m\u001b[0m\u001b[0m\n\u001b[0m\u001b[1;32m     19\u001b[0m \u001b[0;34m\u001b[0m\u001b[0m\n\u001b[1;32m     20\u001b[0m     \u001b[0;31m#get header and remove leading and trailing blank strings\u001b[0m\u001b[0;34m\u001b[0m\u001b[0;34m\u001b[0m\u001b[0m\n",
      "\u001b[0;31mAttributeError\u001b[0m: 'NoneType' object has no attribute 'find_all'"
     ]
    }
   ],
   "source": [
    "team_2017 = scrape_parse_clean_tb()"
   ]
  },
  {
   "cell_type": "code",
   "execution_count": null,
   "metadata": {},
   "outputs": [],
   "source": []
  }
 ],
 "metadata": {
  "kernelspec": {
   "display_name": "Python 3",
   "language": "python",
   "name": "python3"
  },
  "language_info": {
   "codemirror_mode": {
    "name": "ipython",
    "version": 3
   },
   "file_extension": ".py",
   "mimetype": "text/x-python",
   "name": "python",
   "nbconvert_exporter": "python",
   "pygments_lexer": "ipython3",
   "version": "3.6.4"
  }
 },
 "nbformat": 4,
 "nbformat_minor": 2
}
