{
 "cells": [
  {
   "cell_type": "code",
   "execution_count": 1,
   "metadata": {},
   "outputs": [],
   "source": [
    "url = 'https://inflationdata.com/Inflation/Consumer_Price_Index/CurrentCPI.asp?reloaded=true'"
   ]
  },
  {
   "cell_type": "code",
   "execution_count": 2,
   "metadata": {},
   "outputs": [],
   "source": [
    "from bs4 import BeautifulSoup\n",
    "from selenium import webdriver\n",
    "import pandas as pd\n",
    "import html5lib\n",
    "import requests\n",
    "import numpy as np\n",
    "import os\n"
   ]
  },
  {
   "cell_type": "code",
   "execution_count": 23,
   "metadata": {},
   "outputs": [],
   "source": [
    "def scrape(url):\n",
    "    chromedriver = \"/Users/ryanmurray/Downloads/chromedriver\" # path to the chromedriver executable\n",
    "    os.environ[\"webdriver.chrome.driver\"] = chromedriver\n",
    "\n",
    "\n",
    "    driver = webdriver.Chrome(chromedriver)\n",
    "\n",
    "    driver.get(url)\n",
    "    soup = BeautifulSoup(driver.page_source,'lxml')\n",
    "    driver.quit()\n",
    "    \n",
    "    return soup\n",
    "\n",
    "def parse_table(soup,table=\"table_name\"):\n",
    "    \n",
    "    #takes table with \"table_name\" from scraped website and outputs pandas dataframe\n",
    "    tab = soup.find(\"table\",{\"id\": table})\n",
    "    rows = tab.find_all('tr')\n",
    "    \n",
    "    #get header and remove leading and trailing blank strings\n",
    "    header = rows[0].text.split('\\n')\n",
    "\n",
    "    \n",
    "    #create list of rows\n",
    "    rows_list = []\n",
    "    for row in rows:\n",
    "        cur_row = []\n",
    "        for c in row:\n",
    "            try: cur_row.append(c.text)\n",
    "            except: cur_row.append('')\n",
    "        if len(cur_row) == len(header):\n",
    "            rows_list.append(cur_row)\n",
    "            \n",
    "    return pd.DataFrame(rows_list,columns=header)"
   ]
  },
  {
   "cell_type": "code",
   "execution_count": 4,
   "metadata": {},
   "outputs": [],
   "source": [
    "soup = scrape(url)"
   ]
  },
  {
   "cell_type": "code",
   "execution_count": 24,
   "metadata": {},
   "outputs": [],
   "source": [
    "inf = parse_table(soup,'table2')"
   ]
  },
  {
   "cell_type": "code",
   "execution_count": 29,
   "metadata": {},
   "outputs": [],
   "source": [
    "tab = soup.find('table',{'id':'table2'})"
   ]
  },
  {
   "cell_type": "code",
   "execution_count": 58,
   "metadata": {},
   "outputs": [],
   "source": [
    "rows = tab.find_all('tr')"
   ]
  },
  {
   "cell_type": "code",
   "execution_count": 59,
   "metadata": {},
   "outputs": [],
   "source": [
    "header = []\n",
    "for r in rows[0]:\n",
    "    header.append(r.text)"
   ]
  },
  {
   "cell_type": "code",
   "execution_count": 60,
   "metadata": {},
   "outputs": [
    {
     "data": {
      "text/plain": [
       "['Year',\n",
       " 'Jan',\n",
       " 'Feb',\n",
       " 'Mar',\n",
       " 'Apr',\n",
       " 'May',\n",
       " 'Jun',\n",
       " 'Jul',\n",
       " 'Aug',\n",
       " 'Sep',\n",
       " 'Oct',\n",
       " 'Nov',\n",
       " 'Dec',\n",
       " 'Ave']"
      ]
     },
     "execution_count": 60,
     "metadata": {},
     "output_type": "execute_result"
    }
   ],
   "source": [
    "header"
   ]
  },
  {
   "cell_type": "code",
   "execution_count": 65,
   "metadata": {},
   "outputs": [],
   "source": [
    "rows_list = []\n",
    "for row in rows[1:]:\n",
    "    cur_row = []\n",
    "    for d in row:\n",
    "        cur_row.append(d.text)\n",
    "    rows_list.append(cur_row)"
   ]
  },
  {
   "cell_type": "code",
   "execution_count": 54,
   "metadata": {},
   "outputs": [],
   "source": [
    "r2 = []\n",
    "for r in rows[2]:\n",
    "    r2.append(r.text)"
   ]
  },
  {
   "cell_type": "code",
   "execution_count": 64,
   "metadata": {},
   "outputs": [
    {
     "name": "stdout",
     "output_type": "stream",
     "text": [
      "2016\n",
      "236.916\n",
      "237.111\n",
      "238.132\n",
      "239.261\n",
      "240.229\n",
      "241.018\n",
      "240.628\n",
      "240.849\n",
      "241.428\n",
      "241.729\n",
      "241.353\n",
      "241.432\n",
      "240.008\n"
     ]
    }
   ],
   "source": [
    "for r in rows[3]:\n",
    "    print(r.text)"
   ]
  },
  {
   "cell_type": "code",
   "execution_count": 66,
   "metadata": {},
   "outputs": [
    {
     "data": {
      "text/plain": [
       "[['2018',\n",
       "  '247.867',\n",
       "  '248.991',\n",
       "  '249.554',\n",
       "  'NA',\n",
       "  'NA',\n",
       "  'NA',\n",
       "  'NA',\n",
       "  'NA',\n",
       "  'NA',\n",
       "  'NA',\n",
       "  'NA',\n",
       "  'NA',\n",
       "  'NA'],\n",
       " ['2017',\n",
       "  '242.839',\n",
       "  '243.603',\n",
       "  '243.801',\n",
       "  '244.524',\n",
       "  '244.733',\n",
       "  '244.955',\n",
       "  '244.786',\n",
       "  '245.519',\n",
       "  '246.819',\n",
       "  '246.663',\n",
       "  '246.669',\n",
       "  '246.524',\n",
       "  '245.120'],\n",
       " ['2016',\n",
       "  '236.916',\n",
       "  '237.111',\n",
       "  '238.132',\n",
       "  '239.261',\n",
       "  '240.229',\n",
       "  '241.018',\n",
       "  '240.628',\n",
       "  '240.849',\n",
       "  '241.428',\n",
       "  '241.729',\n",
       "  '241.353',\n",
       "  '241.432',\n",
       "  '240.008'],\n",
       " ['2015',\n",
       "  '233.707',\n",
       "  '234.722',\n",
       "  '236.119',\n",
       "  '236.599',\n",
       "  '237.805',\n",
       "  '238.638',\n",
       "  '238.654',\n",
       "  '238.316',\n",
       "  '237.945',\n",
       "  '237.838',\n",
       "  '237.336',\n",
       "  '236.525',\n",
       "  '237.017'],\n",
       " ['2014',\n",
       "  '233.916',\n",
       "  '234.781',\n",
       "  '236.293',\n",
       "  '237.072',\n",
       "  '237.900',\n",
       "  '238.343',\n",
       "  '238.250',\n",
       "  '237.852',\n",
       "  '238.031',\n",
       "  '237.433',\n",
       "  '236.151',\n",
       "  '234.812',\n",
       "  '236.736'],\n",
       " ['2013',\n",
       "  '230.280',\n",
       "  '232.166',\n",
       "  '232.773',\n",
       "  '232.531',\n",
       "  '232.945',\n",
       "  '233.504',\n",
       "  '233.596',\n",
       "  '233.877',\n",
       "  '234.149',\n",
       "  '233.546',\n",
       "  '233.069',\n",
       "  '233.049',\n",
       "  '232.957'],\n",
       " ['2012',\n",
       "  '226.665',\n",
       "  '227.663',\n",
       "  '229.392',\n",
       "  '230.085',\n",
       "  '229.815',\n",
       "  '229.478',\n",
       "  '229.104',\n",
       "  '230.379',\n",
       "  '231.407',\n",
       "  '231.317',\n",
       "  '230.221',\n",
       "  '229.601',\n",
       "  '229.594'],\n",
       " ['2011',\n",
       "  '220.223',\n",
       "  '221.309',\n",
       "  '223.467',\n",
       "  '224.906',\n",
       "  '225.964',\n",
       "  '225.722',\n",
       "  '225.922',\n",
       "  '226.545',\n",
       "  '226.889',\n",
       "  '226.421',\n",
       "  '226.230',\n",
       "  '225.672',\n",
       "  '224.939'],\n",
       " ['2010',\n",
       "  '216.687',\n",
       "  '216.741',\n",
       "  '217.631',\n",
       "  '218.009',\n",
       "  '218.178',\n",
       "  '217.965',\n",
       "  '218.011',\n",
       "  '218.312',\n",
       "  '218.439',\n",
       "  '218.711',\n",
       "  '218.803',\n",
       "  '219.179',\n",
       "  '218.056'],\n",
       " ['2009',\n",
       "  '211.143',\n",
       "  '212.193',\n",
       "  '212.709',\n",
       "  '213.240',\n",
       "  '213.856',\n",
       "  '215.693',\n",
       "  '215.351',\n",
       "  '215.834',\n",
       "  '215.969',\n",
       "  '216.177',\n",
       "  '216.330',\n",
       "  '215.949',\n",
       "  '214.537'],\n",
       " ['2008',\n",
       "  '211.080',\n",
       "  '211.693',\n",
       "  '213.528',\n",
       "  '214.823',\n",
       "  '216.632',\n",
       "  '218.815',\n",
       "  '219.964',\n",
       "  '219.086',\n",
       "  '218.783',\n",
       "  '216.573',\n",
       "  '212.425',\n",
       "  '210.228',\n",
       "  '215.303'],\n",
       " ['2007',\n",
       "  '202.416',\n",
       "  '203.499',\n",
       "  '205.352',\n",
       "  '206.686',\n",
       "  '207.949',\n",
       "  '208.352',\n",
       "  '208.299',\n",
       "  '207.917',\n",
       "  '208.490',\n",
       "  '208.936',\n",
       "  '210.177',\n",
       "  '210.036',\n",
       "  '207.342'],\n",
       " ['2006',\n",
       "  '198.300',\n",
       "  '198.700',\n",
       "  '199.800',\n",
       "  '201.500',\n",
       "  '202.500',\n",
       "  '202.900',\n",
       "  '203.500',\n",
       "  '203.900',\n",
       "  '202.900',\n",
       "  '201.800',\n",
       "  '201.500',\n",
       "  '201.800',\n",
       "  '201.600'],\n",
       " ['2005',\n",
       "  '190.700',\n",
       "  '191.800',\n",
       "  '193.300',\n",
       "  '194.600',\n",
       "  '194.400',\n",
       "  '194.500',\n",
       "  '195.400',\n",
       "  '196.400',\n",
       "  '198.800',\n",
       "  '199.200',\n",
       "  '197.600',\n",
       "  '196.800',\n",
       "  '195.300'],\n",
       " ['2004',\n",
       "  '185.200',\n",
       "  '186.200',\n",
       "  '187.400',\n",
       "  '188.000',\n",
       "  '189.100',\n",
       "  '189.700',\n",
       "  '189.400',\n",
       "  '189.500',\n",
       "  '189.900',\n",
       "  '190.900',\n",
       "  '191.000',\n",
       "  '190.300',\n",
       "  '188.900'],\n",
       " ['2003',\n",
       "  '181.700',\n",
       "  '183.100',\n",
       "  '184.200',\n",
       "  '183.800',\n",
       "  '183.500',\n",
       "  '183.700',\n",
       "  '183.900',\n",
       "  '184.600',\n",
       "  '185.200',\n",
       "  '185.000',\n",
       "  '184.500',\n",
       "  '184.300',\n",
       "  '183.960'],\n",
       " ['2002',\n",
       "  '177.100',\n",
       "  '177.800',\n",
       "  '178.800',\n",
       "  '179.800',\n",
       "  '179.800',\n",
       "  '179.900',\n",
       "  '180.100',\n",
       "  '180.700',\n",
       "  '181.000',\n",
       "  '181.300',\n",
       "  '181.300',\n",
       "  '180.900',\n",
       "  '179.880'],\n",
       " ['2001',\n",
       "  '175.100',\n",
       "  '175.800',\n",
       "  '176.200',\n",
       "  '176.900',\n",
       "  '177.700',\n",
       "  '178.000',\n",
       "  '177.500',\n",
       "  '177.500',\n",
       "  '178.300',\n",
       "  '177.700',\n",
       "  '177.400',\n",
       "  '176.700',\n",
       "  '177.070'],\n",
       " ['2000',\n",
       "  '168.800',\n",
       "  '169.800',\n",
       "  '171.200',\n",
       "  '171.300',\n",
       "  '171.500',\n",
       "  '172.400',\n",
       "  '172.800',\n",
       "  '172.800',\n",
       "  '173.700',\n",
       "  '174.000',\n",
       "  '174.100',\n",
       "  '174.000',\n",
       "  '172.200'],\n",
       " ['Get full Historical CPI Data since 1913 from  InflationData.com \\xa0\\xa0\\xa0\\xa0\\xa0\\xa0\\xa0\\xa0\\xa0Web Masters: Get This Widget']]"
      ]
     },
     "execution_count": 66,
     "metadata": {},
     "output_type": "execute_result"
    }
   ],
   "source": [
    "rows_list"
   ]
  },
  {
   "cell_type": "code",
   "execution_count": 2,
   "metadata": {},
   "outputs": [
    {
     "ename": "NameError",
     "evalue": "name 'pd' is not defined",
     "output_type": "error",
     "traceback": [
      "\u001b[0;31m---------------------------------------------------------------------------\u001b[0m",
      "\u001b[0;31mNameError\u001b[0m                                 Traceback (most recent call last)",
      "\u001b[0;32m<ipython-input-2-c6dc4b69bd12>\u001b[0m in \u001b[0;36m<module>\u001b[0;34m()\u001b[0m\n\u001b[0;32m----> 1\u001b[0;31m \u001b[0minflation\u001b[0m \u001b[0;34m=\u001b[0m \u001b[0mpd\u001b[0m\u001b[0;34m.\u001b[0m\u001b[0mDataFrame\u001b[0m\u001b[0;34m(\u001b[0m\u001b[0mrows_list\u001b[0m\u001b[0;34m,\u001b[0m\u001b[0mcolumns\u001b[0m\u001b[0;34m=\u001b[0m\u001b[0mheader\u001b[0m\u001b[0;34m)\u001b[0m\u001b[0;34m.\u001b[0m\u001b[0miloc\u001b[0m\u001b[0;34m[\u001b[0m\u001b[0;36m1\u001b[0m\u001b[0;34m:\u001b[0m\u001b[0;36m19\u001b[0m\u001b[0;34m]\u001b[0m\u001b[0;34m\u001b[0m\u001b[0m\n\u001b[0m",
      "\u001b[0;31mNameError\u001b[0m: name 'pd' is not defined"
     ]
    }
   ],
   "source": [
    "inflation = pd.DataFrame(rows_list,columns=header).iloc[1:19]"
   ]
  },
  {
   "cell_type": "code",
   "execution_count": 84,
   "metadata": {},
   "outputs": [],
   "source": [
    "inflation.to_pickle('inflation.pkl')"
   ]
  },
  {
   "cell_type": "code",
   "execution_count": 1,
   "metadata": {},
   "outputs": [
    {
     "ename": "NameError",
     "evalue": "name 'inflation' is not defined",
     "output_type": "error",
     "traceback": [
      "\u001b[0;31m---------------------------------------------------------------------------\u001b[0m",
      "\u001b[0;31mNameError\u001b[0m                                 Traceback (most recent call last)",
      "\u001b[0;32m<ipython-input-1-af069c98839d>\u001b[0m in \u001b[0;36m<module>\u001b[0;34m()\u001b[0m\n\u001b[0;32m----> 1\u001b[0;31m \u001b[0minflation\u001b[0m\u001b[0;34m\u001b[0m\u001b[0m\n\u001b[0m",
      "\u001b[0;31mNameError\u001b[0m: name 'inflation' is not defined"
     ]
    }
   ],
   "source": [
    "inflation"
   ]
  },
  {
   "cell_type": "code",
   "execution_count": 86,
   "metadata": {},
   "outputs": [],
   "source": [
    "ave = inflation[['Year','Ave']]"
   ]
  },
  {
   "cell_type": "code",
   "execution_count": 87,
   "metadata": {},
   "outputs": [
    {
     "name": "stderr",
     "output_type": "stream",
     "text": [
      "/usr/local/lib/python3.6/site-packages/ipykernel_launcher.py:4: SettingWithCopyWarning: \n",
      "A value is trying to be set on a copy of a slice from a DataFrame.\n",
      "Try using .loc[row_indexer,col_indexer] = value instead\n",
      "\n",
      "See the caveats in the documentation: http://pandas.pydata.org/pandas-docs/stable/indexing.html#indexing-view-versus-copy\n",
      "  after removing the cwd from sys.path.\n"
     ]
    }
   ],
   "source": [
    "cols = ave.columns.tolist()\n",
    "for col in cols:\n",
    "    try:\n",
    "        ave[col] = pd.to_numeric(ave[col])\n",
    "    except:\n",
    "        pass"
   ]
  },
  {
   "cell_type": "code",
   "execution_count": 88,
   "metadata": {},
   "outputs": [
    {
     "data": {
      "text/html": [
       "<div>\n",
       "<style scoped>\n",
       "    .dataframe tbody tr th:only-of-type {\n",
       "        vertical-align: middle;\n",
       "    }\n",
       "\n",
       "    .dataframe tbody tr th {\n",
       "        vertical-align: top;\n",
       "    }\n",
       "\n",
       "    .dataframe thead th {\n",
       "        text-align: right;\n",
       "    }\n",
       "</style>\n",
       "<table border=\"1\" class=\"dataframe\">\n",
       "  <thead>\n",
       "    <tr style=\"text-align: right;\">\n",
       "      <th></th>\n",
       "      <th>Year</th>\n",
       "      <th>Ave</th>\n",
       "    </tr>\n",
       "  </thead>\n",
       "  <tbody>\n",
       "    <tr>\n",
       "      <th>1</th>\n",
       "      <td>2017</td>\n",
       "      <td>245.120</td>\n",
       "    </tr>\n",
       "    <tr>\n",
       "      <th>2</th>\n",
       "      <td>2016</td>\n",
       "      <td>240.008</td>\n",
       "    </tr>\n",
       "    <tr>\n",
       "      <th>3</th>\n",
       "      <td>2015</td>\n",
       "      <td>237.017</td>\n",
       "    </tr>\n",
       "    <tr>\n",
       "      <th>4</th>\n",
       "      <td>2014</td>\n",
       "      <td>236.736</td>\n",
       "    </tr>\n",
       "    <tr>\n",
       "      <th>5</th>\n",
       "      <td>2013</td>\n",
       "      <td>232.957</td>\n",
       "    </tr>\n",
       "    <tr>\n",
       "      <th>6</th>\n",
       "      <td>2012</td>\n",
       "      <td>229.594</td>\n",
       "    </tr>\n",
       "    <tr>\n",
       "      <th>7</th>\n",
       "      <td>2011</td>\n",
       "      <td>224.939</td>\n",
       "    </tr>\n",
       "    <tr>\n",
       "      <th>8</th>\n",
       "      <td>2010</td>\n",
       "      <td>218.056</td>\n",
       "    </tr>\n",
       "    <tr>\n",
       "      <th>9</th>\n",
       "      <td>2009</td>\n",
       "      <td>214.537</td>\n",
       "    </tr>\n",
       "    <tr>\n",
       "      <th>10</th>\n",
       "      <td>2008</td>\n",
       "      <td>215.303</td>\n",
       "    </tr>\n",
       "    <tr>\n",
       "      <th>11</th>\n",
       "      <td>2007</td>\n",
       "      <td>207.342</td>\n",
       "    </tr>\n",
       "    <tr>\n",
       "      <th>12</th>\n",
       "      <td>2006</td>\n",
       "      <td>201.600</td>\n",
       "    </tr>\n",
       "    <tr>\n",
       "      <th>13</th>\n",
       "      <td>2005</td>\n",
       "      <td>195.300</td>\n",
       "    </tr>\n",
       "    <tr>\n",
       "      <th>14</th>\n",
       "      <td>2004</td>\n",
       "      <td>188.900</td>\n",
       "    </tr>\n",
       "    <tr>\n",
       "      <th>15</th>\n",
       "      <td>2003</td>\n",
       "      <td>183.960</td>\n",
       "    </tr>\n",
       "    <tr>\n",
       "      <th>16</th>\n",
       "      <td>2002</td>\n",
       "      <td>179.880</td>\n",
       "    </tr>\n",
       "    <tr>\n",
       "      <th>17</th>\n",
       "      <td>2001</td>\n",
       "      <td>177.070</td>\n",
       "    </tr>\n",
       "    <tr>\n",
       "      <th>18</th>\n",
       "      <td>2000</td>\n",
       "      <td>172.200</td>\n",
       "    </tr>\n",
       "  </tbody>\n",
       "</table>\n",
       "</div>"
      ],
      "text/plain": [
       "    Year      Ave\n",
       "1   2017  245.120\n",
       "2   2016  240.008\n",
       "3   2015  237.017\n",
       "4   2014  236.736\n",
       "5   2013  232.957\n",
       "6   2012  229.594\n",
       "7   2011  224.939\n",
       "8   2010  218.056\n",
       "9   2009  214.537\n",
       "10  2008  215.303\n",
       "11  2007  207.342\n",
       "12  2006  201.600\n",
       "13  2005  195.300\n",
       "14  2004  188.900\n",
       "15  2003  183.960\n",
       "16  2002  179.880\n",
       "17  2001  177.070\n",
       "18  2000  172.200"
      ]
     },
     "execution_count": 88,
     "metadata": {},
     "output_type": "execute_result"
    }
   ],
   "source": [
    "ave"
   ]
  },
  {
   "cell_type": "code",
   "execution_count": 89,
   "metadata": {},
   "outputs": [
    {
     "name": "stderr",
     "output_type": "stream",
     "text": [
      "/usr/local/lib/python3.6/site-packages/ipykernel_launcher.py:1: SettingWithCopyWarning: \n",
      "A value is trying to be set on a copy of a slice from a DataFrame.\n",
      "Try using .loc[row_indexer,col_indexer] = value instead\n",
      "\n",
      "See the caveats in the documentation: http://pandas.pydata.org/pandas-docs/stable/indexing.html#indexing-view-versus-copy\n",
      "  \"\"\"Entry point for launching an IPython kernel.\n"
     ]
    }
   ],
   "source": [
    "ave['factor'] = ave.loc[1,'Ave']/ave['Ave']"
   ]
  },
  {
   "cell_type": "code",
   "execution_count": 99,
   "metadata": {},
   "outputs": [],
   "source": [
    "inf_d = ave.drop(['Ave'],axis=1).set_index(['Year']).T.to_dict()"
   ]
  },
  {
   "cell_type": "code",
   "execution_count": 102,
   "metadata": {},
   "outputs": [
    {
     "data": {
      "text/plain": [
       "1.0"
      ]
     },
     "execution_count": 102,
     "metadata": {},
     "output_type": "execute_result"
    }
   ],
   "source": [
    "inf_d[2017]['factor']"
   ]
  },
  {
   "cell_type": "code",
   "execution_count": 108,
   "metadata": {},
   "outputs": [],
   "source": [
    "new_d = {}\n",
    "for k in inf_d:\n",
    "    new_d[k] = inf_d[k]['factor']"
   ]
  },
  {
   "cell_type": "code",
   "execution_count": 109,
   "metadata": {},
   "outputs": [
    {
     "data": {
      "text/plain": [
       "{2017: 1.0,\n",
       " 2016: 1.021299290023666,\n",
       " 2015: 1.0341874211554445,\n",
       " 2014: 1.0354149770208165,\n",
       " 2013: 1.0522113523096537,\n",
       " 2012: 1.0676237183898534,\n",
       " 2011: 1.089717656786951,\n",
       " 2010: 1.1241149062626115,\n",
       " 2009: 1.1425534989302544,\n",
       " 2008: 1.1384885486964882,\n",
       " 2007: 1.1822013870802828,\n",
       " 2006: 1.215873015873016,\n",
       " 2005: 1.2550947260624679,\n",
       " 2004: 1.297617787188989,\n",
       " 2003: 1.3324635790389214,\n",
       " 2002: 1.3626862352679565,\n",
       " 2001: 1.3843112893206078,\n",
       " 2000: 1.4234610917537749}"
      ]
     },
     "execution_count": 109,
     "metadata": {},
     "output_type": "execute_result"
    }
   ],
   "source": [
    "new_d"
   ]
  },
  {
   "cell_type": "code",
   "execution_count": 110,
   "metadata": {},
   "outputs": [],
   "source": [
    "import pickle\n",
    "\n",
    "file = open('inflation_factor.pkl','wb')\n",
    "\n",
    "pickle.dump(new_d,file)"
   ]
  },
  {
   "cell_type": "code",
   "execution_count": null,
   "metadata": {},
   "outputs": [],
   "source": []
  }
 ],
 "metadata": {
  "kernelspec": {
   "display_name": "Python 3",
   "language": "python",
   "name": "python3"
  },
  "language_info": {
   "codemirror_mode": {
    "name": "ipython",
    "version": 3
   },
   "file_extension": ".py",
   "mimetype": "text/x-python",
   "name": "python",
   "nbconvert_exporter": "python",
   "pygments_lexer": "ipython3",
   "version": "3.6.4"
  }
 },
 "nbformat": 4,
 "nbformat_minor": 2
}
