{
 "cells": [
  {
   "cell_type": "code",
   "execution_count": 2,
   "metadata": {},
   "outputs": [],
   "source": [
    "from train_test_fns import *\n",
    "import re"
   ]
  },
  {
   "cell_type": "code",
   "execution_count": 3,
   "metadata": {},
   "outputs": [],
   "source": [
    "pd.set_option('display.height', 1000)\n",
    "pd.set_option('display.max_rows', 500)\n",
    "pd.set_option('display.max_columns', 500)\n",
    "pd.set_option('display.width', 1000)"
   ]
  },
  {
   "cell_type": "code",
   "execution_count": 53,
   "metadata": {},
   "outputs": [],
   "source": [
    "def fix_aoki_and_castell(name):\n",
    "    if name == 'Norichika Aoki':\n",
    "        return 'Nori Aoki'\n",
    "    elif name == 'Nicholas Castellanos':\n",
    "        return 'Nick Castellanos'\n",
    "    else: return name"
   ]
  },
  {
   "cell_type": "code",
   "execution_count": 99,
   "metadata": {},
   "outputs": [],
   "source": [
    "def combine_with_lehman_data(df):\n",
    "    players = pd.read_csv('baseballdatabank-master/core/People.csv')\n",
    "    #players = players.set_index('playerID')\n",
    "\n",
    "    drop_cols = ['deathYear','deathMonth','deathDay','deathCountry','deathState','deathCity',\n",
    "                'birthYear','birthMonth','birthDay','birthCountry','birthState','birthCity',\n",
    "                'nameGiven','weight','height','bats','throws','finalGame','retroID','bbrefID']\n",
    "    players = players.drop(drop_cols,axis=1)\n",
    "    players['fullname'] = players['nameFirst'] + ' ' + players['nameLast']\n",
    "    players = players.dropna()\n",
    "\n",
    "    players['fullname'] = players['fullname'].apply(lambda x: ''.join(re.sub(r'[^\\w\\s]','',x).split(' ')).lower())\n",
    "    \n",
    "    batting = pd.read_csv('baseballdatabank-master/core/Batting.csv')\n",
    "    bats = batting[batting['yearID'] >= 2000]\n",
    "    \n",
    "    bat_join = bats.merge(players,how='left',on='playerID')\n",
    "\n",
    "    keep_cols = ['yearID',\n",
    "     'G',\n",
    "     'AB',\n",
    "     'R',\n",
    "     'H',\n",
    "     '2B',\n",
    "     '3B',\n",
    "     'HR',\n",
    "     'RBI',\n",
    "     'SB',\n",
    "     'CS',\n",
    "     'BB',\n",
    "     'SO',\n",
    "     'IBB',\n",
    "     'HBP',\n",
    "     'SH',\n",
    "     'SF',\n",
    "     'GIDP',\n",
    "     'debut',\n",
    "     'fullname']\n",
    "\n",
    "    bat_join = bat_join[keep_cols]\n",
    "\n",
    "    bat_join.columns = [x.lower() for x in bat_join.columns]\n",
    "\n",
    "    bat_join = bat_join.groupby(['fullname','yearid','debut'],axis=0)['g','ab','r','h','2b','3b','hr','rbi','sb','cs','bb','so','ibb','hbp','sh','sf','gidp'].sum().reset_index()\n",
    "    bat_join['str_g'] = bat_join['g'].apply(str)\n",
    "    bat_join['str_year'] = bat_join['yearid'].apply(str)\n",
    "    bat_join['name_g_y'] = bat_join['fullname'] + ' ' + bat_join['str_g'] + ' ' + bat_join['str_year']\n",
    "    \n",
    "    df['str_g'] = df['g'].apply(str)\n",
    "    df['str_year'] = df['year'].apply(str)\n",
    "    df['name'] = df['name'].apply(fix_aoki_and_castell)\n",
    "    df['name_g_y'] = df['name'].apply(lambda x: ''.join(x.split(' ')).lower()) + ' ' + df['str_g'] + ' ' + df['str_year']\n",
    "    \n",
    "    df = df.merge(bat_join,how='left',on='name_g_y')\n",
    "    \n",
    "    df = df.dropna()\n",
    "\n",
    "    df['debut_year'] = df['debut'].apply(lambda x: int(x.split('-')[0]))\n",
    "\n",
    "    df['years_in_mlb'] = df['year'] - df['debut_year']\n",
    "\n",
    "    df = df.drop(['g_y','str_g_x','str_g_y','str_year_x','str_year_y','debut','debut_year','yearid','name_g_y','fullname'],axis=1)\n",
    "    return df\n",
    "\n",
    "\n"
   ]
  },
  {
   "cell_type": "code",
   "execution_count": 103,
   "metadata": {},
   "outputs": [],
   "source": [
    "train,test = load_data()\n",
    "\n",
    "train = engineer_features(train)\n",
    "test = engineer_features(test)\n",
    "\n",
    "merged_train = combine_with_lehman_data(train)\n",
    "merged_test = combine_with_lehman_data(test)"
   ]
  },
  {
   "cell_type": "code",
   "execution_count": 105,
   "metadata": {},
   "outputs": [
    {
     "name": "stdout",
     "output_type": "stream",
     "text": [
      "<class 'pandas.core.frame.DataFrame'>\n",
      "Int64Index: 5377 entries, 0 to 5394\n",
      "Data columns (total 74 columns):\n",
      "name            5377 non-null object\n",
      "age             5377 non-null int64\n",
      "g_x             5377 non-null int64\n",
      "pa              5377 non-null int64\n",
      "rbat            5377 non-null int64\n",
      "rbaser          5377 non-null int64\n",
      "rdp             5377 non-null int64\n",
      "rfield          5377 non-null int64\n",
      "rpos            5377 non-null int64\n",
      "raa             5377 non-null int64\n",
      "waa             5377 non-null float64\n",
      "rrep            5377 non-null int64\n",
      "rar             5377 non-null int64\n",
      "war             5377 non-null float64\n",
      "waawl%          5377 non-null float64\n",
      "162wl%          5377 non-null float64\n",
      "owar            5377 non-null float64\n",
      "dwar            5377 non-null float64\n",
      "orar            5377 non-null int64\n",
      "salary          5377 non-null float64\n",
      "year            5377 non-null int64\n",
      "adj_salary      5377 non-null int64\n",
      "log10_adj       5377 non-null float64\n",
      "acquired_dr     5377 non-null uint8\n",
      "acquired_fa     5377 non-null uint8\n",
      "bat_hand_lhb    5377 non-null uint8\n",
      "bat_hand_swh    5377 non-null uint8\n",
      "tm_ARI          5377 non-null uint8\n",
      "tm_ATL          5377 non-null uint8\n",
      "tm_BAL          5377 non-null uint8\n",
      "tm_BOS          5377 non-null uint8\n",
      "tm_CHC          5377 non-null uint8\n",
      "tm_CHW          5377 non-null uint8\n",
      "tm_CIN          5377 non-null uint8\n",
      "tm_CLE          5377 non-null uint8\n",
      "tm_COL          5377 non-null uint8\n",
      "tm_DET          5377 non-null uint8\n",
      "tm_HOU          5377 non-null uint8\n",
      "tm_KCR          5377 non-null uint8\n",
      "tm_LAA          5377 non-null uint8\n",
      "tm_LAD          5377 non-null uint8\n",
      "tm_MIA          5377 non-null uint8\n",
      "tm_MIL          5377 non-null uint8\n",
      "tm_MIN          5377 non-null uint8\n",
      "tm_NYM          5377 non-null uint8\n",
      "tm_NYY          5377 non-null uint8\n",
      "tm_OAK          5377 non-null uint8\n",
      "tm_PHI          5377 non-null uint8\n",
      "tm_PIT          5377 non-null uint8\n",
      "tm_SDP          5377 non-null uint8\n",
      "tm_SEA          5377 non-null uint8\n",
      "tm_SFG          5377 non-null uint8\n",
      "tm_STL          5377 non-null uint8\n",
      "tm_TBR          5377 non-null uint8\n",
      "tm_TEX          5377 non-null uint8\n",
      "tm_TOR          5377 non-null uint8\n",
      "tm_WSN          5377 non-null uint8\n",
      "ab              5377 non-null float64\n",
      "r               5377 non-null float64\n",
      "h               5377 non-null float64\n",
      "2b              5377 non-null float64\n",
      "3b              5377 non-null float64\n",
      "hr              5377 non-null float64\n",
      "rbi             5377 non-null float64\n",
      "sb              5377 non-null float64\n",
      "cs              5377 non-null float64\n",
      "bb              5377 non-null float64\n",
      "so              5377 non-null float64\n",
      "ibb             5377 non-null float64\n",
      "hbp             5377 non-null float64\n",
      "sh              5377 non-null float64\n",
      "sf              5377 non-null float64\n",
      "gidp            5377 non-null float64\n",
      "years_in_mlb    5377 non-null int64\n",
      "dtypes: float64(24), int64(15), object(1), uint8(34)\n",
      "memory usage: 1.9+ MB\n"
     ]
    }
   ],
   "source": [
    "merged_train.info()"
   ]
  },
  {
   "cell_type": "code",
   "execution_count": 37,
   "metadata": {},
   "outputs": [],
   "source": [
    "batting = pd.read_csv('baseballdatabank-master/core/Batting.csv')\n",
    "bats = batting[batting['yearID'] >= 2000]\n",
    "#bat_2000_over_100 = bat_2000_over_100.set_index('playerID')"
   ]
  },
  {
   "cell_type": "code",
   "execution_count": 15,
   "metadata": {},
   "outputs": [],
   "source": [
    "players = pd.read_csv('baseballdatabank-master/core/People.csv')\n",
    "#players = players.set_index('playerID')\n",
    "\n",
    "drop_cols = ['deathYear','deathMonth','deathDay','deathCountry','deathState','deathCity',\n",
    "            'birthYear','birthMonth','birthDay','birthCountry','birthState','birthCity',\n",
    "            'nameGiven','weight','height','bats','throws','finalGame','retroID','bbrefID']\n",
    "players = players.drop(drop_cols,axis=1)\n",
    "players['fullname'] = players['nameFirst'] + ' ' + players['nameLast']\n",
    "players = players.dropna()\n",
    "\n",
    "players['fullname'] = players['fullname'].apply(lambda x: ''.join(re.sub(r'[^\\w\\s]','',x).split(' ')).lower())"
   ]
  },
  {
   "cell_type": "code",
   "execution_count": 38,
   "metadata": {},
   "outputs": [],
   "source": [
    "bat_join = bats.merge(players,how='left',on='playerID')\n",
    "\n",
    "keep_cols = ['yearID',\n",
    " 'G',\n",
    " 'AB',\n",
    " 'R',\n",
    " 'H',\n",
    " '2B',\n",
    " '3B',\n",
    " 'HR',\n",
    " 'RBI',\n",
    " 'SB',\n",
    " 'CS',\n",
    " 'BB',\n",
    " 'SO',\n",
    " 'IBB',\n",
    " 'HBP',\n",
    " 'SH',\n",
    " 'SF',\n",
    " 'GIDP',\n",
    " 'debut',\n",
    " 'fullname']\n",
    "\n",
    "bat_join = bat_join[keep_cols]\n",
    "\n",
    "bat_join.columns = [x.lower() for x in bat_join.columns]\n",
    "\n",
    "bat_join = bat_join.groupby(['fullname','yearid','debut'],axis=0)['g','ab','r','h','2b','3b','hr','rbi','sb','cs','bb','so','ibb','hbp','sh','sf','gidp'].sum().reset_index()\n",
    "bat_join['str_g'] = bat_join['g'].apply(str)\n",
    "bat_join['str_year'] = bat_join['yearid'].apply(str)\n",
    "bat_join['name_g_y'] = bat_join['fullname'] + ' ' + bat_join['str_g'] + ' ' + bat_join['str_year']\n"
   ]
  },
  {
   "cell_type": "code",
   "execution_count": 60,
   "metadata": {},
   "outputs": [],
   "source": [
    "train['str_g'] = train['g'].apply(str)\n",
    "train['str_year'] = train['year'].apply(str)\n",
    "train['name'] = train['name'].apply(fix_aoki_and_castell)\n",
    "train['name_g_y'] = train['name'].apply(lambda x: ''.join(x.split(' ')).lower()) + ' ' + train['str_g'] + ' ' + train['str_year']\n",
    "\n",
    "test['str_g'] = test['g'].apply(str)\n",
    "test['str_year'] = test['year'].apply(str)\n",
    "test['name'] = test['name'].apply(fix_aoki_and_castell)\n",
    "test['name_g_y'] = test['name'].apply(lambda x: ''.join(x.split(' ')).lower()) + ' ' + test['str_g'] + ' ' + test['str_year']\n",
    "\n",
    "\n"
   ]
  },
  {
   "cell_type": "code",
   "execution_count": 82,
   "metadata": {},
   "outputs": [],
   "source": [
    "merged = train.merge(bat_join,how='left',on='name_g_y')\n",
    "merged_test = test.merge(bat_join,how='left',on='name_g_y')\n",
    "\n",
    "merged = merged.dropna()"
   ]
  },
  {
   "cell_type": "code",
   "execution_count": 78,
   "metadata": {},
   "outputs": [
    {
     "data": {
      "text/plain": [
       "1997"
      ]
     },
     "execution_count": 78,
     "metadata": {},
     "output_type": "execute_result"
    }
   ],
   "source": [
    "int(merged['debut'][0].split('-')[0])"
   ]
  },
  {
   "cell_type": "code",
   "execution_count": 84,
   "metadata": {},
   "outputs": [],
   "source": [
    "merged['debut_year'] = merged['debut'].apply(lambda x: int(x.split('-')[0]))"
   ]
  },
  {
   "cell_type": "code",
   "execution_count": 86,
   "metadata": {},
   "outputs": [],
   "source": [
    "merged['years_in_mlb'] = merged['year'] - merged['debut_year']"
   ]
  },
  {
   "cell_type": "code",
   "execution_count": 91,
   "metadata": {},
   "outputs": [],
   "source": [
    "merged = merged.drop(['g_y','str_g_x','str_g_y','str_year_x','str_year_y','debut','debut_year','yearid','name_g_y','fullname'],axis=1)"
   ]
  },
  {
   "cell_type": "code",
   "execution_count": 92,
   "metadata": {},
   "outputs": [
    {
     "name": "stdout",
     "output_type": "stream",
     "text": [
      "<class 'pandas.core.frame.DataFrame'>\n",
      "Int64Index: 5377 entries, 0 to 5394\n",
      "Data columns (total 74 columns):\n",
      "name            5377 non-null object\n",
      "age             5377 non-null int64\n",
      "g_x             5377 non-null int64\n",
      "pa              5377 non-null int64\n",
      "rbat            5377 non-null int64\n",
      "rbaser          5377 non-null int64\n",
      "rdp             5377 non-null int64\n",
      "rfield          5377 non-null int64\n",
      "rpos            5377 non-null int64\n",
      "raa             5377 non-null int64\n",
      "waa             5377 non-null float64\n",
      "rrep            5377 non-null int64\n",
      "rar             5377 non-null int64\n",
      "war             5377 non-null float64\n",
      "waawl%          5377 non-null float64\n",
      "162wl%          5377 non-null float64\n",
      "owar            5377 non-null float64\n",
      "dwar            5377 non-null float64\n",
      "orar            5377 non-null int64\n",
      "salary          5377 non-null float64\n",
      "year            5377 non-null int64\n",
      "adj_salary      5377 non-null int64\n",
      "log10_adj       5377 non-null float64\n",
      "acquired_dr     5377 non-null uint8\n",
      "acquired_fa     5377 non-null uint8\n",
      "bat_hand_lhb    5377 non-null uint8\n",
      "bat_hand_swh    5377 non-null uint8\n",
      "tm_ARI          5377 non-null uint8\n",
      "tm_ATL          5377 non-null uint8\n",
      "tm_BAL          5377 non-null uint8\n",
      "tm_BOS          5377 non-null uint8\n",
      "tm_CHC          5377 non-null uint8\n",
      "tm_CHW          5377 non-null uint8\n",
      "tm_CIN          5377 non-null uint8\n",
      "tm_CLE          5377 non-null uint8\n",
      "tm_COL          5377 non-null uint8\n",
      "tm_DET          5377 non-null uint8\n",
      "tm_HOU          5377 non-null uint8\n",
      "tm_KCR          5377 non-null uint8\n",
      "tm_LAA          5377 non-null uint8\n",
      "tm_LAD          5377 non-null uint8\n",
      "tm_MIA          5377 non-null uint8\n",
      "tm_MIL          5377 non-null uint8\n",
      "tm_MIN          5377 non-null uint8\n",
      "tm_NYM          5377 non-null uint8\n",
      "tm_NYY          5377 non-null uint8\n",
      "tm_OAK          5377 non-null uint8\n",
      "tm_PHI          5377 non-null uint8\n",
      "tm_PIT          5377 non-null uint8\n",
      "tm_SDP          5377 non-null uint8\n",
      "tm_SEA          5377 non-null uint8\n",
      "tm_SFG          5377 non-null uint8\n",
      "tm_STL          5377 non-null uint8\n",
      "tm_TBR          5377 non-null uint8\n",
      "tm_TEX          5377 non-null uint8\n",
      "tm_TOR          5377 non-null uint8\n",
      "tm_WSN          5377 non-null uint8\n",
      "ab              5377 non-null float64\n",
      "r               5377 non-null float64\n",
      "h               5377 non-null float64\n",
      "2b              5377 non-null float64\n",
      "3b              5377 non-null float64\n",
      "hr              5377 non-null float64\n",
      "rbi             5377 non-null float64\n",
      "sb              5377 non-null float64\n",
      "cs              5377 non-null float64\n",
      "bb              5377 non-null float64\n",
      "so              5377 non-null float64\n",
      "ibb             5377 non-null float64\n",
      "hbp             5377 non-null float64\n",
      "sh              5377 non-null float64\n",
      "sf              5377 non-null float64\n",
      "gidp            5377 non-null float64\n",
      "years_in_mlb    5377 non-null int64\n",
      "dtypes: float64(24), int64(15), object(1), uint8(34)\n",
      "memory usage: 2.0+ MB\n"
     ]
    }
   ],
   "source": [
    "merged.info()"
   ]
  },
  {
   "cell_type": "code",
   "execution_count": null,
   "metadata": {},
   "outputs": [],
   "source": []
  }
 ],
 "metadata": {
  "kernelspec": {
   "display_name": "Python 3",
   "language": "python",
   "name": "python3"
  },
  "language_info": {
   "codemirror_mode": {
    "name": "ipython",
    "version": 3
   },
   "file_extension": ".py",
   "mimetype": "text/x-python",
   "name": "python",
   "nbconvert_exporter": "python",
   "pygments_lexer": "ipython3",
   "version": "3.6.4"
  }
 },
 "nbformat": 4,
 "nbformat_minor": 2
}
