{
 "cells": [
  {
   "cell_type": "code",
   "execution_count": 1,
   "metadata": {},
   "outputs": [],
   "source": [
    "import pandas as pd\n",
    "import numpy as np"
   ]
  },
  {
   "cell_type": "code",
   "execution_count": 5,
   "metadata": {},
   "outputs": [],
   "source": [
    "train = pd.read_pickle('batting_00_16.pkl')\n",
    "test = pd.read_pickle('batting_17.pkl')"
   ]
  },
  {
   "cell_type": "code",
   "execution_count": 7,
   "metadata": {},
   "outputs": [],
   "source": [
    "train= train[train.pa>200]"
   ]
  },
  {
   "cell_type": "code",
   "execution_count": 9,
   "metadata": {},
   "outputs": [],
   "source": [
    "from sklearn import preprocessing"
   ]
  },
  {
   "cell_type": "code",
   "execution_count": 12,
   "metadata": {},
   "outputs": [
    {
     "data": {
      "text/plain": [
       "['rk',\n",
       " 'name',\n",
       " 'age',\n",
       " 'tm',\n",
       " 'g',\n",
       " 'pa',\n",
       " 'rbat',\n",
       " 'rbaser',\n",
       " 'rdp',\n",
       " 'rfield',\n",
       " 'rpos',\n",
       " 'raa',\n",
       " 'waa',\n",
       " 'rrep',\n",
       " 'rar',\n",
       " 'war',\n",
       " 'waawl%',\n",
       " '162wl%',\n",
       " 'owar',\n",
       " 'dwar',\n",
       " 'orar',\n",
       " 'salary',\n",
       " 'acquired',\n",
       " 'pos\\xa0summary',\n",
       " 'bat_hand',\n",
       " 'year',\n",
       " 'log_sal']"
      ]
     },
     "execution_count": 12,
     "metadata": {},
     "output_type": "execute_result"
    }
   ],
   "source": [
    "train.columns.tolist()"
   ]
  },
  {
   "cell_type": "code",
   "execution_count": 13,
   "metadata": {},
   "outputs": [],
   "source": [
    "norm_cols = [ 'g',\n",
    " 'pa',\n",
    " 'rbat',\n",
    " 'rbaser',\n",
    " 'rdp',\n",
    " 'rfield',\n",
    " 'rpos',\n",
    " 'raa',\n",
    " 'waa',\n",
    " 'rrep',\n",
    " 'rar',\n",
    " 'war',\n",
    " 'waawl%',\n",
    " '162wl%',\n",
    " 'owar',\n",
    " 'dwar',\n",
    " 'orar',\n",
    " 'year',]"
   ]
  },
  {
   "cell_type": "code",
   "execution_count": 22,
   "metadata": {},
   "outputs": [],
   "source": [
    "min_max_scaler = preprocessing.MinMaxScaler()\n",
    "np_scaled = min_max_scaler.fit_transform(train[norm_cols])\n",
    "df_normalized = pd.DataFrame(np_scaled)\n",
    "df_normalized.columns = norm_cols\n",
    "train_X = df_normalized\n",
    "\n",
    "\n",
    "np_scaled = min_max_scaler.fit_transform(test[norm_cols])\n",
    "df_normalized = pd.DataFrame(np_scaled)\n",
    "df_normalized.columns = norm_cols\n",
    "test_X = df_normalized"
   ]
  },
  {
   "cell_type": "code",
   "execution_count": 23,
   "metadata": {},
   "outputs": [],
   "source": [
    "train_y = train['log_sal']\n",
    "test_y = test['log_sal']"
   ]
  },
  {
   "cell_type": "code",
   "execution_count": 25,
   "metadata": {},
   "outputs": [],
   "source": [
    "from sklearn.linear_model import LinearRegression\n",
    "from sklearn.metrics import mean_squared_error"
   ]
  },
  {
   "cell_type": "code",
   "execution_count": 26,
   "metadata": {},
   "outputs": [
    {
     "name": "stdout",
     "output_type": "stream",
     "text": [
      "1.363532086218852\n"
     ]
    }
   ],
   "source": [
    "lr = LinearRegression()\n",
    "\n",
    "lr.fit(train_X, train_y)\n",
    "\n",
    "preds = lr.predict(test_X)\n",
    "\n",
    "error = mean_squared_error(test_y,preds)\n",
    "\n",
    "print(np.sqrt(error))"
   ]
  },
  {
   "cell_type": "code",
   "execution_count": 27,
   "metadata": {},
   "outputs": [],
   "source": [
    "from sklearn.feature_selection import RFE"
   ]
  },
  {
   "cell_type": "code",
   "execution_count": 29,
   "metadata": {},
   "outputs": [
    {
     "data": {
      "text/plain": [
       "RFE(estimator=LinearRegression(copy_X=True, fit_intercept=True, n_jobs=1, normalize=False),\n",
       "  n_features_to_select=None, step=1, verbose=0)"
      ]
     },
     "execution_count": 29,
     "metadata": {},
     "output_type": "execute_result"
    }
   ],
   "source": [
    "est = LinearRegression()\n",
    "selector = RFE(est)\n",
    "selector.fit(train_X,train_y)"
   ]
  },
  {
   "cell_type": "code",
   "execution_count": 30,
   "metadata": {},
   "outputs": [
    {
     "data": {
      "text/plain": [
       "array([False, False,  True, False, False,  True, False,  True,  True,\n",
       "        True,  True,  True, False, False,  True, False,  True, False])"
      ]
     },
     "execution_count": 30,
     "metadata": {},
     "output_type": "execute_result"
    }
   ],
   "source": [
    "selector.support_"
   ]
  },
  {
   "cell_type": "code",
   "execution_count": 31,
   "metadata": {},
   "outputs": [
    {
     "data": {
      "text/plain": [
       "array([ 3,  2,  1,  6,  9,  1,  5,  1,  1,  1,  1,  1, 10,  7,  1,  4,  1,\n",
       "        8])"
      ]
     },
     "execution_count": 31,
     "metadata": {},
     "output_type": "execute_result"
    }
   ],
   "source": [
    "selector.ranking_"
   ]
  },
  {
   "cell_type": "code",
   "execution_count": 32,
   "metadata": {},
   "outputs": [
    {
     "name": "stdout",
     "output_type": "stream",
     "text": [
      "2.0515784660856413\n"
     ]
    }
   ],
   "source": [
    "preds = selector.predict(test_X)\n",
    "error = mean_squared_error(test_y,preds)\n",
    "print(np.sqrt(error))"
   ]
  },
  {
   "cell_type": "code",
   "execution_count": 34,
   "metadata": {},
   "outputs": [
    {
     "data": {
      "image/png": "[encoded data removed]",
      "text/plain": [
       "<Figure size 432x288 with 1 Axes>"
      ]
     },
     "metadata": {},
     "output_type": "display_data"
    }
   ],
   "source": [
    "import matplotlib.pyplot as plt\n",
    "\n",
    "plt.hist(train['log_sal'])\n",
    "plt.show()"
   ]
  },
  {
   "cell_type": "code",
   "execution_count": null,
   "metadata": {},
   "outputs": [],
   "source": []
  }
 ],
 "metadata": {
  "kernelspec": {
   "display_name": "Python 3",
   "language": "python",
   "name": "python3"
  },
  "language_info": {
   "codemirror_mode": {
    "name": "ipython",
    "version": 3
   },
   "file_extension": ".py",
   "mimetype": "text/x-python",
   "name": "python",
   "nbconvert_exporter": "python",
   "pygments_lexer": "ipython3",
   "version": "3.6.4"
  }
 },
 "nbformat": 4,
 "nbformat_minor": 2
}
