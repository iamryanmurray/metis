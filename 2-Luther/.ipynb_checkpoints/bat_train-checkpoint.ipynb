{
 "cells": [
  {
   "cell_type": "code",
   "execution_count": 5,
   "metadata": {},
   "outputs": [],
   "source": [
    "import pandas as pd\n",
    "import numpy as np"
   ]
  },
  {
   "cell_type": "code",
   "execution_count": 135,
   "metadata": {},
   "outputs": [],
   "source": [
    "acquired_dict = {\n",
    "    \"Traded\": \"tr\",\n",
    "    \"Free Agency\": \"fa\",\n",
    "    \"Amateur Draft\": \"dr\",\n",
    "    \"Amateur Free Agent\": \"fa\",\n",
    "    \"Waivers\": \"tr\",\n",
    "    \"Purchased\":\"tr\",\n",
    "    \"Rule 5 Draft\": \"dr\",\n",
    "    \"Expansion Draft\": \"dr\",\n",
    "    \"Conditional Deal\": \"tr\",\n",
    "    \"Amateur Draft--no sign\": \"dr\",\n",
    "    \"MinorLg Draft\": \"dr\",\n",
    "    \"Rune 5 returned\": \"tr\"\n",
    "}\n",
    "\n",
    "def inflation_calc(row):\n",
    "    inf_dict = {2017: 1.0,\n",
    " 2016: 1.021299290023666,\n",
    " 2015: 1.0341874211554445,\n",
    " 2014: 1.0354149770208165,\n",
    " 2013: 1.0522113523096537,\n",
    " 2012: 1.0676237183898534,\n",
    " 2011: 1.089717656786951,\n",
    " 2010: 1.1241149062626115,\n",
    " 2009: 1.1425534989302544,\n",
    " 2008: 1.1384885486964882,\n",
    " 2007: 1.1822013870802828,\n",
    " 2006: 1.215873015873016,\n",
    " 2005: 1.2550947260624679,\n",
    " 2004: 1.297617787188989,\n",
    " 2003: 1.3324635790389214,\n",
    " 2002: 1.3626862352679565,\n",
    " 2001: 1.3843112893206078,\n",
    " 2000: 1.4234610917537749}\n",
    "    return row['salary']*inf_dict[row['year']]"
   ]
  },
  {
   "cell_type": "code",
   "execution_count": 138,
   "metadata": {},
   "outputs": [
    {
     "name": "stdout",
     "output_type": "stream",
     "text": [
      "train: (5395, 29)\n",
      "test: (315, 29)\n"
     ]
    }
   ],
   "source": [
    "train = pd.read_pickle('batting_00_16.pkl')\n",
    "test = pd.read_pickle('batting_17.pkl')\n",
    "\n",
    "train['acquired'] = train['acquired'].map(acquired_dict)\n",
    "test['acquired'] = test['acquired'].map(acquired_dict)\n",
    "\n",
    "train['adj_salary'] = train.apply(inflation_calc,axis=1)\n",
    "train['log_adj'] = np.log(train['adj_salary'])\n",
    "\n",
    "test['adj_salary'] = test.apply(inflation_calc,axis=1)\n",
    "test['log_adj'] = np.log(test['adj_salary'])\n",
    "\n",
    "train= train[train.pa>200]\n",
    "test = test[test.pa>200]\n",
    "\n",
    "\n",
    "\n",
    "\n",
    "print(\"train: {0}\".format(train.shape))\n",
    "print(\"test: {0}\".format(test.shape))"
   ]
  },
  {
   "cell_type": "code",
   "execution_count": 114,
   "metadata": {},
   "outputs": [],
   "source": []
  },
  {
   "cell_type": "code",
   "execution_count": 137,
   "metadata": {
    "scrolled": true
   },
   "outputs": [
    {
     "data": {
      "text/plain": [
       "(5395, 29)"
      ]
     },
     "execution_count": 137,
     "metadata": {},
     "output_type": "execute_result"
    }
   ],
   "source": [
    "train.shape\n"
   ]
  },
  {
   "cell_type": "code",
   "execution_count": 134,
   "metadata": {},
   "outputs": [
    {
     "data": {
      "text/plain": [
       "(315, 27)"
      ]
     },
     "execution_count": 134,
     "metadata": {},
     "output_type": "execute_result"
    }
   ],
   "source": [
    "test.shape"
   ]
  },
  {
   "cell_type": "code",
   "execution_count": 8,
   "metadata": {},
   "outputs": [],
   "source": [
    "from sklearn import preprocessing"
   ]
  },
  {
   "cell_type": "code",
   "execution_count": 9,
   "metadata": {},
   "outputs": [
    {
     "data": {
      "text/plain": [
       "['rk',\n",
       " 'name',\n",
       " 'age',\n",
       " 'tm',\n",
       " 'g',\n",
       " 'pa',\n",
       " 'rbat',\n",
       " 'rbaser',\n",
       " 'rdp',\n",
       " 'rfield',\n",
       " 'rpos',\n",
       " 'raa',\n",
       " 'waa',\n",
       " 'rrep',\n",
       " 'rar',\n",
       " 'war',\n",
       " 'waawl%',\n",
       " '162wl%',\n",
       " 'owar',\n",
       " 'dwar',\n",
       " 'orar',\n",
       " 'salary',\n",
       " 'acquired',\n",
       " 'pos\\xa0summary',\n",
       " 'bat_hand',\n",
       " 'year',\n",
       " 'log_sal']"
      ]
     },
     "execution_count": 9,
     "metadata": {},
     "output_type": "execute_result"
    }
   ],
   "source": [
    "train.columns.tolist()"
   ]
  },
  {
   "cell_type": "code",
   "execution_count": 10,
   "metadata": {},
   "outputs": [],
   "source": [
    "norm_cols = [ 'g',\n",
    " 'pa',\n",
    " 'rbat',\n",
    " 'rbaser',\n",
    " 'rdp',\n",
    " 'rfield',\n",
    " 'rpos',\n",
    " 'raa',\n",
    " 'waa',\n",
    " 'rrep',\n",
    " 'rar',\n",
    " 'war',\n",
    " 'waawl%',\n",
    " '162wl%',\n",
    " 'owar',\n",
    " 'dwar',\n",
    " 'orar',\n",
    " 'year',]"
   ]
  },
  {
   "cell_type": "code",
   "execution_count": 11,
   "metadata": {},
   "outputs": [],
   "source": [
    "min_max_scaler = preprocessing.MinMaxScaler()\n",
    "np_scaled = min_max_scaler.fit_transform(train[norm_cols])\n",
    "df_normalized = pd.DataFrame(np_scaled)\n",
    "df_normalized.columns = norm_cols\n",
    "train_X = df_normalized\n",
    "\n",
    "\n",
    "np_scaled = min_max_scaler.fit_transform(test[norm_cols])\n",
    "df_normalized = pd.DataFrame(np_scaled)\n",
    "df_normalized.columns = norm_cols\n",
    "test_X = df_normalized"
   ]
  },
  {
   "cell_type": "code",
   "execution_count": 12,
   "metadata": {},
   "outputs": [],
   "source": [
    "train_y = train['log_sal']\n",
    "test_y = test['log_sal']"
   ]
  },
  {
   "cell_type": "code",
   "execution_count": 45,
   "metadata": {},
   "outputs": [],
   "source": [
    "from sklearn.linear_model import LinearRegression\n",
    "from sklearn.metrics import mean_squared_error as MSE"
   ]
  },
  {
   "cell_type": "code",
   "execution_count": 46,
   "metadata": {},
   "outputs": [
    {
     "name": "stdout",
     "output_type": "stream",
     "text": [
      "1.363532086218852\n"
     ]
    }
   ],
   "source": [
    "lr = LinearRegression()\n",
    "\n",
    "lr.fit(train_X, train_y)\n",
    "\n",
    "preds = lr.predict(test_X)\n",
    "\n",
    "error = np.sqrt(MSE(test_y,preds))\n",
    "\n",
    "print((error))"
   ]
  },
  {
   "cell_type": "code",
   "execution_count": 15,
   "metadata": {},
   "outputs": [],
   "source": [
    "from sklearn.feature_selection import RFE"
   ]
  },
  {
   "cell_type": "code",
   "execution_count": 16,
   "metadata": {},
   "outputs": [
    {
     "data": {
      "text/plain": [
       "RFE(estimator=LinearRegression(copy_X=True, fit_intercept=True, n_jobs=1, normalize=False),\n",
       "  n_features_to_select=None, step=1, verbose=0)"
      ]
     },
     "execution_count": 16,
     "metadata": {},
     "output_type": "execute_result"
    }
   ],
   "source": [
    "est = LinearRegression()\n",
    "selector = RFE(est)\n",
    "selector.fit(train_X,train_y)"
   ]
  },
  {
   "cell_type": "code",
   "execution_count": 17,
   "metadata": {},
   "outputs": [
    {
     "data": {
      "text/plain": [
       "array([False, False,  True, False, False,  True, False,  True,  True,\n",
       "        True,  True,  True, False, False,  True, False,  True, False])"
      ]
     },
     "execution_count": 17,
     "metadata": {},
     "output_type": "execute_result"
    }
   ],
   "source": [
    "selector.support_"
   ]
  },
  {
   "cell_type": "code",
   "execution_count": 18,
   "metadata": {},
   "outputs": [
    {
     "data": {
      "text/plain": [
       "array([ 3,  2,  1,  6,  9,  1,  5,  1,  1,  1,  1,  1, 10,  7,  1,  4,  1,\n",
       "        8])"
      ]
     },
     "execution_count": 18,
     "metadata": {},
     "output_type": "execute_result"
    }
   ],
   "source": [
    "selector.ranking_"
   ]
  },
  {
   "cell_type": "code",
   "execution_count": 19,
   "metadata": {},
   "outputs": [
    {
     "name": "stdout",
     "output_type": "stream",
     "text": [
      "2.051578466085642\n"
     ]
    }
   ],
   "source": [
    "preds = selector.predict(test_X)\n",
    "error = mean_squared_error(test_y,preds)\n",
    "print(np.sqrt(error))"
   ]
  },
  {
   "cell_type": "code",
   "execution_count": 98,
   "metadata": {},
   "outputs": [
    {
     "data": {
      "image/png": "[encoded data removed]",
      "text/plain": [
       "<Figure size 432x288 with 1 Axes>"
      ]
     },
     "metadata": {},
     "output_type": "display_data"
    }
   ],
   "source": [
    "import matplotlib.pyplot as plt\n",
    "%matplotlib inline\n",
    "plt.hist(train['log10_adj'])\n",
    "plt.show()"
   ]
  },
  {
   "cell_type": "code",
   "execution_count": 99,
   "metadata": {},
   "outputs": [
    {
     "data": {
      "text/plain": [
       "3162277.6601683795"
      ]
     },
     "execution_count": 99,
     "metadata": {},
     "output_type": "execute_result"
    }
   ],
   "source": [
    "10**6.5"
   ]
  },
  {
   "cell_type": "code",
   "execution_count": 22,
   "metadata": {},
   "outputs": [],
   "source": [
    "inf_dict = {2017: 1.0,\n",
    " 2016: 1.021299290023666,\n",
    " 2015: 1.0341874211554445,\n",
    " 2014: 1.0354149770208165,\n",
    " 2013: 1.0522113523096537,\n",
    " 2012: 1.0676237183898534,\n",
    " 2011: 1.089717656786951,\n",
    " 2010: 1.1241149062626115,\n",
    " 2009: 1.1425534989302544,\n",
    " 2008: 1.1384885486964882,\n",
    " 2007: 1.1822013870802828,\n",
    " 2006: 1.215873015873016,\n",
    " 2005: 1.2550947260624679,\n",
    " 2004: 1.297617787188989,\n",
    " 2003: 1.3324635790389214,\n",
    " 2002: 1.3626862352679565,\n",
    " 2001: 1.3843112893206078,\n",
    " 2000: 1.4234610917537749}"
   ]
  },
  {
   "cell_type": "code",
   "execution_count": 23,
   "metadata": {},
   "outputs": [],
   "source": [
    "def inflation_calc(row):\n",
    "    inf_dict = {2017: 1.0,\n",
    " 2016: 1.021299290023666,\n",
    " 2015: 1.0341874211554445,\n",
    " 2014: 1.0354149770208165,\n",
    " 2013: 1.0522113523096537,\n",
    " 2012: 1.0676237183898534,\n",
    " 2011: 1.089717656786951,\n",
    " 2010: 1.1241149062626115,\n",
    " 2009: 1.1425534989302544,\n",
    " 2008: 1.1384885486964882,\n",
    " 2007: 1.1822013870802828,\n",
    " 2006: 1.215873015873016,\n",
    " 2005: 1.2550947260624679,\n",
    " 2004: 1.297617787188989,\n",
    " 2003: 1.3324635790389214,\n",
    " 2002: 1.3626862352679565,\n",
    " 2001: 1.3843112893206078,\n",
    " 2000: 1.4234610917537749}\n",
    "    return row['salary']*inf_dict[row['year']]"
   ]
  },
  {
   "cell_type": "code",
   "execution_count": 28,
   "metadata": {},
   "outputs": [],
   "source": [
    "train['adj_salary'] = train.apply(inflation_calc,axis=1)\n",
    "train['log_adj'] = np.log(train['adj_salary'])\n",
    "\n",
    "test['adj_salary'] = test.apply(inflation_calc,axis=1)\n",
    "test['log_adj'] = np.log(test['adj_salary'])"
   ]
  },
  {
   "cell_type": "code",
   "execution_count": 33,
   "metadata": {},
   "outputs": [
    {
     "data": {
      "text/plain": [
       "(array([128., 298., 377., 464., 515., 492., 427., 407., 144.,  21.]),\n",
       " array([13.8728431 , 14.23008717, 14.58733124, 14.94457531, 15.30181938,\n",
       "        15.65906345, 16.01630751, 16.37355158, 16.73079565, 17.08803972,\n",
       "        17.44528379]),\n",
       " <a list of 10 Patch objects>)"
      ]
     },
     "execution_count": 33,
     "metadata": {},
     "output_type": "execute_result"
    },
    {
     "data": {
      "image/png": "[encoded data removed]",
      "text/plain": [
       "<Figure size 432x288 with 1 Axes>"
      ]
     },
     "metadata": {},
     "output_type": "display_data"
    }
   ],
   "source": [
    "train_filter = train[train.salary > 1000000]\n",
    "plt.hist(train_filter['log_adj'])"
   ]
  },
  {
   "cell_type": "code",
   "execution_count": 100,
   "metadata": {},
   "outputs": [
    {
     "data": {
      "text/plain": [
       "(array([44., 50., 47., 55., 71., 55., 47., 49., 38.,  7.]),\n",
       " array([6.0211893 , 6.1741805 , 6.3271717 , 6.4801629 , 6.6331541 ,\n",
       "        6.78614531, 6.93913651, 7.09212771, 7.24511891, 7.39811011,\n",
       "        7.55110131]),\n",
       " <a list of 10 Patch objects>)"
      ]
     },
     "execution_count": 100,
     "metadata": {},
     "output_type": "execute_result"
    },
    {
     "data": {
      "image/png": "[encoded data removed]",
      "text/plain": [
       "<Figure size 432x288 with 1 Axes>"
      ]
     },
     "metadata": {},
     "output_type": "display_data"
    }
   ],
   "source": [
    "test_filter = test[test.salary > 1000000]\n",
    "\n",
    "plt.hist(test_filter['log10_adj'])"
   ]
  },
  {
   "cell_type": "code",
   "execution_count": 61,
   "metadata": {},
   "outputs": [
    {
     "name": "stdout",
     "output_type": "stream",
     "text": [
      "1.1365650995009282\n",
      "3.1160466515196212\n"
     ]
    }
   ],
   "source": [
    "train['adj_salary'] = train.apply(inflation_calc,axis=1)\n",
    "train['log_adj'] = np.log(train['adj_salary'])\n",
    "\n",
    "test['adj_salary'] = test.apply(inflation_calc,axis=1)\n",
    "test['log_adj'] = np.log(test['adj_salary'])\n",
    "\n",
    "train_filter = train[train.salary > 1000000]\n",
    "test_filter = test[test.salary > 1000000]\n",
    "\n",
    "\n",
    "min_max_scaler = preprocessing.MinMaxScaler()\n",
    "np_scaled = min_max_scaler.fit_transform(train_filter[norm_cols])\n",
    "df_normalized = pd.DataFrame(np_scaled)\n",
    "df_normalized.columns = norm_cols\n",
    "train_X_f = df_normalized\n",
    "\n",
    "\n",
    "np_scaled = min_max_scaler.fit_transform(test_filter[norm_cols])\n",
    "df_normalized = pd.DataFrame(np_scaled)\n",
    "df_normalized.columns = norm_cols\n",
    "test_X_f = df_normalized\n",
    "\n",
    "train_y_f = train_filter['log_adj']\n",
    "test_y_f = test_filter['log_adj']\n",
    "\n",
    "lr = LinearRegression()\n",
    "\n",
    "lr.fit(train_X_f, train_y_f)\n",
    "\n",
    "preds = lr.predict(test_X_f)\n",
    "\n",
    "error = np.sqrt(MSE(test_y_f,preds))\n",
    "\n",
    "print((error))\n",
    "print(np.exp(error))"
   ]
  },
  {
   "cell_type": "code",
   "execution_count": 53,
   "metadata": {},
   "outputs": [],
   "source": []
  },
  {
   "cell_type": "code",
   "execution_count": 50,
   "metadata": {},
   "outputs": [
    {
     "data": {
      "text/plain": [
       "(463,)"
      ]
     },
     "execution_count": 50,
     "metadata": {},
     "output_type": "execute_result"
    }
   ],
   "source": [
    "test_y_f.shape"
   ]
  },
  {
   "cell_type": "code",
   "execution_count": 57,
   "metadata": {},
   "outputs": [
    {
     "name": "stdout",
     "output_type": "stream",
     "text": [
      "0.4936039510370742\n",
      "1.6382096210748078\n"
     ]
    }
   ],
   "source": [
    "lr = LinearRegression()\n",
    "\n",
    "lr.fit(train_X_f, train_y_f)\n",
    "\n",
    "preds = lr.predict(test_X_f)\n",
    "\n",
    "error = np.sqrt(MSE(test_y_f,preds))\n",
    "\n",
    "print((error))\n",
    "print(np.exp(error))"
   ]
  },
  {
   "cell_type": "code",
   "execution_count": 62,
   "metadata": {},
   "outputs": [
    {
     "name": "stdout",
     "output_type": "stream",
     "text": [
      "0.4936039510370742\n",
      "3.1160466515196266\n"
     ]
    }
   ],
   "source": [
    "train['adj_salary'] = train.apply(inflation_calc,axis=1)\n",
    "train['log10_adj'] = np.log10(train['adj_salary'])\n",
    "\n",
    "test['adj_salary'] = test.apply(inflation_calc,axis=1)\n",
    "test['log10_adj'] = np.log10(test['adj_salary'])\n",
    "\n",
    "train_filter = train[train.salary > 1000000]\n",
    "test_filter = test[test.salary > 1000000]\n",
    "\n",
    "\n",
    "\n",
    "min_max_scaler = preprocessing.MinMaxScaler()\n",
    "np_scaled = min_max_scaler.fit_transform(train_filter[norm_cols])\n",
    "df_normalized = pd.DataFrame(np_scaled)\n",
    "df_normalized.columns = norm_cols\n",
    "train_X_f = df_normalized\n",
    "\n",
    "\n",
    "np_scaled = min_max_scaler.fit_transform(test_filter[norm_cols])\n",
    "df_normalized = pd.DataFrame(np_scaled)\n",
    "df_normalized.columns = norm_cols\n",
    "test_X_f = df_normalized\n",
    "\n",
    "train_y_f = train_filter['log10_adj']\n",
    "test_y_f = test_filter['log10_adj']\n",
    "\n",
    "lr = LinearRegression()\n",
    "\n",
    "lr.fit(train_X_f, train_y_f)\n",
    "\n",
    "preds = lr.predict(test_X_f)\n",
    "\n",
    "error = np.sqrt(MSE(test_y_f,preds))\n",
    "\n",
    "print((error))\n",
    "\n",
    "print(10**error)"
   ]
  },
  {
   "cell_type": "code",
   "execution_count": 59,
   "metadata": {},
   "outputs": [
    {
     "data": {
      "text/plain": [
       "(array([128., 298., 377., 464., 515., 492., 427., 407., 144.,  21.]),\n",
       " array([6.02489921, 6.18004834, 6.33519746, 6.49034659, 6.64549572,\n",
       "        6.80064485, 6.95579397, 7.1109431 , 7.26609223, 7.42124136,\n",
       "        7.57639048]),\n",
       " <a list of 10 Patch objects>)"
      ]
     },
     "execution_count": 59,
     "metadata": {},
     "output_type": "execute_result"
    },
    {
     "data": {
      "image/png": "[encoded data removed]",
      "text/plain": [
       "<Figure size 432x288 with 1 Axes>"
      ]
     },
     "metadata": {},
     "output_type": "display_data"
    }
   ],
   "source": [
    "plt.hist(train_filter['log10_adj'])"
   ]
  },
  {
   "cell_type": "code",
   "execution_count": 60,
   "metadata": {},
   "outputs": [
    {
     "data": {
      "text/plain": [
       "(array([128., 298., 377., 464., 515., 492., 427., 407., 144.,  21.]),\n",
       " array([13.8728431 , 14.23008717, 14.58733124, 14.94457531, 15.30181938,\n",
       "        15.65906345, 16.01630751, 16.37355158, 16.73079565, 17.08803972,\n",
       "        17.44528379]),\n",
       " <a list of 10 Patch objects>)"
      ]
     },
     "execution_count": 60,
     "metadata": {},
     "output_type": "execute_result"
    },
    {
     "data": {
      "image/png": "[encoded data removed]",
      "text/plain": [
       "<Figure size 432x288 with 1 Axes>"
      ]
     },
     "metadata": {},
     "output_type": "display_data"
    }
   ],
   "source": [
    "plt.hist(train_filter['log_adj'])"
   ]
  },
  {
   "cell_type": "code",
   "execution_count": 119,
   "metadata": {},
   "outputs": [],
   "source": [
    "def train_and_test(train,test,cols,cutoff = 1000000):\n",
    "    train_filter = train[train.salary > cutoff]\n",
    "    test_filter = test[test.salary > cutoff]\n",
    "    \n",
    "    \n",
    "    min_max_scaler = preprocessing.MinMaxScaler()\n",
    "    np_scaled = min_max_scaler.fit_transform(train_filter[cols])\n",
    "    df_normalized = pd.DataFrame(np_scaled)\n",
    "    df_normalized.columns = cols\n",
    "    train_X_f = df_normalized\n",
    "\n",
    "\n",
    "    np_scaled = min_max_scaler.fit_transform(test_filter[cols])\n",
    "    df_normalized = pd.DataFrame(np_scaled)\n",
    "    df_normalized.columns = cols\n",
    "    test_X_f = df_normalized\n",
    "    \n",
    "    train_y_f = train_filter['log10_adj']\n",
    "    test_y_f = test_filter['log10_adj']\n",
    "    \n",
    "    lr = LinearRegression()\n",
    "\n",
    "    lr.fit(train_X_f, train_y_f)\n",
    "\n",
    "    preds = lr.predict(test_X_f)\n",
    "\n",
    "    error = np.sqrt(MSE(test_y_f,preds))\n",
    "    \n",
    "    return \"The error is a factor of {0}\".format(round(10**error,2))"
   ]
  },
  {
   "cell_type": "code",
   "execution_count": 106,
   "metadata": {},
   "outputs": [
    {
     "name": "stdout",
     "output_type": "stream",
     "text": [
      "The error is a factor of 1.19\n"
     ]
    }
   ],
   "source": [
    "print(train_and_test(train,test,norm_cols,1000000))"
   ]
  },
  {
   "cell_type": "code",
   "execution_count": 94,
   "metadata": {},
   "outputs": [],
   "source": [
    "test_cutoffs = [(i+1)*100000 for i in range(20)]"
   ]
  },
  {
   "cell_type": "code",
   "execution_count": 120,
   "metadata": {},
   "outputs": [
    {
     "name": "stdout",
     "output_type": "stream",
     "text": [
      "Minimum Salary = $100000\n",
      "The error is a factor of 5.72\n",
      "Minimum Salary = $200000\n",
      "The error is a factor of 5.67\n",
      "Minimum Salary = $300000\n",
      "The error is a factor of 5.17\n",
      "Minimum Salary = $400000\n",
      "The error is a factor of 3.75\n",
      "Minimum Salary = $500000\n",
      "The error is a factor of 4.59\n",
      "Minimum Salary = $600000\n",
      "The error is a factor of 2.46\n",
      "Minimum Salary = $700000\n",
      "The error is a factor of 2.49\n",
      "Minimum Salary = $800000\n",
      "The error is a factor of 2.5\n",
      "Minimum Salary = $900000\n",
      "The error is a factor of 2.43\n",
      "Minimum Salary = $1000000\n",
      "The error is a factor of 2.3\n",
      "Minimum Salary = $1100000\n",
      "The error is a factor of 2.23\n",
      "Minimum Salary = $1200000\n",
      "The error is a factor of 2.25\n",
      "Minimum Salary = $1300000\n",
      "The error is a factor of 2.23\n",
      "Minimum Salary = $1400000\n",
      "The error is a factor of 2.19\n",
      "Minimum Salary = $1500000\n",
      "The error is a factor of 2.06\n",
      "Minimum Salary = $1600000\n",
      "The error is a factor of 2.04\n",
      "Minimum Salary = $1700000\n",
      "The error is a factor of 2.06\n",
      "Minimum Salary = $1800000\n",
      "The error is a factor of 2.08\n",
      "Minimum Salary = $1900000\n",
      "The error is a factor of 2.07\n",
      "Minimum Salary = $2000000\n",
      "The error is a factor of 2.04\n"
     ]
    }
   ],
   "source": [
    "for i in test_cutoffs:\n",
    "    print(\"Minimum Salary = ${0}\".format(i)),\n",
    "    print(train_and_test(train,test,norm_cols,i))"
   ]
  },
  {
   "cell_type": "code",
   "execution_count": 104,
   "metadata": {},
   "outputs": [
    {
     "data": {
      "text/plain": [
       "year\n",
       "2000    284692.218351\n",
       "2001    276862.257864\n",
       "2002    272537.247054\n",
       "2003    220621.324636\n",
       "2004    389285.336157\n",
       "2005    396609.933436\n",
       "2006    364761.904762\n",
       "2007    449236.527091\n",
       "2008    444010.533992\n",
       "2009    457021.399572\n",
       "2010    449645.962505\n",
       "2011    451143.109910\n",
       "2012    512459.384827\n",
       "2013    515583.562632\n",
       "2014    517707.488510\n",
       "2015    524850.116236\n",
       "2016    518309.389687\n",
       "Name: adj_salary, dtype: float64"
      ]
     },
     "execution_count": 104,
     "metadata": {},
     "output_type": "execute_result"
    }
   ],
   "source": [
    "train.groupby(['year'])['adj_salary'].min()"
   ]
  },
  {
   "cell_type": "code",
   "execution_count": 127,
   "metadata": {},
   "outputs": [
    {
     "data": {
      "text/html": [
       "<div>\n",
       "<style scoped>\n",
       "    .dataframe tbody tr th:only-of-type {\n",
       "        vertical-align: middle;\n",
       "    }\n",
       "\n",
       "    .dataframe tbody tr th {\n",
       "        vertical-align: top;\n",
       "    }\n",
       "\n",
       "    .dataframe thead th {\n",
       "        text-align: right;\n",
       "    }\n",
       "</style>\n",
       "<table border=\"1\" class=\"dataframe\">\n",
       "  <thead>\n",
       "    <tr style=\"text-align: right;\">\n",
       "      <th></th>\n",
       "      <th>rk</th>\n",
       "      <th>name</th>\n",
       "      <th>age</th>\n",
       "      <th>tm</th>\n",
       "      <th>g</th>\n",
       "      <th>pa</th>\n",
       "      <th>rbat</th>\n",
       "      <th>rbaser</th>\n",
       "      <th>rdp</th>\n",
       "      <th>rfield</th>\n",
       "      <th>...</th>\n",
       "      <th>orar</th>\n",
       "      <th>salary</th>\n",
       "      <th>acquired</th>\n",
       "      <th>pos summary</th>\n",
       "      <th>bat_hand</th>\n",
       "      <th>year</th>\n",
       "      <th>log_sal</th>\n",
       "      <th>adj_salary</th>\n",
       "      <th>log_adj</th>\n",
       "      <th>log10_adj</th>\n",
       "    </tr>\n",
       "  </thead>\n",
       "  <tbody>\n",
       "    <tr>\n",
       "      <th>567</th>\n",
       "      <td>568</td>\n",
       "      <td>Jason Heyward</td>\n",
       "      <td>27</td>\n",
       "      <td>CHC</td>\n",
       "      <td>126</td>\n",
       "      <td>481.0</td>\n",
       "      <td>-7</td>\n",
       "      <td>-1</td>\n",
       "      <td>3</td>\n",
       "      <td>18</td>\n",
       "      <td>...</td>\n",
       "      <td>6.0</td>\n",
       "      <td>28166667.0</td>\n",
       "      <td>Free Agency</td>\n",
       "      <td>*98</td>\n",
       "      <td>lhb</td>\n",
       "      <td>2017</td>\n",
       "      <td>7.449735</td>\n",
       "      <td>28166667.0</td>\n",
       "      <td>17.15365</td>\n",
       "      <td>7.449735</td>\n",
       "    </tr>\n",
       "  </tbody>\n",
       "</table>\n",
       "<p>1 rows × 30 columns</p>\n",
       "</div>"
      ],
      "text/plain": [
       "      rk           name  age   tm    g     pa  rbat  rbaser  rdp  rfield  \\\n",
       "567  568  Jason Heyward   27  CHC  126  481.0    -7      -1    3      18   \n",
       "\n",
       "       ...      orar      salary     acquired  pos summary  bat_hand  year  \\\n",
       "567    ...       6.0  28166667.0  Free Agency          *98       lhb  2017   \n",
       "\n",
       "      log_sal  adj_salary   log_adj  log10_adj  \n",
       "567  7.449735  28166667.0  17.15365   7.449735  \n",
       "\n",
       "[1 rows x 30 columns]"
      ]
     },
     "execution_count": 127,
     "metadata": {},
     "output_type": "execute_result"
    }
   ],
   "source": [
    "test[test['adj_salary'] == test['adj_salary'].max()]"
   ]
  },
  {
   "cell_type": "code",
   "execution_count": 126,
   "metadata": {},
   "outputs": [
    {
     "data": {
      "text/plain": [
       "pandas.core.series.Series"
      ]
     },
     "execution_count": 126,
     "metadata": {},
     "output_type": "execute_result"
    }
   ],
   "source": [
    "type(test['adj_salary'].nlargest(10))"
   ]
  },
  {
   "cell_type": "code",
   "execution_count": 129,
   "metadata": {},
   "outputs": [
    {
     "data": {
      "text/plain": [
       "Traded                    1825\n",
       "Free Agency               1546\n",
       "Amateur Draft             1439\n",
       "Amateur Free Agent         326\n",
       "Waivers                    100\n",
       "Purchased                   72\n",
       "Rule 5 Draft                40\n",
       "Expansion Draft             14\n",
       "Conditional Deal            14\n",
       "Amateur Draft--no sign      11\n",
       "MinorLg Draft                5\n",
       "Rule 5 returned              3\n",
       "Name: acquired, dtype: int64"
      ]
     },
     "execution_count": 129,
     "metadata": {},
     "output_type": "execute_result"
    }
   ],
   "source": [
    "train['acquired'].value_counts()"
   ]
  },
  {
   "cell_type": "code",
   "execution_count": 130,
   "metadata": {},
   "outputs": [],
   "source": []
  },
  {
   "cell_type": "code",
   "execution_count": 131,
   "metadata": {},
   "outputs": [
    {
     "data": {
      "text/plain": [
       "0     dr\n",
       "3     tr\n",
       "6     dr\n",
       "10    tr\n",
       "12    fa\n",
       "Name: acquired, dtype: object"
      ]
     },
     "execution_count": 131,
     "metadata": {},
     "output_type": "execute_result"
    }
   ],
   "source": [
    "train['acquired'].map(acquired_dict).head()"
   ]
  },
  {
   "cell_type": "code",
   "execution_count": null,
   "metadata": {},
   "outputs": [],
   "source": []
  }
 ],
 "metadata": {
  "kernelspec": {
   "display_name": "Python 3",
   "language": "python",
   "name": "python3"
  },
  "language_info": {
   "codemirror_mode": {
    "name": "ipython",
    "version": 3
   },
   "file_extension": ".py",
   "mimetype": "text/x-python",
   "name": "python",
   "nbconvert_exporter": "python",
   "pygments_lexer": "ipython3",
   "version": "3.6.4"
  }
 },
 "nbformat": 4,
 "nbformat_minor": 2
}
