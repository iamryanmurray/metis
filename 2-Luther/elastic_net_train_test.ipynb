{
 "cells": [
  {
   "cell_type": "code",
   "execution_count": 1,
   "metadata": {},
   "outputs": [],
   "source": [
    "from train_test_fns import *\n",
    "from sklearn.linear_model import ElasticNetCV\n",
    "from sklearn.linear_model import ElasticNet\n",
    "\n",
    "%config InlineBackend.figure_format = 'png'\n",
    "import matplotlib as mpl\n",
    "mpl.rcParams['figure.dpi']= 300\n"
   ]
  },
  {
   "cell_type": "code",
   "execution_count": 2,
   "metadata": {},
   "outputs": [],
   "source": [
    "def train_EN_model(train_x, train_y, predict_x):\n",
    "    #print_title(\"ElasticNet\")\n",
    "    #train_x, predict_x = standarize_feature(_train_x, _predict_x)\n",
    "\n",
    "    #l1_ratios = [1e-4, 1e-3, 1e-2, 1e-1]\n",
    "    #l1_ratios = [1e-5, 1e-4, 1e-3]\n",
    "    l1_ratios = [.001,.01,.1,.2,.5, 0.99,1]\n",
    "    #l1_ratios = [.5]\n",
    "    min_mse = 1\n",
    "    for r in l1_ratios:\n",
    "        #t1 = time.time()\n",
    "        reg_en = ElasticNetCV(\n",
    "            l1_ratio=r, cv=10, n_jobs=-1, verbose=0, precompute=True)\n",
    "        reg_en.fit(train_x, train_y)\n",
    "        n_nonzeros = (reg_en.coef_ != 0).sum()\n",
    "        _mse = np.mean(reg_en.mse_path_, axis=1)[\n",
    "            np.where(reg_en.alphas_ == reg_en.alpha_)[0][0]]\n",
    "        if _mse < min_mse:\n",
    "            min_mse = _mse\n",
    "            best_l1_ratio = r\n",
    "            best_alpha = reg_en.alpha_\n",
    "        #t2 = time.time()\n",
    "        print(\"ratio(%e) -- n: %d -- alpha: %f -- mse: %f -- \" %\n",
    "              (r, n_nonzeros, reg_en.alpha_, _mse))\n",
    "\n",
    "    print(\"Best l1_ratio and alpha: %f, %f\" % (best_l1_ratio, best_alpha))\n",
    "    # predict_model\n",
    "    reg = ElasticNet(l1_ratio=best_l1_ratio, alpha=best_alpha)\n",
    "    reg.fit(train_x, train_y)\n",
    "    n_nonzeros = (reg.coef_ != 0).sum()\n",
    "\n",
    "    predict_y = reg.predict(predict_x)\n",
    "    train_y_pred = reg.predict(train_x)\n",
    "    return {\"y\": predict_y, \"train_y\": train_y_pred, \"coef\": reg.coef_, 'n_cols':n_nonzeros,'l1':best_l1_ratio}"
   ]
  },
  {
   "cell_type": "code",
   "execution_count": 3,
   "metadata": {},
   "outputs": [],
   "source": [
    "def elastic_net_cv_with_cutoffs():\n",
    "    cutoffs = [(i+1)*100000 for i in range(20)]\n",
    "    errors = []\n",
    "    val_list = []\n",
    "    for i in cutoffs:\n",
    "        train_X, train_y, test_X,test_y = load_and_split_data(i)\n",
    "        vals = train_EN_model(train_X,train_y,test_X)\n",
    "        preds = vals['y']\n",
    "        error = 10**(MSE(preds,test_y)**.5)\n",
    "        errors.append(error)\n",
    "        val_list.append(vals)\n",
    "    return cutoffs, errors, val_list"
   ]
  },
  {
   "cell_type": "code",
   "execution_count": 4,
   "metadata": {},
   "outputs": [
    {
     "name": "stdout",
     "output_type": "stream",
     "text": [
      "ratio(1.000000e-03) -- n: 73 -- alpha: 0.058260 -- mse: 0.157087 -- \n",
      "ratio(1.000000e-02) -- n: 72 -- alpha: 0.005826 -- mse: 0.125292 -- \n",
      "ratio(1.000000e-01) -- n: 65 -- alpha: 0.001171 -- mse: 0.123255 -- \n",
      "ratio(2.000000e-01) -- n: 56 -- alpha: 0.001176 -- mse: 0.123084 -- \n",
      "ratio(5.000000e-01) -- n: 47 -- alpha: 0.000822 -- mse: 0.122960 -- \n",
      "ratio(9.900000e-01) -- n: 40 -- alpha: 0.000677 -- mse: 0.123052 -- \n",
      "ratio(1.000000e+00) -- n: 40 -- alpha: 0.000670 -- mse: 0.123053 -- \n",
      "Best l1_ratio and alpha: 0.500000, 0.000822\n",
      "ratio(1.000000e-03) -- n: 73 -- alpha: 0.058260 -- mse: 0.157087 -- \n",
      "ratio(1.000000e-02) -- n: 72 -- alpha: 0.005826 -- mse: 0.125292 -- \n",
      "ratio(1.000000e-01) -- n: 65 -- alpha: 0.001171 -- mse: 0.123255 -- \n",
      "ratio(2.000000e-01) -- n: 56 -- alpha: 0.001176 -- mse: 0.123084 -- \n",
      "ratio(5.000000e-01) -- n: 47 -- alpha: 0.000822 -- mse: 0.122960 -- \n",
      "ratio(9.900000e-01) -- n: 40 -- alpha: 0.000677 -- mse: 0.123052 -- \n",
      "ratio(1.000000e+00) -- n: 40 -- alpha: 0.000670 -- mse: 0.123053 -- \n",
      "Best l1_ratio and alpha: 0.500000, 0.000822\n",
      "ratio(1.000000e-03) -- n: 73 -- alpha: 0.058202 -- mse: 0.157020 -- \n",
      "ratio(1.000000e-02) -- n: 71 -- alpha: 0.005820 -- mse: 0.125249 -- \n",
      "ratio(1.000000e-01) -- n: 65 -- alpha: 0.001169 -- mse: 0.123215 -- \n",
      "ratio(2.000000e-01) -- n: 57 -- alpha: 0.001096 -- mse: 0.123053 -- \n",
      "ratio(5.000000e-01) -- n: 49 -- alpha: 0.000766 -- mse: 0.122938 -- \n",
      "ratio(9.900000e-01) -- n: 40 -- alpha: 0.000676 -- mse: 0.123032 -- \n",
      "ratio(1.000000e+00) -- n: 40 -- alpha: 0.000669 -- mse: 0.123033 -- \n",
      "Best l1_ratio and alpha: 0.500000, 0.000766\n",
      "ratio(1.000000e-03) -- n: 73 -- alpha: 0.056692 -- mse: 0.154642 -- \n",
      "ratio(1.000000e-02) -- n: 71 -- alpha: 0.005669 -- mse: 0.123698 -- \n",
      "ratio(1.000000e-01) -- n: 60 -- alpha: 0.001139 -- mse: 0.121687 -- \n",
      "ratio(2.000000e-01) -- n: 55 -- alpha: 0.001067 -- mse: 0.121535 -- \n",
      "ratio(5.000000e-01) -- n: 48 -- alpha: 0.000746 -- mse: 0.121469 -- \n",
      "ratio(9.900000e-01) -- n: 46 -- alpha: 0.000464 -- mse: 0.121611 -- \n",
      "ratio(1.000000e+00) -- n: 46 -- alpha: 0.000460 -- mse: 0.121614 -- \n",
      "Best l1_ratio and alpha: 0.500000, 0.000746\n",
      "ratio(1.000000e-03) -- n: 73 -- alpha: 0.052409 -- mse: 0.134900 -- \n",
      "ratio(1.000000e-02) -- n: 70 -- alpha: 0.005241 -- mse: 0.112343 -- \n",
      "ratio(1.000000e-01) -- n: 61 -- alpha: 0.001298 -- mse: 0.110917 -- \n",
      "ratio(2.000000e-01) -- n: 54 -- alpha: 0.001216 -- mse: 0.110743 -- \n",
      "ratio(5.000000e-01) -- n: 49 -- alpha: 0.000850 -- mse: 0.110613 -- \n"
     ]
    },
    {
     "name": "stderr",
     "output_type": "stream",
     "text": [
      "/usr/local/lib/python3.6/site-packages/sklearn/linear_model/coordinate_descent.py:491: ConvergenceWarning: Objective did not converge. You might want to increase the number of iterations. Fitting data with very small alpha may cause precision problems.\n",
      "  ConvergenceWarning)\n"
     ]
    },
    {
     "name": "stdout",
     "output_type": "stream",
     "text": [
      "ratio(9.900000e-01) -- n: 47 -- alpha: 0.000460 -- mse: 0.110683 -- \n"
     ]
    },
    {
     "name": "stderr",
     "output_type": "stream",
     "text": [
      "/usr/local/lib/python3.6/site-packages/sklearn/linear_model/coordinate_descent.py:491: ConvergenceWarning: Objective did not converge. You might want to increase the number of iterations. Fitting data with very small alpha may cause precision problems.\n",
      "  ConvergenceWarning)\n"
     ]
    },
    {
     "name": "stdout",
     "output_type": "stream",
     "text": [
      "ratio(1.000000e+00) -- n: 47 -- alpha: 0.000456 -- mse: 0.110685 -- \n",
      "Best l1_ratio and alpha: 0.500000, 0.000850\n",
      "ratio(1.000000e-03) -- n: 72 -- alpha: 0.049026 -- mse: 0.095962 -- \n",
      "ratio(1.000000e-02) -- n: 72 -- alpha: 0.004903 -- mse: 0.081009 -- \n",
      "ratio(1.000000e-01) -- n: 66 -- alpha: 0.000490 -- mse: 0.079471 -- \n",
      "ratio(2.000000e-01) -- n: 67 -- alpha: 0.000245 -- mse: 0.079335 -- \n",
      "ratio(5.000000e-01) -- n: 61 -- alpha: 0.000098 -- mse: 0.079185 -- \n"
     ]
    },
    {
     "name": "stderr",
     "output_type": "stream",
     "text": [
      "/usr/local/lib/python3.6/site-packages/sklearn/linear_model/coordinate_descent.py:491: ConvergenceWarning: Objective did not converge. You might want to increase the number of iterations. Fitting data with very small alpha may cause precision problems.\n",
      "  ConvergenceWarning)\n"
     ]
    },
    {
     "name": "stdout",
     "output_type": "stream",
     "text": [
      "ratio(9.900000e-01) -- n: 59 -- alpha: 0.000061 -- mse: 0.079133 -- \n"
     ]
    },
    {
     "name": "stderr",
     "output_type": "stream",
     "text": [
      "/usr/local/lib/python3.6/site-packages/sklearn/linear_model/coordinate_descent.py:491: ConvergenceWarning: Objective did not converge. You might want to increase the number of iterations. Fitting data with very small alpha may cause precision problems.\n",
      "  ConvergenceWarning)\n"
     ]
    },
    {
     "name": "stdout",
     "output_type": "stream",
     "text": [
      "ratio(1.000000e+00) -- n: 59 -- alpha: 0.000060 -- mse: 0.079133 -- \n",
      "Best l1_ratio and alpha: 1.000000, 0.000060\n",
      "ratio(1.000000e-03) -- n: 72 -- alpha: 0.047958 -- mse: 0.089283 -- \n",
      "ratio(1.000000e-02) -- n: 69 -- alpha: 0.004796 -- mse: 0.075321 -- \n",
      "ratio(1.000000e-01) -- n: 68 -- alpha: 0.000480 -- mse: 0.073937 -- \n",
      "ratio(2.000000e-01) -- n: 67 -- alpha: 0.000240 -- mse: 0.073788 -- \n",
      "ratio(5.000000e-01) -- n: 62 -- alpha: 0.000096 -- mse: 0.073628 -- \n"
     ]
    },
    {
     "name": "stderr",
     "output_type": "stream",
     "text": [
      "/usr/local/lib/python3.6/site-packages/sklearn/linear_model/coordinate_descent.py:491: ConvergenceWarning: Objective did not converge. You might want to increase the number of iterations. Fitting data with very small alpha may cause precision problems.\n",
      "  ConvergenceWarning)\n",
      "/usr/local/lib/python3.6/site-packages/sklearn/linear_model/coordinate_descent.py:491: ConvergenceWarning: Objective did not converge. You might want to increase the number of iterations. Fitting data with very small alpha may cause precision problems.\n",
      "  ConvergenceWarning)\n",
      "/usr/local/lib/python3.6/site-packages/sklearn/linear_model/coordinate_descent.py:491: ConvergenceWarning: Objective did not converge. You might want to increase the number of iterations. Fitting data with very small alpha may cause precision problems.\n",
      "  ConvergenceWarning)\n"
     ]
    },
    {
     "name": "stdout",
     "output_type": "stream",
     "text": [
      "ratio(9.900000e-01) -- n: 57 -- alpha: 0.000060 -- mse: 0.073562 -- \n"
     ]
    },
    {
     "name": "stderr",
     "output_type": "stream",
     "text": [
      "/usr/local/lib/python3.6/site-packages/sklearn/linear_model/coordinate_descent.py:491: ConvergenceWarning: Objective did not converge. You might want to increase the number of iterations. Fitting data with very small alpha may cause precision problems.\n",
      "  ConvergenceWarning)\n"
     ]
    },
    {
     "name": "stdout",
     "output_type": "stream",
     "text": [
      "ratio(1.000000e+00) -- n: 57 -- alpha: 0.000059 -- mse: 0.073561 -- \n",
      "Best l1_ratio and alpha: 1.000000, 0.000059\n",
      "ratio(1.000000e-03) -- n: 73 -- alpha: 0.046027 -- mse: 0.084873 -- \n",
      "ratio(1.000000e-02) -- n: 71 -- alpha: 0.004603 -- mse: 0.071426 -- \n",
      "ratio(1.000000e-01) -- n: 70 -- alpha: 0.000460 -- mse: 0.070145 -- \n",
      "ratio(2.000000e-01) -- n: 68 -- alpha: 0.000230 -- mse: 0.070019 -- \n"
     ]
    },
    {
     "name": "stderr",
     "output_type": "stream",
     "text": [
      "/usr/local/lib/python3.6/site-packages/sklearn/linear_model/coordinate_descent.py:491: ConvergenceWarning: Objective did not converge. You might want to increase the number of iterations. Fitting data with very small alpha may cause precision problems.\n",
      "  ConvergenceWarning)\n",
      "/usr/local/lib/python3.6/site-packages/sklearn/linear_model/coordinate_descent.py:491: ConvergenceWarning: Objective did not converge. You might want to increase the number of iterations. Fitting data with very small alpha may cause precision problems.\n",
      "  ConvergenceWarning)\n"
     ]
    },
    {
     "name": "stdout",
     "output_type": "stream",
     "text": [
      "ratio(5.000000e-01) -- n: 62 -- alpha: 0.000092 -- mse: 0.069858 -- \n"
     ]
    },
    {
     "name": "stderr",
     "output_type": "stream",
     "text": [
      "/usr/local/lib/python3.6/site-packages/sklearn/linear_model/coordinate_descent.py:491: ConvergenceWarning: Objective did not converge. You might want to increase the number of iterations. Fitting data with very small alpha may cause precision problems.\n",
      "  ConvergenceWarning)\n",
      "/usr/local/lib/python3.6/site-packages/sklearn/linear_model/coordinate_descent.py:491: ConvergenceWarning: Objective did not converge. You might want to increase the number of iterations. Fitting data with very small alpha may cause precision problems.\n",
      "  ConvergenceWarning)\n"
     ]
    },
    {
     "name": "stdout",
     "output_type": "stream",
     "text": [
      "ratio(9.900000e-01) -- n: 60 -- alpha: 0.000053 -- mse: 0.069804 -- \n"
     ]
    },
    {
     "name": "stderr",
     "output_type": "stream",
     "text": [
      "/usr/local/lib/python3.6/site-packages/sklearn/linear_model/coordinate_descent.py:491: ConvergenceWarning: Objective did not converge. You might want to increase the number of iterations. Fitting data with very small alpha may cause precision problems.\n",
      "  ConvergenceWarning)\n"
     ]
    },
    {
     "name": "stdout",
     "output_type": "stream",
     "text": [
      "ratio(1.000000e+00) -- n: 60 -- alpha: 0.000053 -- mse: 0.069804 -- \n",
      "Best l1_ratio and alpha: 1.000000, 0.000053\n",
      "ratio(1.000000e-03) -- n: 72 -- alpha: 0.043712 -- mse: 0.081193 -- \n",
      "ratio(1.000000e-02) -- n: 71 -- alpha: 0.004371 -- mse: 0.068367 -- \n",
      "ratio(1.000000e-01) -- n: 69 -- alpha: 0.000437 -- mse: 0.067137 -- \n",
      "ratio(2.000000e-01) -- n: 66 -- alpha: 0.000219 -- mse: 0.067031 -- \n"
     ]
    },
    {
     "name": "stderr",
     "output_type": "stream",
     "text": [
      "/usr/local/lib/python3.6/site-packages/sklearn/linear_model/coordinate_descent.py:491: ConvergenceWarning: Objective did not converge. You might want to increase the number of iterations. Fitting data with very small alpha may cause precision problems.\n",
      "  ConvergenceWarning)\n",
      "/usr/local/lib/python3.6/site-packages/sklearn/linear_model/coordinate_descent.py:491: ConvergenceWarning: Objective did not converge. You might want to increase the number of iterations. Fitting data with very small alpha may cause precision problems.\n",
      "  ConvergenceWarning)\n"
     ]
    },
    {
     "name": "stdout",
     "output_type": "stream",
     "text": [
      "ratio(5.000000e-01) -- n: 64 -- alpha: 0.000087 -- mse: 0.066912 -- \n"
     ]
    },
    {
     "name": "stderr",
     "output_type": "stream",
     "text": [
      "/usr/local/lib/python3.6/site-packages/sklearn/linear_model/coordinate_descent.py:491: ConvergenceWarning: Objective did not converge. You might want to increase the number of iterations. Fitting data with very small alpha may cause precision problems.\n",
      "  ConvergenceWarning)\n",
      "/usr/local/lib/python3.6/site-packages/sklearn/linear_model/coordinate_descent.py:491: ConvergenceWarning: Objective did not converge. You might want to increase the number of iterations. Fitting data with very small alpha may cause precision problems.\n",
      "  ConvergenceWarning)\n"
     ]
    },
    {
     "name": "stdout",
     "output_type": "stream",
     "text": [
      "ratio(9.900000e-01) -- n: 61 -- alpha: 0.000058 -- mse: 0.066888 -- \n"
     ]
    },
    {
     "name": "stderr",
     "output_type": "stream",
     "text": [
      "/usr/local/lib/python3.6/site-packages/sklearn/linear_model/coordinate_descent.py:491: ConvergenceWarning: Objective did not converge. You might want to increase the number of iterations. Fitting data with very small alpha may cause precision problems.\n",
      "  ConvergenceWarning)\n"
     ]
    },
    {
     "name": "stdout",
     "output_type": "stream",
     "text": [
      "ratio(1.000000e+00) -- n: 61 -- alpha: 0.000058 -- mse: 0.066887 -- \n",
      "Best l1_ratio and alpha: 1.000000, 0.000058\n",
      "ratio(1.000000e-03) -- n: 72 -- alpha: 0.039129 -- mse: 0.077357 -- \n",
      "ratio(1.000000e-02) -- n: 70 -- alpha: 0.003913 -- mse: 0.065657 -- \n",
      "ratio(1.000000e-01) -- n: 67 -- alpha: 0.000555 -- mse: 0.064687 -- \n",
      "ratio(2.000000e-01) -- n: 67 -- alpha: 0.000196 -- mse: 0.064604 -- \n"
     ]
    },
    {
     "name": "stderr",
     "output_type": "stream",
     "text": [
      "/usr/local/lib/python3.6/site-packages/sklearn/linear_model/coordinate_descent.py:491: ConvergenceWarning: Objective did not converge. You might want to increase the number of iterations. Fitting data with very small alpha may cause precision problems.\n",
      "  ConvergenceWarning)\n",
      "/usr/local/lib/python3.6/site-packages/sklearn/linear_model/coordinate_descent.py:491: ConvergenceWarning: Objective did not converge. You might want to increase the number of iterations. Fitting data with very small alpha may cause precision problems.\n",
      "  ConvergenceWarning)\n"
     ]
    },
    {
     "name": "stdout",
     "output_type": "stream",
     "text": [
      "ratio(5.000000e-01) -- n: 63 -- alpha: 0.000084 -- mse: 0.064527 -- \n"
     ]
    },
    {
     "name": "stderr",
     "output_type": "stream",
     "text": [
      "/usr/local/lib/python3.6/site-packages/sklearn/linear_model/coordinate_descent.py:491: ConvergenceWarning: Objective did not converge. You might want to increase the number of iterations. Fitting data with very small alpha may cause precision problems.\n",
      "  ConvergenceWarning)\n",
      "/usr/local/lib/python3.6/site-packages/sklearn/linear_model/coordinate_descent.py:491: ConvergenceWarning: Objective did not converge. You might want to increase the number of iterations. Fitting data with very small alpha may cause precision problems.\n",
      "  ConvergenceWarning)\n"
     ]
    },
    {
     "name": "stdout",
     "output_type": "stream",
     "text": [
      "ratio(9.900000e-01) -- n: 61 -- alpha: 0.000056 -- mse: 0.064524 -- \n"
     ]
    },
    {
     "name": "stderr",
     "output_type": "stream",
     "text": [
      "/usr/local/lib/python3.6/site-packages/sklearn/linear_model/coordinate_descent.py:491: ConvergenceWarning: Objective did not converge. You might want to increase the number of iterations. Fitting data with very small alpha may cause precision problems.\n",
      "  ConvergenceWarning)\n"
     ]
    },
    {
     "name": "stdout",
     "output_type": "stream",
     "text": [
      "ratio(1.000000e+00) -- n: 61 -- alpha: 0.000055 -- mse: 0.064524 -- \n",
      "Best l1_ratio and alpha: 0.990000, 0.000056\n",
      "ratio(1.000000e-03) -- n: 73 -- alpha: 0.035135 -- mse: 0.071436 -- \n",
      "ratio(1.000000e-02) -- n: 72 -- alpha: 0.003514 -- mse: 0.061315 -- \n",
      "ratio(1.000000e-01) -- n: 68 -- alpha: 0.000351 -- mse: 0.060628 -- \n",
      "ratio(2.000000e-01) -- n: 52 -- alpha: 0.001005 -- mse: 0.060568 -- \n",
      "ratio(5.000000e-01) -- n: 46 -- alpha: 0.000655 -- mse: 0.060531 -- \n"
     ]
    },
    {
     "name": "stderr",
     "output_type": "stream",
     "text": [
      "/usr/local/lib/python3.6/site-packages/sklearn/linear_model/coordinate_descent.py:491: ConvergenceWarning: Objective did not converge. You might want to increase the number of iterations. Fitting data with very small alpha may cause precision problems.\n",
      "  ConvergenceWarning)\n"
     ]
    },
    {
     "name": "stdout",
     "output_type": "stream",
     "text": [
      "ratio(9.900000e-01) -- n: 43 -- alpha: 0.000381 -- mse: 0.060554 -- \n"
     ]
    },
    {
     "name": "stderr",
     "output_type": "stream",
     "text": [
      "/usr/local/lib/python3.6/site-packages/sklearn/linear_model/coordinate_descent.py:491: ConvergenceWarning: Objective did not converge. You might want to increase the number of iterations. Fitting data with very small alpha may cause precision problems.\n",
      "  ConvergenceWarning)\n"
     ]
    },
    {
     "name": "stdout",
     "output_type": "stream",
     "text": [
      "ratio(1.000000e+00) -- n: 43 -- alpha: 0.000377 -- mse: 0.060555 -- \n",
      "Best l1_ratio and alpha: 0.500000, 0.000655\n",
      "ratio(1.000000e-03) -- n: 73 -- alpha: 0.032180 -- mse: 0.067163 -- \n",
      "ratio(1.000000e-02) -- n: 72 -- alpha: 0.003218 -- mse: 0.058114 -- \n",
      "ratio(1.000000e-01) -- n: 63 -- alpha: 0.000647 -- mse: 0.057536 -- \n",
      "ratio(2.000000e-01) -- n: 51 -- alpha: 0.001135 -- mse: 0.057509 -- \n",
      "ratio(5.000000e-01) -- n: 42 -- alpha: 0.000740 -- mse: 0.057385 -- \n"
     ]
    },
    {
     "name": "stderr",
     "output_type": "stream",
     "text": [
      "/usr/local/lib/python3.6/site-packages/sklearn/linear_model/coordinate_descent.py:491: ConvergenceWarning: Objective did not converge. You might want to increase the number of iterations. Fitting data with very small alpha may cause precision problems.\n",
      "  ConvergenceWarning)\n"
     ]
    },
    {
     "name": "stdout",
     "output_type": "stream",
     "text": [
      "ratio(9.900000e-01) -- n: 41 -- alpha: 0.000374 -- mse: 0.057381 -- \n"
     ]
    },
    {
     "name": "stderr",
     "output_type": "stream",
     "text": [
      "/usr/local/lib/python3.6/site-packages/sklearn/linear_model/coordinate_descent.py:491: ConvergenceWarning: Objective did not converge. You might want to increase the number of iterations. Fitting data with very small alpha may cause precision problems.\n",
      "  ConvergenceWarning)\n"
     ]
    },
    {
     "name": "stdout",
     "output_type": "stream",
     "text": [
      "ratio(1.000000e+00) -- n: 41 -- alpha: 0.000370 -- mse: 0.057380 -- \n",
      "Best l1_ratio and alpha: 1.000000, 0.000370\n",
      "ratio(1.000000e-03) -- n: 71 -- alpha: 0.029194 -- mse: 0.063423 -- \n",
      "ratio(1.000000e-02) -- n: 70 -- alpha: 0.002919 -- mse: 0.055358 -- \n",
      "ratio(1.000000e-01) -- n: 65 -- alpha: 0.000674 -- mse: 0.054869 -- \n",
      "ratio(2.000000e-01) -- n: 52 -- alpha: 0.001104 -- mse: 0.054844 -- \n",
      "ratio(5.000000e-01) -- n: 42 -- alpha: 0.000720 -- mse: 0.054730 -- \n"
     ]
    },
    {
     "name": "stderr",
     "output_type": "stream",
     "text": [
      "/usr/local/lib/python3.6/site-packages/sklearn/linear_model/coordinate_descent.py:491: ConvergenceWarning: Objective did not converge. You might want to increase the number of iterations. Fitting data with very small alpha may cause precision problems.\n",
      "  ConvergenceWarning)\n"
     ]
    },
    {
     "name": "stdout",
     "output_type": "stream",
     "text": [
      "ratio(9.900000e-01) -- n: 39 -- alpha: 0.000448 -- mse: 0.054771 -- \n"
     ]
    },
    {
     "name": "stderr",
     "output_type": "stream",
     "text": [
      "/usr/local/lib/python3.6/site-packages/sklearn/linear_model/coordinate_descent.py:491: ConvergenceWarning: Objective did not converge. You might want to increase the number of iterations. Fitting data with very small alpha may cause precision problems.\n",
      "  ConvergenceWarning)\n"
     ]
    },
    {
     "name": "stdout",
     "output_type": "stream",
     "text": [
      "ratio(1.000000e+00) -- n: 39 -- alpha: 0.000444 -- mse: 0.054773 -- \n",
      "Best l1_ratio and alpha: 0.500000, 0.000720\n",
      "ratio(1.000000e-03) -- n: 71 -- alpha: 0.028262 -- mse: 0.060890 -- \n",
      "ratio(1.000000e-02) -- n: 73 -- alpha: 0.002826 -- mse: 0.053265 -- \n",
      "ratio(1.000000e-01) -- n: 64 -- alpha: 0.000700 -- mse: 0.052793 -- \n",
      "ratio(2.000000e-01) -- n: 54 -- alpha: 0.000997 -- mse: 0.052749 -- \n"
     ]
    },
    {
     "name": "stderr",
     "output_type": "stream",
     "text": [
      "/usr/local/lib/python3.6/site-packages/sklearn/linear_model/coordinate_descent.py:491: ConvergenceWarning: Objective did not converge. You might want to increase the number of iterations. Fitting data with very small alpha may cause precision problems.\n",
      "  ConvergenceWarning)\n",
      "/usr/local/lib/python3.6/site-packages/sklearn/linear_model/coordinate_descent.py:491: ConvergenceWarning: Objective did not converge. You might want to increase the number of iterations. Fitting data with very small alpha may cause precision problems.\n",
      "  ConvergenceWarning)\n"
     ]
    },
    {
     "name": "stdout",
     "output_type": "stream",
     "text": [
      "ratio(5.000000e-01) -- n: 43 -- alpha: 0.000697 -- mse: 0.052672 -- \n",
      "ratio(9.900000e-01) -- n: 43 -- alpha: 0.000405 -- mse: 0.052722 -- \n"
     ]
    },
    {
     "name": "stderr",
     "output_type": "stream",
     "text": [
      "/usr/local/lib/python3.6/site-packages/sklearn/linear_model/coordinate_descent.py:491: ConvergenceWarning: Objective did not converge. You might want to increase the number of iterations. Fitting data with very small alpha may cause precision problems.\n",
      "  ConvergenceWarning)\n"
     ]
    },
    {
     "name": "stdout",
     "output_type": "stream",
     "text": [
      "ratio(1.000000e+00) -- n: 45 -- alpha: 0.000303 -- mse: 0.052722 -- \n",
      "Best l1_ratio and alpha: 0.500000, 0.000697\n",
      "ratio(1.000000e-03) -- n: 73 -- alpha: 0.026298 -- mse: 0.059205 -- \n",
      "ratio(1.000000e-02) -- n: 71 -- alpha: 0.002630 -- mse: 0.052407 -- \n",
      "ratio(1.000000e-01) -- n: 67 -- alpha: 0.000651 -- mse: 0.052029 -- \n",
      "ratio(2.000000e-01) -- n: 51 -- alpha: 0.001226 -- mse: 0.051968 -- \n",
      "ratio(5.000000e-01) -- n: 43 -- alpha: 0.000695 -- mse: 0.051869 -- \n"
     ]
    },
    {
     "name": "stderr",
     "output_type": "stream",
     "text": [
      "/usr/local/lib/python3.6/site-packages/sklearn/linear_model/coordinate_descent.py:491: ConvergenceWarning: Objective did not converge. You might want to increase the number of iterations. Fitting data with very small alpha may cause precision problems.\n",
      "  ConvergenceWarning)\n"
     ]
    },
    {
     "name": "stdout",
     "output_type": "stream",
     "text": [
      "ratio(9.900000e-01) -- n: 42 -- alpha: 0.000433 -- mse: 0.051927 -- \n"
     ]
    },
    {
     "name": "stderr",
     "output_type": "stream",
     "text": [
      "/usr/local/lib/python3.6/site-packages/sklearn/linear_model/coordinate_descent.py:491: ConvergenceWarning: Objective did not converge. You might want to increase the number of iterations. Fitting data with very small alpha may cause precision problems.\n",
      "  ConvergenceWarning)\n"
     ]
    },
    {
     "name": "stdout",
     "output_type": "stream",
     "text": [
      "ratio(1.000000e+00) -- n: 42 -- alpha: 0.000429 -- mse: 0.051929 -- \n",
      "Best l1_ratio and alpha: 0.500000, 0.000695\n",
      "ratio(1.000000e-03) -- n: 71 -- alpha: 0.024374 -- mse: 0.056697 -- \n",
      "ratio(1.000000e-02) -- n: 72 -- alpha: 0.002437 -- mse: 0.050588 -- \n",
      "ratio(1.000000e-01) -- n: 65 -- alpha: 0.000647 -- mse: 0.050286 -- \n",
      "ratio(2.000000e-01) -- n: 54 -- alpha: 0.001060 -- mse: 0.050269 -- \n",
      "ratio(5.000000e-01) -- n: 45 -- alpha: 0.000741 -- mse: 0.050191 -- \n"
     ]
    },
    {
     "name": "stderr",
     "output_type": "stream",
     "text": [
      "/usr/local/lib/python3.6/site-packages/sklearn/linear_model/coordinate_descent.py:491: ConvergenceWarning: Objective did not converge. You might want to increase the number of iterations. Fitting data with very small alpha may cause precision problems.\n",
      "  ConvergenceWarning)\n"
     ]
    },
    {
     "name": "stdout",
     "output_type": "stream",
     "text": [
      "ratio(9.900000e-01) -- n: 41 -- alpha: 0.000430 -- mse: 0.050241 -- \n"
     ]
    },
    {
     "name": "stderr",
     "output_type": "stream",
     "text": [
      "/usr/local/lib/python3.6/site-packages/sklearn/linear_model/coordinate_descent.py:491: ConvergenceWarning: Objective did not converge. You might want to increase the number of iterations. Fitting data with very small alpha may cause precision problems.\n",
      "  ConvergenceWarning)\n"
     ]
    },
    {
     "name": "stdout",
     "output_type": "stream",
     "text": [
      "ratio(1.000000e+00) -- n: 41 -- alpha: 0.000426 -- mse: 0.050243 -- \n",
      "Best l1_ratio and alpha: 0.500000, 0.000741\n",
      "ratio(1.000000e-03) -- n: 71 -- alpha: 0.023555 -- mse: 0.054410 -- \n",
      "ratio(1.000000e-02) -- n: 73 -- alpha: 0.002355 -- mse: 0.048646 -- \n",
      "ratio(1.000000e-01) -- n: 65 -- alpha: 0.000671 -- mse: 0.048370 -- \n",
      "ratio(2.000000e-01) -- n: 57 -- alpha: 0.000831 -- mse: 0.048328 -- \n",
      "ratio(5.000000e-01) -- n: 43 -- alpha: 0.000668 -- mse: 0.048251 -- \n"
     ]
    },
    {
     "name": "stderr",
     "output_type": "stream",
     "text": [
      "/usr/local/lib/python3.6/site-packages/sklearn/linear_model/coordinate_descent.py:491: ConvergenceWarning: Objective did not converge. You might want to increase the number of iterations. Fitting data with very small alpha may cause precision problems.\n",
      "  ConvergenceWarning)\n"
     ]
    },
    {
     "name": "stdout",
     "output_type": "stream",
     "text": [
      "ratio(9.900000e-01) -- n: 43 -- alpha: 0.000388 -- mse: 0.048308 -- \n"
     ]
    },
    {
     "name": "stderr",
     "output_type": "stream",
     "text": [
      "/usr/local/lib/python3.6/site-packages/sklearn/linear_model/coordinate_descent.py:491: ConvergenceWarning: Objective did not converge. You might want to increase the number of iterations. Fitting data with very small alpha may cause precision problems.\n",
      "  ConvergenceWarning)\n"
     ]
    },
    {
     "name": "stdout",
     "output_type": "stream",
     "text": [
      "ratio(1.000000e+00) -- n: 43 -- alpha: 0.000384 -- mse: 0.048310 -- \n",
      "Best l1_ratio and alpha: 0.500000, 0.000668\n",
      "ratio(1.000000e-03) -- n: 73 -- alpha: 0.022609 -- mse: 0.053109 -- \n",
      "ratio(1.000000e-02) -- n: 73 -- alpha: 0.002261 -- mse: 0.047777 -- \n",
      "ratio(1.000000e-01) -- n: 65 -- alpha: 0.000740 -- mse: 0.047532 -- \n",
      "ratio(2.000000e-01) -- n: 46 -- alpha: 0.001130 -- mse: 0.047454 -- \n",
      "ratio(5.000000e-01) -- n: 42 -- alpha: 0.000687 -- mse: 0.047383 -- \n"
     ]
    },
    {
     "name": "stderr",
     "output_type": "stream",
     "text": [
      "/usr/local/lib/python3.6/site-packages/sklearn/linear_model/coordinate_descent.py:491: ConvergenceWarning: Objective did not converge. You might want to increase the number of iterations. Fitting data with very small alpha may cause precision problems.\n",
      "  ConvergenceWarning)\n"
     ]
    },
    {
     "name": "stdout",
     "output_type": "stream",
     "text": [
      "ratio(9.900000e-01) -- n: 43 -- alpha: 0.000372 -- mse: 0.047452 -- \n"
     ]
    },
    {
     "name": "stderr",
     "output_type": "stream",
     "text": [
      "/usr/local/lib/python3.6/site-packages/sklearn/linear_model/coordinate_descent.py:491: ConvergenceWarning: Objective did not converge. You might want to increase the number of iterations. Fitting data with very small alpha may cause precision problems.\n",
      "  ConvergenceWarning)\n"
     ]
    },
    {
     "name": "stdout",
     "output_type": "stream",
     "text": [
      "ratio(1.000000e+00) -- n: 43 -- alpha: 0.000368 -- mse: 0.047453 -- \n",
      "Best l1_ratio and alpha: 0.500000, 0.000687\n",
      "ratio(1.000000e-03) -- n: 73 -- alpha: 0.021686 -- mse: 0.051871 -- \n",
      "ratio(1.000000e-02) -- n: 71 -- alpha: 0.002169 -- mse: 0.046819 -- \n",
      "ratio(1.000000e-01) -- n: 65 -- alpha: 0.000217 -- mse: 0.046488 -- \n",
      "ratio(2.000000e-01) -- n: 55 -- alpha: 0.000665 -- mse: 0.046458 -- \n",
      "ratio(5.000000e-01) -- n: 42 -- alpha: 0.000615 -- mse: 0.046355 -- \n"
     ]
    },
    {
     "name": "stderr",
     "output_type": "stream",
     "text": [
      "/usr/local/lib/python3.6/site-packages/sklearn/linear_model/coordinate_descent.py:491: ConvergenceWarning: Objective did not converge. You might want to increase the number of iterations. Fitting data with very small alpha may cause precision problems.\n",
      "  ConvergenceWarning)\n"
     ]
    },
    {
     "name": "stdout",
     "output_type": "stream",
     "text": [
      "ratio(9.900000e-01) -- n: 42 -- alpha: 0.000333 -- mse: 0.046364 -- \n"
     ]
    },
    {
     "name": "stderr",
     "output_type": "stream",
     "text": [
      "/usr/local/lib/python3.6/site-packages/sklearn/linear_model/coordinate_descent.py:491: ConvergenceWarning: Objective did not converge. You might want to increase the number of iterations. Fitting data with very small alpha may cause precision problems.\n",
      "  ConvergenceWarning)\n"
     ]
    },
    {
     "name": "stdout",
     "output_type": "stream",
     "text": [
      "ratio(1.000000e+00) -- n: 42 -- alpha: 0.000330 -- mse: 0.046365 -- \n",
      "Best l1_ratio and alpha: 0.500000, 0.000615\n",
      "ratio(1.000000e-03) -- n: 72 -- alpha: 0.021374 -- mse: 0.050577 -- \n",
      "ratio(1.000000e-02) -- n: 70 -- alpha: 0.002137 -- mse: 0.045629 -- \n",
      "ratio(1.000000e-01) -- n: 65 -- alpha: 0.000214 -- mse: 0.045314 -- \n",
      "ratio(2.000000e-01) -- n: 57 -- alpha: 0.000463 -- mse: 0.045295 -- \n",
      "ratio(5.000000e-01) -- n: 44 -- alpha: 0.000606 -- mse: 0.045228 -- \n"
     ]
    },
    {
     "name": "stderr",
     "output_type": "stream",
     "text": [
      "/usr/local/lib/python3.6/site-packages/sklearn/linear_model/coordinate_descent.py:491: ConvergenceWarning: Objective did not converge. You might want to increase the number of iterations. Fitting data with very small alpha may cause precision problems.\n",
      "  ConvergenceWarning)\n"
     ]
    },
    {
     "name": "stdout",
     "output_type": "stream",
     "text": [
      "ratio(9.900000e-01) -- n: 44 -- alpha: 0.000306 -- mse: 0.045231 -- \n"
     ]
    },
    {
     "name": "stderr",
     "output_type": "stream",
     "text": [
      "/usr/local/lib/python3.6/site-packages/sklearn/linear_model/coordinate_descent.py:491: ConvergenceWarning: Objective did not converge. You might want to increase the number of iterations. Fitting data with very small alpha may cause precision problems.\n",
      "  ConvergenceWarning)\n"
     ]
    },
    {
     "name": "stdout",
     "output_type": "stream",
     "text": [
      "ratio(1.000000e+00) -- n: 44 -- alpha: 0.000303 -- mse: 0.045231 -- \n",
      "Best l1_ratio and alpha: 0.500000, 0.000606\n"
     ]
    }
   ],
   "source": [
    "cut,err,val_list = elastic_net_cv_with_cutoffs()"
   ]
  },
  {
   "cell_type": "code",
   "execution_count": 5,
   "metadata": {},
   "outputs": [],
   "source": [
    "def plot_with_cutoff_and_cols(cut,err):\n",
    "    fig,ax = plt.subplots(figsize=(8,4))\n",
    "\n",
    "    ax.scatter([i/1000 for i in cut],err)\n",
    "    #ax2.scatter([i/1000 for i in cut],[i/10 for i in cols])\n",
    "    ax.set_title(\"Error Factor vs Cutoff Salary\")\n",
    "    ax.set_ylabel(\"Error Factor\")\n",
    "    ax.set_xlabel(\"Minimum Salary (Thousands)\")\n",
    "    ax.set_yticks([i/2+1 for i in range(5)]);\n",
    "    ax.set_xticks([0,500,1000,1500,2000]);\n",
    "    plt.tight_layout()\n",
    "    plt.savefig('error_by_cutoff.png')"
   ]
  },
  {
   "cell_type": "code",
   "execution_count": 6,
   "metadata": {},
   "outputs": [
    {
     "data": {
      "image/png": "[encoded data removed]",
      "text/plain": [
       "<Figure size 576x288 with 1 Axes>"
      ]
     },
     "metadata": {},
     "output_type": "display_data"
    }
   ],
   "source": [
    "plot_with_cutoff_and_cols(cut,err)"
   ]
  },
  {
   "cell_type": "code",
   "execution_count": 7,
   "metadata": {},
   "outputs": [],
   "source": [
    "def get_best_worst_params(cutoff):\n",
    "    train_X, train_y, test_X,test_y = load_and_split_data(cutoff)\n",
    "    vals = train_EN_model(train_X,train_y,test_X)\n",
    "    params = pd.DataFrame(train_X.columns,vals['coef']).reset_index()\n",
    "    params.columns = ['value','column']\n",
    "    top_params = params.iloc[params['value'].nlargest(20).index]\n",
    "    bottom_params = params.iloc[params['value'].nsmallest(10).index]\n",
    "    top_teams = top_params[top_params.column.str.contains('tm_')].reset_index().drop('index',axis=1)\n",
    "    top_numeric = top_params[~top_params.column.str.contains('tm_')].reset_index().drop('index',axis=1)\n",
    "    bottom_teams = bottom_params[bottom_params.column.str.contains('tm_')].reset_index().drop('index',axis=1)\n",
    "    bottom_numeric = bottom_params[~bottom_params.column.str.contains('tm_')].reset_index().drop('index',axis=1)\n",
    "    \n",
    "    return top_teams,bottom_teams,top_numeric,bottom_numeric"
   ]
  },
  {
   "cell_type": "code",
   "execution_count": 11,
   "metadata": {},
   "outputs": [
    {
     "name": "stdout",
     "output_type": "stream",
     "text": [
      "ratio(1.000000e-03) -- n: 72 -- alpha: 0.039129 -- mse: 0.077357 -- \n",
      "ratio(1.000000e-02) -- n: 70 -- alpha: 0.003913 -- mse: 0.065657 -- \n",
      "ratio(1.000000e-01) -- n: 67 -- alpha: 0.000555 -- mse: 0.064687 -- \n",
      "ratio(2.000000e-01) -- n: 67 -- alpha: 0.000196 -- mse: 0.064604 -- \n"
     ]
    },
    {
     "name": "stderr",
     "output_type": "stream",
     "text": [
      "/usr/local/lib/python3.6/site-packages/sklearn/linear_model/coordinate_descent.py:491: ConvergenceWarning: Objective did not converge. You might want to increase the number of iterations. Fitting data with very small alpha may cause precision problems.\n",
      "  ConvergenceWarning)\n",
      "/usr/local/lib/python3.6/site-packages/sklearn/linear_model/coordinate_descent.py:491: ConvergenceWarning: Objective did not converge. You might want to increase the number of iterations. Fitting data with very small alpha may cause precision problems.\n",
      "  ConvergenceWarning)\n"
     ]
    },
    {
     "name": "stdout",
     "output_type": "stream",
     "text": [
      "ratio(5.000000e-01) -- n: 63 -- alpha: 0.000084 -- mse: 0.064527 -- \n"
     ]
    },
    {
     "name": "stderr",
     "output_type": "stream",
     "text": [
      "/usr/local/lib/python3.6/site-packages/sklearn/linear_model/coordinate_descent.py:491: ConvergenceWarning: Objective did not converge. You might want to increase the number of iterations. Fitting data with very small alpha may cause precision problems.\n",
      "  ConvergenceWarning)\n",
      "/usr/local/lib/python3.6/site-packages/sklearn/linear_model/coordinate_descent.py:491: ConvergenceWarning: Objective did not converge. You might want to increase the number of iterations. Fitting data with very small alpha may cause precision problems.\n",
      "  ConvergenceWarning)\n"
     ]
    },
    {
     "name": "stdout",
     "output_type": "stream",
     "text": [
      "ratio(9.900000e-01) -- n: 61 -- alpha: 0.000056 -- mse: 0.064524 -- \n",
      "ratio(1.000000e+00) -- n: 61 -- alpha: 0.000055 -- mse: 0.064524 -- \n",
      "Best l1_ratio and alpha: 0.990000, 0.000056\n"
     ]
    },
    {
     "name": "stderr",
     "output_type": "stream",
     "text": [
      "/usr/local/lib/python3.6/site-packages/sklearn/linear_model/coordinate_descent.py:491: ConvergenceWarning: Objective did not converge. You might want to increase the number of iterations. Fitting data with very small alpha may cause precision problems.\n",
      "  ConvergenceWarning)\n"
     ]
    }
   ],
   "source": [
    "a,b,c,d = get_best_worst_params(1000000)"
   ]
  },
  {
   "cell_type": "code",
   "execution_count": 12,
   "metadata": {},
   "outputs": [
    {
     "data": {
      "text/html": [
       "<div>\n",
       "<style scoped>\n",
       "    .dataframe tbody tr th:only-of-type {\n",
       "        vertical-align: middle;\n",
       "    }\n",
       "\n",
       "    .dataframe tbody tr th {\n",
       "        vertical-align: top;\n",
       "    }\n",
       "\n",
       "    .dataframe thead th {\n",
       "        text-align: right;\n",
       "    }\n",
       "</style>\n",
       "<table border=\"1\" class=\"dataframe\">\n",
       "  <thead>\n",
       "    <tr style=\"text-align: right;\">\n",
       "      <th></th>\n",
       "      <th>value</th>\n",
       "      <th>column</th>\n",
       "    </tr>\n",
       "  </thead>\n",
       "  <tbody>\n",
       "    <tr>\n",
       "      <th>0</th>\n",
       "      <td>1.390876</td>\n",
       "      <td>pa/g</td>\n",
       "    </tr>\n",
       "    <tr>\n",
       "      <th>1</th>\n",
       "      <td>0.712732</td>\n",
       "      <td>rar</td>\n",
       "    </tr>\n",
       "    <tr>\n",
       "      <th>2</th>\n",
       "      <td>0.674476</td>\n",
       "      <td>years_in_mlb</td>\n",
       "    </tr>\n",
       "    <tr>\n",
       "      <th>3</th>\n",
       "      <td>0.594101</td>\n",
       "      <td>ibb</td>\n",
       "    </tr>\n",
       "    <tr>\n",
       "      <th>4</th>\n",
       "      <td>0.498746</td>\n",
       "      <td>g</td>\n",
       "    </tr>\n",
       "    <tr>\n",
       "      <th>5</th>\n",
       "      <td>0.393068</td>\n",
       "      <td>slg</td>\n",
       "    </tr>\n",
       "    <tr>\n",
       "      <th>6</th>\n",
       "      <td>0.307903</td>\n",
       "      <td>gidp</td>\n",
       "    </tr>\n",
       "    <tr>\n",
       "      <th>7</th>\n",
       "      <td>0.264596</td>\n",
       "      <td>rdp</td>\n",
       "    </tr>\n",
       "    <tr>\n",
       "      <th>8</th>\n",
       "      <td>0.185706</td>\n",
       "      <td>year</td>\n",
       "    </tr>\n",
       "    <tr>\n",
       "      <th>9</th>\n",
       "      <td>0.143247</td>\n",
       "      <td>sb</td>\n",
       "    </tr>\n",
       "    <tr>\n",
       "      <th>10</th>\n",
       "      <td>0.138531</td>\n",
       "      <td>rbi</td>\n",
       "    </tr>\n",
       "  </tbody>\n",
       "</table>\n",
       "</div>"
      ],
      "text/plain": [
       "       value        column\n",
       "0   1.390876          pa/g\n",
       "1   0.712732           rar\n",
       "2   0.674476  years_in_mlb\n",
       "3   0.594101           ibb\n",
       "4   0.498746             g\n",
       "5   0.393068           slg\n",
       "6   0.307903          gidp\n",
       "7   0.264596           rdp\n",
       "8   0.185706          year\n",
       "9   0.143247            sb\n",
       "10  0.138531           rbi"
      ]
     },
     "execution_count": 12,
     "metadata": {},
     "output_type": "execute_result"
    }
   ],
   "source": [
    "c"
   ]
  },
  {
   "cell_type": "code",
   "execution_count": 10,
   "metadata": {},
   "outputs": [
    {
     "data": {
      "text/html": [
       "<div>\n",
       "<style scoped>\n",
       "    .dataframe tbody tr th:only-of-type {\n",
       "        vertical-align: middle;\n",
       "    }\n",
       "\n",
       "    .dataframe tbody tr th {\n",
       "        vertical-align: top;\n",
       "    }\n",
       "\n",
       "    .dataframe thead th {\n",
       "        text-align: right;\n",
       "    }\n",
       "</style>\n",
       "<table border=\"1\" class=\"dataframe\">\n",
       "  <thead>\n",
       "    <tr style=\"text-align: right;\">\n",
       "      <th></th>\n",
       "      <th>value</th>\n",
       "      <th>column</th>\n",
       "    </tr>\n",
       "  </thead>\n",
       "  <tbody>\n",
       "    <tr>\n",
       "      <th>0</th>\n",
       "      <td>-0.252245</td>\n",
       "      <td>sh</td>\n",
       "    </tr>\n",
       "    <tr>\n",
       "      <th>1</th>\n",
       "      <td>-0.091790</td>\n",
       "      <td>3b</td>\n",
       "    </tr>\n",
       "    <tr>\n",
       "      <th>2</th>\n",
       "      <td>-0.047819</td>\n",
       "      <td>acquired_fa</td>\n",
       "    </tr>\n",
       "    <tr>\n",
       "      <th>3</th>\n",
       "      <td>-0.040195</td>\n",
       "      <td>acquired_dr</td>\n",
       "    </tr>\n",
       "  </tbody>\n",
       "</table>\n",
       "</div>"
      ],
      "text/plain": [
       "      value       column\n",
       "0 -0.252245           sh\n",
       "1 -0.091790           3b\n",
       "2 -0.047819  acquired_fa\n",
       "3 -0.040195  acquired_dr"
      ]
     },
     "execution_count": 10,
     "metadata": {},
     "output_type": "execute_result"
    }
   ],
   "source": [
    "d"
   ]
  },
  {
   "cell_type": "code",
   "execution_count": null,
   "metadata": {},
   "outputs": [],
   "source": [
    "sal_df = pd.read_pickle('salary_17.pkl')"
   ]
  },
  {
   "cell_type": "code",
   "execution_count": null,
   "metadata": {},
   "outputs": [],
   "source": [
    "sal_df['salary'] = sal_df['Salary'].apply(lambda x: x.replace('$','').replace(',',''))"
   ]
  },
  {
   "cell_type": "code",
   "execution_count": null,
   "metadata": {},
   "outputs": [],
   "source": [
    "sal_df = sal_df.apply(pd.to_numeric, errors='ignore').drop('Salary',axis=1).drop(30,axis=0)"
   ]
  },
  {
   "cell_type": "code",
   "execution_count": null,
   "metadata": {},
   "outputs": [],
   "source": [
    "sal_df.info()"
   ]
  },
  {
   "cell_type": "code",
   "execution_count": null,
   "metadata": {},
   "outputs": [],
   "source": [
    "sorted_salaries = sal_df.sort_values(['salary'],ascending=False).reset_index().drop('index',axis=1)"
   ]
  },
  {
   "cell_type": "code",
   "execution_count": null,
   "metadata": {},
   "outputs": [],
   "source": [
    "sorted_salaries"
   ]
  },
  {
   "cell_type": "code",
   "execution_count": null,
   "metadata": {},
   "outputs": [],
   "source": [
    "def make_residual_plot(cutoff,val_list):\n",
    "    import matplotlib as mpl\n",
    "    mpl.rcParams['figure.dpi']= 300\n",
    "    train_X, train_y, test_X, test_y = load_and_split_data(cutoff)\n",
    "    predictions = pd.DataFrame(val_list[int(cutoff/1e5)-1]['y'])\n",
    "    test_actual = pd.DataFrame(test_y)\n",
    "    test_actual = test_actual.reset_index().drop(['index'],axis=1)\n",
    "    test_actual['calculated'] = predictions[0]\n",
    "    test_actual['residual'] = test_actual['log10_adj'] - test_actual['calculated']\n",
    "    #return test_actual\n",
    "    fig,ax = plt.subplots(figsize=(8,4))\n",
    "    \n",
    "    ax.scatter(10**test_actual['log10_adj']/1e6,test_actual['residual'],alpha=.4)\n",
    "    ax.plot([i for i in range(30)],[0 for i in range(30)],c='r',alpha=.5)\n",
    "    ax.set_yticks([i/4 -1 for i in range(-1,10)])\n",
    "    ax.set_xticks([0,5,10,15,20,25,30])\n",
    "    ax.set_title(\"Plot of Residuals vs log(salary) for minimum salary of ${:,}\".format(cutoff))\n",
    "    ax.set_ylabel(\"Residual (log-10)\")\n",
    "    ax.set_xlabel(\"Salary (Millions)\")\n",
    "    plt.tight_layout()\n",
    "    plt.savefig('residual_plot_{0}.png'.format(cutoff))\n",
    "    "
   ]
  },
  {
   "cell_type": "code",
   "execution_count": null,
   "metadata": {},
   "outputs": [],
   "source": [
    "make_residual_plot(500000,val_list)"
   ]
  },
  {
   "cell_type": "code",
   "execution_count": null,
   "metadata": {},
   "outputs": [],
   "source": [
    "make_residual_plot(1000000,val_list)"
   ]
  },
  {
   "cell_type": "code",
   "execution_count": null,
   "metadata": {},
   "outputs": [],
   "source": [
    "make_residual_plot(1500000,val_list)"
   ]
  },
  {
   "cell_type": "code",
   "execution_count": null,
   "metadata": {},
   "outputs": [],
   "source": []
  }
 ],
 "metadata": {
  "kernelspec": {
   "display_name": "Python 3",
   "language": "python",
   "name": "python3"
  },
  "language_info": {
   "codemirror_mode": {
    "name": "ipython",
    "version": 3
   },
   "file_extension": ".py",
   "mimetype": "text/x-python",
   "name": "python",
   "nbconvert_exporter": "python",
   "pygments_lexer": "ipython3",
   "version": "3.6.4"
  }
 },
 "nbformat": 4,
 "nbformat_minor": 2
}
