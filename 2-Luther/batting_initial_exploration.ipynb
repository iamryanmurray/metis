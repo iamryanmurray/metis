{
 "cells": [
  {
   "cell_type": "code",
   "execution_count": 1,
   "metadata": {},
   "outputs": [],
   "source": [
    "import pandas as pd\n",
    "import numpy as np\n",
    "import matplotlib.pyplot as plt\n",
    "import seaborn as sns"
   ]
  },
  {
   "cell_type": "code",
   "execution_count": 16,
   "metadata": {},
   "outputs": [],
   "source": [
    "bdf7 = pd.read_pickle('batting_2017.pkl')\n",
    "bdf6 = pd.read_pickle('batting_2016.pkl')"
   ]
  },
  {
   "cell_type": "code",
   "execution_count": 3,
   "metadata": {},
   "outputs": [
    {
     "data": {
      "text/html": [
       "<div>\n",
       "<style scoped>\n",
       "    .dataframe tbody tr th:only-of-type {\n",
       "        vertical-align: middle;\n",
       "    }\n",
       "\n",
       "    .dataframe tbody tr th {\n",
       "        vertical-align: top;\n",
       "    }\n",
       "\n",
       "    .dataframe thead th {\n",
       "        text-align: right;\n",
       "    }\n",
       "</style>\n",
       "<table border=\"1\" class=\"dataframe\">\n",
       "  <thead>\n",
       "    <tr style=\"text-align: right;\">\n",
       "      <th></th>\n",
       "      <th>rk</th>\n",
       "      <th>name</th>\n",
       "      <th>age</th>\n",
       "      <th>tm</th>\n",
       "      <th>g</th>\n",
       "      <th>pa</th>\n",
       "      <th>rbat</th>\n",
       "      <th>rbaser</th>\n",
       "      <th>rdp</th>\n",
       "      <th>rfield</th>\n",
       "      <th>...</th>\n",
       "      <th>waawl%</th>\n",
       "      <th>162wl%</th>\n",
       "      <th>owar</th>\n",
       "      <th>dwar</th>\n",
       "      <th>orar</th>\n",
       "      <th>salary</th>\n",
       "      <th>acquired</th>\n",
       "      <th>pos summary</th>\n",
       "      <th>bat_hand</th>\n",
       "      <th>log_sal</th>\n",
       "    </tr>\n",
       "  </thead>\n",
       "  <tbody>\n",
       "    <tr>\n",
       "      <th>0</th>\n",
       "      <td>1</td>\n",
       "      <td>Fernando Abad</td>\n",
       "      <td>31</td>\n",
       "      <td>BOS</td>\n",
       "      <td>4</td>\n",
       "      <td>0.0</td>\n",
       "      <td>0</td>\n",
       "      <td>0</td>\n",
       "      <td>0</td>\n",
       "      <td>0</td>\n",
       "      <td>...</td>\n",
       "      <td>0.500</td>\n",
       "      <td>0.500</td>\n",
       "      <td>0.0</td>\n",
       "      <td>0.0</td>\n",
       "      <td>0.0</td>\n",
       "      <td>2000000.0</td>\n",
       "      <td>Traded</td>\n",
       "      <td>1</td>\n",
       "      <td>lhb</td>\n",
       "      <td>6.301030</td>\n",
       "    </tr>\n",
       "    <tr>\n",
       "      <th>1</th>\n",
       "      <td>2</td>\n",
       "      <td>Jose Abreu</td>\n",
       "      <td>30</td>\n",
       "      <td>CHW</td>\n",
       "      <td>156</td>\n",
       "      <td>675.0</td>\n",
       "      <td>34</td>\n",
       "      <td>1</td>\n",
       "      <td>-2</td>\n",
       "      <td>0</td>\n",
       "      <td>...</td>\n",
       "      <td>0.515</td>\n",
       "      <td>0.515</td>\n",
       "      <td>4.8</td>\n",
       "      <td>-0.9</td>\n",
       "      <td>47.0</td>\n",
       "      <td>10825000.0</td>\n",
       "      <td>Amateur Free Agent</td>\n",
       "      <td>*3D</td>\n",
       "      <td>rhb</td>\n",
       "      <td>7.034428</td>\n",
       "    </tr>\n",
       "    <tr>\n",
       "      <th>2</th>\n",
       "      <td>3</td>\n",
       "      <td>Cristhian Adames#</td>\n",
       "      <td>25</td>\n",
       "      <td>COL</td>\n",
       "      <td>12</td>\n",
       "      <td>14.0</td>\n",
       "      <td>-4</td>\n",
       "      <td>0</td>\n",
       "      <td>0</td>\n",
       "      <td>-1</td>\n",
       "      <td>...</td>\n",
       "      <td>0.462</td>\n",
       "      <td>0.497</td>\n",
       "      <td>-0.3</td>\n",
       "      <td>-0.1</td>\n",
       "      <td>-3.0</td>\n",
       "      <td>540000.0</td>\n",
       "      <td>Amateur Free Agent</td>\n",
       "      <td>/346</td>\n",
       "      <td>swh</td>\n",
       "      <td>5.732394</td>\n",
       "    </tr>\n",
       "    <tr>\n",
       "      <th>5</th>\n",
       "      <td>6</td>\n",
       "      <td>Matt Adams</td>\n",
       "      <td>28</td>\n",
       "      <td>2TM</td>\n",
       "      <td>131</td>\n",
       "      <td>367.0</td>\n",
       "      <td>4</td>\n",
       "      <td>-2</td>\n",
       "      <td>0</td>\n",
       "      <td>-4</td>\n",
       "      <td>...</td>\n",
       "      <td>0.495</td>\n",
       "      <td>0.498</td>\n",
       "      <td>0.9</td>\n",
       "      <td>-0.9</td>\n",
       "      <td>10.0</td>\n",
       "      <td>2800000.0</td>\n",
       "      <td>Traded</td>\n",
       "      <td>37</td>\n",
       "      <td>lhb</td>\n",
       "      <td>6.447158</td>\n",
       "    </tr>\n",
       "    <tr>\n",
       "      <th>9</th>\n",
       "      <td>10</td>\n",
       "      <td>Jesus Aguilar</td>\n",
       "      <td>27</td>\n",
       "      <td>MIL</td>\n",
       "      <td>133</td>\n",
       "      <td>311.0</td>\n",
       "      <td>5</td>\n",
       "      <td>0</td>\n",
       "      <td>0</td>\n",
       "      <td>2</td>\n",
       "      <td>...</td>\n",
       "      <td>0.503</td>\n",
       "      <td>0.502</td>\n",
       "      <td>1.0</td>\n",
       "      <td>-0.2</td>\n",
       "      <td>11.0</td>\n",
       "      <td>536000.0</td>\n",
       "      <td>Waivers</td>\n",
       "      <td>3/D5</td>\n",
       "      <td>rhb</td>\n",
       "      <td>5.729165</td>\n",
       "    </tr>\n",
       "  </tbody>\n",
       "</table>\n",
       "<p>5 rows × 26 columns</p>\n",
       "</div>"
      ],
      "text/plain": [
       "   rk               name  age   tm    g     pa  rbat  rbaser  rdp  rfield  \\\n",
       "0   1      Fernando Abad   31  BOS    4    0.0     0       0    0       0   \n",
       "1   2         Jose Abreu   30  CHW  156  675.0    34       1   -2       0   \n",
       "2   3  Cristhian Adames#   25  COL   12   14.0    -4       0    0      -1   \n",
       "5   6         Matt Adams   28  2TM  131  367.0     4      -2    0      -4   \n",
       "9  10      Jesus Aguilar   27  MIL  133  311.0     5       0    0       2   \n",
       "\n",
       "     ...     waawl%  162wl%  owar  dwar  orar      salary            acquired  \\\n",
       "0    ...      0.500   0.500   0.0   0.0   0.0   2000000.0              Traded   \n",
       "1    ...      0.515   0.515   4.8  -0.9  47.0  10825000.0  Amateur Free Agent   \n",
       "2    ...      0.462   0.497  -0.3  -0.1  -3.0    540000.0  Amateur Free Agent   \n",
       "5    ...      0.495   0.498   0.9  -0.9  10.0   2800000.0              Traded   \n",
       "9    ...      0.503   0.502   1.0  -0.2  11.0    536000.0             Waivers   \n",
       "\n",
       "   pos summary  bat_hand   log_sal  \n",
       "0            1       lhb  6.301030  \n",
       "1          *3D       rhb  7.034428  \n",
       "2         /346       swh  5.732394  \n",
       "5           37       lhb  6.447158  \n",
       "9         3/D5       rhb  5.729165  \n",
       "\n",
       "[5 rows x 26 columns]"
      ]
     },
     "execution_count": 3,
     "metadata": {},
     "output_type": "execute_result"
    }
   ],
   "source": [
    "bdf.head()"
   ]
  },
  {
   "cell_type": "code",
   "execution_count": 18,
   "metadata": {},
   "outputs": [],
   "source": [
    "train = bdf6[bdf6.pa > 200]\n",
    "test = bdf7[bdf7.pa > 200]"
   ]
  },
  {
   "cell_type": "code",
   "execution_count": 23,
   "metadata": {},
   "outputs": [],
   "source": [
    "features = train.columns.tolist()[4:21]"
   ]
  },
  {
   "cell_type": "code",
   "execution_count": 33,
   "metadata": {},
   "outputs": [],
   "source": [
    "train_X = train[features]\n",
    "train_y = train['log_sal']"
   ]
  },
  {
   "cell_type": "code",
   "execution_count": 14,
   "metadata": {},
   "outputs": [],
   "source": [
    "from sklearn.linear_model import LinearRegression"
   ]
  },
  {
   "cell_type": "code",
   "execution_count": 26,
   "metadata": {},
   "outputs": [],
   "source": [
    "lr = LinearRegression()"
   ]
  },
  {
   "cell_type": "code",
   "execution_count": 35,
   "metadata": {},
   "outputs": [
    {
     "data": {
      "text/plain": [
       "LinearRegression(copy_X=True, fit_intercept=True, n_jobs=1, normalize=False)"
      ]
     },
     "execution_count": 35,
     "metadata": {},
     "output_type": "execute_result"
    }
   ],
   "source": [
    "lr.fit(train_X,train_y)"
   ]
  },
  {
   "cell_type": "code",
   "execution_count": 36,
   "metadata": {},
   "outputs": [],
   "source": [
    "predictions = lr.predict(test[features])"
   ]
  },
  {
   "cell_type": "code",
   "execution_count": 29,
   "metadata": {},
   "outputs": [],
   "source": [
    "from sklearn.metrics import mean_absolute_error"
   ]
  },
  {
   "cell_type": "code",
   "execution_count": 37,
   "metadata": {},
   "outputs": [
    {
     "data": {
      "text/plain": [
       "0.4527558261028486"
      ]
     },
     "execution_count": 37,
     "metadata": {},
     "output_type": "execute_result"
    }
   ],
   "source": [
    "mean_absolute_error(predictions, test['log_sal'])"
   ]
  },
  {
   "cell_type": "code",
   "execution_count": 32,
   "metadata": {
    "scrolled": true
   },
   "outputs": [
    {
     "data": {
      "text/plain": [
       "315"
      ]
     },
     "execution_count": 32,
     "metadata": {},
     "output_type": "execute_result"
    }
   ],
   "source": []
  },
  {
   "cell_type": "code",
   "execution_count": null,
   "metadata": {},
   "outputs": [],
   "source": []
  }
 ],
 "metadata": {
  "kernelspec": {
   "display_name": "Python 3",
   "language": "python",
   "name": "python3"
  },
  "language_info": {
   "codemirror_mode": {
    "name": "ipython",
    "version": 3
   },
   "file_extension": ".py",
   "mimetype": "text/x-python",
   "name": "python",
   "nbconvert_exporter": "python",
   "pygments_lexer": "ipython3",
   "version": "3.6.4"
  }
 },
 "nbformat": 4,
 "nbformat_minor": 2
}
