{
 "cells": [
  {
   "cell_type": "code",
   "execution_count": 198,
   "metadata": {},
   "outputs": [],
   "source": [
    "import pandas as pd\n",
    "import matplotlib.pyplot as plt\n",
    "import numpy as np\n",
    "    \n",
    "import markdown\n",
    "from lxml import etree\n",
    "import re\n",
    "from urllib.parse import urlsplit"
   ]
  },
  {
   "cell_type": "code",
   "execution_count": 2,
   "metadata": {},
   "outputs": [],
   "source": [
    "downs = pd.read_csv('results-20180502-121033.csv')"
   ]
  },
  {
   "cell_type": "code",
   "execution_count": 4,
   "metadata": {},
   "outputs": [
    {
     "name": "stderr",
     "output_type": "stream",
     "text": [
      "/usr/local/lib/python3.6/site-packages/IPython/core/interactiveshell.py:2785: DtypeWarning: Columns (18) have mixed types. Specify dtype option on import or set low_memory=False.\n",
      "  interactivity=interactivity, compiler=compiler, result=result)\n"
     ]
    }
   ],
   "source": [
    "ups = pd.read_csv('2014_ups.csv')"
   ]
  },
  {
   "cell_type": "code",
   "execution_count": 7,
   "metadata": {},
   "outputs": [],
   "source": [
    "ups['dnv'] = 0\n",
    "downs['dnv'] = 1"
   ]
  },
  {
   "cell_type": "code",
   "execution_count": 159,
   "metadata": {},
   "outputs": [],
   "source": [
    "comments = pd.concat([ups,downs])\n",
    "comments = comments.reset_index()\n",
    "drop_cols = ['index','score_hidden','name','downs','subreddit_id','subreddit','controversiality','gilded','ups','distinguished','removal_reason']\n",
    "\n",
    "comments = comments.drop(drop_cols,axis=1)\n",
    "\n",
    "comments['body'] = comments['body'].apply(lambda x: drop_newlines(x))\n",
    "comments['created_utc'] = pd.to_datetime(comments['created_utc'],unit='s')\n",
    "comments['retrieved_on'] = pd.to_datetime(comments['retrieved_on'],unit='s')\n",
    "\n",
    "comments['age_retrieved'] = comments['retrieved_on'] - comments['created_utc']"
   ]
  },
  {
   "cell_type": "code",
   "execution_count": 51,
   "metadata": {},
   "outputs": [
    {
     "data": {
      "text/plain": [
       "(37867, 12)"
      ]
     },
     "execution_count": 51,
     "metadata": {},
     "output_type": "execute_result"
    }
   ],
   "source": [
    "comments.shape"
   ]
  },
  {
   "cell_type": "code",
   "execution_count": 82,
   "metadata": {},
   "outputs": [],
   "source": [
    "body_markdown = \"This is an [inline link](http://google.com). This is a [non inline link][1]\\r\\n\\r\\n  [1]: http://yahoo.com\"\n"
   ]
  },
  {
   "cell_type": "code",
   "execution_count": 127,
   "metadata": {},
   "outputs": [],
   "source": [
    "def avg_word(sentence):\n",
    "    words = sentence.split()\n",
    "    return (sum(len(word) for word in words)/len(words))\n",
    "\n",
    "def extract_md_link(post):\n",
    "    doc = etree.fromstring(markdown.markdown(post))\n",
    "    links = []\n",
    "    for link in doc.xpath('//a'):\n",
    "        links.append(link.get('href'))    \n",
    "    return ' '.join(links)\n",
    "\n",
    "def drop_newlines(post):\n",
    "    return ' '.join(post.split('\\n'))"
   ]
  },
  {
   "cell_type": "code",
   "execution_count": 230,
   "metadata": {},
   "outputs": [],
   "source": [
    "def get_link(post):\n",
    "\n",
    "    myString_list = [item for item in post.split(\" \")]\n",
    "    url_list = []\n",
    "    for item in myString_list:\n",
    "        try:\n",
    "            a = re.search(\"(?P<url>https?://[^\\s]+)\", item) or re.search(\"(?P<url>www[^\\s]+)\", url)\n",
    "            a = a.group('url')\n",
    "            b = '.'.join(urlsplit(a).hostname.split('.')[-2:])\n",
    "            \n",
    "            url_list.append(b)\n",
    "        except:\n",
    "            pass\n",
    "\n",
    "    return ' '.join(url_list)"
   ]
  },
  {
   "cell_type": "code",
   "execution_count": 231,
   "metadata": {},
   "outputs": [],
   "source": [
    "comments['word_count'] = comments['body'].apply(lambda x: len(str(x).split(' ')))\n",
    "comments['avg_word'] = comments['body'].apply(lambda x: avg_word(x))\n",
    "\n",
    "comments['links'] = comments['body'].apply(lambda x: get_link(x))"
   ]
  },
  {
   "cell_type": "code",
   "execution_count": 232,
   "metadata": {},
   "outputs": [
    {
     "data": {
      "text/plain": [
       "                                                                                                                                                                                                                        34960\n",
       "imgur.com                                                                                                                                                                                                                 317\n",
       "wikipedia.org                                                                                                                                                                                                             143\n",
       "reddit.com                                                                                                                                                                                                                123\n",
       "seattle.gov                                                                                                                                                                                                               119\n",
       "youtube.com                                                                                                                                                                                                               115\n",
       "wa.gov                                                                                                                                                                                                                     86\n",
       "seattletimes.com                                                                                                                                                                                                           57\n",
       "thestranger.com                                                                                                                                                                                                            48\n",
       "kingcounty.gov                                                                                                                                                                                                             40\n",
       "google.com                                                                                                                                                                                                                 36\n",
       "googleusercontent.com                                                                                                                                                                                                      35\n",
       "komonews.com                                                                                                                                                                                                               33\n",
       "twitter.com                                                                                                                                                                                                                33\n",
       "seattlepi.com                                                                                                                                                                                                              21\n",
       "flickr.com                                                                                                                                                                                                                 17\n",
       "king5.com                                                                                                                                                                                                                  15\n",
       "facebook.com                                                                                                                                                                                                               15\n",
       "yelp.com                                                                                                                                                                                                                   15\n",
       "nytimes.com                                                                                                                                                                                                                14\n",
       "amazon.com                                                                                                                                                                                                                 14\n",
       "kirotv.com                                                                                                                                                                                                                 13\n",
       "imgur.com imgur.com                                                                                                                                                                                                        13\n",
       "tumblr.com                                                                                                                                                                                                                 13\n",
       "blogspot.com                                                                                                                                                                                                               13\n",
       "staticflickr.com                                                                                                                                                                                                           12\n",
       "historylink.org                                                                                                                                                                                                            11\n",
       "geekwire.com                                                                                                                                                                                                               11\n",
       "wordpress.com                                                                                                                                                                                                              10\n",
       "seattletransitblog.com                                                                                                                                                                                                     10\n",
       "                                                                                                                                                                                                                        ...  \n",
       "wsdot.com wsdot.com                                                                                                                                                                                                         1\n",
       "the-broad-side.com                                                                                                                                                                                                          1\n",
       "lyft.me                                                                                                                                                                                                                     1\n",
       "myfitnesspal.com                                                                                                                                                                                                            1\n",
       "quileuteoceanside.com                                                                                                                                                                                                       1\n",
       "elborrachoseattle.com                                                                                                                                                                                                       1\n",
       "oregonlive.com                                                                                                                                                                                                              1\n",
       "bakerynouveau.com                                                                                                                                                                                                           1\n",
       "vitamin-ha.com                                                                                                                                                                                                              1\n",
       "wordpress.com wordpress.com tumblr.com                                                                                                                                                                                      1\n",
       "grindersshoreline.com                                                                                                                                                                                                       1\n",
       "elcamionseattle.com                                                                                                                                                                                                         1\n",
       "atmdelivery.net seattlegardensexpress.com wordpress.com wix.com is-best.net) seattlegreenbuds.com greenlightwashington.com) weebly.com                                                                                      1\n",
       "thestranger.com bandsintown.com showboxpresents.com stgpresents.org neumos.com thebarboza.com elcorazonseattle.com thecrocodile.com facebook.com nectarlounge.com highdiveseattle.com sunsettavern.com wordpress.com        1\n",
       "westseattleblog.com                                                                                                                                                                                                         1\n",
       "komonews.com seattletimes.com                                                                                                                                                                                               1\n",
       "imgur.com soundcloud.com                                                                                                                                                                                                    1\n",
       "itspronouncedmetrosexual.com                                                                                                                                                                                                1\n",
       "pacificsciencecenter.org                                                                                                                                                                                                    1\n",
       "nwfolklife.org                                                                                                                                                                                                              1\n",
       "seattlebikeblog.com seattletransitblog.com wa.gov                                                                                                                                                                           1\n",
       "biteofseattle.com                                                                                                                                                                                                           1\n",
       "antiyawn.com                                                                                                                                                                                                                1\n",
       "votespear.org)                                                                                                                                                                                                              1\n",
       "seattlemet.com about.com                                                                                                                                                                                                    1\n",
       "countrydoctor.org                                                                                                                                                                                                           1\n",
       "washington.edu washington.edu seattletimes.com seattletimes.com seattletimes.com                                                                                                                                            1\n",
       "d20brassband.com                                                                                                                                                                                                            1\n",
       "irs.gov                                                                                                                                                                                                                     1\n",
       "google.com swarthmore.edu                                                                                                                                                                                                   1\n",
       "Name: links, Length: 1161, dtype: int64"
      ]
     },
     "execution_count": 232,
     "metadata": {},
     "output_type": "execute_result"
    }
   ],
   "source": [
    "comments['links'].value_counts()"
   ]
  },
  {
   "cell_type": "code",
   "execution_count": null,
   "metadata": {},
   "outputs": [],
   "source": []
  }
 ],
 "metadata": {
  "kernelspec": {
   "display_name": "Python 3",
   "language": "python",
   "name": "python3"
  },
  "language_info": {
   "codemirror_mode": {
    "name": "ipython",
    "version": 3
   },
   "file_extension": ".py",
   "mimetype": "text/x-python",
   "name": "python",
   "nbconvert_exporter": "python",
   "pygments_lexer": "ipython3",
   "version": "3.6.4"
  }
 },
 "nbformat": 4,
 "nbformat_minor": 2
}
