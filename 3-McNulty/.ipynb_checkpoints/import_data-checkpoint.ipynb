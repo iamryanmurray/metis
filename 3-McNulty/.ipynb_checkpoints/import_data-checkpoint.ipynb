{
 "cells": [
  {
   "cell_type": "code",
   "execution_count": 3,
   "metadata": {},
   "outputs": [],
   "source": [
    "import pandas as pd\n",
    "import glob"
   ]
  },
  {
   "cell_type": "code",
   "execution_count": 17,
   "metadata": {},
   "outputs": [],
   "source": [
    "path = './data/'\n",
    "allFiles = glob.glob(path +'/*.csv')\n",
    "\n",
    "frame = pd.DataFrame()\n",
    "list_ = []\n",
    "\n",
    "for file_ in allFiles:\n",
    "    df = pd.read_csv(file_,index_col=None,header=0,low_memory=False)\n",
    "    list_.append(df)\n",
    "    \n",
    "frame = pd.concat(list_)"
   ]
  },
  {
   "cell_type": "code",
   "execution_count": 18,
   "metadata": {},
   "outputs": [
    {
     "data": {
      "text/plain": [
       "(89242, 21)"
      ]
     },
     "execution_count": 18,
     "metadata": {},
     "output_type": "execute_result"
    }
   ],
   "source": [
    "frame.shape"
   ]
  },
  {
   "cell_type": "code",
   "execution_count": 8,
   "metadata": {},
   "outputs": [
    {
     "data": {
      "text/html": [
       "<div>\n",
       "<style scoped>\n",
       "    .dataframe tbody tr th:only-of-type {\n",
       "        vertical-align: middle;\n",
       "    }\n",
       "\n",
       "    .dataframe tbody tr th {\n",
       "        vertical-align: top;\n",
       "    }\n",
       "\n",
       "    .dataframe thead th {\n",
       "        text-align: right;\n",
       "    }\n",
       "</style>\n",
       "<table border=\"1\" class=\"dataframe\">\n",
       "  <thead>\n",
       "    <tr style=\"text-align: right;\">\n",
       "      <th></th>\n",
       "      <th>archived</th>\n",
       "      <th>author</th>\n",
       "      <th>author_flair_css_class</th>\n",
       "      <th>author_flair_text</th>\n",
       "      <th>body</th>\n",
       "      <th>controversiality</th>\n",
       "      <th>created_utc</th>\n",
       "      <th>distinguished</th>\n",
       "      <th>downs</th>\n",
       "      <th>gilded</th>\n",
       "      <th>...</th>\n",
       "      <th>link_id</th>\n",
       "      <th>name</th>\n",
       "      <th>parent_id</th>\n",
       "      <th>removal_reason</th>\n",
       "      <th>retrieved_on</th>\n",
       "      <th>score</th>\n",
       "      <th>score_hidden</th>\n",
       "      <th>subreddit</th>\n",
       "      <th>subreddit_id</th>\n",
       "      <th>ups</th>\n",
       "    </tr>\n",
       "  </thead>\n",
       "  <tbody>\n",
       "    <tr>\n",
       "      <th>0</th>\n",
       "      <td>0.0</td>\n",
       "      <td>CityOfWin</td>\n",
       "      <td>NaN</td>\n",
       "      <td>NaN</td>\n",
       "      <td>Cause flagship is the owners designation.</td>\n",
       "      <td>0</td>\n",
       "      <td>1430523577</td>\n",
       "      <td>NaN</td>\n",
       "      <td>0.0</td>\n",
       "      <td>0</td>\n",
       "      <td>...</td>\n",
       "      <td>t3_34k4b1</td>\n",
       "      <td>t1_cqvju4u</td>\n",
       "      <td>t1_cqvjnwf</td>\n",
       "      <td>NaN</td>\n",
       "      <td>1.432722e+09</td>\n",
       "      <td>14</td>\n",
       "      <td>0.0</td>\n",
       "      <td>Seattle</td>\n",
       "      <td>t5_2qhad</td>\n",
       "      <td>14</td>\n",
       "    </tr>\n",
       "    <tr>\n",
       "      <th>1</th>\n",
       "      <td>0.0</td>\n",
       "      <td>Icabezudo</td>\n",
       "      <td>NaN</td>\n",
       "      <td>NaN</td>\n",
       "      <td>Apparently so.</td>\n",
       "      <td>0</td>\n",
       "      <td>1431391542</td>\n",
       "      <td>NaN</td>\n",
       "      <td>0.0</td>\n",
       "      <td>0</td>\n",
       "      <td>...</td>\n",
       "      <td>t3_35mx0q</td>\n",
       "      <td>t1_cr64d0i</td>\n",
       "      <td>t1_cr647wv</td>\n",
       "      <td>NaN</td>\n",
       "      <td>1.432906e+09</td>\n",
       "      <td>14</td>\n",
       "      <td>0.0</td>\n",
       "      <td>Seattle</td>\n",
       "      <td>t5_2qhad</td>\n",
       "      <td>14</td>\n",
       "    </tr>\n",
       "    <tr>\n",
       "      <th>2</th>\n",
       "      <td>0.0</td>\n",
       "      <td>VaguestCargo</td>\n",
       "      <td>flair</td>\n",
       "      <td>West Seattle</td>\n",
       "      <td>Haha yeah, the downvotes are a-flyin' in here....</td>\n",
       "      <td>0</td>\n",
       "      <td>1431645336</td>\n",
       "      <td>NaN</td>\n",
       "      <td>0.0</td>\n",
       "      <td>0</td>\n",
       "      <td>...</td>\n",
       "      <td>t3_35ztgo</td>\n",
       "      <td>t1_cr9fg96</td>\n",
       "      <td>t1_cr9fdss</td>\n",
       "      <td>NaN</td>\n",
       "      <td>1.433069e+09</td>\n",
       "      <td>-19</td>\n",
       "      <td>0.0</td>\n",
       "      <td>Seattle</td>\n",
       "      <td>t5_2qhad</td>\n",
       "      <td>-19</td>\n",
       "    </tr>\n",
       "    <tr>\n",
       "      <th>3</th>\n",
       "      <td>0.0</td>\n",
       "      <td>hamburger6666</td>\n",
       "      <td>NaN</td>\n",
       "      <td>NaN</td>\n",
       "      <td>In the street art community, there are general...</td>\n",
       "      <td>0</td>\n",
       "      <td>1431979156</td>\n",
       "      <td>NaN</td>\n",
       "      <td>0.0</td>\n",
       "      <td>0</td>\n",
       "      <td>...</td>\n",
       "      <td>t3_36dqsu</td>\n",
       "      <td>t1_crd9uv0</td>\n",
       "      <td>t1_crd4s0r</td>\n",
       "      <td>NaN</td>\n",
       "      <td>1.433135e+09</td>\n",
       "      <td>21</td>\n",
       "      <td>0.0</td>\n",
       "      <td>Seattle</td>\n",
       "      <td>t5_2qhad</td>\n",
       "      <td>21</td>\n",
       "    </tr>\n",
       "    <tr>\n",
       "      <th>4</th>\n",
       "      <td>0.0</td>\n",
       "      <td>[deleted]</td>\n",
       "      <td>NaN</td>\n",
       "      <td>NaN</td>\n",
       "      <td>[deleted]</td>\n",
       "      <td>0</td>\n",
       "      <td>1432419909</td>\n",
       "      <td>NaN</td>\n",
       "      <td>0.0</td>\n",
       "      <td>0</td>\n",
       "      <td>...</td>\n",
       "      <td>t3_3711c9</td>\n",
       "      <td>t1_crisket</td>\n",
       "      <td>t3_3711c9</td>\n",
       "      <td>NaN</td>\n",
       "      <td>1.433231e+09</td>\n",
       "      <td>-33</td>\n",
       "      <td>0.0</td>\n",
       "      <td>Seattle</td>\n",
       "      <td>t5_2qhad</td>\n",
       "      <td>-33</td>\n",
       "    </tr>\n",
       "  </tbody>\n",
       "</table>\n",
       "<p>5 rows × 21 columns</p>\n",
       "</div>"
      ],
      "text/plain": [
       "   archived         author author_flair_css_class author_flair_text  \\\n",
       "0       0.0      CityOfWin                    NaN               NaN   \n",
       "1       0.0      Icabezudo                    NaN               NaN   \n",
       "2       0.0   VaguestCargo                  flair      West Seattle   \n",
       "3       0.0  hamburger6666                    NaN               NaN   \n",
       "4       0.0      [deleted]                    NaN               NaN   \n",
       "\n",
       "                                                body  controversiality  \\\n",
       "0         Cause flagship is the owners designation.                  0   \n",
       "1                                    Apparently so.                  0   \n",
       "2  Haha yeah, the downvotes are a-flyin' in here....                 0   \n",
       "3  In the street art community, there are general...                 0   \n",
       "4                                          [deleted]                 0   \n",
       "\n",
       "   created_utc distinguished  downs  gilded ...    link_id        name  \\\n",
       "0   1430523577           NaN    0.0       0 ...  t3_34k4b1  t1_cqvju4u   \n",
       "1   1431391542           NaN    0.0       0 ...  t3_35mx0q  t1_cr64d0i   \n",
       "2   1431645336           NaN    0.0       0 ...  t3_35ztgo  t1_cr9fg96   \n",
       "3   1431979156           NaN    0.0       0 ...  t3_36dqsu  t1_crd9uv0   \n",
       "4   1432419909           NaN    0.0       0 ...  t3_3711c9  t1_crisket   \n",
       "\n",
       "    parent_id removal_reason  retrieved_on  score  score_hidden  subreddit  \\\n",
       "0  t1_cqvjnwf            NaN  1.432722e+09     14           0.0    Seattle   \n",
       "1  t1_cr647wv            NaN  1.432906e+09     14           0.0    Seattle   \n",
       "2  t1_cr9fdss            NaN  1.433069e+09    -19           0.0    Seattle   \n",
       "3  t1_crd4s0r            NaN  1.433135e+09     21           0.0    Seattle   \n",
       "4   t3_3711c9            NaN  1.433231e+09    -33           0.0    Seattle   \n",
       "\n",
       "  subreddit_id ups  \n",
       "0     t5_2qhad  14  \n",
       "1     t5_2qhad  14  \n",
       "2     t5_2qhad -19  \n",
       "3     t5_2qhad  21  \n",
       "4     t5_2qhad -33  \n",
       "\n",
       "[5 rows x 21 columns]"
      ]
     },
     "execution_count": 8,
     "metadata": {},
     "output_type": "execute_result"
    }
   ],
   "source": [
    "frame.head()"
   ]
  },
  {
   "cell_type": "code",
   "execution_count": 9,
   "metadata": {},
   "outputs": [],
   "source": [
    "df2 = pd.read_csv('./data/15_03.csv')"
   ]
  },
  {
   "cell_type": "code",
   "execution_count": 19,
   "metadata": {},
   "outputs": [
    {
     "name": "stdout",
     "output_type": "stream",
     "text": [
      "<class 'pandas.core.frame.DataFrame'>\n",
      "RangeIndex: 4112 entries, 0 to 4111\n",
      "Data columns (total 20 columns):\n",
      "body                      4112 non-null object\n",
      "score_hidden              4112 non-null bool\n",
      "archived                  4112 non-null bool\n",
      "name                      4112 non-null object\n",
      "author                    4112 non-null object\n",
      "author_flair_text         1541 non-null object\n",
      "downs                     4112 non-null int64\n",
      "created_utc               4112 non-null int64\n",
      "subreddit_id              4112 non-null object\n",
      "link_id                   4112 non-null object\n",
      "parent_id                 4112 non-null object\n",
      "score                     4112 non-null int64\n",
      "retrieved_on              4112 non-null int64\n",
      "controversiality          4112 non-null int64\n",
      "gilded                    4112 non-null int64\n",
      "id                        4112 non-null object\n",
      "subreddit                 4112 non-null object\n",
      "ups                       4112 non-null int64\n",
      "distinguished             4 non-null object\n",
      "author_flair_css_class    1541 non-null object\n",
      "dtypes: bool(2), int64(7), object(11)\n",
      "memory usage: 586.4+ KB\n"
     ]
    }
   ],
   "source": [
    "df2.info()"
   ]
  },
  {
   "cell_type": "code",
   "execution_count": 12,
   "metadata": {},
   "outputs": [
    {
     "data": {
      "text/plain": [
       "(4112, 20)"
      ]
     },
     "execution_count": 12,
     "metadata": {},
     "output_type": "execute_result"
    }
   ],
   "source": [
    "df2.shape"
   ]
  },
  {
   "cell_type": "code",
   "execution_count": 13,
   "metadata": {},
   "outputs": [],
   "source": [
    "df3 = pd.read_csv('./data/results-20180502-121033.csv')"
   ]
  },
  {
   "cell_type": "code",
   "execution_count": 14,
   "metadata": {},
   "outputs": [
    {
     "data": {
      "text/plain": [
       "(4948, 21)"
      ]
     },
     "execution_count": 14,
     "metadata": {},
     "output_type": "execute_result"
    }
   ],
   "source": [
    "df3.shape"
   ]
  },
  {
   "cell_type": "code",
   "execution_count": 15,
   "metadata": {},
   "outputs": [
    {
     "name": "stdout",
     "output_type": "stream",
     "text": [
      "<class 'pandas.core.frame.DataFrame'>\n",
      "RangeIndex: 4948 entries, 0 to 4947\n",
      "Data columns (total 21 columns):\n",
      "body                      4948 non-null object\n",
      "score_hidden              4948 non-null bool\n",
      "archived                  4948 non-null bool\n",
      "name                      4948 non-null object\n",
      "author                    4948 non-null object\n",
      "author_flair_text         1235 non-null object\n",
      "downs                     4948 non-null int64\n",
      "created_utc               4948 non-null int64\n",
      "subreddit_id              4948 non-null object\n",
      "link_id                   4948 non-null object\n",
      "parent_id                 4948 non-null object\n",
      "score                     4948 non-null int64\n",
      "retrieved_on              4948 non-null int64\n",
      "controversiality          4948 non-null int64\n",
      "gilded                    4948 non-null int64\n",
      "id                        4948 non-null object\n",
      "subreddit                 4948 non-null object\n",
      "ups                       4948 non-null int64\n",
      "distinguished             13 non-null object\n",
      "author_flair_css_class    1235 non-null object\n",
      "removal_reason            0 non-null float64\n",
      "dtypes: bool(2), float64(1), int64(7), object(11)\n",
      "memory usage: 744.2+ KB\n"
     ]
    }
   ],
   "source": [
    "df3.info()"
   ]
  },
  {
   "cell_type": "code",
   "execution_count": 20,
   "metadata": {},
   "outputs": [
    {
     "name": "stdout",
     "output_type": "stream",
     "text": [
      "<class 'pandas.core.frame.DataFrame'>\n",
      "Int64Index: 89242 entries, 0 to 5344\n",
      "Data columns (total 21 columns):\n",
      "archived                  71912 non-null float64\n",
      "author                    89242 non-null object\n",
      "author_flair_css_class    34744 non-null object\n",
      "author_flair_text         34744 non-null object\n",
      "body                      89241 non-null object\n",
      "controversiality          89242 non-null int64\n",
      "created_utc               89242 non-null int64\n",
      "distinguished             55 non-null object\n",
      "downs                     71912 non-null float64\n",
      "gilded                    89242 non-null int64\n",
      "id                        89242 non-null object\n",
      "link_id                   89242 non-null object\n",
      "name                      71912 non-null object\n",
      "parent_id                 89242 non-null object\n",
      "removal_reason            0 non-null float64\n",
      "retrieved_on              88616 non-null float64\n",
      "score                     89242 non-null int64\n",
      "score_hidden              71912 non-null float64\n",
      "subreddit                 89242 non-null object\n",
      "subreddit_id              89242 non-null object\n",
      "ups                       89242 non-null int64\n",
      "dtypes: float64(5), int64(5), object(11)\n",
      "memory usage: 15.0+ MB\n"
     ]
    }
   ],
   "source": [
    "frame.info()"
   ]
  },
  {
   "cell_type": "code",
   "execution_count": null,
   "metadata": {},
   "outputs": [],
   "source": []
  }
 ],
 "metadata": {
  "kernelspec": {
   "display_name": "Python 3",
   "language": "python",
   "name": "python3"
  },
  "language_info": {
   "codemirror_mode": {
    "name": "ipython",
    "version": 3
   },
   "file_extension": ".py",
   "mimetype": "text/x-python",
   "name": "python",
   "nbconvert_exporter": "python",
   "pygments_lexer": "ipython3",
   "version": "3.6.4"
  }
 },
 "nbformat": 4,
 "nbformat_minor": 2
}
