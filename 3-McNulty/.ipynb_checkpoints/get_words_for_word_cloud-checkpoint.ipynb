{
 "cells": [
  {
   "cell_type": "code",
   "execution_count": 92,
   "metadata": {},
   "outputs": [],
   "source": [
    "import pandas as pd\n",
    "import pickle\n",
    "import matplotlib.pyplot as plt\n",
    "%matplotlib inline"
   ]
  },
  {
   "cell_type": "code",
   "execution_count": 3,
   "metadata": {},
   "outputs": [],
   "source": [
    "words = pd.read_pickle('./data/cleaned_data.pkl')"
   ]
  },
  {
   "cell_type": "code",
   "execution_count": 7,
   "metadata": {},
   "outputs": [],
   "source": [
    "words = words[['body_clean','downvoted']]"
   ]
  },
  {
   "cell_type": "code",
   "execution_count": 8,
   "metadata": {},
   "outputs": [],
   "source": [
    "down_words = words[words.downvoted == 1]"
   ]
  },
  {
   "cell_type": "code",
   "execution_count": 9,
   "metadata": {},
   "outputs": [],
   "source": [
    "up_words = words[words.downvoted == 0]"
   ]
  },
  {
   "cell_type": "code",
   "execution_count": 33,
   "metadata": {},
   "outputs": [],
   "source": [
    "down_list = ' '.join(down_words['body_clean'].tolist()).split(' ')"
   ]
  },
  {
   "cell_type": "code",
   "execution_count": 38,
   "metadata": {},
   "outputs": [],
   "source": [
    "up_list = ' '.join(up_words['body_clean'].tolist()).split(' ')"
   ]
  },
  {
   "cell_type": "code",
   "execution_count": 34,
   "metadata": {},
   "outputs": [],
   "source": [
    "from collections import Counter"
   ]
  },
  {
   "cell_type": "code",
   "execution_count": 39,
   "metadata": {},
   "outputs": [],
   "source": [
    "down_count = Counter(down_list)"
   ]
  },
  {
   "cell_type": "code",
   "execution_count": 59,
   "metadata": {},
   "outputs": [],
   "source": [
    "#Rescale down counter\n",
    "\n",
    "for k in down_count.keys():\n",
    "    down_count[k] = down_count[k]*6"
   ]
  },
  {
   "cell_type": "code",
   "execution_count": 40,
   "metadata": {},
   "outputs": [],
   "source": [
    "up_count = Counter(up_list)"
   ]
  },
  {
   "cell_type": "code",
   "execution_count": 60,
   "metadata": {},
   "outputs": [],
   "source": [
    "diff_ups = list((up_count-down_count).elements())"
   ]
  },
  {
   "cell_type": "code",
   "execution_count": 61,
   "metadata": {},
   "outputs": [],
   "source": [
    "diff_in_ups_count = Counter(diff_ups)"
   ]
  },
  {
   "cell_type": "code",
   "execution_count": 62,
   "metadata": {},
   "outputs": [],
   "source": [
    "diff_downs = list((down_count-up_count).elements())"
   ]
  },
  {
   "cell_type": "code",
   "execution_count": 63,
   "metadata": {},
   "outputs": [],
   "source": [
    "diff_in_downs_count = Counter(diff_downs)"
   ]
  },
  {
   "cell_type": "code",
   "execution_count": 78,
   "metadata": {},
   "outputs": [],
   "source": [
    "down_df = pd.DataFrame.from_dict(down_count, orient='index').reset_index()"
   ]
  },
  {
   "cell_type": "code",
   "execution_count": 79,
   "metadata": {},
   "outputs": [],
   "source": [
    "down_df.columns = ['word','count']"
   ]
  },
  {
   "cell_type": "code",
   "execution_count": 86,
   "metadata": {},
   "outputs": [],
   "source": [
    "up_df = pd.DataFrame.from_dict(up_count, orient='index').reset_index()\n",
    "up_df.columns = ['word','count']"
   ]
  },
  {
   "cell_type": "code",
   "execution_count": 87,
   "metadata": {},
   "outputs": [],
   "source": [
    "down_diff_df = pd.DataFrame.from_dict(diff_in_downs_count, orient='index').reset_index()\n",
    "down_diff_df.columns = ['word','count']"
   ]
  },
  {
   "cell_type": "code",
   "execution_count": 88,
   "metadata": {},
   "outputs": [],
   "source": [
    "up_diff_df = pd.DataFrame.from_dict(diff_in_ups_count, orient='index').reset_index()\n",
    "up_diff_df.columns = ['word','count']"
   ]
  },
  {
   "cell_type": "code",
   "execution_count": 111,
   "metadata": {},
   "outputs": [],
   "source": [
    "def filter_df(df):\n",
    "    return df[df['count']>= 20]"
   ]
  },
  {
   "cell_type": "code",
   "execution_count": 112,
   "metadata": {},
   "outputs": [],
   "source": [
    "up_df = filter_df(up_df)"
   ]
  },
  {
   "cell_type": "code",
   "execution_count": 115,
   "metadata": {},
   "outputs": [
    {
     "data": {
      "text/plain": [
       "227     8264\n",
       "49      8015\n",
       "325     8002\n",
       "358     7769\n",
       "281     7742\n",
       "86      7720\n",
       "420     7599\n",
       "306     7496\n",
       "187     7407\n",
       "248     7361\n",
       "77      7298\n",
       "875     6637\n",
       "614     6562\n",
       "63      6403\n",
       "802     6340\n",
       "487     6215\n",
       "307     6174\n",
       "675     6086\n",
       "479     5822\n",
       "533     5803\n",
       "199     5429\n",
       "611     5248\n",
       "185     5241\n",
       "399     5236\n",
       "277     5177\n",
       "216     5120\n",
       "51      5074\n",
       "87      5064\n",
       "296     5061\n",
       "735     4951\n",
       "        ... \n",
       "1037    3575\n",
       "534     3548\n",
       "333     3545\n",
       "872     3507\n",
       "111     3501\n",
       "140     3489\n",
       "583     3487\n",
       "52      3477\n",
       "827     3454\n",
       "208     3439\n",
       "575     3432\n",
       "5       3399\n",
       "1302    3381\n",
       "733     3356\n",
       "813     3288\n",
       "220     3275\n",
       "1331    3255\n",
       "2186    3252\n",
       "756     3197\n",
       "22      3159\n",
       "1389    3159\n",
       "1392    3152\n",
       "638     3118\n",
       "37      3117\n",
       "312     3100\n",
       "254     3099\n",
       "289     3092\n",
       "1226    3091\n",
       "247     3061\n",
       "205     3046\n",
       "Name: count, Length: 100, dtype: int64"
      ]
     },
     "execution_count": 115,
     "metadata": {},
     "output_type": "execute_result"
    }
   ],
   "source": [
    "up_df['count'].nlargest(100)"
   ]
  },
  {
   "cell_type": "code",
   "execution_count": null,
   "metadata": {},
   "outputs": [],
   "source": []
  }
 ],
 "metadata": {
  "kernelspec": {
   "display_name": "Python 3",
   "language": "python",
   "name": "python3"
  },
  "language_info": {
   "codemirror_mode": {
    "name": "ipython",
    "version": 3
   },
   "file_extension": ".py",
   "mimetype": "text/x-python",
   "name": "python",
   "nbconvert_exporter": "python",
   "pygments_lexer": "ipython3",
   "version": "3.6.4"
  }
 },
 "nbformat": 4,
 "nbformat_minor": 2
}
