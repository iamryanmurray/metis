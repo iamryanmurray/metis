{
 "cells": [
  {
   "cell_type": "code",
   "execution_count": 112,
   "metadata": {},
   "outputs": [
    {
     "name": "stdout",
     "output_type": "stream",
     "text": [
      "[nltk_data] Downloading package stopwords to\n",
      "[nltk_data]     /Users/ryanmurray/nltk_data...\n",
      "[nltk_data]   Package stopwords is already up-to-date!\n",
      "[nltk_data] Downloading package wordnet to\n",
      "[nltk_data]     /Users/ryanmurray/nltk_data...\n",
      "[nltk_data]   Unzipping corpora/wordnet.zip.\n"
     ]
    },
    {
     "data": {
      "text/plain": [
       "True"
      ]
     },
     "execution_count": 112,
     "metadata": {},
     "output_type": "execute_result"
    }
   ],
   "source": [
    "import pandas as pd\n",
    "import matplotlib.pyplot as plt\n",
    "import numpy as np\n",
    "    \n",
    "import markdown\n",
    "from lxml import etree\n",
    "import re\n",
    "from urllib.parse import urlsplit\n",
    "import nltk\n",
    "from nltk.corpus import stopwords\n",
    "from textblob import TextBlob\n",
    "\n",
    "nltk.download('stopwords')\n",
    "nltk.download('wordnet')\n"
   ]
  },
  {
   "cell_type": "code",
   "execution_count": 2,
   "metadata": {},
   "outputs": [],
   "source": [
    "downs = pd.read_csv('results-20180502-121033.csv')"
   ]
  },
  {
   "cell_type": "code",
   "execution_count": 3,
   "metadata": {},
   "outputs": [
    {
     "name": "stderr",
     "output_type": "stream",
     "text": [
      "/usr/local/lib/python3.6/site-packages/IPython/core/interactiveshell.py:2785: DtypeWarning: Columns (18) have mixed types. Specify dtype option on import or set low_memory=False.\n",
      "  interactivity=interactivity, compiler=compiler, result=result)\n"
     ]
    }
   ],
   "source": [
    "ups = pd.read_csv('2014_ups.csv')"
   ]
  },
  {
   "cell_type": "code",
   "execution_count": 4,
   "metadata": {},
   "outputs": [],
   "source": [
    "ups['dnv'] = 0\n",
    "downs['dnv'] = 1"
   ]
  },
  {
   "cell_type": "code",
   "execution_count": 245,
   "metadata": {},
   "outputs": [],
   "source": [
    "comments = pd.concat([ups,downs])\n",
    "comments = comments.reset_index()\n",
    "drop_cols = ['index','score_hidden','name','downs','subreddit_id','subreddit','controversiality','gilded','ups','distinguished','removal_reason']\n",
    "\n",
    "comments = comments.drop(drop_cols,axis=1)\n",
    "\n",
    "comments['body'] = comments['body'].apply(lambda x: drop_newlines(x))\n",
    "comments['created_utc'] = pd.to_datetime(comments['created_utc'],unit='s')\n",
    "comments['retrieved_on'] = pd.to_datetime(comments['retrieved_on'],unit='s')\n",
    "\n",
    "comments['age_retrieved'] = comments['retrieved_on'] - comments['created_utc']"
   ]
  },
  {
   "cell_type": "code",
   "execution_count": 10,
   "metadata": {},
   "outputs": [],
   "source": [
    "def avg_word(sentence):\n",
    "    words = sentence.split()\n",
    "    return (sum(len(word) for word in words if len(word)<20)/len(words))\n",
    "\n",
    "def extract_md_link(post):\n",
    "    doc = etree.fromstring(markdown.markdown(post))\n",
    "    links = []\n",
    "    for link in doc.xpath('//a'):\n",
    "        links.append(link.get('href'))    \n",
    "    return ' '.join(links)\n",
    "\n",
    "def drop_newlines(post):\n",
    "    return ' '.join(post.split('\\n'))"
   ]
  },
  {
   "cell_type": "code",
   "execution_count": 7,
   "metadata": {},
   "outputs": [],
   "source": [
    "def get_link(post):\n",
    "\n",
    "    myString_list = [item for item in post.split(\" \")]\n",
    "    url_list = []\n",
    "    for item in myString_list:\n",
    "        try:\n",
    "            a = re.search(\"(?P<url>https?://[^\\s]+)\", item) or re.search(\"(?P<url>www[^\\s]+)\", url)\n",
    "            a = a.group('url')\n",
    "            b = '.'.join(urlsplit(a).hostname.split('.')[-2:])\n",
    "            \n",
    "            url_list.append(b)\n",
    "        except:\n",
    "            pass\n",
    "\n",
    "    return ' '.join(url_list)"
   ]
  },
  {
   "cell_type": "code",
   "execution_count": 72,
   "metadata": {},
   "outputs": [],
   "source": [
    "def replace_md_links(body):\n",
    "    ans = re.findall(r\"\\[(.*?)\\]\\((.*?)\\)\",body)\n",
    "    text = ' '.join([a[0] for a in ans])\n",
    "    ret = re.sub(r\"\\[(.*?)\\]\\((.*?)\\)\",'',body)\n",
    "    new_body = ret + ' ' + text\n",
    "    return ' '.join([x for x in new_body.split(' ') if len(x) < 20])\n",
    "    \n"
   ]
  },
  {
   "cell_type": "code",
   "execution_count": 171,
   "metadata": {},
   "outputs": [],
   "source": [
    "def has_flair(flair):\n",
    "    if type(flair) == float:\n",
    "        return 0\n",
    "    else: return 1"
   ]
  },
  {
   "cell_type": "code",
   "execution_count": null,
   "metadata": {},
   "outputs": [],
   "source": []
  },
  {
   "cell_type": "code",
   "execution_count": 230,
   "metadata": {},
   "outputs": [],
   "source": [
    "def filter_deleted(author):\n",
    "    if author == '[deleted]': return 1\n",
    "    else: return 0"
   ]
  },
  {
   "cell_type": "code",
   "execution_count": 237,
   "metadata": {},
   "outputs": [],
   "source": [
    "def remove_deleted(author):\n",
    "    if author == '[deleted]': return None\n",
    "    else: return author"
   ]
  },
  {
   "cell_type": "code",
   "execution_count": 231,
   "metadata": {},
   "outputs": [],
   "source": []
  },
  {
   "cell_type": "code",
   "execution_count": 246,
   "metadata": {},
   "outputs": [],
   "source": [
    "comments['author_deleted'] = comments['author'].apply(filter_deleted)\n",
    "comments['author_fix'] = comments['author'].apply(remove_deleted)\n",
    "comments['author_counts'] = comments.groupby(['author_fix'])['body'].transform('count').fillna(0)\n"
   ]
  },
  {
   "cell_type": "code",
   "execution_count": 172,
   "metadata": {},
   "outputs": [],
   "source": [
    "comments['has_flair'] = comments['author_flair_text'].apply(has_flair)"
   ]
  },
  {
   "cell_type": "code",
   "execution_count": 11,
   "metadata": {},
   "outputs": [],
   "source": [
    "comments['word_count'] = comments['body'].apply(lambda x: len(str(x).split(' ')))\n",
    "comments['avg_word'] = comments['body'].apply(lambda x: avg_word(x))\n",
    "\n",
    "comments['links'] = comments['body'].apply(lambda x: get_link(x))"
   ]
  },
  {
   "cell_type": "code",
   "execution_count": 20,
   "metadata": {},
   "outputs": [],
   "source": [
    "stop = stopwords.words('english')\n",
    "\n",
    "comments['stopwords'] = comments['body'].apply(lambda x: len([x for x in x.split() if x in stop]))"
   ]
  },
  {
   "cell_type": "code",
   "execution_count": 22,
   "metadata": {},
   "outputs": [],
   "source": [
    "comments['numerics'] = comments['body'].apply(lambda x: len([x for x in x.split() if x.isdigit()]))"
   ]
  },
  {
   "cell_type": "code",
   "execution_count": 28,
   "metadata": {},
   "outputs": [],
   "source": [
    "comments['upper'] = comments['body'].apply(lambda x: len([x for x in x.split() if x.isupper() and len(x)>1]))\n"
   ]
  },
  {
   "cell_type": "code",
   "execution_count": 96,
   "metadata": {},
   "outputs": [],
   "source": [
    "comments['body_clean'] = comments['body'].apply(lambda x: \" \".join(x.lower() for x in x.split()))\n",
    "comments['body_clean'] = comments['body_clean'].apply(replace_md_links)\n",
    "comments['body_clean'] = comments['body_clean'].str.replace('[^\\w\\s]','')\n",
    "\n",
    "comments['body_clean'] = comments['body_clean'].apply(lambda x: \" \".join(x for x in x.split() if x not in stop))\n",
    "\n"
   ]
  },
  {
   "cell_type": "code",
   "execution_count": 97,
   "metadata": {},
   "outputs": [],
   "source": [
    "freq = pd.Series(' '.join(comments['body_clean']).split()).value_counts()[:20]\n",
    "\n",
    "freq = list(freq.index)\n",
    "comments['body_clean'] = comments['body_clean'].apply(lambda x: \" \".join(x for x in x.split() if x not in freq))"
   ]
  },
  {
   "cell_type": "code",
   "execution_count": 98,
   "metadata": {},
   "outputs": [],
   "source": [
    "lowfreq = pd.Series(' '.join(comments['body_clean']).split()).value_counts()\n",
    "only_one = lowfreq[lowfreq == 1]"
   ]
  },
  {
   "cell_type": "code",
   "execution_count": 99,
   "metadata": {},
   "outputs": [],
   "source": [
    "comments['body_clean']=comments['body_clean'].apply(lambda x: \" \".join(x for x in x.split() if x not in only_one))"
   ]
  },
  {
   "cell_type": "code",
   "execution_count": 102,
   "metadata": {},
   "outputs": [],
   "source": []
  },
  {
   "cell_type": "code",
   "execution_count": 109,
   "metadata": {},
   "outputs": [],
   "source": [
    "def spell_correct():\n",
    "    #This will take about 3 hours!!!!!\n",
    "    comments['body_spell_corrected'] = comments['body_clean'][:100].apply(lambda x: str(TextBlob(x).correct()))\n"
   ]
  },
  {
   "cell_type": "code",
   "execution_count": 108,
   "metadata": {},
   "outputs": [
    {
     "data": {
      "text/plain": [
       "(37867, 21)"
      ]
     },
     "execution_count": 108,
     "metadata": {},
     "output_type": "execute_result"
    }
   ],
   "source": [
    "comments.shape"
   ]
  },
  {
   "cell_type": "code",
   "execution_count": 110,
   "metadata": {},
   "outputs": [
    {
     "data": {
      "text/plain": [
       "22718"
      ]
     },
     "execution_count": 110,
     "metadata": {},
     "output_type": "execute_result"
    }
   ],
   "source": [
    "len(pd.Series(' '.join(comments['body_clean']).split()).value_counts())"
   ]
  },
  {
   "cell_type": "code",
   "execution_count": 113,
   "metadata": {},
   "outputs": [],
   "source": [
    "from textblob import Word\n",
    "comments['body_clean']=comments['body_clean'].apply(lambda x: \" \".join([Word(word).lemmatize() for word in x.split()]))"
   ]
  },
  {
   "cell_type": "code",
   "execution_count": 117,
   "metadata": {},
   "outputs": [],
   "source": [
    "comments['sentiment'] = comments['body_clean'].apply(lambda x: TextBlob(x).sentiment[0])\n"
   ]
  },
  {
   "cell_type": "code",
   "execution_count": 125,
   "metadata": {
    "scrolled": true
   },
   "outputs": [
    {
     "data": {
      "text/plain": [
       "(37867, 3000)"
      ]
     },
     "execution_count": 125,
     "metadata": {},
     "output_type": "execute_result"
    }
   ],
   "source": [
    "from sklearn.feature_extraction.text import CountVectorizer\n",
    "bow = CountVectorizer(max_features=3000, lowercase=True, ngram_range=(1,3),analyzer = \"word\")\n",
    "train_bow = bow.fit_transform(comments['body_clean'])\n"
   ]
  },
  {
   "cell_type": "code",
   "execution_count": 216,
   "metadata": {},
   "outputs": [],
   "source": [
    "X = pd.DataFrame(train_bow.toarray())"
   ]
  },
  {
   "cell_type": "code",
   "execution_count": 134,
   "metadata": {},
   "outputs": [],
   "source": [
    "y = comments['dnv']"
   ]
  },
  {
   "cell_type": "code",
   "execution_count": 135,
   "metadata": {},
   "outputs": [],
   "source": [
    "from sklearn.model_selection import train_test_split"
   ]
  },
  {
   "cell_type": "code",
   "execution_count": 136,
   "metadata": {},
   "outputs": [],
   "source": [
    "X_train,X_test,y_train,y_test = train_test_split(X,y,test_size = 0.2,random_state = 5)"
   ]
  },
  {
   "cell_type": "code",
   "execution_count": 137,
   "metadata": {},
   "outputs": [],
   "source": [
    "from sklearn.linear_model import LogisticRegression"
   ]
  },
  {
   "cell_type": "code",
   "execution_count": 140,
   "metadata": {},
   "outputs": [],
   "source": [
    "lr = LogisticRegression()"
   ]
  },
  {
   "cell_type": "code",
   "execution_count": 141,
   "metadata": {},
   "outputs": [
    {
     "data": {
      "text/plain": [
       "LogisticRegression(C=1.0, class_weight=None, dual=False, fit_intercept=True,\n",
       "          intercept_scaling=1, max_iter=100, multi_class='ovr', n_jobs=1,\n",
       "          penalty='l2', random_state=None, solver='liblinear', tol=0.0001,\n",
       "          verbose=0, warm_start=False)"
      ]
     },
     "execution_count": 141,
     "metadata": {},
     "output_type": "execute_result"
    }
   ],
   "source": [
    "lr.fit(X_train,y_train)"
   ]
  },
  {
   "cell_type": "code",
   "execution_count": 145,
   "metadata": {},
   "outputs": [],
   "source": [
    "y_preds = lr.predict_proba(X_test)[:,1]"
   ]
  },
  {
   "cell_type": "code",
   "execution_count": 146,
   "metadata": {},
   "outputs": [],
   "source": [
    "import matplotlib.pyplot as plt\n",
    "from sklearn.metrics import roc_curve, auc"
   ]
  },
  {
   "cell_type": "code",
   "execution_count": 147,
   "metadata": {},
   "outputs": [
    {
     "data": {
      "text/plain": [
       "Text(0,0.5,'TPR')"
      ]
     },
     "execution_count": 147,
     "metadata": {},
     "output_type": "execute_result"
    },
    {
     "data": {
      "image/png": "[encoded data removed]",
      "text/plain": [
       "<Figure size 432x288 with 1 Axes>"
      ]
     },
     "metadata": {},
     "output_type": "display_data"
    }
   ],
   "source": [
    "fpr, tpr,thresh = roc_curve(y_test, y_preds)\n",
    "roc_auc = auc(fpr, tpr)\n",
    "\n",
    "plt.figure()\n",
    "# Plotting our Baseline..\n",
    "plt.plot([0,1],[0,1])\n",
    "plt.plot(fpr,tpr)\n",
    "plt.xlabel('FPR')\n",
    "plt.ylabel('TPR')"
   ]
  },
  {
   "cell_type": "code",
   "execution_count": 211,
   "metadata": {},
   "outputs": [
    {
     "data": {
      "text/plain": [
       "Index(['body', 'archived', 'author', 'author_flair_text', 'created_utc',\n",
       "       'link_id', 'parent_id', 'score', 'retrieved_on', 'id',\n",
       "       'author_flair_css_class', 'dnv', 'age_retrieved', 'word_count',\n",
       "       'avg_word', 'links', 'stopwords', 'numerics', 'upper', 'body_lower',\n",
       "       'body_clean', 'sentiment', 'has_flair', 'author_counts'],\n",
       "      dtype='object')"
      ]
     },
     "execution_count": 211,
     "metadata": {},
     "output_type": "execute_result"
    }
   ],
   "source": [
    "comments.columns"
   ]
  },
  {
   "cell_type": "code",
   "execution_count": 212,
   "metadata": {},
   "outputs": [],
   "source": [
    "good_cols = comments[['word_count','avg_word','stopwords','numerics','upper','sentiment','has_flair','author_counts']]"
   ]
  },
  {
   "cell_type": "code",
   "execution_count": 215,
   "metadata": {},
   "outputs": [],
   "source": [
    "bow = CountVectorizer(max_features=100, lowercase=True, ngram_range=(1,3),analyzer = \"word\")\n",
    "link_bow = bow.fit_transform(comments['links'])\n",
    "link_counts = pd.DataFrame(link_bow.toarray())"
   ]
  },
  {
   "cell_type": "code",
   "execution_count": 232,
   "metadata": {},
   "outputs": [
    {
     "data": {
      "text/plain": [
       "0    33139\n",
       "1     4728\n",
       "Name: author_deleted, dtype: int64"
      ]
     },
     "execution_count": 232,
     "metadata": {},
     "output_type": "execute_result"
    }
   ],
   "source": [
    "comments['author_deleted'].value_counts()"
   ]
  },
  {
   "cell_type": "code",
   "execution_count": 251,
   "metadata": {},
   "outputs": [],
   "source": [
    "full_X = X.merge(good_cols, how='outer', left_index=True, right_index=True).merge(link_counts,how='outer', left_index=True, right_index=True)"
   ]
  },
  {
   "cell_type": "code",
   "execution_count": 252,
   "metadata": {},
   "outputs": [
    {
     "data": {
      "text/plain": [
       "(37867, 3108)"
      ]
     },
     "execution_count": 252,
     "metadata": {},
     "output_type": "execute_result"
    }
   ],
   "source": [
    "full_X.shape"
   ]
  },
  {
   "cell_type": "code",
   "execution_count": 253,
   "metadata": {},
   "outputs": [
    {
     "data": {
      "text/plain": [
       "Text(0,0.5,'TPR')"
      ]
     },
     "execution_count": 253,
     "metadata": {},
     "output_type": "execute_result"
    },
    {
     "data": {
      "image/png": "[encoded data removed]",
      "text/plain": [
       "<Figure size 432x288 with 1 Axes>"
      ]
     },
     "metadata": {},
     "output_type": "display_data"
    }
   ],
   "source": [
    "lr = LogisticRegression()\n",
    "\n",
    "X_train,X_test,y_train,y_test = train_test_split(full_X,y,test_size = 0.2,random_state = 5)\n",
    "\n",
    "lr.fit(X_train,y_train)\n",
    "y_preds = lr.predict_proba(X_test)[:,1]\n",
    "\n",
    "fpr, tpr,thresh = roc_curve(y_test, y_preds)\n",
    "roc_auc = auc(fpr, tpr)\n",
    "\n",
    "plt.figure()\n",
    "# Plotting our Baseline..\n",
    "plt.plot([0,1],[0,1])\n",
    "plt.plot(fpr,tpr)\n",
    "plt.xlabel('FPR')\n",
    "plt.ylabel('TPR')"
   ]
  },
  {
   "cell_type": "code",
   "execution_count": null,
   "metadata": {},
   "outputs": [],
   "source": []
  }
 ],
 "metadata": {
  "kernelspec": {
   "display_name": "Python 3",
   "language": "python",
   "name": "python3"
  },
  "language_info": {
   "codemirror_mode": {
    "name": "ipython",
    "version": 3
   },
   "file_extension": ".py",
   "mimetype": "text/x-python",
   "name": "python",
   "nbconvert_exporter": "python",
   "pygments_lexer": "ipython3",
   "version": "3.6.4"
  }
 },
 "nbformat": 4,
 "nbformat_minor": 2
}
