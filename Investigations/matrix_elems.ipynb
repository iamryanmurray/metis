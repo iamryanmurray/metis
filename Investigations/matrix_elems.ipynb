{
 "cells": [
  {
   "cell_type": "code",
   "execution_count": 13,
   "metadata": {},
   "outputs": [],
   "source": [
    "import numpy as np"
   ]
  },
  {
   "cell_type": "code",
   "execution_count": 10,
   "metadata": {},
   "outputs": [],
   "source": [
    "import pprint"
   ]
  },
  {
   "cell_type": "code",
   "execution_count": 1,
   "metadata": {},
   "outputs": [],
   "source": [
    "x_mat = [[0 for j in range(10)] for i in range(10)]"
   ]
  },
  {
   "cell_type": "code",
   "execution_count": 2,
   "metadata": {},
   "outputs": [
    {
     "data": {
      "text/plain": [
       "[[0, 0, 0, 0, 0, 0, 0, 0, 0, 0],\n",
       " [0, 0, 0, 0, 0, 0, 0, 0, 0, 0],\n",
       " [0, 0, 0, 0, 0, 0, 0, 0, 0, 0],\n",
       " [0, 0, 0, 0, 0, 0, 0, 0, 0, 0],\n",
       " [0, 0, 0, 0, 0, 0, 0, 0, 0, 0],\n",
       " [0, 0, 0, 0, 0, 0, 0, 0, 0, 0],\n",
       " [0, 0, 0, 0, 0, 0, 0, 0, 0, 0],\n",
       " [0, 0, 0, 0, 0, 0, 0, 0, 0, 0],\n",
       " [0, 0, 0, 0, 0, 0, 0, 0, 0, 0],\n",
       " [0, 0, 0, 0, 0, 0, 0, 0, 0, 0]]"
      ]
     },
     "execution_count": 2,
     "metadata": {},
     "output_type": "execute_result"
    }
   ],
   "source": [
    "x_mat"
   ]
  },
  {
   "cell_type": "code",
   "execution_count": 18,
   "metadata": {},
   "outputs": [],
   "source": [
    "for i in range(len(x_mat)):\n",
    "    for j in range(len(x_mat[i])):\n",
    "        if abs(i-j) != 1: x_mat[i][j] = 0\n",
    "        else: x_mat[i][j] = round(np.sqrt((i+j+1)/2),2)"
   ]
  },
  {
   "cell_type": "code",
   "execution_count": 19,
   "metadata": {},
   "outputs": [
    {
     "name": "stdout",
     "output_type": "stream",
     "text": [
      "[[0, 1.0, 0, 0, 0, 0, 0, 0, 0, 0],\n",
      " [1.0, 0, 1.41, 0, 0, 0, 0, 0, 0, 0],\n",
      " [0, 1.41, 0, 1.73, 0, 0, 0, 0, 0, 0],\n",
      " [0, 0, 1.73, 0, 2.0, 0, 0, 0, 0, 0],\n",
      " [0, 0, 0, 2.0, 0, 2.24, 0, 0, 0, 0],\n",
      " [0, 0, 0, 0, 2.24, 0, 2.45, 0, 0, 0],\n",
      " [0, 0, 0, 0, 0, 2.45, 0, 2.65, 0, 0],\n",
      " [0, 0, 0, 0, 0, 0, 2.65, 0, 2.83, 0],\n",
      " [0, 0, 0, 0, 0, 0, 0, 2.83, 0, 3.0],\n",
      " [0, 0, 0, 0, 0, 0, 0, 0, 3.0, 0]]\n"
     ]
    }
   ],
   "source": [
    "pprint.pprint(x_mat)"
   ]
  },
  {
   "cell_type": "code",
   "execution_count": 28,
   "metadata": {},
   "outputs": [],
   "source": [
    "p_mat = [[0 for j in range(10)] for i in range(10)]"
   ]
  },
  {
   "cell_type": "code",
   "execution_count": 58,
   "metadata": {},
   "outputs": [],
   "source": [
    "for i in range(len(p_mat)):\n",
    "    for k in range(len(p_mat[i])):\n",
    "        if abs(i-k) != 1: p_mat[i][k] = 0\n",
    "        else: \n",
    "            if i-k == 1:\n",
    "                p_mat[i][k] = complex(0,round(np.sqrt(i),2))\n",
    "            if k-i == 1:\n",
    "                p_mat[i][k] = complex(0,-1*round(np.sqrt((i+1)),2))\n",
    "                "
   ]
  },
  {
   "cell_type": "code",
   "execution_count": 59,
   "metadata": {},
   "outputs": [
    {
     "data": {
      "text/plain": [
       "[[0, -1j, 0, 0, 0, 0, 0, 0, 0, 0],\n",
       " [1j, 0, -1.41j, 0, 0, 0, 0, 0, 0, 0],\n",
       " [0, 1.41j, 0, -1.73j, 0, 0, 0, 0, 0, 0],\n",
       " [0, 0, 1.73j, 0, -2j, 0, 0, 0, 0, 0],\n",
       " [0, 0, 0, 2j, 0, -2.24j, 0, 0, 0, 0],\n",
       " [0, 0, 0, 0, 2.24j, 0, -2.45j, 0, 0, 0],\n",
       " [0, 0, 0, 0, 0, 2.45j, 0, -2.65j, 0, 0],\n",
       " [0, 0, 0, 0, 0, 0, 2.65j, 0, -2.83j, 0],\n",
       " [0, 0, 0, 0, 0, 0, 0, 2.83j, 0, -3j],\n",
       " [0, 0, 0, 0, 0, 0, 0, 0, 3j, 0]]"
      ]
     },
     "execution_count": 59,
     "metadata": {},
     "output_type": "execute_result"
    }
   ],
   "source": [
    "p_mat"
   ]
  },
  {
   "cell_type": "code",
   "execution_count": 47,
   "metadata": {},
   "outputs": [
    {
     "data": {
      "text/plain": [
       "(2+3j)"
      ]
     },
     "execution_count": 47,
     "metadata": {},
     "output_type": "execute_result"
    }
   ],
   "source": [
    "complex(2,3)"
   ]
  },
  {
   "cell_type": "code",
   "execution_count": 62,
   "metadata": {},
   "outputs": [
    {
     "ename": "TypeError",
     "evalue": "type numpy.ndarray doesn't define __round__ method",
     "output_type": "error",
     "traceback": [
      "\u001b[0;31m---------------------------------------------------------------------------\u001b[0m",
      "\u001b[0;31mTypeError\u001b[0m                                 Traceback (most recent call last)",
      "\u001b[0;32m<ipython-input-62-914b9795ec72>\u001b[0m in \u001b[0;36m<module>\u001b[0;34m()\u001b[0m\n\u001b[0;32m----> 1\u001b[0;31m \u001b[0mround\u001b[0m\u001b[0;34m(\u001b[0m\u001b[0mnp\u001b[0m\u001b[0;34m.\u001b[0m\u001b[0mdot\u001b[0m\u001b[0;34m(\u001b[0m\u001b[0mp_mat\u001b[0m\u001b[0;34m,\u001b[0m\u001b[0mp_mat\u001b[0m\u001b[0;34m)\u001b[0m\u001b[0;34m+\u001b[0m\u001b[0mnp\u001b[0m\u001b[0;34m.\u001b[0m\u001b[0mdot\u001b[0m\u001b[0;34m(\u001b[0m\u001b[0mx_mat\u001b[0m\u001b[0;34m,\u001b[0m\u001b[0mx_mat\u001b[0m\u001b[0;34m)\u001b[0m\u001b[0;34m,\u001b[0m\u001b[0;36m2\u001b[0m\u001b[0;34m)\u001b[0m\u001b[0;34m\u001b[0m\u001b[0m\n\u001b[0m",
      "\u001b[0;31mTypeError\u001b[0m: type numpy.ndarray doesn't define __round__ method"
     ]
    }
   ],
   "source": [
    "round(np.dot(p_mat,p_mat)+np.dot(x_mat,x_mat),2)"
   ]
  },
  {
   "cell_type": "code",
   "execution_count": null,
   "metadata": {},
   "outputs": [],
   "source": []
  }
 ],
 "metadata": {
  "kernelspec": {
   "display_name": "Python 3",
   "language": "python",
   "name": "python3"
  },
  "language_info": {
   "codemirror_mode": {
    "name": "ipython",
    "version": 3
   },
   "file_extension": ".py",
   "mimetype": "text/x-python",
   "name": "python",
   "nbconvert_exporter": "python",
   "pygments_lexer": "ipython3",
   "version": "3.6.4"
  }
 },
 "nbformat": 4,
 "nbformat_minor": 2
}
